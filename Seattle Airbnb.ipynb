{
 "cells": [
  {
   "cell_type": "markdown",
   "id": "f2783eff",
   "metadata": {},
   "source": [
    "# Seattle Airbnb Data\n",
    "\n",
    "The aim is to examine the Seattle Airbnb data and derive insights on what factors impact Airbnb listing prices. We explore 3 main questions:\n",
    "- Do missing descriptions impact prices?\n",
    "- How does ease of booking impact prices? ( cancellation policy, instant bookability, requiremrents for booking, etc.)\n",
    "- How do reviews immpact prices? (number of reviews, scores, etc.)\n"
   ]
  },
  {
   "cell_type": "markdown",
   "id": "4bee1f5b",
   "metadata": {},
   "source": [
    "### Install libraries"
   ]
  },
  {
   "cell_type": "code",
   "execution_count": 5,
   "id": "c014496c",
   "metadata": {
    "collapsed": true
   },
   "outputs": [
    {
     "name": "stdout",
     "output_type": "stream",
     "text": [
      "Requirement already satisfied: scikit-learn in c:\\users\\user\\anaconda3\\lib\\site-packages (0.24.1)\n",
      "Collecting scikit-learn\n",
      "  Downloading scikit_learn-1.3.0-cp38-cp38-win_amd64.whl (9.2 MB)\n",
      "Requirement already satisfied: threadpoolctl>=2.0.0 in c:\\users\\user\\anaconda3\\lib\\site-packages (from scikit-learn) (2.1.0)\n",
      "Collecting joblib>=1.1.1\n",
      "  Downloading joblib-1.3.2-py3-none-any.whl (302 kB)\n",
      "Requirement already satisfied: scipy>=1.5.0 in c:\\users\\user\\anaconda3\\lib\\site-packages (from scikit-learn) (1.6.2)\n",
      "Requirement already satisfied: numpy>=1.17.3 in c:\\users\\user\\anaconda3\\lib\\site-packages (from scikit-learn) (1.20.1)\n",
      "Installing collected packages: joblib, scikit-learn\n",
      "  Attempting uninstall: joblib\n",
      "    Found existing installation: joblib 1.0.1\n",
      "    Uninstalling joblib-1.0.1:\n",
      "      Successfully uninstalled joblib-1.0.1\n",
      "  Attempting uninstall: scikit-learn\n",
      "    Found existing installation: scikit-learn 0.24.1\n",
      "    Uninstalling scikit-learn-0.24.1:\n",
      "      Successfully uninstalled scikit-learn-0.24.1\n",
      "Successfully installed joblib-1.3.2 scikit-learn-1.3.0\n",
      "Note: you may need to restart the kernel to use updated packages.\n"
     ]
    }
   ],
   "source": [
    "pip install -U scikit-learn"
   ]
  },
  {
   "cell_type": "code",
   "execution_count": 1,
   "id": "5a7aa469",
   "metadata": {},
   "outputs": [
    {
     "name": "stdout",
     "output_type": "stream",
     "text": [
      "time: 0 ns (started: 2025-04-21 10:22:51 +01:00)\n"
     ]
    }
   ],
   "source": [
    "import pandas as pd\n",
    "import sklearn as sk\n",
    "import numpy as np\n",
    "import matplotlib.pyplot as plt\n",
    "import seaborn as sns\n",
    "from sklearn import linear_model\n",
    "from sklearn.linear_model import LinearRegression\n",
    "from sklearn.model_selection import train_test_split\n",
    "from sklearn.metrics import r2_score, mean_squared_error\n",
    "import seaborn as sns\n",
    "\n",
    "try:\n",
    "    %load_ext autotime\n",
    "except:\n",
    "    !pip install ipython-autotime\n",
    "    %load_ext autotime"
   ]
  },
  {
   "cell_type": "markdown",
   "id": "44ebe86c",
   "metadata": {},
   "source": [
    "### Read in data (3 csvs)"
   ]
  },
  {
   "cell_type": "code",
   "execution_count": 2,
   "id": "ba41a3ff",
   "metadata": {},
   "outputs": [
    {
     "data": {
      "text/html": [
       "<div>\n",
       "<style scoped>\n",
       "    .dataframe tbody tr th:only-of-type {\n",
       "        vertical-align: middle;\n",
       "    }\n",
       "\n",
       "    .dataframe tbody tr th {\n",
       "        vertical-align: top;\n",
       "    }\n",
       "\n",
       "    .dataframe thead th {\n",
       "        text-align: right;\n",
       "    }\n",
       "</style>\n",
       "<table border=\"1\" class=\"dataframe\">\n",
       "  <thead>\n",
       "    <tr style=\"text-align: right;\">\n",
       "      <th></th>\n",
       "      <th>listing_id</th>\n",
       "      <th>date</th>\n",
       "      <th>available</th>\n",
       "      <th>price</th>\n",
       "    </tr>\n",
       "  </thead>\n",
       "  <tbody>\n",
       "    <tr>\n",
       "      <th>0</th>\n",
       "      <td>241032</td>\n",
       "      <td>2016-01-04</td>\n",
       "      <td>t</td>\n",
       "      <td>$85.00</td>\n",
       "    </tr>\n",
       "    <tr>\n",
       "      <th>1</th>\n",
       "      <td>241032</td>\n",
       "      <td>2016-01-05</td>\n",
       "      <td>t</td>\n",
       "      <td>$85.00</td>\n",
       "    </tr>\n",
       "    <tr>\n",
       "      <th>2</th>\n",
       "      <td>241032</td>\n",
       "      <td>2016-01-06</td>\n",
       "      <td>f</td>\n",
       "      <td>NaN</td>\n",
       "    </tr>\n",
       "    <tr>\n",
       "      <th>3</th>\n",
       "      <td>241032</td>\n",
       "      <td>2016-01-07</td>\n",
       "      <td>f</td>\n",
       "      <td>NaN</td>\n",
       "    </tr>\n",
       "    <tr>\n",
       "      <th>4</th>\n",
       "      <td>241032</td>\n",
       "      <td>2016-01-08</td>\n",
       "      <td>f</td>\n",
       "      <td>NaN</td>\n",
       "    </tr>\n",
       "  </tbody>\n",
       "</table>\n",
       "</div>"
      ],
      "text/plain": [
       "   listing_id        date available   price\n",
       "0      241032  2016-01-04         t  $85.00\n",
       "1      241032  2016-01-05         t  $85.00\n",
       "2      241032  2016-01-06         f     NaN\n",
       "3      241032  2016-01-07         f     NaN\n",
       "4      241032  2016-01-08         f     NaN"
      ]
     },
     "execution_count": 2,
     "metadata": {},
     "output_type": "execute_result"
    },
    {
     "name": "stdout",
     "output_type": "stream",
     "text": [
      "time: 1.42 s (started: 2025-04-21 10:22:51 +01:00)\n"
     ]
    }
   ],
   "source": [
    "#Read in calendar csv\n",
    "\n",
    "calendar = pd.read_csv('calendar.csv')\n",
    "calendar.head()"
   ]
  },
  {
   "cell_type": "code",
   "execution_count": 3,
   "id": "a0ab1a7a",
   "metadata": {},
   "outputs": [
    {
     "data": {
      "text/html": [
       "<div>\n",
       "<style scoped>\n",
       "    .dataframe tbody tr th:only-of-type {\n",
       "        vertical-align: middle;\n",
       "    }\n",
       "\n",
       "    .dataframe tbody tr th {\n",
       "        vertical-align: top;\n",
       "    }\n",
       "\n",
       "    .dataframe thead th {\n",
       "        text-align: right;\n",
       "    }\n",
       "</style>\n",
       "<table border=\"1\" class=\"dataframe\">\n",
       "  <thead>\n",
       "    <tr style=\"text-align: right;\">\n",
       "      <th></th>\n",
       "      <th>id</th>\n",
       "      <th>listing_url</th>\n",
       "      <th>scrape_id</th>\n",
       "      <th>last_scraped</th>\n",
       "      <th>name</th>\n",
       "      <th>summary</th>\n",
       "      <th>space</th>\n",
       "      <th>description</th>\n",
       "      <th>experiences_offered</th>\n",
       "      <th>neighborhood_overview</th>\n",
       "      <th>...</th>\n",
       "      <th>review_scores_value</th>\n",
       "      <th>requires_license</th>\n",
       "      <th>license</th>\n",
       "      <th>jurisdiction_names</th>\n",
       "      <th>instant_bookable</th>\n",
       "      <th>cancellation_policy</th>\n",
       "      <th>require_guest_profile_picture</th>\n",
       "      <th>require_guest_phone_verification</th>\n",
       "      <th>calculated_host_listings_count</th>\n",
       "      <th>reviews_per_month</th>\n",
       "    </tr>\n",
       "  </thead>\n",
       "  <tbody>\n",
       "    <tr>\n",
       "      <th>0</th>\n",
       "      <td>241032</td>\n",
       "      <td>https://www.airbnb.com/rooms/241032</td>\n",
       "      <td>20160104002432</td>\n",
       "      <td>2016-01-04</td>\n",
       "      <td>Stylish Queen Anne Apartment</td>\n",
       "      <td>NaN</td>\n",
       "      <td>Make your self at home in this charming one-be...</td>\n",
       "      <td>Make your self at home in this charming one-be...</td>\n",
       "      <td>none</td>\n",
       "      <td>NaN</td>\n",
       "      <td>...</td>\n",
       "      <td>10.0</td>\n",
       "      <td>f</td>\n",
       "      <td>NaN</td>\n",
       "      <td>WASHINGTON</td>\n",
       "      <td>f</td>\n",
       "      <td>moderate</td>\n",
       "      <td>f</td>\n",
       "      <td>f</td>\n",
       "      <td>2</td>\n",
       "      <td>4.07</td>\n",
       "    </tr>\n",
       "    <tr>\n",
       "      <th>1</th>\n",
       "      <td>953595</td>\n",
       "      <td>https://www.airbnb.com/rooms/953595</td>\n",
       "      <td>20160104002432</td>\n",
       "      <td>2016-01-04</td>\n",
       "      <td>Bright &amp; Airy Queen Anne Apartment</td>\n",
       "      <td>Chemically sensitive? We've removed the irrita...</td>\n",
       "      <td>Beautiful, hypoallergenic apartment in an extr...</td>\n",
       "      <td>Chemically sensitive? We've removed the irrita...</td>\n",
       "      <td>none</td>\n",
       "      <td>Queen Anne is a wonderful, truly functional vi...</td>\n",
       "      <td>...</td>\n",
       "      <td>10.0</td>\n",
       "      <td>f</td>\n",
       "      <td>NaN</td>\n",
       "      <td>WASHINGTON</td>\n",
       "      <td>f</td>\n",
       "      <td>strict</td>\n",
       "      <td>t</td>\n",
       "      <td>t</td>\n",
       "      <td>6</td>\n",
       "      <td>1.48</td>\n",
       "    </tr>\n",
       "    <tr>\n",
       "      <th>2</th>\n",
       "      <td>3308979</td>\n",
       "      <td>https://www.airbnb.com/rooms/3308979</td>\n",
       "      <td>20160104002432</td>\n",
       "      <td>2016-01-04</td>\n",
       "      <td>New Modern House-Amazing water view</td>\n",
       "      <td>New modern house built in 2013.  Spectacular s...</td>\n",
       "      <td>Our house is modern, light and fresh with a wa...</td>\n",
       "      <td>New modern house built in 2013.  Spectacular s...</td>\n",
       "      <td>none</td>\n",
       "      <td>Upper Queen Anne is a charming neighborhood fu...</td>\n",
       "      <td>...</td>\n",
       "      <td>10.0</td>\n",
       "      <td>f</td>\n",
       "      <td>NaN</td>\n",
       "      <td>WASHINGTON</td>\n",
       "      <td>f</td>\n",
       "      <td>strict</td>\n",
       "      <td>f</td>\n",
       "      <td>f</td>\n",
       "      <td>2</td>\n",
       "      <td>1.15</td>\n",
       "    </tr>\n",
       "    <tr>\n",
       "      <th>3</th>\n",
       "      <td>7421966</td>\n",
       "      <td>https://www.airbnb.com/rooms/7421966</td>\n",
       "      <td>20160104002432</td>\n",
       "      <td>2016-01-04</td>\n",
       "      <td>Queen Anne Chateau</td>\n",
       "      <td>A charming apartment that sits atop Queen Anne...</td>\n",
       "      <td>NaN</td>\n",
       "      <td>A charming apartment that sits atop Queen Anne...</td>\n",
       "      <td>none</td>\n",
       "      <td>NaN</td>\n",
       "      <td>...</td>\n",
       "      <td>NaN</td>\n",
       "      <td>f</td>\n",
       "      <td>NaN</td>\n",
       "      <td>WASHINGTON</td>\n",
       "      <td>f</td>\n",
       "      <td>flexible</td>\n",
       "      <td>f</td>\n",
       "      <td>f</td>\n",
       "      <td>1</td>\n",
       "      <td>NaN</td>\n",
       "    </tr>\n",
       "    <tr>\n",
       "      <th>4</th>\n",
       "      <td>278830</td>\n",
       "      <td>https://www.airbnb.com/rooms/278830</td>\n",
       "      <td>20160104002432</td>\n",
       "      <td>2016-01-04</td>\n",
       "      <td>Charming craftsman 3 bdm house</td>\n",
       "      <td>Cozy family craftman house in beautiful neighb...</td>\n",
       "      <td>Cozy family craftman house in beautiful neighb...</td>\n",
       "      <td>Cozy family craftman house in beautiful neighb...</td>\n",
       "      <td>none</td>\n",
       "      <td>We are in the beautiful neighborhood of Queen ...</td>\n",
       "      <td>...</td>\n",
       "      <td>9.0</td>\n",
       "      <td>f</td>\n",
       "      <td>NaN</td>\n",
       "      <td>WASHINGTON</td>\n",
       "      <td>f</td>\n",
       "      <td>strict</td>\n",
       "      <td>f</td>\n",
       "      <td>f</td>\n",
       "      <td>1</td>\n",
       "      <td>0.89</td>\n",
       "    </tr>\n",
       "  </tbody>\n",
       "</table>\n",
       "<p>5 rows × 92 columns</p>\n",
       "</div>"
      ],
      "text/plain": [
       "        id                           listing_url       scrape_id last_scraped  \\\n",
       "0   241032   https://www.airbnb.com/rooms/241032  20160104002432   2016-01-04   \n",
       "1   953595   https://www.airbnb.com/rooms/953595  20160104002432   2016-01-04   \n",
       "2  3308979  https://www.airbnb.com/rooms/3308979  20160104002432   2016-01-04   \n",
       "3  7421966  https://www.airbnb.com/rooms/7421966  20160104002432   2016-01-04   \n",
       "4   278830   https://www.airbnb.com/rooms/278830  20160104002432   2016-01-04   \n",
       "\n",
       "                                  name  \\\n",
       "0         Stylish Queen Anne Apartment   \n",
       "1   Bright & Airy Queen Anne Apartment   \n",
       "2  New Modern House-Amazing water view   \n",
       "3                   Queen Anne Chateau   \n",
       "4       Charming craftsman 3 bdm house   \n",
       "\n",
       "                                             summary  \\\n",
       "0                                                NaN   \n",
       "1  Chemically sensitive? We've removed the irrita...   \n",
       "2  New modern house built in 2013.  Spectacular s...   \n",
       "3  A charming apartment that sits atop Queen Anne...   \n",
       "4  Cozy family craftman house in beautiful neighb...   \n",
       "\n",
       "                                               space  \\\n",
       "0  Make your self at home in this charming one-be...   \n",
       "1  Beautiful, hypoallergenic apartment in an extr...   \n",
       "2  Our house is modern, light and fresh with a wa...   \n",
       "3                                                NaN   \n",
       "4  Cozy family craftman house in beautiful neighb...   \n",
       "\n",
       "                                         description experiences_offered  \\\n",
       "0  Make your self at home in this charming one-be...                none   \n",
       "1  Chemically sensitive? We've removed the irrita...                none   \n",
       "2  New modern house built in 2013.  Spectacular s...                none   \n",
       "3  A charming apartment that sits atop Queen Anne...                none   \n",
       "4  Cozy family craftman house in beautiful neighb...                none   \n",
       "\n",
       "                               neighborhood_overview  ... review_scores_value  \\\n",
       "0                                                NaN  ...                10.0   \n",
       "1  Queen Anne is a wonderful, truly functional vi...  ...                10.0   \n",
       "2  Upper Queen Anne is a charming neighborhood fu...  ...                10.0   \n",
       "3                                                NaN  ...                 NaN   \n",
       "4  We are in the beautiful neighborhood of Queen ...  ...                 9.0   \n",
       "\n",
       "  requires_license license jurisdiction_names instant_bookable  \\\n",
       "0                f     NaN         WASHINGTON                f   \n",
       "1                f     NaN         WASHINGTON                f   \n",
       "2                f     NaN         WASHINGTON                f   \n",
       "3                f     NaN         WASHINGTON                f   \n",
       "4                f     NaN         WASHINGTON                f   \n",
       "\n",
       "  cancellation_policy  require_guest_profile_picture  \\\n",
       "0            moderate                              f   \n",
       "1              strict                              t   \n",
       "2              strict                              f   \n",
       "3            flexible                              f   \n",
       "4              strict                              f   \n",
       "\n",
       "  require_guest_phone_verification calculated_host_listings_count  \\\n",
       "0                                f                              2   \n",
       "1                                t                              6   \n",
       "2                                f                              2   \n",
       "3                                f                              1   \n",
       "4                                f                              1   \n",
       "\n",
       "  reviews_per_month  \n",
       "0              4.07  \n",
       "1              1.48  \n",
       "2              1.15  \n",
       "3               NaN  \n",
       "4              0.89  \n",
       "\n",
       "[5 rows x 92 columns]"
      ]
     },
     "execution_count": 3,
     "metadata": {},
     "output_type": "execute_result"
    },
    {
     "name": "stdout",
     "output_type": "stream",
     "text": [
      "time: 578 ms (started: 2025-04-21 10:22:53 +01:00)\n"
     ]
    }
   ],
   "source": [
    "#Read in listings csv\n",
    "\n",
    "listings = pd.read_csv('listings.csv')\n",
    "listings.head()"
   ]
  },
  {
   "cell_type": "code",
   "execution_count": 4,
   "id": "5e952e22",
   "metadata": {},
   "outputs": [
    {
     "data": {
      "text/html": [
       "<div>\n",
       "<style scoped>\n",
       "    .dataframe tbody tr th:only-of-type {\n",
       "        vertical-align: middle;\n",
       "    }\n",
       "\n",
       "    .dataframe tbody tr th {\n",
       "        vertical-align: top;\n",
       "    }\n",
       "\n",
       "    .dataframe thead th {\n",
       "        text-align: right;\n",
       "    }\n",
       "</style>\n",
       "<table border=\"1\" class=\"dataframe\">\n",
       "  <thead>\n",
       "    <tr style=\"text-align: right;\">\n",
       "      <th></th>\n",
       "      <th>listing_id</th>\n",
       "      <th>id</th>\n",
       "      <th>date</th>\n",
       "      <th>reviewer_id</th>\n",
       "      <th>reviewer_name</th>\n",
       "      <th>comments</th>\n",
       "    </tr>\n",
       "  </thead>\n",
       "  <tbody>\n",
       "    <tr>\n",
       "      <th>0</th>\n",
       "      <td>7202016</td>\n",
       "      <td>38917982</td>\n",
       "      <td>2015-07-19</td>\n",
       "      <td>28943674</td>\n",
       "      <td>Bianca</td>\n",
       "      <td>Cute and cozy place. Perfect location to every...</td>\n",
       "    </tr>\n",
       "    <tr>\n",
       "      <th>1</th>\n",
       "      <td>7202016</td>\n",
       "      <td>39087409</td>\n",
       "      <td>2015-07-20</td>\n",
       "      <td>32440555</td>\n",
       "      <td>Frank</td>\n",
       "      <td>Kelly has a great room in a very central locat...</td>\n",
       "    </tr>\n",
       "    <tr>\n",
       "      <th>2</th>\n",
       "      <td>7202016</td>\n",
       "      <td>39820030</td>\n",
       "      <td>2015-07-26</td>\n",
       "      <td>37722850</td>\n",
       "      <td>Ian</td>\n",
       "      <td>Very spacious apartment, and in a great neighb...</td>\n",
       "    </tr>\n",
       "    <tr>\n",
       "      <th>3</th>\n",
       "      <td>7202016</td>\n",
       "      <td>40813543</td>\n",
       "      <td>2015-08-02</td>\n",
       "      <td>33671805</td>\n",
       "      <td>George</td>\n",
       "      <td>Close to Seattle Center and all it has to offe...</td>\n",
       "    </tr>\n",
       "    <tr>\n",
       "      <th>4</th>\n",
       "      <td>7202016</td>\n",
       "      <td>41986501</td>\n",
       "      <td>2015-08-10</td>\n",
       "      <td>34959538</td>\n",
       "      <td>Ming</td>\n",
       "      <td>Kelly was a great host and very accommodating ...</td>\n",
       "    </tr>\n",
       "  </tbody>\n",
       "</table>\n",
       "</div>"
      ],
      "text/plain": [
       "   listing_id        id        date  reviewer_id reviewer_name  \\\n",
       "0     7202016  38917982  2015-07-19     28943674        Bianca   \n",
       "1     7202016  39087409  2015-07-20     32440555         Frank   \n",
       "2     7202016  39820030  2015-07-26     37722850           Ian   \n",
       "3     7202016  40813543  2015-08-02     33671805        George   \n",
       "4     7202016  41986501  2015-08-10     34959538          Ming   \n",
       "\n",
       "                                            comments  \n",
       "0  Cute and cozy place. Perfect location to every...  \n",
       "1  Kelly has a great room in a very central locat...  \n",
       "2  Very spacious apartment, and in a great neighb...  \n",
       "3  Close to Seattle Center and all it has to offe...  \n",
       "4  Kelly was a great host and very accommodating ...  "
      ]
     },
     "execution_count": 4,
     "metadata": {},
     "output_type": "execute_result"
    },
    {
     "name": "stdout",
     "output_type": "stream",
     "text": [
      "time: 1.05 s (started: 2025-04-21 10:22:53 +01:00)\n"
     ]
    }
   ],
   "source": [
    "#Read in reviews csv\n",
    "\n",
    "reviews = pd.read_csv('reviews.csv')\n",
    "reviews.head()"
   ]
  },
  {
   "cell_type": "markdown",
   "id": "aed47ccd",
   "metadata": {},
   "source": [
    "### Exploratory analysis "
   ]
  },
  {
   "cell_type": "code",
   "execution_count": 7,
   "id": "86a674a0",
   "metadata": {},
   "outputs": [
    {
     "data": {
      "text/plain": [
       "1393570"
      ]
     },
     "execution_count": 7,
     "metadata": {},
     "output_type": "execute_result"
    },
    {
     "name": "stdout",
     "output_type": "stream",
     "text": [
      "time: 15 ms (started: 2025-04-11 11:24:13 +01:00)\n"
     ]
    }
   ],
   "source": [
    "# Get number of rows of data (calendar)\n",
    "calendar.shape[0]"
   ]
  },
  {
   "cell_type": "code",
   "execution_count": 8,
   "id": "0c541cb6",
   "metadata": {},
   "outputs": [
    {
     "data": {
      "text/plain": [
       "3818"
      ]
     },
     "execution_count": 8,
     "metadata": {},
     "output_type": "execute_result"
    },
    {
     "name": "stdout",
     "output_type": "stream",
     "text": [
      "time: 0 ns (started: 2025-04-11 11:24:14 +01:00)\n"
     ]
    }
   ],
   "source": [
    "# Get number of rows of data (listings)\n",
    "listings.shape[0]"
   ]
  },
  {
   "cell_type": "code",
   "execution_count": 6,
   "id": "c61f762e",
   "metadata": {},
   "outputs": [
    {
     "data": {
      "text/plain": [
       "84849"
      ]
     },
     "execution_count": 6,
     "metadata": {},
     "output_type": "execute_result"
    },
    {
     "name": "stdout",
     "output_type": "stream",
     "text": [
      "time: 0 ns (started: 2025-04-11 11:23:49 +01:00)\n"
     ]
    }
   ],
   "source": [
    "# Get number of rows of data (reviews)\n",
    "reviews.shape[0]"
   ]
  },
  {
   "cell_type": "code",
   "execution_count": 88,
   "id": "659bb707",
   "metadata": {
    "scrolled": true
   },
   "outputs": [
    {
     "data": {
      "text/plain": [
       "['listing_id',\n",
       " 'listing_url',\n",
       " 'scrape_id',\n",
       " 'last_scraped',\n",
       " 'name',\n",
       " 'summary',\n",
       " 'space',\n",
       " 'description',\n",
       " 'experiences_offered',\n",
       " 'neighborhood_overview',\n",
       " 'notes',\n",
       " 'transit',\n",
       " 'thumbnail_url',\n",
       " 'medium_url',\n",
       " 'picture_url',\n",
       " 'xl_picture_url',\n",
       " 'host_id',\n",
       " 'host_url',\n",
       " 'host_name',\n",
       " 'host_since',\n",
       " 'host_location',\n",
       " 'host_about',\n",
       " 'host_response_time',\n",
       " 'host_response_rate',\n",
       " 'host_acceptance_rate',\n",
       " 'host_is_superhost',\n",
       " 'host_thumbnail_url',\n",
       " 'host_picture_url',\n",
       " 'host_neighbourhood',\n",
       " 'host_listings_count',\n",
       " 'host_total_listings_count',\n",
       " 'host_verifications',\n",
       " 'host_has_profile_pic',\n",
       " 'host_identity_verified',\n",
       " 'street',\n",
       " 'neighbourhood',\n",
       " 'neighbourhood_cleansed',\n",
       " 'neighbourhood_group_cleansed',\n",
       " 'city',\n",
       " 'state',\n",
       " 'zipcode',\n",
       " 'market',\n",
       " 'smart_location',\n",
       " 'country_code',\n",
       " 'country',\n",
       " 'latitude',\n",
       " 'longitude',\n",
       " 'is_location_exact',\n",
       " 'property_type',\n",
       " 'room_type',\n",
       " 'accommodates',\n",
       " 'bathrooms',\n",
       " 'bedrooms',\n",
       " 'beds',\n",
       " 'bed_type',\n",
       " 'amenities',\n",
       " 'square_feet',\n",
       " 'price',\n",
       " 'weekly_price',\n",
       " 'monthly_price',\n",
       " 'security_deposit',\n",
       " 'cleaning_fee',\n",
       " 'guests_included',\n",
       " 'extra_people',\n",
       " 'minimum_nights',\n",
       " 'maximum_nights',\n",
       " 'calendar_updated',\n",
       " 'has_availability',\n",
       " 'availability_30',\n",
       " 'availability_60',\n",
       " 'availability_90',\n",
       " 'availability_365',\n",
       " 'calendar_last_scraped',\n",
       " 'number_of_reviews',\n",
       " 'first_review',\n",
       " 'last_review',\n",
       " 'review_scores_rating',\n",
       " 'review_scores_accuracy',\n",
       " 'review_scores_cleanliness',\n",
       " 'review_scores_checkin',\n",
       " 'review_scores_communication',\n",
       " 'review_scores_location',\n",
       " 'review_scores_value',\n",
       " 'requires_license',\n",
       " 'license',\n",
       " 'jurisdiction_names',\n",
       " 'instant_bookable',\n",
       " 'cancellation_policy',\n",
       " 'require_guest_profile_picture',\n",
       " 'require_guest_phone_verification',\n",
       " 'calculated_host_listings_count',\n",
       " 'reviews_per_month']"
      ]
     },
     "execution_count": 88,
     "metadata": {},
     "output_type": "execute_result"
    },
    {
     "name": "stdout",
     "output_type": "stream",
     "text": [
      "time: 15 ms (started: 2025-04-11 13:21:40 +01:00)\n"
     ]
    }
   ],
   "source": [
    "# What are the columns in listings\n",
    "list(listings)"
   ]
  },
  {
   "cell_type": "code",
   "execution_count": 93,
   "id": "af723d10",
   "metadata": {},
   "outputs": [
    {
     "data": {
      "text/plain": [
       "0        Queen Anne\n",
       "1        Queen Anne\n",
       "2        Queen Anne\n",
       "3        Queen Anne\n",
       "4        Queen Anne\n",
       "           ...     \n",
       "3813        Fremont\n",
       "3814    Portage Bay\n",
       "3815            NaN\n",
       "3816            NaN\n",
       "3817     Queen Anne\n",
       "Name: neighbourhood, Length: 3818, dtype: object"
      ]
     },
     "execution_count": 93,
     "metadata": {},
     "output_type": "execute_result"
    },
    {
     "name": "stdout",
     "output_type": "stream",
     "text": [
      "time: 16 ms (started: 2025-04-11 13:23:41 +01:00)\n"
     ]
    }
   ],
   "source": [
    "# Explore some of these fields\n",
    "listings['neighbourhood']"
   ]
  },
  {
   "cell_type": "code",
   "execution_count": 9,
   "id": "b002a614",
   "metadata": {},
   "outputs": [
    {
     "name": "stdout",
     "output_type": "stream",
     "text": [
      "2017-01-02\n",
      "2016-01-04\n",
      "time: 188 ms (started: 2025-04-11 11:24:31 +01:00)\n"
     ]
    }
   ],
   "source": [
    "# What is the timeframe for this data (max/min dates in calendar)\n",
    "\n",
    "print(calendar['date'].max())\n",
    "print(calendar['date'].min())\n",
    "\n",
    "# Jan 2016 - Jan 2017"
   ]
  },
  {
   "cell_type": "code",
   "execution_count": 10,
   "id": "81412411",
   "metadata": {},
   "outputs": [
    {
     "name": "stdout",
     "output_type": "stream",
     "text": [
      "3818 listings in calendar\n",
      "3818 listings in listings\n",
      "3191 listings in reviews\n",
      "time: 63 ms (started: 2025-04-11 11:25:12 +01:00)\n"
     ]
    }
   ],
   "source": [
    "# How many listings are there in total?\n",
    "# calendar['listing_id'].count()\n",
    "print(str(calendar['listing_id'].agg('nunique')) + ' listings in calendar')\n",
    "print(str(listings['id'].agg('nunique')) + ' listings in listings')\n",
    "print(str(reviews['listing_id'].agg('nunique')) + ' listings in reviews')\n",
    "\n",
    "# 3,818 listings"
   ]
  },
  {
   "cell_type": "code",
   "execution_count": 11,
   "id": "f29f9441",
   "metadata": {
    "scrolled": true
   },
   "outputs": [
    {
     "data": {
      "text/html": [
       "<div>\n",
       "<style scoped>\n",
       "    .dataframe tbody tr th:only-of-type {\n",
       "        vertical-align: middle;\n",
       "    }\n",
       "\n",
       "    .dataframe tbody tr th {\n",
       "        vertical-align: top;\n",
       "    }\n",
       "\n",
       "    .dataframe thead th {\n",
       "        text-align: right;\n",
       "    }\n",
       "</style>\n",
       "<table border=\"1\" class=\"dataframe\">\n",
       "  <thead>\n",
       "    <tr style=\"text-align: right;\">\n",
       "      <th></th>\n",
       "      <th>max_date</th>\n",
       "      <th>min_date</th>\n",
       "    </tr>\n",
       "    <tr>\n",
       "      <th>listing_id</th>\n",
       "      <th></th>\n",
       "      <th></th>\n",
       "    </tr>\n",
       "  </thead>\n",
       "  <tbody>\n",
       "    <tr>\n",
       "      <th>3335</th>\n",
       "      <td>2017-01-02</td>\n",
       "      <td>2016-01-04</td>\n",
       "    </tr>\n",
       "    <tr>\n",
       "      <th>4291</th>\n",
       "      <td>2017-01-02</td>\n",
       "      <td>2016-01-04</td>\n",
       "    </tr>\n",
       "    <tr>\n",
       "      <th>5682</th>\n",
       "      <td>2017-01-02</td>\n",
       "      <td>2016-01-04</td>\n",
       "    </tr>\n",
       "    <tr>\n",
       "      <th>6606</th>\n",
       "      <td>2017-01-02</td>\n",
       "      <td>2016-01-04</td>\n",
       "    </tr>\n",
       "    <tr>\n",
       "      <th>7369</th>\n",
       "      <td>2017-01-02</td>\n",
       "      <td>2016-01-04</td>\n",
       "    </tr>\n",
       "  </tbody>\n",
       "</table>\n",
       "</div>"
      ],
      "text/plain": [
       "              max_date    min_date\n",
       "listing_id                        \n",
       "3335        2017-01-02  2016-01-04\n",
       "4291        2017-01-02  2016-01-04\n",
       "5682        2017-01-02  2016-01-04\n",
       "6606        2017-01-02  2016-01-04\n",
       "7369        2017-01-02  2016-01-04"
      ]
     },
     "execution_count": 11,
     "metadata": {},
     "output_type": "execute_result"
    },
    {
     "name": "stdout",
     "output_type": "stream",
     "text": [
      "time: 1.28 s (started: 2025-04-11 11:25:29 +01:00)\n"
     ]
    }
   ],
   "source": [
    "# Is the min/max date the same for all listings? Or does it show the dates for when it came to market?\n",
    "minmaxdate = calendar.groupby('listing_id').agg(max_date = ('date','max'), min_date = ('date','min'))\n",
    "minmaxdate.head()"
   ]
  },
  {
   "cell_type": "code",
   "execution_count": 20,
   "id": "aad30ec5",
   "metadata": {},
   "outputs": [
    {
     "data": {
      "text/plain": [
       "listing_id     int64\n",
       "date          object\n",
       "available     object\n",
       "price         object\n",
       "dtype: object"
      ]
     },
     "execution_count": 20,
     "metadata": {},
     "output_type": "execute_result"
    },
    {
     "name": "stdout",
     "output_type": "stream",
     "text": [
      "time: 0 ns (started: 2025-04-11 11:38:48 +01:00)\n"
     ]
    }
   ],
   "source": [
    "#what is the type of the price column\n",
    "calendar.dtypes"
   ]
  },
  {
   "cell_type": "code",
   "execution_count": 6,
   "id": "9fed0ebe",
   "metadata": {},
   "outputs": [
    {
     "name": "stderr",
     "output_type": "stream",
     "text": [
      "<ipython-input-6-c8cca261781f>:3: FutureWarning: The default value of regex will change from True to False in a future version. In addition, single character regular expressions will*not* be treated as literal strings when regex=True.\n",
      "  calendar['price_avg'] = pd.to_numeric(calendar['price'].str.replace('$', ''), errors='coerce')\n"
     ]
    },
    {
     "data": {
      "text/plain": [
       "listing_id      int64\n",
       "date           object\n",
       "available      object\n",
       "price          object\n",
       "price_avg     float64\n",
       "dtype: object"
      ]
     },
     "execution_count": 6,
     "metadata": {},
     "output_type": "execute_result"
    },
    {
     "name": "stdout",
     "output_type": "stream",
     "text": [
      "time: 1.88 s (started: 2025-04-21 10:24:41 +01:00)\n"
     ]
    }
   ],
   "source": [
    "#convert price to numeric \n",
    "#remove dollar sign first\n",
    "calendar['price_avg'] = pd.to_numeric(calendar['price'].str.replace('$', ''), errors='coerce')\n",
    "calendar.dtypes"
   ]
  },
  {
   "cell_type": "code",
   "execution_count": 7,
   "id": "0b42093c",
   "metadata": {},
   "outputs": [
    {
     "data": {
      "text/plain": [
       "listing_id\n",
       "3335    120.000000\n",
       "4291     82.000000\n",
       "5682     53.944984\n",
       "6606     92.849315\n",
       "7369     85.000000\n",
       "Name: price_avg, dtype: float64"
      ]
     },
     "execution_count": 7,
     "metadata": {},
     "output_type": "execute_result"
    },
    {
     "name": "stdout",
     "output_type": "stream",
     "text": [
      "time: 141 ms (started: 2025-04-21 10:24:43 +01:00)\n"
     ]
    }
   ],
   "source": [
    "# Get average price for each listing\n",
    "listing_price = calendar.groupby('listing_id')['price_avg'].mean()\n",
    "listing_price.head()"
   ]
  },
  {
   "cell_type": "code",
   "execution_count": 8,
   "id": "77dc0f50",
   "metadata": {},
   "outputs": [
    {
     "name": "stdout",
     "output_type": "stream",
     "text": [
      "3818 listings in calendar\n",
      "3818\n",
      "time: 46 ms (started: 2025-04-21 10:24:46 +01:00)\n"
     ]
    }
   ],
   "source": [
    "#check no duplication\n",
    "print(str(calendar['listing_id'].agg('nunique')) + ' listings in calendar')\n",
    "print(listing_price.shape[0])"
   ]
  },
  {
   "cell_type": "code",
   "execution_count": 9,
   "id": "ab6f3fc7",
   "metadata": {},
   "outputs": [
    {
     "data": {
      "text/plain": [
       "3818"
      ]
     },
     "execution_count": 9,
     "metadata": {},
     "output_type": "execute_result"
    },
    {
     "name": "stdout",
     "output_type": "stream",
     "text": [
      "time: 31 ms (started: 2025-04-21 10:24:50 +01:00)\n"
     ]
    }
   ],
   "source": [
    "# Join average listing price to listing df\n",
    "\n",
    "# rename columns to match\n",
    "listings = listings.rename(columns={\"id\": \"listing_id\"})\n",
    "\n",
    "# join with price data\n",
    "listings2 = listings.join(listing_price, on='listing_id', how='left')\n",
    "listings2.shape[0]"
   ]
  },
  {
   "cell_type": "code",
   "execution_count": 10,
   "id": "64ef1bb8",
   "metadata": {},
   "outputs": [
    {
     "data": {
      "text/html": [
       "<div>\n",
       "<style scoped>\n",
       "    .dataframe tbody tr th:only-of-type {\n",
       "        vertical-align: middle;\n",
       "    }\n",
       "\n",
       "    .dataframe tbody tr th {\n",
       "        vertical-align: top;\n",
       "    }\n",
       "\n",
       "    .dataframe thead th {\n",
       "        text-align: right;\n",
       "    }\n",
       "</style>\n",
       "<table border=\"1\" class=\"dataframe\">\n",
       "  <thead>\n",
       "    <tr style=\"text-align: right;\">\n",
       "      <th></th>\n",
       "      <th>listing_id</th>\n",
       "      <th>listing_url</th>\n",
       "      <th>scrape_id</th>\n",
       "      <th>last_scraped</th>\n",
       "      <th>name</th>\n",
       "      <th>summary</th>\n",
       "      <th>space</th>\n",
       "      <th>description</th>\n",
       "      <th>experiences_offered</th>\n",
       "      <th>neighborhood_overview</th>\n",
       "      <th>...</th>\n",
       "      <th>requires_license</th>\n",
       "      <th>license</th>\n",
       "      <th>jurisdiction_names</th>\n",
       "      <th>instant_bookable</th>\n",
       "      <th>cancellation_policy</th>\n",
       "      <th>require_guest_profile_picture</th>\n",
       "      <th>require_guest_phone_verification</th>\n",
       "      <th>calculated_host_listings_count</th>\n",
       "      <th>reviews_per_month</th>\n",
       "      <th>price_avg</th>\n",
       "    </tr>\n",
       "  </thead>\n",
       "  <tbody>\n",
       "    <tr>\n",
       "      <th>0</th>\n",
       "      <td>241032</td>\n",
       "      <td>https://www.airbnb.com/rooms/241032</td>\n",
       "      <td>20160104002432</td>\n",
       "      <td>2016-01-04</td>\n",
       "      <td>Stylish Queen Anne Apartment</td>\n",
       "      <td>NaN</td>\n",
       "      <td>Make your self at home in this charming one-be...</td>\n",
       "      <td>Make your self at home in this charming one-be...</td>\n",
       "      <td>none</td>\n",
       "      <td>NaN</td>\n",
       "      <td>...</td>\n",
       "      <td>f</td>\n",
       "      <td>NaN</td>\n",
       "      <td>WASHINGTON</td>\n",
       "      <td>f</td>\n",
       "      <td>moderate</td>\n",
       "      <td>f</td>\n",
       "      <td>f</td>\n",
       "      <td>2</td>\n",
       "      <td>4.07</td>\n",
       "      <td>85.000000</td>\n",
       "    </tr>\n",
       "    <tr>\n",
       "      <th>1</th>\n",
       "      <td>953595</td>\n",
       "      <td>https://www.airbnb.com/rooms/953595</td>\n",
       "      <td>20160104002432</td>\n",
       "      <td>2016-01-04</td>\n",
       "      <td>Bright &amp; Airy Queen Anne Apartment</td>\n",
       "      <td>Chemically sensitive? We've removed the irrita...</td>\n",
       "      <td>Beautiful, hypoallergenic apartment in an extr...</td>\n",
       "      <td>Chemically sensitive? We've removed the irrita...</td>\n",
       "      <td>none</td>\n",
       "      <td>Queen Anne is a wonderful, truly functional vi...</td>\n",
       "      <td>...</td>\n",
       "      <td>f</td>\n",
       "      <td>NaN</td>\n",
       "      <td>WASHINGTON</td>\n",
       "      <td>f</td>\n",
       "      <td>strict</td>\n",
       "      <td>t</td>\n",
       "      <td>t</td>\n",
       "      <td>6</td>\n",
       "      <td>1.48</td>\n",
       "      <td>170.931271</td>\n",
       "    </tr>\n",
       "    <tr>\n",
       "      <th>2</th>\n",
       "      <td>3308979</td>\n",
       "      <td>https://www.airbnb.com/rooms/3308979</td>\n",
       "      <td>20160104002432</td>\n",
       "      <td>2016-01-04</td>\n",
       "      <td>New Modern House-Amazing water view</td>\n",
       "      <td>New modern house built in 2013.  Spectacular s...</td>\n",
       "      <td>Our house is modern, light and fresh with a wa...</td>\n",
       "      <td>New modern house built in 2013.  Spectacular s...</td>\n",
       "      <td>none</td>\n",
       "      <td>Upper Queen Anne is a charming neighborhood fu...</td>\n",
       "      <td>...</td>\n",
       "      <td>f</td>\n",
       "      <td>NaN</td>\n",
       "      <td>WASHINGTON</td>\n",
       "      <td>f</td>\n",
       "      <td>strict</td>\n",
       "      <td>f</td>\n",
       "      <td>f</td>\n",
       "      <td>2</td>\n",
       "      <td>1.15</td>\n",
       "      <td>894.186047</td>\n",
       "    </tr>\n",
       "    <tr>\n",
       "      <th>3</th>\n",
       "      <td>7421966</td>\n",
       "      <td>https://www.airbnb.com/rooms/7421966</td>\n",
       "      <td>20160104002432</td>\n",
       "      <td>2016-01-04</td>\n",
       "      <td>Queen Anne Chateau</td>\n",
       "      <td>A charming apartment that sits atop Queen Anne...</td>\n",
       "      <td>NaN</td>\n",
       "      <td>A charming apartment that sits atop Queen Anne...</td>\n",
       "      <td>none</td>\n",
       "      <td>NaN</td>\n",
       "      <td>...</td>\n",
       "      <td>f</td>\n",
       "      <td>NaN</td>\n",
       "      <td>WASHINGTON</td>\n",
       "      <td>f</td>\n",
       "      <td>flexible</td>\n",
       "      <td>f</td>\n",
       "      <td>f</td>\n",
       "      <td>1</td>\n",
       "      <td>NaN</td>\n",
       "      <td>100.000000</td>\n",
       "    </tr>\n",
       "    <tr>\n",
       "      <th>4</th>\n",
       "      <td>278830</td>\n",
       "      <td>https://www.airbnb.com/rooms/278830</td>\n",
       "      <td>20160104002432</td>\n",
       "      <td>2016-01-04</td>\n",
       "      <td>Charming craftsman 3 bdm house</td>\n",
       "      <td>Cozy family craftman house in beautiful neighb...</td>\n",
       "      <td>Cozy family craftman house in beautiful neighb...</td>\n",
       "      <td>Cozy family craftman house in beautiful neighb...</td>\n",
       "      <td>none</td>\n",
       "      <td>We are in the beautiful neighborhood of Queen ...</td>\n",
       "      <td>...</td>\n",
       "      <td>f</td>\n",
       "      <td>NaN</td>\n",
       "      <td>WASHINGTON</td>\n",
       "      <td>f</td>\n",
       "      <td>strict</td>\n",
       "      <td>f</td>\n",
       "      <td>f</td>\n",
       "      <td>1</td>\n",
       "      <td>0.89</td>\n",
       "      <td>462.739726</td>\n",
       "    </tr>\n",
       "  </tbody>\n",
       "</table>\n",
       "<p>5 rows × 93 columns</p>\n",
       "</div>"
      ],
      "text/plain": [
       "   listing_id                           listing_url       scrape_id  \\\n",
       "0      241032   https://www.airbnb.com/rooms/241032  20160104002432   \n",
       "1      953595   https://www.airbnb.com/rooms/953595  20160104002432   \n",
       "2     3308979  https://www.airbnb.com/rooms/3308979  20160104002432   \n",
       "3     7421966  https://www.airbnb.com/rooms/7421966  20160104002432   \n",
       "4      278830   https://www.airbnb.com/rooms/278830  20160104002432   \n",
       "\n",
       "  last_scraped                                 name  \\\n",
       "0   2016-01-04         Stylish Queen Anne Apartment   \n",
       "1   2016-01-04   Bright & Airy Queen Anne Apartment   \n",
       "2   2016-01-04  New Modern House-Amazing water view   \n",
       "3   2016-01-04                   Queen Anne Chateau   \n",
       "4   2016-01-04       Charming craftsman 3 bdm house   \n",
       "\n",
       "                                             summary  \\\n",
       "0                                                NaN   \n",
       "1  Chemically sensitive? We've removed the irrita...   \n",
       "2  New modern house built in 2013.  Spectacular s...   \n",
       "3  A charming apartment that sits atop Queen Anne...   \n",
       "4  Cozy family craftman house in beautiful neighb...   \n",
       "\n",
       "                                               space  \\\n",
       "0  Make your self at home in this charming one-be...   \n",
       "1  Beautiful, hypoallergenic apartment in an extr...   \n",
       "2  Our house is modern, light and fresh with a wa...   \n",
       "3                                                NaN   \n",
       "4  Cozy family craftman house in beautiful neighb...   \n",
       "\n",
       "                                         description experiences_offered  \\\n",
       "0  Make your self at home in this charming one-be...                none   \n",
       "1  Chemically sensitive? We've removed the irrita...                none   \n",
       "2  New modern house built in 2013.  Spectacular s...                none   \n",
       "3  A charming apartment that sits atop Queen Anne...                none   \n",
       "4  Cozy family craftman house in beautiful neighb...                none   \n",
       "\n",
       "                               neighborhood_overview  ... requires_license  \\\n",
       "0                                                NaN  ...                f   \n",
       "1  Queen Anne is a wonderful, truly functional vi...  ...                f   \n",
       "2  Upper Queen Anne is a charming neighborhood fu...  ...                f   \n",
       "3                                                NaN  ...                f   \n",
       "4  We are in the beautiful neighborhood of Queen ...  ...                f   \n",
       "\n",
       "  license jurisdiction_names instant_bookable cancellation_policy  \\\n",
       "0     NaN         WASHINGTON                f            moderate   \n",
       "1     NaN         WASHINGTON                f              strict   \n",
       "2     NaN         WASHINGTON                f              strict   \n",
       "3     NaN         WASHINGTON                f            flexible   \n",
       "4     NaN         WASHINGTON                f              strict   \n",
       "\n",
       "  require_guest_profile_picture  require_guest_phone_verification  \\\n",
       "0                             f                                 f   \n",
       "1                             t                                 t   \n",
       "2                             f                                 f   \n",
       "3                             f                                 f   \n",
       "4                             f                                 f   \n",
       "\n",
       "  calculated_host_listings_count reviews_per_month   price_avg  \n",
       "0                              2              4.07   85.000000  \n",
       "1                              6              1.48  170.931271  \n",
       "2                              2              1.15  894.186047  \n",
       "3                              1               NaN  100.000000  \n",
       "4                              1              0.89  462.739726  \n",
       "\n",
       "[5 rows x 93 columns]"
      ]
     },
     "execution_count": 10,
     "metadata": {},
     "output_type": "execute_result"
    },
    {
     "name": "stdout",
     "output_type": "stream",
     "text": [
      "time: 31 ms (started: 2025-04-21 10:24:52 +01:00)\n"
     ]
    }
   ],
   "source": [
    "listings2.head()"
   ]
  },
  {
   "cell_type": "markdown",
   "id": "7c4843f3",
   "metadata": {},
   "source": [
    "### 1) Do missing descriptions impact prices?"
   ]
  },
  {
   "cell_type": "code",
   "execution_count": 80,
   "id": "bad7caf1",
   "metadata": {},
   "outputs": [
    {
     "name": "stdout",
     "output_type": "stream",
     "text": [
      "time: 0 ns (started: 2025-04-11 13:10:43 +01:00)\n"
     ]
    }
   ],
   "source": [
    "# create function for creating NA flags\n",
    "\n",
    "def na_flag(df, col):\n",
    "    df[(col + '_NA')] = np.where(df[col].isna(), 0, 1)\n",
    "    print(df.groupby((col + '_NA'))['price_avg'].mean())\n",
    "    print(df.groupby((col + '_NA'))['listing_id'].count())"
   ]
  },
  {
   "cell_type": "code",
   "execution_count": 81,
   "id": "896823ae",
   "metadata": {
    "scrolled": true
   },
   "outputs": [
    {
     "name": "stdout",
     "output_type": "stream",
     "text": [
      "summary_NA\n",
      "0    136.156921\n",
      "1    135.341474\n",
      "Name: price_avg, dtype: float64\n",
      "summary_NA\n",
      "0     177\n",
      "1    3641\n",
      "Name: listing_id, dtype: int64\n",
      "time: 0 ns (started: 2025-04-11 13:10:45 +01:00)\n"
     ]
    }
   ],
   "source": [
    "na_flag(listings2, 'summary')"
   ]
  },
  {
   "cell_type": "code",
   "execution_count": 82,
   "id": "58af19d9",
   "metadata": {},
   "outputs": [
    {
     "name": "stdout",
     "output_type": "stream",
     "text": [
      "neighborhood_overview_NA\n",
      "0    138.747845\n",
      "1    134.136001\n",
      "Name: price_avg, dtype: float64\n",
      "neighborhood_overview_NA\n",
      "0    1032\n",
      "1    2786\n",
      "Name: listing_id, dtype: int64\n",
      "time: 16 ms (started: 2025-04-11 13:11:04 +01:00)\n"
     ]
    }
   ],
   "source": [
    "na_flag(listings2, 'neighborhood_overview')"
   ]
  },
  {
   "cell_type": "code",
   "execution_count": 83,
   "id": "43cd074c",
   "metadata": {},
   "outputs": [
    {
     "name": "stdout",
     "output_type": "stream",
     "text": [
      "space_NA\n",
      "0    129.993938\n",
      "1    136.321921\n",
      "Name: price_avg, dtype: float64\n",
      "space_NA\n",
      "0     569\n",
      "1    3249\n",
      "Name: listing_id, dtype: int64\n",
      "time: 0 ns (started: 2025-04-11 13:11:12 +01:00)\n"
     ]
    }
   ],
   "source": [
    "na_flag(listings2, 'space')"
   ]
  },
  {
   "cell_type": "code",
   "execution_count": 84,
   "id": "f683dfa5",
   "metadata": {},
   "outputs": [
    {
     "name": "stdout",
     "output_type": "stream",
     "text": [
      "description_NA\n",
      "1    135.380034\n",
      "Name: price_avg, dtype: float64\n",
      "description_NA\n",
      "1    3818\n",
      "Name: listing_id, dtype: int64\n",
      "time: 0 ns (started: 2025-04-11 13:11:29 +01:00)\n"
     ]
    }
   ],
   "source": [
    "na_flag(listings2, 'description')"
   ]
  },
  {
   "cell_type": "markdown",
   "id": "3e2495e2",
   "metadata": {},
   "source": [
    "Having more information listed (eg. description, summary, etc.) does not necessarily lead to higher prices. The only field that may have an impace is 'space'."
   ]
  },
  {
   "cell_type": "code",
   "execution_count": 75,
   "id": "15fe3796",
   "metadata": {},
   "outputs": [
    {
     "data": {
      "text/plain": [
       "count_NA\n",
       "1    132.952066\n",
       "2    141.334069\n",
       "3    134.621072\n",
       "Name: price_avg, dtype: float64"
      ]
     },
     "execution_count": 75,
     "metadata": {},
     "output_type": "execute_result"
    },
    {
     "name": "stdout",
     "output_type": "stream",
     "text": [
      "time: 16 ms (started: 2025-04-11 13:08:15 +01:00)\n"
     ]
    }
   ],
   "source": [
    "# Does the amount of missing info relate to lower prices? Eg. if a listing has no description on 1 vs 2 vs 3 fields\n",
    "\n",
    "listings2['count_NA'] = listings2['summary_NA'] + listings2['neighborhood_overview_NA'] + listings2['space_NA'] \n",
    "listings2.groupby(['count_NA'])['price_avg'].mean()"
   ]
  },
  {
   "cell_type": "code",
   "execution_count": 77,
   "id": "d1b8b615",
   "metadata": {
    "scrolled": true
   },
   "outputs": [
    {
     "data": {
      "text/plain": [
       "count_NA\n",
       "1     597\n",
       "2     584\n",
       "3    2637\n",
       "Name: listing_id, dtype: int64"
      ]
     },
     "execution_count": 77,
     "metadata": {},
     "output_type": "execute_result"
    },
    {
     "name": "stdout",
     "output_type": "stream",
     "text": [
      "time: 0 ns (started: 2025-04-11 13:09:17 +01:00)\n"
     ]
    }
   ],
   "source": [
    "listings2.groupby(['count_NA'])['listing_id'].count()"
   ]
  },
  {
   "cell_type": "markdown",
   "id": "929189b4",
   "metadata": {},
   "source": [
    "Doesn't seem to be a pattern with the number of missing/non-missing info"
   ]
  },
  {
   "cell_type": "code",
   "execution_count": 86,
   "id": "c781c3d0",
   "metadata": {},
   "outputs": [
    {
     "data": {
      "text/plain": [
       "count_NA  space_NA\n",
       "1         0           131.020785\n",
       "          1           139.565242\n",
       "2         0           125.443594\n",
       "          1           144.827233\n",
       "3         1           134.621072\n",
       "Name: price_avg, dtype: float64"
      ]
     },
     "execution_count": 86,
     "metadata": {},
     "output_type": "execute_result"
    },
    {
     "name": "stdout",
     "output_type": "stream",
     "text": [
      "time: 16 ms (started: 2025-04-11 13:14:11 +01:00)\n"
     ]
    }
   ],
   "source": [
    "listings2.groupby(['count_NA', 'space_NA'])['price_avg'].mean()"
   ]
  },
  {
   "cell_type": "code",
   "execution_count": 85,
   "id": "9bf165f1",
   "metadata": {},
   "outputs": [
    {
     "data": {
      "text/plain": [
       "count_NA  space_NA\n",
       "1         0            464\n",
       "          1            133\n",
       "2         0            105\n",
       "          1            479\n",
       "3         1           2637\n",
       "Name: listing_id, dtype: int64"
      ]
     },
     "execution_count": 85,
     "metadata": {},
     "output_type": "execute_result"
    },
    {
     "name": "stdout",
     "output_type": "stream",
     "text": [
      "time: 15 ms (started: 2025-04-11 13:13:46 +01:00)\n"
     ]
    }
   ],
   "source": [
    "listings2.groupby(['count_NA', 'space_NA'])['listing_id'].count()"
   ]
  },
  {
   "cell_type": "markdown",
   "id": "0316ffe2",
   "metadata": {},
   "source": [
    "'Space' description seems to have an impact"
   ]
  },
  {
   "cell_type": "code",
   "execution_count": 11,
   "id": "0bb15b38",
   "metadata": {},
   "outputs": [
    {
     "name": "stdout",
     "output_type": "stream",
     "text": [
      "time: 187 ms (started: 2025-04-21 10:25:14 +01:00)\n"
     ]
    }
   ],
   "source": [
    "# what about listing completeness as a whole?\n",
    "\n",
    "# create NA flags then counting how many missings there are in total\n",
    "# loop through all the columns in the listings df\n",
    "\n",
    "col_list = list(listings)\n",
    "listings_NA = pd.DataFrame(data = listings['listing_id'])\n",
    "\n",
    "for col in col_list:\n",
    "    listings_NA[col+'_NA'] = np.where(listings[col].isna(), 0, 1)\n",
    "\n"
   ]
  },
  {
   "cell_type": "code",
   "execution_count": 12,
   "id": "bb99cfbb",
   "metadata": {},
   "outputs": [
    {
     "data": {
      "text/html": [
       "<div>\n",
       "<style scoped>\n",
       "    .dataframe tbody tr th:only-of-type {\n",
       "        vertical-align: middle;\n",
       "    }\n",
       "\n",
       "    .dataframe tbody tr th {\n",
       "        vertical-align: top;\n",
       "    }\n",
       "\n",
       "    .dataframe thead th {\n",
       "        text-align: right;\n",
       "    }\n",
       "</style>\n",
       "<table border=\"1\" class=\"dataframe\">\n",
       "  <thead>\n",
       "    <tr style=\"text-align: right;\">\n",
       "      <th></th>\n",
       "      <th>listing_id</th>\n",
       "      <th>listing_id_NA</th>\n",
       "      <th>listing_url_NA</th>\n",
       "      <th>scrape_id_NA</th>\n",
       "      <th>last_scraped_NA</th>\n",
       "      <th>name_NA</th>\n",
       "      <th>summary_NA</th>\n",
       "      <th>space_NA</th>\n",
       "      <th>description_NA</th>\n",
       "      <th>experiences_offered_NA</th>\n",
       "      <th>...</th>\n",
       "      <th>requires_license_NA</th>\n",
       "      <th>license_NA</th>\n",
       "      <th>jurisdiction_names_NA</th>\n",
       "      <th>instant_bookable_NA</th>\n",
       "      <th>cancellation_policy_NA</th>\n",
       "      <th>require_guest_profile_picture_NA</th>\n",
       "      <th>require_guest_phone_verification_NA</th>\n",
       "      <th>calculated_host_listings_count_NA</th>\n",
       "      <th>reviews_per_month_NA</th>\n",
       "      <th>count_NA</th>\n",
       "    </tr>\n",
       "  </thead>\n",
       "  <tbody>\n",
       "    <tr>\n",
       "      <th>0</th>\n",
       "      <td>241032</td>\n",
       "      <td>1</td>\n",
       "      <td>1</td>\n",
       "      <td>1</td>\n",
       "      <td>1</td>\n",
       "      <td>1</td>\n",
       "      <td>0</td>\n",
       "      <td>1</td>\n",
       "      <td>1</td>\n",
       "      <td>1</td>\n",
       "      <td>...</td>\n",
       "      <td>1</td>\n",
       "      <td>0</td>\n",
       "      <td>1</td>\n",
       "      <td>1</td>\n",
       "      <td>1</td>\n",
       "      <td>1</td>\n",
       "      <td>1</td>\n",
       "      <td>1</td>\n",
       "      <td>1</td>\n",
       "      <td>79</td>\n",
       "    </tr>\n",
       "    <tr>\n",
       "      <th>1</th>\n",
       "      <td>953595</td>\n",
       "      <td>1</td>\n",
       "      <td>1</td>\n",
       "      <td>1</td>\n",
       "      <td>1</td>\n",
       "      <td>1</td>\n",
       "      <td>1</td>\n",
       "      <td>1</td>\n",
       "      <td>1</td>\n",
       "      <td>1</td>\n",
       "      <td>...</td>\n",
       "      <td>1</td>\n",
       "      <td>0</td>\n",
       "      <td>1</td>\n",
       "      <td>1</td>\n",
       "      <td>1</td>\n",
       "      <td>1</td>\n",
       "      <td>1</td>\n",
       "      <td>1</td>\n",
       "      <td>1</td>\n",
       "      <td>90</td>\n",
       "    </tr>\n",
       "    <tr>\n",
       "      <th>2</th>\n",
       "      <td>3308979</td>\n",
       "      <td>1</td>\n",
       "      <td>1</td>\n",
       "      <td>1</td>\n",
       "      <td>1</td>\n",
       "      <td>1</td>\n",
       "      <td>1</td>\n",
       "      <td>1</td>\n",
       "      <td>1</td>\n",
       "      <td>1</td>\n",
       "      <td>...</td>\n",
       "      <td>1</td>\n",
       "      <td>0</td>\n",
       "      <td>1</td>\n",
       "      <td>1</td>\n",
       "      <td>1</td>\n",
       "      <td>1</td>\n",
       "      <td>1</td>\n",
       "      <td>1</td>\n",
       "      <td>1</td>\n",
       "      <td>85</td>\n",
       "    </tr>\n",
       "    <tr>\n",
       "      <th>3</th>\n",
       "      <td>7421966</td>\n",
       "      <td>1</td>\n",
       "      <td>1</td>\n",
       "      <td>1</td>\n",
       "      <td>1</td>\n",
       "      <td>1</td>\n",
       "      <td>1</td>\n",
       "      <td>0</td>\n",
       "      <td>1</td>\n",
       "      <td>1</td>\n",
       "      <td>...</td>\n",
       "      <td>1</td>\n",
       "      <td>0</td>\n",
       "      <td>1</td>\n",
       "      <td>1</td>\n",
       "      <td>1</td>\n",
       "      <td>1</td>\n",
       "      <td>1</td>\n",
       "      <td>1</td>\n",
       "      <td>0</td>\n",
       "      <td>67</td>\n",
       "    </tr>\n",
       "    <tr>\n",
       "      <th>4</th>\n",
       "      <td>278830</td>\n",
       "      <td>1</td>\n",
       "      <td>1</td>\n",
       "      <td>1</td>\n",
       "      <td>1</td>\n",
       "      <td>1</td>\n",
       "      <td>1</td>\n",
       "      <td>1</td>\n",
       "      <td>1</td>\n",
       "      <td>1</td>\n",
       "      <td>...</td>\n",
       "      <td>1</td>\n",
       "      <td>0</td>\n",
       "      <td>1</td>\n",
       "      <td>1</td>\n",
       "      <td>1</td>\n",
       "      <td>1</td>\n",
       "      <td>1</td>\n",
       "      <td>1</td>\n",
       "      <td>1</td>\n",
       "      <td>84</td>\n",
       "    </tr>\n",
       "  </tbody>\n",
       "</table>\n",
       "<p>5 rows × 94 columns</p>\n",
       "</div>"
      ],
      "text/plain": [
       "   listing_id  listing_id_NA  listing_url_NA  scrape_id_NA  last_scraped_NA  \\\n",
       "0      241032              1               1             1                1   \n",
       "1      953595              1               1             1                1   \n",
       "2     3308979              1               1             1                1   \n",
       "3     7421966              1               1             1                1   \n",
       "4      278830              1               1             1                1   \n",
       "\n",
       "   name_NA  summary_NA  space_NA  description_NA  experiences_offered_NA  ...  \\\n",
       "0        1           0         1               1                       1  ...   \n",
       "1        1           1         1               1                       1  ...   \n",
       "2        1           1         1               1                       1  ...   \n",
       "3        1           1         0               1                       1  ...   \n",
       "4        1           1         1               1                       1  ...   \n",
       "\n",
       "   requires_license_NA  license_NA  jurisdiction_names_NA  \\\n",
       "0                    1           0                      1   \n",
       "1                    1           0                      1   \n",
       "2                    1           0                      1   \n",
       "3                    1           0                      1   \n",
       "4                    1           0                      1   \n",
       "\n",
       "   instant_bookable_NA  cancellation_policy_NA  \\\n",
       "0                    1                       1   \n",
       "1                    1                       1   \n",
       "2                    1                       1   \n",
       "3                    1                       1   \n",
       "4                    1                       1   \n",
       "\n",
       "   require_guest_profile_picture_NA  require_guest_phone_verification_NA  \\\n",
       "0                                 1                                    1   \n",
       "1                                 1                                    1   \n",
       "2                                 1                                    1   \n",
       "3                                 1                                    1   \n",
       "4                                 1                                    1   \n",
       "\n",
       "   calculated_host_listings_count_NA  reviews_per_month_NA  count_NA  \n",
       "0                                  1                     1        79  \n",
       "1                                  1                     1        90  \n",
       "2                                  1                     1        85  \n",
       "3                                  1                     0        67  \n",
       "4                                  1                     1        84  \n",
       "\n",
       "[5 rows x 94 columns]"
      ]
     },
     "execution_count": 12,
     "metadata": {},
     "output_type": "execute_result"
    },
    {
     "name": "stdout",
     "output_type": "stream",
     "text": [
      "time: 62 ms (started: 2025-04-21 10:25:15 +01:00)\n"
     ]
    }
   ],
   "source": [
    "# count how many are NA\n",
    "col_list_NA = list(listings_NA)\n",
    "col_list_NA.remove('listing_id')\n",
    "\n",
    "listings_NA['count_NA'] = listings_NA[col_list_NA].sum(axis=1)\n",
    "listings_NA.head()"
   ]
  },
  {
   "cell_type": "code",
   "execution_count": 12,
   "id": "c4c98165",
   "metadata": {
    "scrolled": true
   },
   "outputs": [
    {
     "data": {
      "text/html": [
       "<div>\n",
       "<style scoped>\n",
       "    .dataframe tbody tr th:only-of-type {\n",
       "        vertical-align: middle;\n",
       "    }\n",
       "\n",
       "    .dataframe tbody tr th {\n",
       "        vertical-align: top;\n",
       "    }\n",
       "\n",
       "    .dataframe thead th {\n",
       "        text-align: right;\n",
       "    }\n",
       "</style>\n",
       "<table border=\"1\" class=\"dataframe\">\n",
       "  <thead>\n",
       "    <tr style=\"text-align: right;\">\n",
       "      <th></th>\n",
       "      <th>listing_id</th>\n",
       "      <th>listing_url</th>\n",
       "      <th>scrape_id</th>\n",
       "      <th>last_scraped</th>\n",
       "      <th>name</th>\n",
       "      <th>summary</th>\n",
       "      <th>space</th>\n",
       "      <th>description</th>\n",
       "      <th>experiences_offered</th>\n",
       "      <th>neighborhood_overview</th>\n",
       "      <th>...</th>\n",
       "      <th>requires_license</th>\n",
       "      <th>license</th>\n",
       "      <th>jurisdiction_names</th>\n",
       "      <th>instant_bookable</th>\n",
       "      <th>cancellation_policy</th>\n",
       "      <th>require_guest_profile_picture</th>\n",
       "      <th>require_guest_phone_verification</th>\n",
       "      <th>calculated_host_listings_count</th>\n",
       "      <th>reviews_per_month</th>\n",
       "      <th>price_avg</th>\n",
       "    </tr>\n",
       "  </thead>\n",
       "  <tbody>\n",
       "    <tr>\n",
       "      <th>0</th>\n",
       "      <td>241032</td>\n",
       "      <td>https://www.airbnb.com/rooms/241032</td>\n",
       "      <td>20160104002432</td>\n",
       "      <td>2016-01-04</td>\n",
       "      <td>Stylish Queen Anne Apartment</td>\n",
       "      <td>NaN</td>\n",
       "      <td>Make your self at home in this charming one-be...</td>\n",
       "      <td>Make your self at home in this charming one-be...</td>\n",
       "      <td>none</td>\n",
       "      <td>NaN</td>\n",
       "      <td>...</td>\n",
       "      <td>f</td>\n",
       "      <td>NaN</td>\n",
       "      <td>WASHINGTON</td>\n",
       "      <td>f</td>\n",
       "      <td>moderate</td>\n",
       "      <td>f</td>\n",
       "      <td>f</td>\n",
       "      <td>2</td>\n",
       "      <td>4.07</td>\n",
       "      <td>85.000000</td>\n",
       "    </tr>\n",
       "    <tr>\n",
       "      <th>1</th>\n",
       "      <td>953595</td>\n",
       "      <td>https://www.airbnb.com/rooms/953595</td>\n",
       "      <td>20160104002432</td>\n",
       "      <td>2016-01-04</td>\n",
       "      <td>Bright &amp; Airy Queen Anne Apartment</td>\n",
       "      <td>Chemically sensitive? We've removed the irrita...</td>\n",
       "      <td>Beautiful, hypoallergenic apartment in an extr...</td>\n",
       "      <td>Chemically sensitive? We've removed the irrita...</td>\n",
       "      <td>none</td>\n",
       "      <td>Queen Anne is a wonderful, truly functional vi...</td>\n",
       "      <td>...</td>\n",
       "      <td>f</td>\n",
       "      <td>NaN</td>\n",
       "      <td>WASHINGTON</td>\n",
       "      <td>f</td>\n",
       "      <td>strict</td>\n",
       "      <td>t</td>\n",
       "      <td>t</td>\n",
       "      <td>6</td>\n",
       "      <td>1.48</td>\n",
       "      <td>170.931271</td>\n",
       "    </tr>\n",
       "    <tr>\n",
       "      <th>2</th>\n",
       "      <td>3308979</td>\n",
       "      <td>https://www.airbnb.com/rooms/3308979</td>\n",
       "      <td>20160104002432</td>\n",
       "      <td>2016-01-04</td>\n",
       "      <td>New Modern House-Amazing water view</td>\n",
       "      <td>New modern house built in 2013.  Spectacular s...</td>\n",
       "      <td>Our house is modern, light and fresh with a wa...</td>\n",
       "      <td>New modern house built in 2013.  Spectacular s...</td>\n",
       "      <td>none</td>\n",
       "      <td>Upper Queen Anne is a charming neighborhood fu...</td>\n",
       "      <td>...</td>\n",
       "      <td>f</td>\n",
       "      <td>NaN</td>\n",
       "      <td>WASHINGTON</td>\n",
       "      <td>f</td>\n",
       "      <td>strict</td>\n",
       "      <td>f</td>\n",
       "      <td>f</td>\n",
       "      <td>2</td>\n",
       "      <td>1.15</td>\n",
       "      <td>894.186047</td>\n",
       "    </tr>\n",
       "    <tr>\n",
       "      <th>3</th>\n",
       "      <td>7421966</td>\n",
       "      <td>https://www.airbnb.com/rooms/7421966</td>\n",
       "      <td>20160104002432</td>\n",
       "      <td>2016-01-04</td>\n",
       "      <td>Queen Anne Chateau</td>\n",
       "      <td>A charming apartment that sits atop Queen Anne...</td>\n",
       "      <td>NaN</td>\n",
       "      <td>A charming apartment that sits atop Queen Anne...</td>\n",
       "      <td>none</td>\n",
       "      <td>NaN</td>\n",
       "      <td>...</td>\n",
       "      <td>f</td>\n",
       "      <td>NaN</td>\n",
       "      <td>WASHINGTON</td>\n",
       "      <td>f</td>\n",
       "      <td>flexible</td>\n",
       "      <td>f</td>\n",
       "      <td>f</td>\n",
       "      <td>1</td>\n",
       "      <td>NaN</td>\n",
       "      <td>100.000000</td>\n",
       "    </tr>\n",
       "    <tr>\n",
       "      <th>4</th>\n",
       "      <td>278830</td>\n",
       "      <td>https://www.airbnb.com/rooms/278830</td>\n",
       "      <td>20160104002432</td>\n",
       "      <td>2016-01-04</td>\n",
       "      <td>Charming craftsman 3 bdm house</td>\n",
       "      <td>Cozy family craftman house in beautiful neighb...</td>\n",
       "      <td>Cozy family craftman house in beautiful neighb...</td>\n",
       "      <td>Cozy family craftman house in beautiful neighb...</td>\n",
       "      <td>none</td>\n",
       "      <td>We are in the beautiful neighborhood of Queen ...</td>\n",
       "      <td>...</td>\n",
       "      <td>f</td>\n",
       "      <td>NaN</td>\n",
       "      <td>WASHINGTON</td>\n",
       "      <td>f</td>\n",
       "      <td>strict</td>\n",
       "      <td>f</td>\n",
       "      <td>f</td>\n",
       "      <td>1</td>\n",
       "      <td>0.89</td>\n",
       "      <td>462.739726</td>\n",
       "    </tr>\n",
       "  </tbody>\n",
       "</table>\n",
       "<p>5 rows × 93 columns</p>\n",
       "</div>"
      ],
      "text/plain": [
       "   listing_id                           listing_url       scrape_id  \\\n",
       "0      241032   https://www.airbnb.com/rooms/241032  20160104002432   \n",
       "1      953595   https://www.airbnb.com/rooms/953595  20160104002432   \n",
       "2     3308979  https://www.airbnb.com/rooms/3308979  20160104002432   \n",
       "3     7421966  https://www.airbnb.com/rooms/7421966  20160104002432   \n",
       "4      278830   https://www.airbnb.com/rooms/278830  20160104002432   \n",
       "\n",
       "  last_scraped                                 name  \\\n",
       "0   2016-01-04         Stylish Queen Anne Apartment   \n",
       "1   2016-01-04   Bright & Airy Queen Anne Apartment   \n",
       "2   2016-01-04  New Modern House-Amazing water view   \n",
       "3   2016-01-04                   Queen Anne Chateau   \n",
       "4   2016-01-04       Charming craftsman 3 bdm house   \n",
       "\n",
       "                                             summary  \\\n",
       "0                                                NaN   \n",
       "1  Chemically sensitive? We've removed the irrita...   \n",
       "2  New modern house built in 2013.  Spectacular s...   \n",
       "3  A charming apartment that sits atop Queen Anne...   \n",
       "4  Cozy family craftman house in beautiful neighb...   \n",
       "\n",
       "                                               space  \\\n",
       "0  Make your self at home in this charming one-be...   \n",
       "1  Beautiful, hypoallergenic apartment in an extr...   \n",
       "2  Our house is modern, light and fresh with a wa...   \n",
       "3                                                NaN   \n",
       "4  Cozy family craftman house in beautiful neighb...   \n",
       "\n",
       "                                         description experiences_offered  \\\n",
       "0  Make your self at home in this charming one-be...                none   \n",
       "1  Chemically sensitive? We've removed the irrita...                none   \n",
       "2  New modern house built in 2013.  Spectacular s...                none   \n",
       "3  A charming apartment that sits atop Queen Anne...                none   \n",
       "4  Cozy family craftman house in beautiful neighb...                none   \n",
       "\n",
       "                               neighborhood_overview  ... requires_license  \\\n",
       "0                                                NaN  ...                f   \n",
       "1  Queen Anne is a wonderful, truly functional vi...  ...                f   \n",
       "2  Upper Queen Anne is a charming neighborhood fu...  ...                f   \n",
       "3                                                NaN  ...                f   \n",
       "4  We are in the beautiful neighborhood of Queen ...  ...                f   \n",
       "\n",
       "  license jurisdiction_names instant_bookable cancellation_policy  \\\n",
       "0     NaN         WASHINGTON                f            moderate   \n",
       "1     NaN         WASHINGTON                f              strict   \n",
       "2     NaN         WASHINGTON                f              strict   \n",
       "3     NaN         WASHINGTON                f            flexible   \n",
       "4     NaN         WASHINGTON                f              strict   \n",
       "\n",
       "  require_guest_profile_picture  require_guest_phone_verification  \\\n",
       "0                             f                                 f   \n",
       "1                             t                                 t   \n",
       "2                             f                                 f   \n",
       "3                             f                                 f   \n",
       "4                             f                                 f   \n",
       "\n",
       "  calculated_host_listings_count reviews_per_month   price_avg  \n",
       "0                              2              4.07   85.000000  \n",
       "1                              6              1.48  170.931271  \n",
       "2                              2              1.15  894.186047  \n",
       "3                              1               NaN  100.000000  \n",
       "4                              1              0.89  462.739726  \n",
       "\n",
       "[5 rows x 93 columns]"
      ]
     },
     "execution_count": 12,
     "metadata": {},
     "output_type": "execute_result"
    },
    {
     "name": "stdout",
     "output_type": "stream",
     "text": [
      "time: 62 ms (started: 2025-04-13 09:51:46 +01:00)\n"
     ]
    }
   ],
   "source": [
    "listings2.head()"
   ]
  },
  {
   "cell_type": "code",
   "execution_count": 131,
   "id": "bbc4d50d",
   "metadata": {
    "scrolled": true
   },
   "outputs": [
    {
     "data": {
      "text/plain": [
       "3818"
      ]
     },
     "execution_count": 131,
     "metadata": {},
     "output_type": "execute_result"
    },
    {
     "name": "stdout",
     "output_type": "stream",
     "text": [
      "time: 0 ns (started: 2025-04-11 14:02:13 +01:00)\n"
     ]
    }
   ],
   "source": [
    "listings2.shape[0]"
   ]
  },
  {
   "cell_type": "code",
   "execution_count": 134,
   "id": "a88f19a7",
   "metadata": {},
   "outputs": [
    {
     "data": {
      "text/plain": [
       "0       False\n",
       "1       False\n",
       "2       False\n",
       "3       False\n",
       "4       False\n",
       "        ...  \n",
       "3813    False\n",
       "3814    False\n",
       "3815    False\n",
       "3816    False\n",
       "3817    False\n",
       "Name: price_avg, Length: 3818, dtype: bool"
      ]
     },
     "execution_count": 134,
     "metadata": {},
     "output_type": "execute_result"
    },
    {
     "name": "stdout",
     "output_type": "stream",
     "text": [
      "time: 16 ms (started: 2025-04-11 14:03:14 +01:00)\n"
     ]
    }
   ],
   "source": [
    "# are any of these missing price_avg?\n",
    "listings2['price_avg'].isna()"
   ]
  },
  {
   "cell_type": "code",
   "execution_count": 12,
   "id": "adcfcb38",
   "metadata": {},
   "outputs": [
    {
     "data": {
      "text/plain": [
       "3818"
      ]
     },
     "execution_count": 12,
     "metadata": {},
     "output_type": "execute_result"
    },
    {
     "name": "stdout",
     "output_type": "stream",
     "text": [
      "time: 0 ns (started: 2025-04-13 10:26:18 +01:00)\n"
     ]
    }
   ],
   "source": [
    "listings_NA.shape[0]"
   ]
  },
  {
   "cell_type": "code",
   "execution_count": 13,
   "id": "b235c7a2",
   "metadata": {},
   "outputs": [
    {
     "data": {
      "text/html": [
       "<div>\n",
       "<style scoped>\n",
       "    .dataframe tbody tr th:only-of-type {\n",
       "        vertical-align: middle;\n",
       "    }\n",
       "\n",
       "    .dataframe tbody tr th {\n",
       "        vertical-align: top;\n",
       "    }\n",
       "\n",
       "    .dataframe thead th {\n",
       "        text-align: right;\n",
       "    }\n",
       "</style>\n",
       "<table border=\"1\" class=\"dataframe\">\n",
       "  <thead>\n",
       "    <tr style=\"text-align: right;\">\n",
       "      <th></th>\n",
       "      <th>listing_id</th>\n",
       "      <th>listing_url</th>\n",
       "      <th>scrape_id</th>\n",
       "      <th>last_scraped</th>\n",
       "      <th>name</th>\n",
       "      <th>summary</th>\n",
       "      <th>space</th>\n",
       "      <th>description</th>\n",
       "      <th>experiences_offered</th>\n",
       "      <th>neighborhood_overview</th>\n",
       "      <th>...</th>\n",
       "      <th>requires_license_NA</th>\n",
       "      <th>license_NA</th>\n",
       "      <th>jurisdiction_names_NA</th>\n",
       "      <th>instant_bookable_NA</th>\n",
       "      <th>cancellation_policy_NA</th>\n",
       "      <th>require_guest_profile_picture_NA</th>\n",
       "      <th>require_guest_phone_verification_NA</th>\n",
       "      <th>calculated_host_listings_count_NA</th>\n",
       "      <th>reviews_per_month_NA</th>\n",
       "      <th>count_NA</th>\n",
       "    </tr>\n",
       "  </thead>\n",
       "  <tbody>\n",
       "    <tr>\n",
       "      <th>0</th>\n",
       "      <td>241032</td>\n",
       "      <td>https://www.airbnb.com/rooms/241032</td>\n",
       "      <td>20160104002432</td>\n",
       "      <td>2016-01-04</td>\n",
       "      <td>Stylish Queen Anne Apartment</td>\n",
       "      <td>NaN</td>\n",
       "      <td>Make your self at home in this charming one-be...</td>\n",
       "      <td>Make your self at home in this charming one-be...</td>\n",
       "      <td>none</td>\n",
       "      <td>NaN</td>\n",
       "      <td>...</td>\n",
       "      <td>1</td>\n",
       "      <td>0</td>\n",
       "      <td>1</td>\n",
       "      <td>1</td>\n",
       "      <td>1</td>\n",
       "      <td>1</td>\n",
       "      <td>1</td>\n",
       "      <td>1</td>\n",
       "      <td>1</td>\n",
       "      <td>79</td>\n",
       "    </tr>\n",
       "    <tr>\n",
       "      <th>1</th>\n",
       "      <td>953595</td>\n",
       "      <td>https://www.airbnb.com/rooms/953595</td>\n",
       "      <td>20160104002432</td>\n",
       "      <td>2016-01-04</td>\n",
       "      <td>Bright &amp; Airy Queen Anne Apartment</td>\n",
       "      <td>Chemically sensitive? We've removed the irrita...</td>\n",
       "      <td>Beautiful, hypoallergenic apartment in an extr...</td>\n",
       "      <td>Chemically sensitive? We've removed the irrita...</td>\n",
       "      <td>none</td>\n",
       "      <td>Queen Anne is a wonderful, truly functional vi...</td>\n",
       "      <td>...</td>\n",
       "      <td>1</td>\n",
       "      <td>0</td>\n",
       "      <td>1</td>\n",
       "      <td>1</td>\n",
       "      <td>1</td>\n",
       "      <td>1</td>\n",
       "      <td>1</td>\n",
       "      <td>1</td>\n",
       "      <td>1</td>\n",
       "      <td>90</td>\n",
       "    </tr>\n",
       "    <tr>\n",
       "      <th>2</th>\n",
       "      <td>3308979</td>\n",
       "      <td>https://www.airbnb.com/rooms/3308979</td>\n",
       "      <td>20160104002432</td>\n",
       "      <td>2016-01-04</td>\n",
       "      <td>New Modern House-Amazing water view</td>\n",
       "      <td>New modern house built in 2013.  Spectacular s...</td>\n",
       "      <td>Our house is modern, light and fresh with a wa...</td>\n",
       "      <td>New modern house built in 2013.  Spectacular s...</td>\n",
       "      <td>none</td>\n",
       "      <td>Upper Queen Anne is a charming neighborhood fu...</td>\n",
       "      <td>...</td>\n",
       "      <td>1</td>\n",
       "      <td>0</td>\n",
       "      <td>1</td>\n",
       "      <td>1</td>\n",
       "      <td>1</td>\n",
       "      <td>1</td>\n",
       "      <td>1</td>\n",
       "      <td>1</td>\n",
       "      <td>1</td>\n",
       "      <td>85</td>\n",
       "    </tr>\n",
       "    <tr>\n",
       "      <th>3</th>\n",
       "      <td>7421966</td>\n",
       "      <td>https://www.airbnb.com/rooms/7421966</td>\n",
       "      <td>20160104002432</td>\n",
       "      <td>2016-01-04</td>\n",
       "      <td>Queen Anne Chateau</td>\n",
       "      <td>A charming apartment that sits atop Queen Anne...</td>\n",
       "      <td>NaN</td>\n",
       "      <td>A charming apartment that sits atop Queen Anne...</td>\n",
       "      <td>none</td>\n",
       "      <td>NaN</td>\n",
       "      <td>...</td>\n",
       "      <td>1</td>\n",
       "      <td>0</td>\n",
       "      <td>1</td>\n",
       "      <td>1</td>\n",
       "      <td>1</td>\n",
       "      <td>1</td>\n",
       "      <td>1</td>\n",
       "      <td>1</td>\n",
       "      <td>0</td>\n",
       "      <td>67</td>\n",
       "    </tr>\n",
       "    <tr>\n",
       "      <th>4</th>\n",
       "      <td>278830</td>\n",
       "      <td>https://www.airbnb.com/rooms/278830</td>\n",
       "      <td>20160104002432</td>\n",
       "      <td>2016-01-04</td>\n",
       "      <td>Charming craftsman 3 bdm house</td>\n",
       "      <td>Cozy family craftman house in beautiful neighb...</td>\n",
       "      <td>Cozy family craftman house in beautiful neighb...</td>\n",
       "      <td>Cozy family craftman house in beautiful neighb...</td>\n",
       "      <td>none</td>\n",
       "      <td>We are in the beautiful neighborhood of Queen ...</td>\n",
       "      <td>...</td>\n",
       "      <td>1</td>\n",
       "      <td>0</td>\n",
       "      <td>1</td>\n",
       "      <td>1</td>\n",
       "      <td>1</td>\n",
       "      <td>1</td>\n",
       "      <td>1</td>\n",
       "      <td>1</td>\n",
       "      <td>1</td>\n",
       "      <td>84</td>\n",
       "    </tr>\n",
       "  </tbody>\n",
       "</table>\n",
       "<p>5 rows × 186 columns</p>\n",
       "</div>"
      ],
      "text/plain": [
       "   listing_id                           listing_url       scrape_id  \\\n",
       "0      241032   https://www.airbnb.com/rooms/241032  20160104002432   \n",
       "1      953595   https://www.airbnb.com/rooms/953595  20160104002432   \n",
       "2     3308979  https://www.airbnb.com/rooms/3308979  20160104002432   \n",
       "3     7421966  https://www.airbnb.com/rooms/7421966  20160104002432   \n",
       "4      278830   https://www.airbnb.com/rooms/278830  20160104002432   \n",
       "\n",
       "  last_scraped                                 name  \\\n",
       "0   2016-01-04         Stylish Queen Anne Apartment   \n",
       "1   2016-01-04   Bright & Airy Queen Anne Apartment   \n",
       "2   2016-01-04  New Modern House-Amazing water view   \n",
       "3   2016-01-04                   Queen Anne Chateau   \n",
       "4   2016-01-04       Charming craftsman 3 bdm house   \n",
       "\n",
       "                                             summary  \\\n",
       "0                                                NaN   \n",
       "1  Chemically sensitive? We've removed the irrita...   \n",
       "2  New modern house built in 2013.  Spectacular s...   \n",
       "3  A charming apartment that sits atop Queen Anne...   \n",
       "4  Cozy family craftman house in beautiful neighb...   \n",
       "\n",
       "                                               space  \\\n",
       "0  Make your self at home in this charming one-be...   \n",
       "1  Beautiful, hypoallergenic apartment in an extr...   \n",
       "2  Our house is modern, light and fresh with a wa...   \n",
       "3                                                NaN   \n",
       "4  Cozy family craftman house in beautiful neighb...   \n",
       "\n",
       "                                         description experiences_offered  \\\n",
       "0  Make your self at home in this charming one-be...                none   \n",
       "1  Chemically sensitive? We've removed the irrita...                none   \n",
       "2  New modern house built in 2013.  Spectacular s...                none   \n",
       "3  A charming apartment that sits atop Queen Anne...                none   \n",
       "4  Cozy family craftman house in beautiful neighb...                none   \n",
       "\n",
       "                               neighborhood_overview  ... requires_license_NA  \\\n",
       "0                                                NaN  ...                   1   \n",
       "1  Queen Anne is a wonderful, truly functional vi...  ...                   1   \n",
       "2  Upper Queen Anne is a charming neighborhood fu...  ...                   1   \n",
       "3                                                NaN  ...                   1   \n",
       "4  We are in the beautiful neighborhood of Queen ...  ...                   1   \n",
       "\n",
       "  license_NA jurisdiction_names_NA instant_bookable_NA cancellation_policy_NA  \\\n",
       "0          0                     1                   1                      1   \n",
       "1          0                     1                   1                      1   \n",
       "2          0                     1                   1                      1   \n",
       "3          0                     1                   1                      1   \n",
       "4          0                     1                   1                      1   \n",
       "\n",
       "  require_guest_profile_picture_NA  require_guest_phone_verification_NA  \\\n",
       "0                                1                                    1   \n",
       "1                                1                                    1   \n",
       "2                                1                                    1   \n",
       "3                                1                                    1   \n",
       "4                                1                                    1   \n",
       "\n",
       "  calculated_host_listings_count_NA reviews_per_month_NA count_NA  \n",
       "0                                 1                    1       79  \n",
       "1                                 1                    1       90  \n",
       "2                                 1                    1       85  \n",
       "3                                 1                    0       67  \n",
       "4                                 1                    1       84  \n",
       "\n",
       "[5 rows x 186 columns]"
      ]
     },
     "execution_count": 13,
     "metadata": {},
     "output_type": "execute_result"
    },
    {
     "name": "stdout",
     "output_type": "stream",
     "text": [
      "time: 63 ms (started: 2025-04-21 10:25:22 +01:00)\n"
     ]
    }
   ],
   "source": [
    "# how does this relate to prices?\n",
    "\n",
    "# join prices data onto listings_NA\n",
    "listings3 = pd.merge(listings2, listings_NA, on='listing_id', how='left')\n",
    "listings3.head()\n"
   ]
  },
  {
   "cell_type": "code",
   "execution_count": 15,
   "id": "28fe02bf",
   "metadata": {},
   "outputs": [
    {
     "data": {
      "text/plain": [
       "['listing_id',\n",
       " 'listing_url',\n",
       " 'scrape_id',\n",
       " 'last_scraped',\n",
       " 'name',\n",
       " 'summary',\n",
       " 'space',\n",
       " 'description',\n",
       " 'experiences_offered',\n",
       " 'neighborhood_overview',\n",
       " 'notes',\n",
       " 'transit',\n",
       " 'thumbnail_url',\n",
       " 'medium_url',\n",
       " 'picture_url',\n",
       " 'xl_picture_url',\n",
       " 'host_id',\n",
       " 'host_url',\n",
       " 'host_name',\n",
       " 'host_since',\n",
       " 'host_location',\n",
       " 'host_about',\n",
       " 'host_response_time',\n",
       " 'host_response_rate',\n",
       " 'host_acceptance_rate',\n",
       " 'host_is_superhost',\n",
       " 'host_thumbnail_url',\n",
       " 'host_picture_url',\n",
       " 'host_neighbourhood',\n",
       " 'host_listings_count',\n",
       " 'host_total_listings_count',\n",
       " 'host_verifications',\n",
       " 'host_has_profile_pic',\n",
       " 'host_identity_verified',\n",
       " 'street',\n",
       " 'neighbourhood',\n",
       " 'neighbourhood_cleansed',\n",
       " 'neighbourhood_group_cleansed',\n",
       " 'city',\n",
       " 'state',\n",
       " 'zipcode',\n",
       " 'market',\n",
       " 'smart_location',\n",
       " 'country_code',\n",
       " 'country',\n",
       " 'latitude',\n",
       " 'longitude',\n",
       " 'is_location_exact',\n",
       " 'property_type',\n",
       " 'room_type',\n",
       " 'accommodates',\n",
       " 'bathrooms',\n",
       " 'bedrooms',\n",
       " 'beds',\n",
       " 'bed_type',\n",
       " 'amenities',\n",
       " 'square_feet',\n",
       " 'price',\n",
       " 'weekly_price',\n",
       " 'monthly_price',\n",
       " 'security_deposit',\n",
       " 'cleaning_fee',\n",
       " 'guests_included',\n",
       " 'extra_people',\n",
       " 'minimum_nights',\n",
       " 'maximum_nights',\n",
       " 'calendar_updated',\n",
       " 'has_availability',\n",
       " 'availability_30',\n",
       " 'availability_60',\n",
       " 'availability_90',\n",
       " 'availability_365',\n",
       " 'calendar_last_scraped',\n",
       " 'number_of_reviews',\n",
       " 'first_review',\n",
       " 'last_review',\n",
       " 'review_scores_rating',\n",
       " 'review_scores_accuracy',\n",
       " 'review_scores_cleanliness',\n",
       " 'review_scores_checkin',\n",
       " 'review_scores_communication',\n",
       " 'review_scores_location',\n",
       " 'review_scores_value',\n",
       " 'requires_license',\n",
       " 'license',\n",
       " 'jurisdiction_names',\n",
       " 'instant_bookable',\n",
       " 'cancellation_policy',\n",
       " 'require_guest_profile_picture',\n",
       " 'require_guest_phone_verification',\n",
       " 'calculated_host_listings_count',\n",
       " 'reviews_per_month',\n",
       " 'price_avg',\n",
       " 'listing_id_NA',\n",
       " 'listing_url_NA',\n",
       " 'scrape_id_NA',\n",
       " 'last_scraped_NA',\n",
       " 'name_NA',\n",
       " 'summary_NA',\n",
       " 'space_NA',\n",
       " 'description_NA',\n",
       " 'experiences_offered_NA',\n",
       " 'neighborhood_overview_NA',\n",
       " 'notes_NA',\n",
       " 'transit_NA',\n",
       " 'thumbnail_url_NA',\n",
       " 'medium_url_NA',\n",
       " 'picture_url_NA',\n",
       " 'xl_picture_url_NA',\n",
       " 'host_id_NA',\n",
       " 'host_url_NA',\n",
       " 'host_name_NA',\n",
       " 'host_since_NA',\n",
       " 'host_location_NA',\n",
       " 'host_about_NA',\n",
       " 'host_response_time_NA',\n",
       " 'host_response_rate_NA',\n",
       " 'host_acceptance_rate_NA',\n",
       " 'host_is_superhost_NA',\n",
       " 'host_thumbnail_url_NA',\n",
       " 'host_picture_url_NA',\n",
       " 'host_neighbourhood_NA',\n",
       " 'host_listings_count_NA',\n",
       " 'host_total_listings_count_NA',\n",
       " 'host_verifications_NA',\n",
       " 'host_has_profile_pic_NA',\n",
       " 'host_identity_verified_NA',\n",
       " 'street_NA',\n",
       " 'neighbourhood_NA',\n",
       " 'neighbourhood_cleansed_NA',\n",
       " 'neighbourhood_group_cleansed_NA',\n",
       " 'city_NA',\n",
       " 'state_NA',\n",
       " 'zipcode_NA',\n",
       " 'market_NA',\n",
       " 'smart_location_NA',\n",
       " 'country_code_NA',\n",
       " 'country_NA',\n",
       " 'latitude_NA',\n",
       " 'longitude_NA',\n",
       " 'is_location_exact_NA',\n",
       " 'property_type_NA',\n",
       " 'room_type_NA',\n",
       " 'accommodates_NA',\n",
       " 'bathrooms_NA',\n",
       " 'bedrooms_NA',\n",
       " 'beds_NA',\n",
       " 'bed_type_NA',\n",
       " 'amenities_NA',\n",
       " 'square_feet_NA',\n",
       " 'price_NA',\n",
       " 'weekly_price_NA',\n",
       " 'monthly_price_NA',\n",
       " 'security_deposit_NA',\n",
       " 'cleaning_fee_NA',\n",
       " 'guests_included_NA',\n",
       " 'extra_people_NA',\n",
       " 'minimum_nights_NA',\n",
       " 'maximum_nights_NA',\n",
       " 'calendar_updated_NA',\n",
       " 'has_availability_NA',\n",
       " 'availability_30_NA',\n",
       " 'availability_60_NA',\n",
       " 'availability_90_NA',\n",
       " 'availability_365_NA',\n",
       " 'calendar_last_scraped_NA',\n",
       " 'number_of_reviews_NA',\n",
       " 'first_review_NA',\n",
       " 'last_review_NA',\n",
       " 'review_scores_rating_NA',\n",
       " 'review_scores_accuracy_NA',\n",
       " 'review_scores_cleanliness_NA',\n",
       " 'review_scores_checkin_NA',\n",
       " 'review_scores_communication_NA',\n",
       " 'review_scores_location_NA',\n",
       " 'review_scores_value_NA',\n",
       " 'requires_license_NA',\n",
       " 'license_NA',\n",
       " 'jurisdiction_names_NA',\n",
       " 'instant_bookable_NA',\n",
       " 'cancellation_policy_NA',\n",
       " 'require_guest_profile_picture_NA',\n",
       " 'require_guest_phone_verification_NA',\n",
       " 'calculated_host_listings_count_NA',\n",
       " 'reviews_per_month_NA',\n",
       " 'count_NA']"
      ]
     },
     "execution_count": 15,
     "metadata": {},
     "output_type": "execute_result"
    },
    {
     "name": "stdout",
     "output_type": "stream",
     "text": [
      "time: 16 ms (started: 2025-04-18 09:05:32 +01:00)\n"
     ]
    }
   ],
   "source": [
    "list(listings3)"
   ]
  },
  {
   "cell_type": "code",
   "execution_count": 14,
   "id": "00bad7f9",
   "metadata": {},
   "outputs": [
    {
     "data": {
      "text/html": [
       "<div>\n",
       "<style scoped>\n",
       "    .dataframe tbody tr th:only-of-type {\n",
       "        vertical-align: middle;\n",
       "    }\n",
       "\n",
       "    .dataframe tbody tr th {\n",
       "        vertical-align: top;\n",
       "    }\n",
       "\n",
       "    .dataframe thead th {\n",
       "        text-align: right;\n",
       "    }\n",
       "</style>\n",
       "<table border=\"1\" class=\"dataframe\">\n",
       "  <thead>\n",
       "    <tr style=\"text-align: right;\">\n",
       "      <th></th>\n",
       "      <th>count_NA</th>\n",
       "      <th>reviews_per_month</th>\n",
       "    </tr>\n",
       "  </thead>\n",
       "  <tbody>\n",
       "    <tr>\n",
       "      <th>0</th>\n",
       "      <td>59</td>\n",
       "      <td>NaN</td>\n",
       "    </tr>\n",
       "    <tr>\n",
       "      <th>1</th>\n",
       "      <td>63</td>\n",
       "      <td>NaN</td>\n",
       "    </tr>\n",
       "    <tr>\n",
       "      <th>2</th>\n",
       "      <td>65</td>\n",
       "      <td>NaN</td>\n",
       "    </tr>\n",
       "    <tr>\n",
       "      <th>3</th>\n",
       "      <td>66</td>\n",
       "      <td>NaN</td>\n",
       "    </tr>\n",
       "    <tr>\n",
       "      <th>4</th>\n",
       "      <td>67</td>\n",
       "      <td>NaN</td>\n",
       "    </tr>\n",
       "    <tr>\n",
       "      <th>5</th>\n",
       "      <td>68</td>\n",
       "      <td>0.100000</td>\n",
       "    </tr>\n",
       "    <tr>\n",
       "      <th>6</th>\n",
       "      <td>69</td>\n",
       "      <td>NaN</td>\n",
       "    </tr>\n",
       "    <tr>\n",
       "      <th>7</th>\n",
       "      <td>70</td>\n",
       "      <td>1.000000</td>\n",
       "    </tr>\n",
       "    <tr>\n",
       "      <th>8</th>\n",
       "      <td>71</td>\n",
       "      <td>NaN</td>\n",
       "    </tr>\n",
       "    <tr>\n",
       "      <th>9</th>\n",
       "      <td>72</td>\n",
       "      <td>0.040000</td>\n",
       "    </tr>\n",
       "    <tr>\n",
       "      <th>10</th>\n",
       "      <td>73</td>\n",
       "      <td>0.233333</td>\n",
       "    </tr>\n",
       "    <tr>\n",
       "      <th>11</th>\n",
       "      <td>74</td>\n",
       "      <td>0.150000</td>\n",
       "    </tr>\n",
       "    <tr>\n",
       "      <th>12</th>\n",
       "      <td>75</td>\n",
       "      <td>0.295000</td>\n",
       "    </tr>\n",
       "    <tr>\n",
       "      <th>13</th>\n",
       "      <td>76</td>\n",
       "      <td>0.420000</td>\n",
       "    </tr>\n",
       "    <tr>\n",
       "      <th>14</th>\n",
       "      <td>77</td>\n",
       "      <td>0.346000</td>\n",
       "    </tr>\n",
       "    <tr>\n",
       "      <th>15</th>\n",
       "      <td>78</td>\n",
       "      <td>0.530000</td>\n",
       "    </tr>\n",
       "    <tr>\n",
       "      <th>16</th>\n",
       "      <td>79</td>\n",
       "      <td>0.944286</td>\n",
       "    </tr>\n",
       "    <tr>\n",
       "      <th>17</th>\n",
       "      <td>80</td>\n",
       "      <td>1.026944</td>\n",
       "    </tr>\n",
       "    <tr>\n",
       "      <th>18</th>\n",
       "      <td>81</td>\n",
       "      <td>1.208312</td>\n",
       "    </tr>\n",
       "    <tr>\n",
       "      <th>19</th>\n",
       "      <td>82</td>\n",
       "      <td>1.405154</td>\n",
       "    </tr>\n",
       "    <tr>\n",
       "      <th>20</th>\n",
       "      <td>83</td>\n",
       "      <td>1.402202</td>\n",
       "    </tr>\n",
       "    <tr>\n",
       "      <th>21</th>\n",
       "      <td>84</td>\n",
       "      <td>1.625522</td>\n",
       "    </tr>\n",
       "    <tr>\n",
       "      <th>22</th>\n",
       "      <td>85</td>\n",
       "      <td>1.927885</td>\n",
       "    </tr>\n",
       "    <tr>\n",
       "      <th>23</th>\n",
       "      <td>86</td>\n",
       "      <td>2.056300</td>\n",
       "    </tr>\n",
       "    <tr>\n",
       "      <th>24</th>\n",
       "      <td>87</td>\n",
       "      <td>2.458830</td>\n",
       "    </tr>\n",
       "    <tr>\n",
       "      <th>25</th>\n",
       "      <td>88</td>\n",
       "      <td>2.620129</td>\n",
       "    </tr>\n",
       "    <tr>\n",
       "      <th>26</th>\n",
       "      <td>89</td>\n",
       "      <td>2.350594</td>\n",
       "    </tr>\n",
       "    <tr>\n",
       "      <th>27</th>\n",
       "      <td>90</td>\n",
       "      <td>2.058146</td>\n",
       "    </tr>\n",
       "    <tr>\n",
       "      <th>28</th>\n",
       "      <td>91</td>\n",
       "      <td>1.782500</td>\n",
       "    </tr>\n",
       "  </tbody>\n",
       "</table>\n",
       "</div>"
      ],
      "text/plain": [
       "    count_NA  reviews_per_month\n",
       "0         59                NaN\n",
       "1         63                NaN\n",
       "2         65                NaN\n",
       "3         66                NaN\n",
       "4         67                NaN\n",
       "5         68           0.100000\n",
       "6         69                NaN\n",
       "7         70           1.000000\n",
       "8         71                NaN\n",
       "9         72           0.040000\n",
       "10        73           0.233333\n",
       "11        74           0.150000\n",
       "12        75           0.295000\n",
       "13        76           0.420000\n",
       "14        77           0.346000\n",
       "15        78           0.530000\n",
       "16        79           0.944286\n",
       "17        80           1.026944\n",
       "18        81           1.208312\n",
       "19        82           1.405154\n",
       "20        83           1.402202\n",
       "21        84           1.625522\n",
       "22        85           1.927885\n",
       "23        86           2.056300\n",
       "24        87           2.458830\n",
       "25        88           2.620129\n",
       "26        89           2.350594\n",
       "27        90           2.058146\n",
       "28        91           1.782500"
      ]
     },
     "execution_count": 14,
     "metadata": {},
     "output_type": "execute_result"
    },
    {
     "name": "stdout",
     "output_type": "stream",
     "text": [
      "time: 16 ms (started: 2025-04-21 10:25:26 +01:00)\n"
     ]
    }
   ],
   "source": [
    "pd.DataFrame(listings3.groupby('count_NA', as_index = False)['reviews_per_month'].mean())"
   ]
  },
  {
   "cell_type": "code",
   "execution_count": 15,
   "id": "379aad4c",
   "metadata": {
    "scrolled": true
   },
   "outputs": [
    {
     "data": {
      "text/html": [
       "<div>\n",
       "<style scoped>\n",
       "    .dataframe tbody tr th:only-of-type {\n",
       "        vertical-align: middle;\n",
       "    }\n",
       "\n",
       "    .dataframe tbody tr th {\n",
       "        vertical-align: top;\n",
       "    }\n",
       "\n",
       "    .dataframe thead th {\n",
       "        text-align: right;\n",
       "    }\n",
       "</style>\n",
       "<table border=\"1\" class=\"dataframe\">\n",
       "  <thead>\n",
       "    <tr style=\"text-align: right;\">\n",
       "      <th></th>\n",
       "      <th>count_NA</th>\n",
       "      <th>price_avg</th>\n",
       "      <th>number_of_reviews</th>\n",
       "      <th>reviews_per_month</th>\n",
       "      <th>n</th>\n",
       "    </tr>\n",
       "  </thead>\n",
       "  <tbody>\n",
       "    <tr>\n",
       "      <th>0</th>\n",
       "      <td>59</td>\n",
       "      <td>250.000000</td>\n",
       "      <td>0.0</td>\n",
       "      <td>NaN</td>\n",
       "      <td>1</td>\n",
       "    </tr>\n",
       "    <tr>\n",
       "      <th>1</th>\n",
       "      <td>63</td>\n",
       "      <td>100.264045</td>\n",
       "      <td>0.0</td>\n",
       "      <td>NaN</td>\n",
       "      <td>2</td>\n",
       "    </tr>\n",
       "    <tr>\n",
       "      <th>2</th>\n",
       "      <td>65</td>\n",
       "      <td>131.666667</td>\n",
       "      <td>0.0</td>\n",
       "      <td>NaN</td>\n",
       "      <td>3</td>\n",
       "    </tr>\n",
       "    <tr>\n",
       "      <th>3</th>\n",
       "      <td>66</td>\n",
       "      <td>138.625000</td>\n",
       "      <td>0.0</td>\n",
       "      <td>NaN</td>\n",
       "      <td>8</td>\n",
       "    </tr>\n",
       "    <tr>\n",
       "      <th>4</th>\n",
       "      <td>67</td>\n",
       "      <td>106.100000</td>\n",
       "      <td>0.0</td>\n",
       "      <td>NaN</td>\n",
       "      <td>10</td>\n",
       "    </tr>\n",
       "  </tbody>\n",
       "</table>\n",
       "</div>"
      ],
      "text/plain": [
       "   count_NA   price_avg  number_of_reviews  reviews_per_month   n\n",
       "0        59  250.000000                0.0                NaN   1\n",
       "1        63  100.264045                0.0                NaN   2\n",
       "2        65  131.666667                0.0                NaN   3\n",
       "3        66  138.625000                0.0                NaN   8\n",
       "4        67  106.100000                0.0                NaN  10"
      ]
     },
     "execution_count": 15,
     "metadata": {},
     "output_type": "execute_result"
    },
    {
     "name": "stdout",
     "output_type": "stream",
     "text": [
      "time: 63 ms (started: 2025-04-21 10:25:27 +01:00)\n"
     ]
    }
   ],
   "source": [
    "# Get dataframe grouped by count_NA and the average price and number of reviews for each group\n",
    "# higher values of count_NA = more completeness of data\n",
    "\n",
    "NA_price = pd.merge(\n",
    "    pd.DataFrame(listings3.groupby('count_NA', as_index = False)['price_avg'].mean()),\n",
    "    pd.DataFrame(listings3.groupby('count_NA', as_index = False)['number_of_reviews'].mean()),\n",
    "    on='count_NA',\n",
    "    how='left'\n",
    "    )\n",
    "\n",
    "\n",
    "NA_price = pd.merge(\n",
    "    NA_price,\n",
    "    pd.DataFrame(listings3.groupby('count_NA', as_index = False)['reviews_per_month'].mean()),\n",
    "    on='count_NA',\n",
    "    how='left'\n",
    "    )\n",
    "\n",
    "NA_price = pd.merge(\n",
    "    NA_price,\n",
    "    pd.DataFrame(listings3.groupby('count_NA', as_index = False)['listing_id'].count()),\n",
    "    on='count_NA',\n",
    "    how='left'\n",
    "    )\n",
    "\n",
    "# rename\n",
    "NA_price = NA_price.rename(columns = {'listing_id': 'n'})\n",
    "\n",
    "NA_price.head()"
   ]
  },
  {
   "cell_type": "code",
   "execution_count": 179,
   "id": "fa25832a",
   "metadata": {},
   "outputs": [
    {
     "data": {
      "text/plain": [
       "count_NA               int64\n",
       "price_avg            float64\n",
       "number_of_reviews    float64\n",
       "reviews_per_month    float64\n",
       "n                      int64\n",
       "dtype: object"
      ]
     },
     "execution_count": 179,
     "metadata": {},
     "output_type": "execute_result"
    },
    {
     "name": "stdout",
     "output_type": "stream",
     "text": [
      "time: 109 ms (started: 2025-04-18 15:51:27 +01:00)\n"
     ]
    }
   ],
   "source": [
    "NA_price.dtypes"
   ]
  },
  {
   "cell_type": "code",
   "execution_count": 180,
   "id": "4f12acc6",
   "metadata": {},
   "outputs": [
    {
     "data": {
      "text/html": [
       "<div>\n",
       "<style scoped>\n",
       "    .dataframe tbody tr th:only-of-type {\n",
       "        vertical-align: middle;\n",
       "    }\n",
       "\n",
       "    .dataframe tbody tr th {\n",
       "        vertical-align: top;\n",
       "    }\n",
       "\n",
       "    .dataframe thead th {\n",
       "        text-align: right;\n",
       "    }\n",
       "</style>\n",
       "<table border=\"1\" class=\"dataframe\">\n",
       "  <thead>\n",
       "    <tr style=\"text-align: right;\">\n",
       "      <th></th>\n",
       "      <th>count_NA</th>\n",
       "      <th>price_avg</th>\n",
       "      <th>number_of_reviews</th>\n",
       "      <th>reviews_per_month</th>\n",
       "      <th>n</th>\n",
       "    </tr>\n",
       "  </thead>\n",
       "  <tbody>\n",
       "    <tr>\n",
       "      <th>count_NA</th>\n",
       "      <td>1.000000</td>\n",
       "      <td>-0.239983</td>\n",
       "      <td>0.853737</td>\n",
       "      <td>0.896223</td>\n",
       "      <td>0.716241</td>\n",
       "    </tr>\n",
       "    <tr>\n",
       "      <th>price_avg</th>\n",
       "      <td>-0.239983</td>\n",
       "      <td>1.000000</td>\n",
       "      <td>-0.197426</td>\n",
       "      <td>-0.191939</td>\n",
       "      <td>-0.093783</td>\n",
       "    </tr>\n",
       "    <tr>\n",
       "      <th>number_of_reviews</th>\n",
       "      <td>0.853737</td>\n",
       "      <td>-0.197426</td>\n",
       "      <td>1.000000</td>\n",
       "      <td>0.903957</td>\n",
       "      <td>0.746378</td>\n",
       "    </tr>\n",
       "    <tr>\n",
       "      <th>reviews_per_month</th>\n",
       "      <td>0.896223</td>\n",
       "      <td>-0.191939</td>\n",
       "      <td>0.903957</td>\n",
       "      <td>1.000000</td>\n",
       "      <td>0.835146</td>\n",
       "    </tr>\n",
       "    <tr>\n",
       "      <th>n</th>\n",
       "      <td>0.716241</td>\n",
       "      <td>-0.093783</td>\n",
       "      <td>0.746378</td>\n",
       "      <td>0.835146</td>\n",
       "      <td>1.000000</td>\n",
       "    </tr>\n",
       "  </tbody>\n",
       "</table>\n",
       "</div>"
      ],
      "text/plain": [
       "                   count_NA  price_avg  number_of_reviews  reviews_per_month  \\\n",
       "count_NA           1.000000  -0.239983           0.853737           0.896223   \n",
       "price_avg         -0.239983   1.000000          -0.197426          -0.191939   \n",
       "number_of_reviews  0.853737  -0.197426           1.000000           0.903957   \n",
       "reviews_per_month  0.896223  -0.191939           0.903957           1.000000   \n",
       "n                  0.716241  -0.093783           0.746378           0.835146   \n",
       "\n",
       "                          n  \n",
       "count_NA           0.716241  \n",
       "price_avg         -0.093783  \n",
       "number_of_reviews  0.746378  \n",
       "reviews_per_month  0.835146  \n",
       "n                  1.000000  "
      ]
     },
     "execution_count": 180,
     "metadata": {},
     "output_type": "execute_result"
    },
    {
     "name": "stdout",
     "output_type": "stream",
     "text": [
      "time: 125 ms (started: 2025-04-18 15:51:30 +01:00)\n"
     ]
    }
   ],
   "source": [
    "# whats the correlation? (Pearson)\n",
    "NA_price.corr()"
   ]
  },
  {
   "cell_type": "code",
   "execution_count": 16,
   "id": "3d895cff",
   "metadata": {},
   "outputs": [
    {
     "data": {
      "text/html": [
       "<div>\n",
       "<style scoped>\n",
       "    .dataframe tbody tr th:only-of-type {\n",
       "        vertical-align: middle;\n",
       "    }\n",
       "\n",
       "    .dataframe tbody tr th {\n",
       "        vertical-align: top;\n",
       "    }\n",
       "\n",
       "    .dataframe thead th {\n",
       "        text-align: right;\n",
       "    }\n",
       "</style>\n",
       "<table border=\"1\" class=\"dataframe\">\n",
       "  <thead>\n",
       "    <tr style=\"text-align: right;\">\n",
       "      <th></th>\n",
       "      <th>count_NA</th>\n",
       "      <th>price_avg</th>\n",
       "      <th>number_of_reviews</th>\n",
       "    </tr>\n",
       "  </thead>\n",
       "  <tbody>\n",
       "    <tr>\n",
       "      <th>count_NA</th>\n",
       "      <td>1.000000</td>\n",
       "      <td>-0.028936</td>\n",
       "      <td>0.283238</td>\n",
       "    </tr>\n",
       "    <tr>\n",
       "      <th>price_avg</th>\n",
       "      <td>-0.028936</td>\n",
       "      <td>1.000000</td>\n",
       "      <td>-0.110144</td>\n",
       "    </tr>\n",
       "    <tr>\n",
       "      <th>number_of_reviews</th>\n",
       "      <td>0.283238</td>\n",
       "      <td>-0.110144</td>\n",
       "      <td>1.000000</td>\n",
       "    </tr>\n",
       "  </tbody>\n",
       "</table>\n",
       "</div>"
      ],
      "text/plain": [
       "                   count_NA  price_avg  number_of_reviews\n",
       "count_NA           1.000000  -0.028936           0.283238\n",
       "price_avg         -0.028936   1.000000          -0.110144\n",
       "number_of_reviews  0.283238  -0.110144           1.000000"
      ]
     },
     "execution_count": 16,
     "metadata": {},
     "output_type": "execute_result"
    },
    {
     "name": "stdout",
     "output_type": "stream",
     "text": [
      "time: 15 ms (started: 2025-04-21 10:25:39 +01:00)\n"
     ]
    }
   ],
   "source": [
    "listings3[['count_NA', 'price_avg', 'number_of_reviews']].corr()"
   ]
  },
  {
   "cell_type": "code",
   "execution_count": 45,
   "id": "4410951f",
   "metadata": {},
   "outputs": [
    {
     "data": {
      "image/png": "[encoded data removed]",
      "text/plain": [
       "<Figure size 432x288 with 1 Axes>"
      ]
     },
     "metadata": {
      "needs_background": "light"
     },
     "output_type": "display_data"
    },
    {
     "name": "stdout",
     "output_type": "stream",
     "text": [
      "time: 203 ms (started: 2025-04-11 14:37:26 +01:00)\n"
     ]
    }
   ],
   "source": [
    "# graph price\n",
    "plt.scatter(NA_price['count_NA'], NA_price['price_avg'])\n",
    "plt.title(\"Completeness of listing vs Price\")\n",
    "plt.show()"
   ]
  },
  {
   "cell_type": "code",
   "execution_count": 181,
   "id": "80410db6",
   "metadata": {},
   "outputs": [
    {
     "data": {
      "image/png": "[encoded data removed]",
      "text/plain": [
       "<Figure size 432x288 with 1 Axes>"
      ]
     },
     "metadata": {
      "needs_background": "light"
     },
     "output_type": "display_data"
    },
    {
     "name": "stdout",
     "output_type": "stream",
     "text": [
      "time: 282 ms (started: 2025-04-18 15:52:06 +01:00)\n"
     ]
    }
   ],
   "source": [
    "# graph n reviews\n",
    "plt.scatter(NA_price['count_NA'], NA_price['reviews_per_month'])\n",
    "plt.title(\"Completeness of listing vs N Reviews\")\n",
    "plt.show()"
   ]
  },
  {
   "cell_type": "code",
   "execution_count": 24,
   "id": "a8400e23",
   "metadata": {},
   "outputs": [
    {
     "data": {
      "image/png": "[encoded data removed]",
      "text/plain": [
       "<Figure size 432x288 with 1 Axes>"
      ]
     },
     "metadata": {
      "needs_background": "light"
     },
     "output_type": "display_data"
    },
    {
     "name": "stdout",
     "output_type": "stream",
     "text": [
      "time: 484 ms (started: 2025-04-18 09:26:14 +01:00)\n"
     ]
    }
   ],
   "source": [
    "# graph price\n",
    "plt.scatter(listings3['count_NA'], listings3['price_avg'], s=5)\n",
    "plt.title(\"Completeness of listing vs Price\")\n",
    "plt.show()"
   ]
  },
  {
   "cell_type": "code",
   "execution_count": 25,
   "id": "c7acab88",
   "metadata": {},
   "outputs": [
    {
     "data": {
      "image/png": "[encoded data removed]",
      "text/plain": [
       "<Figure size 432x288 with 1 Axes>"
      ]
     },
     "metadata": {
      "needs_background": "light"
     },
     "output_type": "display_data"
    },
    {
     "name": "stdout",
     "output_type": "stream",
     "text": [
      "time: 156 ms (started: 2025-04-18 09:26:18 +01:00)\n"
     ]
    }
   ],
   "source": [
    "# graph number of reviews\n",
    "plt.scatter(listings3['count_NA'], listings3['number_of_reviews'], s=5)\n",
    "plt.title(\"Completeness of listing vs N Reviews\")\n",
    "plt.show()"
   ]
  },
  {
   "cell_type": "code",
   "execution_count": 186,
   "id": "1196a878",
   "metadata": {},
   "outputs": [
    {
     "data": {
      "image/png": "[encoded data removed]",
      "text/plain": [
       "<Figure size 432x288 with 1 Axes>"
      ]
     },
     "metadata": {
      "needs_background": "light"
     },
     "output_type": "display_data"
    },
    {
     "name": "stdout",
     "output_type": "stream",
     "text": [
      "time: 469 ms (started: 2025-04-18 15:56:39 +01:00)\n"
     ]
    }
   ],
   "source": [
    "# graph number of reviews\n",
    "plt.scatter(listings3['count_NA'], listings3['reviews_per_month'], s=5)\n",
    "plt.title(\"Completeness of listing vs Average monthly reviews\")\n",
    "plt.xlabel(\"Number of fields with information\")\n",
    "plt.ylabel(\"Number of reviews per month\")\n",
    "plt.show()"
   ]
  },
  {
   "cell_type": "markdown",
   "id": "f08a3bfd",
   "metadata": {},
   "source": [
    "There seems to be no correlation between completeness of listing vs price. \n",
    "\n",
    "But what if we removed cases where n is low? "
   ]
  },
  {
   "cell_type": "code",
   "execution_count": 187,
   "id": "e13481c0",
   "metadata": {},
   "outputs": [
    {
     "name": "stdout",
     "output_type": "stream",
     "text": [
      "1\n",
      "38.0\n",
      "131.6551724137931\n",
      "168.0\n",
      "564\n",
      "time: 109 ms (started: 2025-04-18 16:03:54 +01:00)\n"
     ]
    }
   ],
   "source": [
    "# what is the range of n like?\n",
    "print(NA_price['n'].min())\n",
    "print(NA_price['n'].quantile(q=0.25))\n",
    "print(NA_price['n'].mean())\n",
    "print(NA_price['n'].quantile(q=0.75))\n",
    "print(NA_price['n'].max())"
   ]
  },
  {
   "cell_type": "code",
   "execution_count": 188,
   "id": "e4edbb4f",
   "metadata": {},
   "outputs": [
    {
     "data": {
      "image/png": "[encoded data removed]",
      "text/plain": [
       "<Figure size 432x288 with 1 Axes>"
      ]
     },
     "metadata": {
      "needs_background": "light"
     },
     "output_type": "display_data"
    },
    {
     "name": "stdout",
     "output_type": "stream",
     "text": [
      "time: 313 ms (started: 2025-04-18 16:04:06 +01:00)\n"
     ]
    }
   ],
   "source": [
    "# graph this to determine our cutoff points\n",
    "plt.hist(NA_price['n'], bins=40)\n",
    "plt.show()"
   ]
  },
  {
   "cell_type": "code",
   "execution_count": 189,
   "id": "17b8a6bf",
   "metadata": {},
   "outputs": [
    {
     "data": {
      "text/html": [
       "<div>\n",
       "<style scoped>\n",
       "    .dataframe tbody tr th:only-of-type {\n",
       "        vertical-align: middle;\n",
       "    }\n",
       "\n",
       "    .dataframe tbody tr th {\n",
       "        vertical-align: top;\n",
       "    }\n",
       "\n",
       "    .dataframe thead th {\n",
       "        text-align: right;\n",
       "    }\n",
       "</style>\n",
       "<table border=\"1\" class=\"dataframe\">\n",
       "  <thead>\n",
       "    <tr style=\"text-align: right;\">\n",
       "      <th></th>\n",
       "      <th>count_NA</th>\n",
       "      <th>price_avg</th>\n",
       "      <th>number_of_reviews</th>\n",
       "      <th>reviews_per_month</th>\n",
       "      <th>n</th>\n",
       "    </tr>\n",
       "  </thead>\n",
       "  <tbody>\n",
       "    <tr>\n",
       "      <th>0</th>\n",
       "      <td>59</td>\n",
       "      <td>250.000000</td>\n",
       "      <td>0.000000</td>\n",
       "      <td>NaN</td>\n",
       "      <td>1</td>\n",
       "    </tr>\n",
       "    <tr>\n",
       "      <th>1</th>\n",
       "      <td>63</td>\n",
       "      <td>100.264045</td>\n",
       "      <td>0.000000</td>\n",
       "      <td>NaN</td>\n",
       "      <td>2</td>\n",
       "    </tr>\n",
       "    <tr>\n",
       "      <th>2</th>\n",
       "      <td>65</td>\n",
       "      <td>131.666667</td>\n",
       "      <td>0.000000</td>\n",
       "      <td>NaN</td>\n",
       "      <td>3</td>\n",
       "    </tr>\n",
       "    <tr>\n",
       "      <th>3</th>\n",
       "      <td>66</td>\n",
       "      <td>138.625000</td>\n",
       "      <td>0.000000</td>\n",
       "      <td>NaN</td>\n",
       "      <td>8</td>\n",
       "    </tr>\n",
       "    <tr>\n",
       "      <th>4</th>\n",
       "      <td>67</td>\n",
       "      <td>106.100000</td>\n",
       "      <td>0.000000</td>\n",
       "      <td>NaN</td>\n",
       "      <td>10</td>\n",
       "    </tr>\n",
       "    <tr>\n",
       "      <th>5</th>\n",
       "      <td>68</td>\n",
       "      <td>105.445109</td>\n",
       "      <td>0.026316</td>\n",
       "      <td>0.1000</td>\n",
       "      <td>38</td>\n",
       "    </tr>\n",
       "    <tr>\n",
       "      <th>6</th>\n",
       "      <td>69</td>\n",
       "      <td>152.670695</td>\n",
       "      <td>0.000000</td>\n",
       "      <td>NaN</td>\n",
       "      <td>34</td>\n",
       "    </tr>\n",
       "    <tr>\n",
       "      <th>7</th>\n",
       "      <td>70</td>\n",
       "      <td>145.984048</td>\n",
       "      <td>0.026316</td>\n",
       "      <td>1.0000</td>\n",
       "      <td>38</td>\n",
       "    </tr>\n",
       "    <tr>\n",
       "      <th>15</th>\n",
       "      <td>78</td>\n",
       "      <td>175.364147</td>\n",
       "      <td>0.634146</td>\n",
       "      <td>0.5300</td>\n",
       "      <td>41</td>\n",
       "    </tr>\n",
       "    <tr>\n",
       "      <th>28</th>\n",
       "      <td>91</td>\n",
       "      <td>113.022749</td>\n",
       "      <td>45.750000</td>\n",
       "      <td>1.7825</td>\n",
       "      <td>8</td>\n",
       "    </tr>\n",
       "  </tbody>\n",
       "</table>\n",
       "</div>"
      ],
      "text/plain": [
       "    count_NA   price_avg  number_of_reviews  reviews_per_month   n\n",
       "0         59  250.000000           0.000000                NaN   1\n",
       "1         63  100.264045           0.000000                NaN   2\n",
       "2         65  131.666667           0.000000                NaN   3\n",
       "3         66  138.625000           0.000000                NaN   8\n",
       "4         67  106.100000           0.000000                NaN  10\n",
       "5         68  105.445109           0.026316             0.1000  38\n",
       "6         69  152.670695           0.000000                NaN  34\n",
       "7         70  145.984048           0.026316             1.0000  38\n",
       "15        78  175.364147           0.634146             0.5300  41\n",
       "28        91  113.022749          45.750000             1.7825   8"
      ]
     },
     "execution_count": 189,
     "metadata": {},
     "output_type": "execute_result"
    },
    {
     "name": "stdout",
     "output_type": "stream",
     "text": [
      "time: 109 ms (started: 2025-04-18 16:04:12 +01:00)\n"
     ]
    }
   ],
   "source": [
    "NA_price.loc[NA_price['n']<50]"
   ]
  },
  {
   "cell_type": "code",
   "execution_count": 68,
   "id": "bdf5c738",
   "metadata": {},
   "outputs": [
    {
     "data": {
      "image/png": "[encoded data removed]",
      "text/plain": [
       "<Figure size 432x288 with 1 Axes>"
      ]
     },
     "metadata": {
      "needs_background": "light"
     },
     "output_type": "display_data"
    },
    {
     "name": "stdout",
     "output_type": "stream",
     "text": [
      "time: 188 ms (started: 2025-04-11 15:08:36 +01:00)\n"
     ]
    }
   ],
   "source": [
    "# subset to n>30 and replot\n",
    "NA_price_50plus = NA_price.loc[NA_price['n']>30]\n",
    "\n",
    "plt.scatter(NA_price_50plus['count_NA'], NA_price_50plus['price_avg'])\n",
    "plt.title(\"Completeness of listing vs Price\")\n",
    "plt.show()"
   ]
  },
  {
   "cell_type": "code",
   "execution_count": 69,
   "id": "69266fae",
   "metadata": {},
   "outputs": [
    {
     "data": {
      "text/html": [
       "<div>\n",
       "<style scoped>\n",
       "    .dataframe tbody tr th:only-of-type {\n",
       "        vertical-align: middle;\n",
       "    }\n",
       "\n",
       "    .dataframe tbody tr th {\n",
       "        vertical-align: top;\n",
       "    }\n",
       "\n",
       "    .dataframe thead th {\n",
       "        text-align: right;\n",
       "    }\n",
       "</style>\n",
       "<table border=\"1\" class=\"dataframe\">\n",
       "  <thead>\n",
       "    <tr style=\"text-align: right;\">\n",
       "      <th></th>\n",
       "      <th>count_NA</th>\n",
       "      <th>price_avg</th>\n",
       "      <th>n</th>\n",
       "    </tr>\n",
       "  </thead>\n",
       "  <tbody>\n",
       "    <tr>\n",
       "      <th>count_NA</th>\n",
       "      <td>1.000000</td>\n",
       "      <td>-0.071919</td>\n",
       "      <td>0.823932</td>\n",
       "    </tr>\n",
       "    <tr>\n",
       "      <th>price_avg</th>\n",
       "      <td>-0.071919</td>\n",
       "      <td>1.000000</td>\n",
       "      <td>-0.173676</td>\n",
       "    </tr>\n",
       "    <tr>\n",
       "      <th>n</th>\n",
       "      <td>0.823932</td>\n",
       "      <td>-0.173676</td>\n",
       "      <td>1.000000</td>\n",
       "    </tr>\n",
       "  </tbody>\n",
       "</table>\n",
       "</div>"
      ],
      "text/plain": [
       "           count_NA  price_avg         n\n",
       "count_NA   1.000000  -0.071919  0.823932\n",
       "price_avg -0.071919   1.000000 -0.173676\n",
       "n          0.823932  -0.173676  1.000000"
      ]
     },
     "execution_count": 69,
     "metadata": {},
     "output_type": "execute_result"
    },
    {
     "name": "stdout",
     "output_type": "stream",
     "text": [
      "time: 0 ns (started: 2025-04-11 15:08:59 +01:00)\n"
     ]
    }
   ],
   "source": [
    "NA_price_50plus.corr()"
   ]
  },
  {
   "cell_type": "markdown",
   "id": "c12515c4",
   "metadata": {},
   "source": [
    "Still very weak correlation despite removing lower cases of n"
   ]
  },
  {
   "cell_type": "markdown",
   "id": "faf3c47f",
   "metadata": {},
   "source": [
    "Repeat but try using only some columns which customers may care about if information is missing - classify these subsets"
   ]
  },
  {
   "cell_type": "code",
   "execution_count": 17,
   "id": "f03cc4fa",
   "metadata": {
    "scrolled": true
   },
   "outputs": [
    {
     "name": "stdout",
     "output_type": "stream",
     "text": [
      "time: 0 ns (started: 2025-04-21 10:25:46 +01:00)\n"
     ]
    }
   ],
   "source": [
    "# create groupings of diff vars which reflect aspects customers may care about\n",
    "# 6 groups in total: description, images, hostinfo, reviewinfo, locationinfo, propertyinfo\n",
    "\n",
    "col_list_description = ['summary_NA', 'space_NA', 'neighborhood_overview_NA', 'notes_NA', 'transit_NA']\n",
    "col_list_images = ['thumbnail_url_NA', 'picture_url_NA', 'xl_picture_url_NA']\n",
    "col_list_hostinfo = ['host_id_NA',\n",
    " 'host_url_NA',\n",
    " 'host_name_NA',\n",
    " 'host_since_NA',\n",
    " 'host_location_NA',\n",
    " 'host_about_NA',\n",
    " 'host_response_time_NA',\n",
    " 'host_response_rate_NA',\n",
    " 'host_acceptance_rate_NA',\n",
    " 'host_is_superhost_NA',\n",
    " 'host_thumbnail_url_NA',\n",
    " 'host_picture_url_NA',\n",
    " 'host_neighbourhood_NA',\n",
    " 'host_listings_count_NA',\n",
    " 'host_total_listings_count_NA',\n",
    " 'host_verifications_NA',\n",
    " 'host_has_profile_pic_NA',\n",
    " 'host_identity_verified_NA']\n",
    "col_list_reviewinfo = [ 'first_review_NA',\n",
    " 'last_review_NA',\n",
    " 'review_scores_rating_NA',\n",
    " 'review_scores_accuracy_NA',\n",
    " 'review_scores_cleanliness_NA',\n",
    " 'review_scores_checkin_NA',\n",
    " 'review_scores_communication_NA',\n",
    " 'review_scores_location_NA',\n",
    " 'review_scores_value_NA']\n",
    "col_list_locationinfo = ['neighbourhood_group_cleansed_NA',\n",
    " 'city_NA',\n",
    " 'state_NA',\n",
    " 'zipcode_NA',\n",
    " 'latitude_NA',\n",
    " 'longitude_NA',\n",
    " 'is_location_exact_NA',\n",
    " 'street_NA']\n",
    "col_list_propertyinfo = ['property_type_NA',\n",
    " 'room_type_NA',\n",
    " 'accommodates_NA',\n",
    " 'bathrooms_NA',\n",
    " 'bedrooms_NA',\n",
    " 'beds_NA',\n",
    " 'bed_type_NA',\n",
    " 'amenities_NA',\n",
    " 'square_feet_NA']\n"
   ]
  },
  {
   "cell_type": "code",
   "execution_count": 18,
   "id": "28097030",
   "metadata": {},
   "outputs": [
    {
     "data": {
      "text/html": [
       "<div>\n",
       "<style scoped>\n",
       "    .dataframe tbody tr th:only-of-type {\n",
       "        vertical-align: middle;\n",
       "    }\n",
       "\n",
       "    .dataframe tbody tr th {\n",
       "        vertical-align: top;\n",
       "    }\n",
       "\n",
       "    .dataframe thead th {\n",
       "        text-align: right;\n",
       "    }\n",
       "</style>\n",
       "<table border=\"1\" class=\"dataframe\">\n",
       "  <thead>\n",
       "    <tr style=\"text-align: right;\">\n",
       "      <th></th>\n",
       "      <th>listing_id</th>\n",
       "    </tr>\n",
       "  </thead>\n",
       "  <tbody>\n",
       "    <tr>\n",
       "      <th>0</th>\n",
       "      <td>241032</td>\n",
       "    </tr>\n",
       "    <tr>\n",
       "      <th>1</th>\n",
       "      <td>953595</td>\n",
       "    </tr>\n",
       "    <tr>\n",
       "      <th>2</th>\n",
       "      <td>3308979</td>\n",
       "    </tr>\n",
       "    <tr>\n",
       "      <th>3</th>\n",
       "      <td>7421966</td>\n",
       "    </tr>\n",
       "    <tr>\n",
       "      <th>4</th>\n",
       "      <td>278830</td>\n",
       "    </tr>\n",
       "  </tbody>\n",
       "</table>\n",
       "</div>"
      ],
      "text/plain": [
       "   listing_id\n",
       "0      241032\n",
       "1      953595\n",
       "2     3308979\n",
       "3     7421966\n",
       "4      278830"
      ]
     },
     "execution_count": 18,
     "metadata": {},
     "output_type": "execute_result"
    },
    {
     "name": "stdout",
     "output_type": "stream",
     "text": [
      "time: 16 ms (started: 2025-04-21 10:25:47 +01:00)\n"
     ]
    }
   ],
   "source": [
    "listings_NA_grp = pd.DataFrame(listings_NA['listing_id'])\n",
    "listings_NA_grp.head()"
   ]
  },
  {
   "cell_type": "code",
   "execution_count": 31,
   "id": "4cb06607",
   "metadata": {},
   "outputs": [
    {
     "name": "stdout",
     "output_type": "stream",
     "text": [
      "time: 0 ns (started: 2025-04-21 10:27:36 +01:00)\n"
     ]
    }
   ],
   "source": [
    "col_list_category = [col_list_description, col_list_images, col_list_hostinfo, col_list_reviewinfo, col_list_locationinfo, col_list_propertyinfo]\n",
    "category_names = ['description', 'images', 'hostinfo', 'reviewinfo', 'locationinfo', 'propertyinfo']"
   ]
  },
  {
   "cell_type": "code",
   "execution_count": 34,
   "id": "e3fe8696",
   "metadata": {},
   "outputs": [
    {
     "name": "stdout",
     "output_type": "stream",
     "text": [
      "time: 16 ms (started: 2025-04-21 10:27:42 +01:00)\n"
     ]
    }
   ],
   "source": [
    "for x in range(len(col_list_category)):\n",
    "    create_NA_group(col_list_category[x], category_names[x])"
   ]
  },
  {
   "cell_type": "code",
   "execution_count": 35,
   "id": "807c6f4e",
   "metadata": {},
   "outputs": [
    {
     "data": {
      "text/html": [
       "<div>\n",
       "<style scoped>\n",
       "    .dataframe tbody tr th:only-of-type {\n",
       "        vertical-align: middle;\n",
       "    }\n",
       "\n",
       "    .dataframe tbody tr th {\n",
       "        vertical-align: top;\n",
       "    }\n",
       "\n",
       "    .dataframe thead th {\n",
       "        text-align: right;\n",
       "    }\n",
       "</style>\n",
       "<table border=\"1\" class=\"dataframe\">\n",
       "  <thead>\n",
       "    <tr style=\"text-align: right;\">\n",
       "      <th></th>\n",
       "      <th>listing_id</th>\n",
       "      <th>count_NA_description</th>\n",
       "      <th>count_NA_images</th>\n",
       "      <th>count_NA_hostinfo</th>\n",
       "      <th>count_NA_reviewinfo</th>\n",
       "      <th>count_NA_locationinfo</th>\n",
       "      <th>count_NA_propertyinfo</th>\n",
       "    </tr>\n",
       "  </thead>\n",
       "  <tbody>\n",
       "    <tr>\n",
       "      <th>0</th>\n",
       "      <td>241032</td>\n",
       "      <td>1</td>\n",
       "      <td>1</td>\n",
       "      <td>18</td>\n",
       "      <td>9</td>\n",
       "      <td>8</td>\n",
       "      <td>8</td>\n",
       "    </tr>\n",
       "    <tr>\n",
       "      <th>1</th>\n",
       "      <td>953595</td>\n",
       "      <td>5</td>\n",
       "      <td>3</td>\n",
       "      <td>18</td>\n",
       "      <td>9</td>\n",
       "      <td>8</td>\n",
       "      <td>8</td>\n",
       "    </tr>\n",
       "    <tr>\n",
       "      <th>2</th>\n",
       "      <td>3308979</td>\n",
       "      <td>5</td>\n",
       "      <td>1</td>\n",
       "      <td>18</td>\n",
       "      <td>9</td>\n",
       "      <td>8</td>\n",
       "      <td>8</td>\n",
       "    </tr>\n",
       "    <tr>\n",
       "      <th>3</th>\n",
       "      <td>7421966</td>\n",
       "      <td>1</td>\n",
       "      <td>1</td>\n",
       "      <td>14</td>\n",
       "      <td>0</td>\n",
       "      <td>8</td>\n",
       "      <td>8</td>\n",
       "    </tr>\n",
       "    <tr>\n",
       "      <th>4</th>\n",
       "      <td>278830</td>\n",
       "      <td>5</td>\n",
       "      <td>1</td>\n",
       "      <td>17</td>\n",
       "      <td>9</td>\n",
       "      <td>8</td>\n",
       "      <td>8</td>\n",
       "    </tr>\n",
       "  </tbody>\n",
       "</table>\n",
       "</div>"
      ],
      "text/plain": [
       "   listing_id  count_NA_description  count_NA_images  count_NA_hostinfo  \\\n",
       "0      241032                     1                1                 18   \n",
       "1      953595                     5                3                 18   \n",
       "2     3308979                     5                1                 18   \n",
       "3     7421966                     1                1                 14   \n",
       "4      278830                     5                1                 17   \n",
       "\n",
       "   count_NA_reviewinfo  count_NA_locationinfo  count_NA_propertyinfo  \n",
       "0                    9                      8                      8  \n",
       "1                    9                      8                      8  \n",
       "2                    9                      8                      8  \n",
       "3                    0                      8                      8  \n",
       "4                    9                      8                      8  "
      ]
     },
     "execution_count": 35,
     "metadata": {},
     "output_type": "execute_result"
    },
    {
     "name": "stdout",
     "output_type": "stream",
     "text": [
      "time: 15 ms (started: 2025-04-21 10:27:43 +01:00)\n"
     ]
    }
   ],
   "source": [
    "listings_NA_grp.head()"
   ]
  },
  {
   "cell_type": "code",
   "execution_count": 77,
   "id": "41156900",
   "metadata": {},
   "outputs": [
    {
     "data": {
      "text/html": [
       "<div>\n",
       "<style scoped>\n",
       "    .dataframe tbody tr th:only-of-type {\n",
       "        vertical-align: middle;\n",
       "    }\n",
       "\n",
       "    .dataframe tbody tr th {\n",
       "        vertical-align: top;\n",
       "    }\n",
       "\n",
       "    .dataframe thead th {\n",
       "        text-align: right;\n",
       "    }\n",
       "</style>\n",
       "<table border=\"1\" class=\"dataframe\">\n",
       "  <thead>\n",
       "    <tr style=\"text-align: right;\">\n",
       "      <th></th>\n",
       "      <th>listing_id</th>\n",
       "      <th>price_avg</th>\n",
       "      <th>price</th>\n",
       "      <th>number_of_reviews</th>\n",
       "      <th>reviews_per_month</th>\n",
       "      <th>count_NA_description</th>\n",
       "      <th>count_NA_images</th>\n",
       "      <th>count_NA_hostinfo</th>\n",
       "      <th>count_NA_reviewinfo</th>\n",
       "      <th>count_NA_locationinfo</th>\n",
       "      <th>count_NA_propertyinfo</th>\n",
       "    </tr>\n",
       "  </thead>\n",
       "  <tbody>\n",
       "    <tr>\n",
       "      <th>0</th>\n",
       "      <td>241032</td>\n",
       "      <td>85.000000</td>\n",
       "      <td>$85.00</td>\n",
       "      <td>207</td>\n",
       "      <td>4.07</td>\n",
       "      <td>1</td>\n",
       "      <td>1</td>\n",
       "      <td>18</td>\n",
       "      <td>9</td>\n",
       "      <td>8</td>\n",
       "      <td>8</td>\n",
       "    </tr>\n",
       "    <tr>\n",
       "      <th>1</th>\n",
       "      <td>953595</td>\n",
       "      <td>170.931271</td>\n",
       "      <td>$150.00</td>\n",
       "      <td>43</td>\n",
       "      <td>1.48</td>\n",
       "      <td>5</td>\n",
       "      <td>3</td>\n",
       "      <td>18</td>\n",
       "      <td>9</td>\n",
       "      <td>8</td>\n",
       "      <td>8</td>\n",
       "    </tr>\n",
       "    <tr>\n",
       "      <th>2</th>\n",
       "      <td>3308979</td>\n",
       "      <td>894.186047</td>\n",
       "      <td>$975.00</td>\n",
       "      <td>20</td>\n",
       "      <td>1.15</td>\n",
       "      <td>5</td>\n",
       "      <td>1</td>\n",
       "      <td>18</td>\n",
       "      <td>9</td>\n",
       "      <td>8</td>\n",
       "      <td>8</td>\n",
       "    </tr>\n",
       "    <tr>\n",
       "      <th>3</th>\n",
       "      <td>7421966</td>\n",
       "      <td>100.000000</td>\n",
       "      <td>$100.00</td>\n",
       "      <td>0</td>\n",
       "      <td>NaN</td>\n",
       "      <td>1</td>\n",
       "      <td>1</td>\n",
       "      <td>14</td>\n",
       "      <td>0</td>\n",
       "      <td>8</td>\n",
       "      <td>8</td>\n",
       "    </tr>\n",
       "    <tr>\n",
       "      <th>4</th>\n",
       "      <td>278830</td>\n",
       "      <td>462.739726</td>\n",
       "      <td>$450.00</td>\n",
       "      <td>38</td>\n",
       "      <td>0.89</td>\n",
       "      <td>5</td>\n",
       "      <td>1</td>\n",
       "      <td>17</td>\n",
       "      <td>9</td>\n",
       "      <td>8</td>\n",
       "      <td>8</td>\n",
       "    </tr>\n",
       "  </tbody>\n",
       "</table>\n",
       "</div>"
      ],
      "text/plain": [
       "   listing_id   price_avg    price  number_of_reviews  reviews_per_month  \\\n",
       "0      241032   85.000000   $85.00                207               4.07   \n",
       "1      953595  170.931271  $150.00                 43               1.48   \n",
       "2     3308979  894.186047  $975.00                 20               1.15   \n",
       "3     7421966  100.000000  $100.00                  0                NaN   \n",
       "4      278830  462.739726  $450.00                 38               0.89   \n",
       "\n",
       "   count_NA_description  count_NA_images  count_NA_hostinfo  \\\n",
       "0                     1                1                 18   \n",
       "1                     5                3                 18   \n",
       "2                     5                1                 18   \n",
       "3                     1                1                 14   \n",
       "4                     5                1                 17   \n",
       "\n",
       "   count_NA_reviewinfo  count_NA_locationinfo  count_NA_propertyinfo  \n",
       "0                    9                      8                      8  \n",
       "1                    9                      8                      8  \n",
       "2                    9                      8                      8  \n",
       "3                    0                      8                      8  \n",
       "4                    9                      8                      8  "
      ]
     },
     "execution_count": 77,
     "metadata": {},
     "output_type": "execute_result"
    },
    {
     "name": "stdout",
     "output_type": "stream",
     "text": [
      "time: 16 ms (started: 2025-04-21 11:38:39 +01:00)\n"
     ]
    }
   ],
   "source": [
    "# merge back onto price to get mean prices\n",
    "listings_NA_grp_price = pd.merge(listings2[['listing_id', 'price_avg', 'price', 'number_of_reviews','reviews_per_month']], listings_NA_grp, on='listing_id', how='left')\n",
    "listings_NA_grp_price.head()\n"
   ]
  },
  {
   "cell_type": "code",
   "execution_count": 79,
   "id": "ded45b08",
   "metadata": {},
   "outputs": [
    {
     "name": "stdout",
     "output_type": "stream",
     "text": [
      "time: 16 ms (started: 2025-04-21 11:41:52 +01:00)\n"
     ]
    },
    {
     "name": "stderr",
     "output_type": "stream",
     "text": [
      "<ipython-input-79-e9c667c52025>:4: FutureWarning: The default value of regex will change from True to False in a future version. In addition, single character regular expressions will*not* be treated as literal strings when regex=True.\n",
      "  listings_NA_grp_price['price'] = pd.to_numeric(listings_NA_grp_price['price'].str.replace('$', ''), errors='coerce')\n"
     ]
    }
   ],
   "source": [
    "# clean price and imput 0s in reviews_per month\n",
    "\n",
    "# remove $ in price\n",
    "listings_NA_grp_price['price'] = pd.to_numeric(listings_NA_grp_price['price'].str.replace('$', ''), errors='coerce')\n",
    "\n",
    "# impute 0's in reviews_per_month\n",
    "listings_NA_grp_price['reviews_per_month'].fillna(0, inplace=True) "
   ]
  },
  {
   "cell_type": "code",
   "execution_count": 80,
   "id": "9bdc2c0c",
   "metadata": {},
   "outputs": [
    {
     "data": {
      "text/html": [
       "<div>\n",
       "<style scoped>\n",
       "    .dataframe tbody tr th:only-of-type {\n",
       "        vertical-align: middle;\n",
       "    }\n",
       "\n",
       "    .dataframe tbody tr th {\n",
       "        vertical-align: top;\n",
       "    }\n",
       "\n",
       "    .dataframe thead th {\n",
       "        text-align: right;\n",
       "    }\n",
       "</style>\n",
       "<table border=\"1\" class=\"dataframe\">\n",
       "  <thead>\n",
       "    <tr style=\"text-align: right;\">\n",
       "      <th></th>\n",
       "      <th>listing_id</th>\n",
       "      <th>price_avg</th>\n",
       "      <th>price</th>\n",
       "      <th>number_of_reviews</th>\n",
       "      <th>reviews_per_month</th>\n",
       "      <th>count_NA_description</th>\n",
       "      <th>count_NA_images</th>\n",
       "      <th>count_NA_hostinfo</th>\n",
       "      <th>count_NA_reviewinfo</th>\n",
       "      <th>count_NA_locationinfo</th>\n",
       "      <th>count_NA_propertyinfo</th>\n",
       "    </tr>\n",
       "  </thead>\n",
       "  <tbody>\n",
       "    <tr>\n",
       "      <th>0</th>\n",
       "      <td>241032</td>\n",
       "      <td>85.000000</td>\n",
       "      <td>85.0</td>\n",
       "      <td>207</td>\n",
       "      <td>4.07</td>\n",
       "      <td>1</td>\n",
       "      <td>1</td>\n",
       "      <td>18</td>\n",
       "      <td>9</td>\n",
       "      <td>8</td>\n",
       "      <td>8</td>\n",
       "    </tr>\n",
       "    <tr>\n",
       "      <th>1</th>\n",
       "      <td>953595</td>\n",
       "      <td>170.931271</td>\n",
       "      <td>150.0</td>\n",
       "      <td>43</td>\n",
       "      <td>1.48</td>\n",
       "      <td>5</td>\n",
       "      <td>3</td>\n",
       "      <td>18</td>\n",
       "      <td>9</td>\n",
       "      <td>8</td>\n",
       "      <td>8</td>\n",
       "    </tr>\n",
       "    <tr>\n",
       "      <th>2</th>\n",
       "      <td>3308979</td>\n",
       "      <td>894.186047</td>\n",
       "      <td>975.0</td>\n",
       "      <td>20</td>\n",
       "      <td>1.15</td>\n",
       "      <td>5</td>\n",
       "      <td>1</td>\n",
       "      <td>18</td>\n",
       "      <td>9</td>\n",
       "      <td>8</td>\n",
       "      <td>8</td>\n",
       "    </tr>\n",
       "    <tr>\n",
       "      <th>3</th>\n",
       "      <td>7421966</td>\n",
       "      <td>100.000000</td>\n",
       "      <td>100.0</td>\n",
       "      <td>0</td>\n",
       "      <td>0.00</td>\n",
       "      <td>1</td>\n",
       "      <td>1</td>\n",
       "      <td>14</td>\n",
       "      <td>0</td>\n",
       "      <td>8</td>\n",
       "      <td>8</td>\n",
       "    </tr>\n",
       "    <tr>\n",
       "      <th>4</th>\n",
       "      <td>278830</td>\n",
       "      <td>462.739726</td>\n",
       "      <td>450.0</td>\n",
       "      <td>38</td>\n",
       "      <td>0.89</td>\n",
       "      <td>5</td>\n",
       "      <td>1</td>\n",
       "      <td>17</td>\n",
       "      <td>9</td>\n",
       "      <td>8</td>\n",
       "      <td>8</td>\n",
       "    </tr>\n",
       "  </tbody>\n",
       "</table>\n",
       "</div>"
      ],
      "text/plain": [
       "   listing_id   price_avg  price  number_of_reviews  reviews_per_month  \\\n",
       "0      241032   85.000000   85.0                207               4.07   \n",
       "1      953595  170.931271  150.0                 43               1.48   \n",
       "2     3308979  894.186047  975.0                 20               1.15   \n",
       "3     7421966  100.000000  100.0                  0               0.00   \n",
       "4      278830  462.739726  450.0                 38               0.89   \n",
       "\n",
       "   count_NA_description  count_NA_images  count_NA_hostinfo  \\\n",
       "0                     1                1                 18   \n",
       "1                     5                3                 18   \n",
       "2                     5                1                 18   \n",
       "3                     1                1                 14   \n",
       "4                     5                1                 17   \n",
       "\n",
       "   count_NA_reviewinfo  count_NA_locationinfo  count_NA_propertyinfo  \n",
       "0                    9                      8                      8  \n",
       "1                    9                      8                      8  \n",
       "2                    9                      8                      8  \n",
       "3                    0                      8                      8  \n",
       "4                    9                      8                      8  "
      ]
     },
     "execution_count": 80,
     "metadata": {},
     "output_type": "execute_result"
    },
    {
     "name": "stdout",
     "output_type": "stream",
     "text": [
      "time: 16 ms (started: 2025-04-21 11:42:04 +01:00)\n"
     ]
    }
   ],
   "source": [
    "listings_NA_grp_price.head()"
   ]
  },
  {
   "cell_type": "code",
   "execution_count": 81,
   "id": "2747da87",
   "metadata": {},
   "outputs": [
    {
     "data": {
      "text/html": [
       "<div>\n",
       "<style scoped>\n",
       "    .dataframe tbody tr th:only-of-type {\n",
       "        vertical-align: middle;\n",
       "    }\n",
       "\n",
       "    .dataframe tbody tr th {\n",
       "        vertical-align: top;\n",
       "    }\n",
       "\n",
       "    .dataframe thead th {\n",
       "        text-align: right;\n",
       "    }\n",
       "</style>\n",
       "<table border=\"1\" class=\"dataframe\">\n",
       "  <thead>\n",
       "    <tr style=\"text-align: right;\">\n",
       "      <th></th>\n",
       "      <th>listing_id</th>\n",
       "      <th>price_avg</th>\n",
       "      <th>price</th>\n",
       "      <th>number_of_reviews</th>\n",
       "      <th>reviews_per_month</th>\n",
       "      <th>count_NA_description</th>\n",
       "      <th>count_NA_images</th>\n",
       "      <th>count_NA_hostinfo</th>\n",
       "      <th>count_NA_reviewinfo</th>\n",
       "      <th>count_NA_locationinfo</th>\n",
       "      <th>count_NA_propertyinfo</th>\n",
       "    </tr>\n",
       "  </thead>\n",
       "  <tbody>\n",
       "    <tr>\n",
       "      <th>listing_id</th>\n",
       "      <td>1.000000</td>\n",
       "      <td>-0.058661</td>\n",
       "      <td>-0.046239</td>\n",
       "      <td>-0.506105</td>\n",
       "      <td>-0.095897</td>\n",
       "      <td>-0.084761</td>\n",
       "      <td>0.007482</td>\n",
       "      <td>-0.195049</td>\n",
       "      <td>-0.402526</td>\n",
       "      <td>0.019492</td>\n",
       "      <td>-0.167868</td>\n",
       "    </tr>\n",
       "    <tr>\n",
       "      <th>price_avg</th>\n",
       "      <td>-0.058661</td>\n",
       "      <td>1.000000</td>\n",
       "      <td>0.946499</td>\n",
       "      <td>-0.110144</td>\n",
       "      <td>-0.174275</td>\n",
       "      <td>-0.031625</td>\n",
       "      <td>-0.169208</td>\n",
       "      <td>-0.044693</td>\n",
       "      <td>-0.008493</td>\n",
       "      <td>-0.014371</td>\n",
       "      <td>0.036156</td>\n",
       "    </tr>\n",
       "    <tr>\n",
       "      <th>price</th>\n",
       "      <td>-0.046239</td>\n",
       "      <td>0.946499</td>\n",
       "      <td>1.000000</td>\n",
       "      <td>-0.124812</td>\n",
       "      <td>-0.190477</td>\n",
       "      <td>-0.033425</td>\n",
       "      <td>-0.179645</td>\n",
       "      <td>-0.092328</td>\n",
       "      <td>-0.027030</td>\n",
       "      <td>-0.016127</td>\n",
       "      <td>0.032483</td>\n",
       "    </tr>\n",
       "    <tr>\n",
       "      <th>number_of_reviews</th>\n",
       "      <td>-0.506105</td>\n",
       "      <td>-0.110144</td>\n",
       "      <td>-0.124812</td>\n",
       "      <td>1.000000</td>\n",
       "      <td>0.601509</td>\n",
       "      <td>0.108718</td>\n",
       "      <td>0.051698</td>\n",
       "      <td>0.244004</td>\n",
       "      <td>0.267432</td>\n",
       "      <td>-0.009159</td>\n",
       "      <td>0.069052</td>\n",
       "    </tr>\n",
       "    <tr>\n",
       "      <th>reviews_per_month</th>\n",
       "      <td>-0.095897</td>\n",
       "      <td>-0.174275</td>\n",
       "      <td>-0.190477</td>\n",
       "      <td>0.601509</td>\n",
       "      <td>1.000000</td>\n",
       "      <td>0.238994</td>\n",
       "      <td>0.087779</td>\n",
       "      <td>0.324661</td>\n",
       "      <td>0.426703</td>\n",
       "      <td>-0.010967</td>\n",
       "      <td>-0.016370</td>\n",
       "    </tr>\n",
       "    <tr>\n",
       "      <th>count_NA_description</th>\n",
       "      <td>-0.084761</td>\n",
       "      <td>-0.031625</td>\n",
       "      <td>-0.033425</td>\n",
       "      <td>0.108718</td>\n",
       "      <td>0.238994</td>\n",
       "      <td>1.000000</td>\n",
       "      <td>0.041119</td>\n",
       "      <td>0.202413</td>\n",
       "      <td>0.253918</td>\n",
       "      <td>0.004573</td>\n",
       "      <td>0.029641</td>\n",
       "    </tr>\n",
       "    <tr>\n",
       "      <th>count_NA_images</th>\n",
       "      <td>0.007482</td>\n",
       "      <td>-0.169208</td>\n",
       "      <td>-0.179645</td>\n",
       "      <td>0.051698</td>\n",
       "      <td>0.087779</td>\n",
       "      <td>0.041119</td>\n",
       "      <td>1.000000</td>\n",
       "      <td>0.027798</td>\n",
       "      <td>0.019751</td>\n",
       "      <td>0.031226</td>\n",
       "      <td>-0.004789</td>\n",
       "    </tr>\n",
       "    <tr>\n",
       "      <th>count_NA_hostinfo</th>\n",
       "      <td>-0.195049</td>\n",
       "      <td>-0.044693</td>\n",
       "      <td>-0.092328</td>\n",
       "      <td>0.244004</td>\n",
       "      <td>0.324661</td>\n",
       "      <td>0.202413</td>\n",
       "      <td>0.027798</td>\n",
       "      <td>1.000000</td>\n",
       "      <td>0.342083</td>\n",
       "      <td>0.026568</td>\n",
       "      <td>0.019546</td>\n",
       "    </tr>\n",
       "    <tr>\n",
       "      <th>count_NA_reviewinfo</th>\n",
       "      <td>-0.402526</td>\n",
       "      <td>-0.008493</td>\n",
       "      <td>-0.027030</td>\n",
       "      <td>0.267432</td>\n",
       "      <td>0.426703</td>\n",
       "      <td>0.253918</td>\n",
       "      <td>0.019751</td>\n",
       "      <td>0.342083</td>\n",
       "      <td>1.000000</td>\n",
       "      <td>-0.003085</td>\n",
       "      <td>0.050410</td>\n",
       "    </tr>\n",
       "    <tr>\n",
       "      <th>count_NA_locationinfo</th>\n",
       "      <td>0.019492</td>\n",
       "      <td>-0.014371</td>\n",
       "      <td>-0.016127</td>\n",
       "      <td>-0.009159</td>\n",
       "      <td>-0.010967</td>\n",
       "      <td>0.004573</td>\n",
       "      <td>0.031226</td>\n",
       "      <td>0.026568</td>\n",
       "      <td>-0.003085</td>\n",
       "      <td>1.000000</td>\n",
       "      <td>-0.030476</td>\n",
       "    </tr>\n",
       "    <tr>\n",
       "      <th>count_NA_propertyinfo</th>\n",
       "      <td>-0.167868</td>\n",
       "      <td>0.036156</td>\n",
       "      <td>0.032483</td>\n",
       "      <td>0.069052</td>\n",
       "      <td>-0.016370</td>\n",
       "      <td>0.029641</td>\n",
       "      <td>-0.004789</td>\n",
       "      <td>0.019546</td>\n",
       "      <td>0.050410</td>\n",
       "      <td>-0.030476</td>\n",
       "      <td>1.000000</td>\n",
       "    </tr>\n",
       "  </tbody>\n",
       "</table>\n",
       "</div>"
      ],
      "text/plain": [
       "                       listing_id  price_avg     price  number_of_reviews  \\\n",
       "listing_id               1.000000  -0.058661 -0.046239          -0.506105   \n",
       "price_avg               -0.058661   1.000000  0.946499          -0.110144   \n",
       "price                   -0.046239   0.946499  1.000000          -0.124812   \n",
       "number_of_reviews       -0.506105  -0.110144 -0.124812           1.000000   \n",
       "reviews_per_month       -0.095897  -0.174275 -0.190477           0.601509   \n",
       "count_NA_description    -0.084761  -0.031625 -0.033425           0.108718   \n",
       "count_NA_images          0.007482  -0.169208 -0.179645           0.051698   \n",
       "count_NA_hostinfo       -0.195049  -0.044693 -0.092328           0.244004   \n",
       "count_NA_reviewinfo     -0.402526  -0.008493 -0.027030           0.267432   \n",
       "count_NA_locationinfo    0.019492  -0.014371 -0.016127          -0.009159   \n",
       "count_NA_propertyinfo   -0.167868   0.036156  0.032483           0.069052   \n",
       "\n",
       "                       reviews_per_month  count_NA_description  \\\n",
       "listing_id                     -0.095897             -0.084761   \n",
       "price_avg                      -0.174275             -0.031625   \n",
       "price                          -0.190477             -0.033425   \n",
       "number_of_reviews               0.601509              0.108718   \n",
       "reviews_per_month               1.000000              0.238994   \n",
       "count_NA_description            0.238994              1.000000   \n",
       "count_NA_images                 0.087779              0.041119   \n",
       "count_NA_hostinfo               0.324661              0.202413   \n",
       "count_NA_reviewinfo             0.426703              0.253918   \n",
       "count_NA_locationinfo          -0.010967              0.004573   \n",
       "count_NA_propertyinfo          -0.016370              0.029641   \n",
       "\n",
       "                       count_NA_images  count_NA_hostinfo  \\\n",
       "listing_id                    0.007482          -0.195049   \n",
       "price_avg                    -0.169208          -0.044693   \n",
       "price                        -0.179645          -0.092328   \n",
       "number_of_reviews             0.051698           0.244004   \n",
       "reviews_per_month             0.087779           0.324661   \n",
       "count_NA_description          0.041119           0.202413   \n",
       "count_NA_images               1.000000           0.027798   \n",
       "count_NA_hostinfo             0.027798           1.000000   \n",
       "count_NA_reviewinfo           0.019751           0.342083   \n",
       "count_NA_locationinfo         0.031226           0.026568   \n",
       "count_NA_propertyinfo        -0.004789           0.019546   \n",
       "\n",
       "                       count_NA_reviewinfo  count_NA_locationinfo  \\\n",
       "listing_id                       -0.402526               0.019492   \n",
       "price_avg                        -0.008493              -0.014371   \n",
       "price                            -0.027030              -0.016127   \n",
       "number_of_reviews                 0.267432              -0.009159   \n",
       "reviews_per_month                 0.426703              -0.010967   \n",
       "count_NA_description              0.253918               0.004573   \n",
       "count_NA_images                   0.019751               0.031226   \n",
       "count_NA_hostinfo                 0.342083               0.026568   \n",
       "count_NA_reviewinfo               1.000000              -0.003085   \n",
       "count_NA_locationinfo            -0.003085               1.000000   \n",
       "count_NA_propertyinfo             0.050410              -0.030476   \n",
       "\n",
       "                       count_NA_propertyinfo  \n",
       "listing_id                         -0.167868  \n",
       "price_avg                           0.036156  \n",
       "price                               0.032483  \n",
       "number_of_reviews                   0.069052  \n",
       "reviews_per_month                  -0.016370  \n",
       "count_NA_description                0.029641  \n",
       "count_NA_images                    -0.004789  \n",
       "count_NA_hostinfo                   0.019546  \n",
       "count_NA_reviewinfo                 0.050410  \n",
       "count_NA_locationinfo              -0.030476  \n",
       "count_NA_propertyinfo               1.000000  "
      ]
     },
     "execution_count": 81,
     "metadata": {},
     "output_type": "execute_result"
    },
    {
     "name": "stdout",
     "output_type": "stream",
     "text": [
      "time: 31 ms (started: 2025-04-21 11:42:12 +01:00)\n"
     ]
    }
   ],
   "source": [
    "# whats the correlation? (Pearson)\n",
    "listings_NA_grp_price.corr()"
   ]
  },
  {
   "cell_type": "code",
   "execution_count": 83,
   "id": "d1330794",
   "metadata": {},
   "outputs": [
    {
     "data": {
      "image/png": "[encoded data removed]",
      "text/plain": [
       "<Figure size 432x288 with 1 Axes>"
      ]
     },
     "metadata": {
      "needs_background": "light"
     },
     "output_type": "display_data"
    },
    {
     "name": "stdout",
     "output_type": "stream",
     "text": [
      "time: 5.42 s (started: 2025-04-21 11:42:50 +01:00)\n"
     ]
    }
   ],
   "source": [
    "#check completeness between price and price_avg and decide which variable to use\n",
    "plt.scatter(listings2['price'], listings2['price_avg'], s=3)\n",
    "# plt.title(\"Price vs Reviews per month\")\n",
    "plt.xlabel(\"price\")\n",
    "plt.ylabel(\"price_avg\")\n",
    "plt.show() \n",
    "\n",
    "# looks like they're very much not the same at all??\n",
    "\n",
    "# Use price instead"
   ]
  },
  {
   "cell_type": "code",
   "execution_count": 127,
   "id": "260d15ca",
   "metadata": {},
   "outputs": [
    {
     "data": {
      "image/png": "[encoded data removed]",
      "text/plain": [
       "<Figure size 432x288 with 1 Axes>"
      ]
     },
     "metadata": {},
     "output_type": "display_data"
    },
    {
     "name": "stdout",
     "output_type": "stream",
     "text": [
      "time: 141 ms (started: 2025-04-21 17:46:45 +01:00)\n"
     ]
    }
   ],
   "source": [
    "listings_NA_grp_price.dropna(inplace = True) \n",
    "\n",
    "# if listings had the same characteristics, how much does completeness of info impact price/number of reviews?\n",
    "X = listings_NA_grp_price[['price_avg']]\n",
    "y = listings_NA_grp_price[['number_of_reviews']]\n",
    "\n",
    "# X = X.reshape(length, 1)\n",
    "# y = y.reshape(length, 1)\n",
    "\n",
    "regr = sk.linear_model.LinearRegression()\n",
    "regr.fit(X, y)\n",
    "\n",
    "# print(regr.score(X,y))\n",
    "\n",
    "plt.scatter(X, y,  color='black')\n",
    "plt.plot(X, regr.predict(X), color='blue', linewidth=3)\n",
    "plt.xticks(())\n",
    "plt.yticks(())\n",
    "plt.xlabel('price')\n",
    "plt.ylabel('number of reviews')\n",
    "plt.show()"
   ]
  },
  {
   "cell_type": "code",
   "execution_count": 103,
   "id": "2c383a6f",
   "metadata": {},
   "outputs": [
    {
     "name": "stdout",
     "output_type": "stream",
     "text": [
      "time: 0 ns (started: 2025-04-21 12:21:53 +01:00)\n"
     ]
    }
   ],
   "source": [
    "#drop the 1 null row \n",
    "\n",
    "listings_NA_grp_price = listings_NA_grp_price.dropna(subset=['price'])"
   ]
  },
  {
   "cell_type": "code",
   "execution_count": 106,
   "id": "6a76e23d",
   "metadata": {},
   "outputs": [
    {
     "data": {
      "image/png": "[encoded data removed]",
      "text/plain": [
       "<Figure size 432x288 with 1 Axes>"
      ]
     },
     "metadata": {
      "needs_background": "light"
     },
     "output_type": "display_data"
    },
    {
     "name": "stdout",
     "output_type": "stream",
     "text": [
      "time: 219 ms (started: 2025-04-21 12:28:21 +01:00)\n"
     ]
    }
   ],
   "source": [
    "# Graph price against reviews per month\n",
    "X = listings_NA_grp_price[['price']]\n",
    "y = listings_NA_grp_price[['reviews_per_month']]\n",
    "\n",
    "regr = sk.linear_model.LinearRegression()\n",
    "regr.fit(X, y)\n",
    "\n",
    "plt.scatter(X, y, s=2)\n",
    "\n",
    "plt.plot(X, regr.predict(X), color='blue', linewidth=2)\n",
    "plt.ylim([0, 13])\n",
    "plt.title(\"Price vs Reviews per month\")\n",
    "plt.xlabel(\"Price\")\n",
    "plt.ylabel(\"Average number of monthly reviews\")\n",
    "plt.show()"
   ]
  },
  {
   "cell_type": "code",
   "execution_count": 85,
   "id": "6aa578c4",
   "metadata": {},
   "outputs": [
    {
     "data": {
      "image/png": "[encoded data removed]",
      "text/plain": [
       "<Figure size 432x288 with 1 Axes>"
      ]
     },
     "metadata": {
      "needs_background": "light"
     },
     "output_type": "display_data"
    },
    {
     "name": "stdout",
     "output_type": "stream",
     "text": [
      "time: 187 ms (started: 2025-04-21 11:43:23 +01:00)\n"
     ]
    }
   ],
   "source": [
    "plt.scatter(listings_NA_grp_price['price_avg'], listings_NA_grp_price['reviews_per_month'], s=3)\n",
    "plt.title(\"Price vs Reviews per month\")\n",
    "plt.xlabel(\"Average price\")\n",
    "plt.ylabel(\"Average number of monthly reviews\")\n",
    "plt.show()"
   ]
  },
  {
   "cell_type": "code",
   "execution_count": 38,
   "id": "cf2b9a37",
   "metadata": {},
   "outputs": [
    {
     "data": {
      "text/plain": [
       "<AxesSubplot:xlabel='price_avg', ylabel='number_of_reviews'>"
      ]
     },
     "execution_count": 38,
     "metadata": {},
     "output_type": "execute_result"
    },
    {
     "data": {
      "image/png": "[encoded data removed]",
      "text/plain": [
       "<Figure size 432x288 with 1 Axes>"
      ]
     },
     "metadata": {
      "needs_background": "light"
     },
     "output_type": "display_data"
    },
    {
     "name": "stdout",
     "output_type": "stream",
     "text": [
      "time: 687 ms (started: 2025-04-21 10:27:59 +01:00)\n"
     ]
    }
   ],
   "source": [
    "sns.scatterplot(data=listings_NA_grp_price, x=\"price_avg\", y=\"number_of_reviews\", hue=\"count_NA_images\")"
   ]
  },
  {
   "cell_type": "code",
   "execution_count": 47,
   "id": "404fd7cf",
   "metadata": {
    "scrolled": true
   },
   "outputs": [
    {
     "data": {
      "text/plain": [
       "<AxesSubplot:xlabel='price_avg', ylabel='number_of_reviews'>"
      ]
     },
     "execution_count": 47,
     "metadata": {},
     "output_type": "execute_result"
    },
    {
     "data": {
      "image/png": "[encoded data removed]",
      "text/plain": [
       "<Figure size 432x288 with 1 Axes>"
      ]
     },
     "metadata": {
      "needs_background": "light"
     },
     "output_type": "display_data"
    },
    {
     "name": "stdout",
     "output_type": "stream",
     "text": [
      "time: 672 ms (started: 2025-04-14 18:12:35 +01:00)\n"
     ]
    }
   ],
   "source": [
    "sns.scatterplot(data=listings_NA_grp_price, x=\"price_avg\", y=\"number_of_reviews\", hue=\"count_NA_hostinfo\")"
   ]
  },
  {
   "cell_type": "code",
   "execution_count": 52,
   "id": "734b5906",
   "metadata": {},
   "outputs": [
    {
     "data": {
      "text/plain": [
       "<AxesSubplot:xlabel='count_NA_description', ylabel='number_of_reviews'>"
      ]
     },
     "execution_count": 52,
     "metadata": {},
     "output_type": "execute_result"
    },
    {
     "data": {
      "image/png": "[encoded data removed]",
      "text/plain": [
       "<Figure size 432x288 with 1 Axes>"
      ]
     },
     "metadata": {
      "needs_background": "light"
     },
     "output_type": "display_data"
    },
    {
     "name": "stdout",
     "output_type": "stream",
     "text": [
      "time: 219 ms (started: 2025-04-14 18:25:58 +01:00)\n"
     ]
    }
   ],
   "source": [
    "sns.scatterplot(data=listings_NA_grp_price, x=\"count_NA_description\", y=\"number_of_reviews\")"
   ]
  },
  {
   "cell_type": "code",
   "execution_count": 49,
   "id": "0ebdd3bc",
   "metadata": {
    "scrolled": true
   },
   "outputs": [
    {
     "data": {
      "text/plain": [
       "<AxesSubplot:xlabel='count_NA_images', ylabel='number_of_reviews'>"
      ]
     },
     "execution_count": 49,
     "metadata": {},
     "output_type": "execute_result"
    },
    {
     "data": {
      "image/png": "[encoded data removed]",
      "text/plain": [
       "<Figure size 432x288 with 1 Axes>"
      ]
     },
     "metadata": {
      "needs_background": "light"
     },
     "output_type": "display_data"
    },
    {
     "name": "stdout",
     "output_type": "stream",
     "text": [
      "time: 203 ms (started: 2025-04-14 18:23:00 +01:00)\n"
     ]
    }
   ],
   "source": [
    "sns.scatterplot(data=listings_NA_grp_price, x=\"count_NA_images\", y=\"number_of_reviews\")"
   ]
  },
  {
   "cell_type": "code",
   "execution_count": 48,
   "id": "fb3b5af6",
   "metadata": {},
   "outputs": [
    {
     "data": {
      "text/plain": [
       "<AxesSubplot:xlabel='count_NA_hostinfo', ylabel='number_of_reviews'>"
      ]
     },
     "execution_count": 48,
     "metadata": {},
     "output_type": "execute_result"
    },
    {
     "data": {
      "image/png": "[encoded data removed]",
      "text/plain": [
       "<Figure size 432x288 with 1 Axes>"
      ]
     },
     "metadata": {
      "needs_background": "light"
     },
     "output_type": "display_data"
    },
    {
     "name": "stdout",
     "output_type": "stream",
     "text": [
      "time: 204 ms (started: 2025-04-14 18:13:53 +01:00)\n"
     ]
    }
   ],
   "source": [
    "sns.scatterplot(data=listings_NA_grp_price, x=\"count_NA_hostinfo\", y=\"number_of_reviews\")"
   ]
  },
  {
   "cell_type": "code",
   "execution_count": 193,
   "id": "097fc1b2",
   "metadata": {
    "scrolled": true
   },
   "outputs": [
    {
     "data": {
      "text/plain": [
       "<AxesSubplot:xlabel='count_NA_hostinfo', ylabel='reviews_per_month'>"
      ]
     },
     "execution_count": 193,
     "metadata": {},
     "output_type": "execute_result"
    },
    {
     "data": {
      "image/png": "[encoded data removed]",
      "text/plain": [
       "<Figure size 432x288 with 1 Axes>"
      ]
     },
     "metadata": {
      "needs_background": "light"
     },
     "output_type": "display_data"
    },
    {
     "name": "stdout",
     "output_type": "stream",
     "text": [
      "time: 313 ms (started: 2025-04-18 16:39:58 +01:00)\n"
     ]
    }
   ],
   "source": [
    "sns.scatterplot(data=listings_NA_grp_price, x=\"count_NA_hostinfo\", y=\"reviews_per_month\")"
   ]
  },
  {
   "cell_type": "code",
   "execution_count": 53,
   "id": "16df15c1",
   "metadata": {},
   "outputs": [
    {
     "data": {
      "image/png": "[encoded data removed]",
      "text/plain": [
       "<Figure size 432x288 with 1 Axes>"
      ]
     },
     "metadata": {
      "needs_background": "light"
     },
     "output_type": "display_data"
    },
    {
     "name": "stdout",
     "output_type": "stream",
     "text": [
      "time: 234 ms (started: 2025-04-21 10:56:28 +01:00)\n"
     ]
    }
   ],
   "source": [
    "plt.scatter(listings_NA_grp_price['count_NA_hostinfo'], listings_NA_grp_price['reviews_per_month'], s=5)\n",
    "plt.title(\"Host information vs Reviews per month\")\n",
    "plt.xlabel(\"Number of fields with host information\")\n",
    "plt.ylabel(\"Average number of monthly reviews\")\n",
    "plt.show()"
   ]
  },
  {
   "cell_type": "code",
   "execution_count": 58,
   "id": "3152dae6",
   "metadata": {},
   "outputs": [
    {
     "data": {
      "image/png": "[encoded data removed]",
      "text/plain": [
       "<Figure size 432x288 with 1 Axes>"
      ]
     },
     "metadata": {
      "needs_background": "light"
     },
     "output_type": "display_data"
    },
    {
     "name": "stdout",
     "output_type": "stream",
     "text": [
      "time: 391 ms (started: 2025-04-21 11:19:29 +01:00)\n"
     ]
    }
   ],
   "source": [
    "#Violin plot against reviews per month\n",
    "fig, axes = plt.subplots()\n",
    "\n",
    "axes.violinplot(dataset = [listings_NA_grp_price[listings_NA_grp_price.count_NA_hostinfo == 13][\"reviews_per_month\"].values,\n",
    "                           listings_NA_grp_price[listings_NA_grp_price.count_NA_hostinfo == 14][\"reviews_per_month\"].values,\n",
    "                           listings_NA_grp_price[listings_NA_grp_price.count_NA_hostinfo == 15][\"reviews_per_month\"].values,\n",
    "                           listings_NA_grp_price[listings_NA_grp_price.count_NA_hostinfo == 16][\"reviews_per_month\"].values,\n",
    "                           listings_NA_grp_price[listings_NA_grp_price.count_NA_hostinfo == 17][\"reviews_per_month\"].values,\n",
    "                           listings_NA_grp_price[listings_NA_grp_price.count_NA_hostinfo == 18][\"reviews_per_month\"].values ] )\n",
    "\n",
    "axes.set_title('Completeness of Host Information vs Number of reviews per month')\n",
    "axes.yaxis.grid(True)\n",
    "axes.set_xlabel('Number of host information points')\n",
    "axes.set_ylabel('Number of reviews per month')\n",
    "\n",
    "# Set x-ticks and labels\n",
    "axes.set_xticks(range(1, 7))  # Set the positions of the ticks (1 to 6 for 6 groups)\n",
    "axes.set_xticklabels([13, 14, 15, 16, 17, 18])  # Set the corresponding labels\n",
    "\n",
    "\n",
    "plt.show()"
   ]
  },
  {
   "cell_type": "code",
   "execution_count": 125,
   "id": "a9c6706d",
   "metadata": {},
   "outputs": [
    {
     "data": {
      "image/png": "[encoded data removed]",
      "text/plain": [
       "<Figure size 432x288 with 1 Axes>"
      ]
     },
     "metadata": {
      "needs_background": "light"
     },
     "output_type": "display_data"
    },
    {
     "name": "stdout",
     "output_type": "stream",
     "text": [
      "time: 203 ms (started: 2025-04-21 16:05:25 +01:00)\n"
     ]
    }
   ],
   "source": [
    "# Violin plot against price\n",
    "fig, axes = plt.subplots()\n",
    "\n",
    "axes.violinplot(dataset = [listings_NA_grp_price[listings_NA_grp_price.count_NA_hostinfo == 13][\"price\"].values,\n",
    "                           listings_NA_grp_price[listings_NA_grp_price.count_NA_hostinfo == 14][\"price\"].values,\n",
    "                           listings_NA_grp_price[listings_NA_grp_price.count_NA_hostinfo == 15][\"price\"].values,\n",
    "                           listings_NA_grp_price[listings_NA_grp_price.count_NA_hostinfo == 16][\"price\"].values,\n",
    "                           listings_NA_grp_price[listings_NA_grp_price.count_NA_hostinfo == 17][\"price\"].values,\n",
    "                           listings_NA_grp_price[listings_NA_grp_price.count_NA_hostinfo == 18][\"price\"].values ] )\n",
    "\n",
    "axes.set_title('Completeness of Host Information vs Price')\n",
    "axes.yaxis.grid(True)\n",
    "axes.set_xlabel('Number of host information points')\n",
    "axes.set_ylabel('Listing price')\n",
    "\n",
    "# Set x-ticks and labels\n",
    "axes.set_xticks(range(1, 7))  # Set the positions of the ticks (1 to 6 for 6 groups)\n",
    "axes.set_xticklabels([13, 14, 15, 16, 17, 18])  # Set the corresponding labels\n",
    "\n",
    "\n",
    "plt.show()"
   ]
  },
  {
   "cell_type": "code",
   "execution_count": 43,
   "id": "2abe802c",
   "metadata": {},
   "outputs": [
    {
     "name": "stdout",
     "output_type": "stream",
     "text": [
      "listing_id                 0\n",
      "price_avg                 96\n",
      "number_of_reviews          0\n",
      "reviews_per_month        627\n",
      "count_NA_description       0\n",
      "count_NA_images            0\n",
      "count_NA_hostinfo          0\n",
      "count_NA_reviewinfo        0\n",
      "count_NA_locationinfo      0\n",
      "count_NA_propertyinfo      0\n",
      "dtype: int64\n",
      "time: 16 ms (started: 2025-04-21 10:47:10 +01:00)\n"
     ]
    }
   ],
   "source": [
    "print(listings_NA_grp_price.isnull().sum())  # Check for NaN values in each column"
   ]
  },
  {
   "cell_type": "code",
   "execution_count": 91,
   "id": "ae4f9ba8",
   "metadata": {},
   "outputs": [
    {
     "data": {
      "text/html": [
       "<div>\n",
       "<style scoped>\n",
       "    .dataframe tbody tr th:only-of-type {\n",
       "        vertical-align: middle;\n",
       "    }\n",
       "\n",
       "    .dataframe tbody tr th {\n",
       "        vertical-align: top;\n",
       "    }\n",
       "\n",
       "    .dataframe thead th {\n",
       "        text-align: right;\n",
       "    }\n",
       "</style>\n",
       "<table border=\"1\" class=\"dataframe\">\n",
       "  <thead>\n",
       "    <tr style=\"text-align: right;\">\n",
       "      <th></th>\n",
       "      <th>listing_id</th>\n",
       "      <th>price_avg</th>\n",
       "      <th>price</th>\n",
       "      <th>number_of_reviews</th>\n",
       "      <th>reviews_per_month</th>\n",
       "      <th>count_NA_description</th>\n",
       "      <th>count_NA_images</th>\n",
       "      <th>count_NA_hostinfo</th>\n",
       "      <th>count_NA_reviewinfo</th>\n",
       "      <th>count_NA_locationinfo</th>\n",
       "      <th>count_NA_propertyinfo</th>\n",
       "    </tr>\n",
       "  </thead>\n",
       "  <tbody>\n",
       "  </tbody>\n",
       "</table>\n",
       "</div>"
      ],
      "text/plain": [
       "Empty DataFrame\n",
       "Columns: [listing_id, price_avg, price, number_of_reviews, reviews_per_month, count_NA_description, count_NA_images, count_NA_hostinfo, count_NA_reviewinfo, count_NA_locationinfo, count_NA_propertyinfo]\n",
       "Index: []"
      ]
     },
     "execution_count": 91,
     "metadata": {},
     "output_type": "execute_result"
    },
    {
     "name": "stdout",
     "output_type": "stream",
     "text": [
      "time: 0 ns (started: 2025-04-21 11:47:32 +01:00)\n"
     ]
    }
   ],
   "source": [
    "#see what the null reviews per month looks like\n",
    "listings_NA_grp_price[listings_NA_grp_price['reviews_per_month'].isnull()]\n"
   ]
  },
  {
   "cell_type": "code",
   "execution_count": 48,
   "id": "2fe18274",
   "metadata": {
    "scrolled": true
   },
   "outputs": [
    {
     "data": {
      "text/html": [
       "<div>\n",
       "<style scoped>\n",
       "    .dataframe tbody tr th:only-of-type {\n",
       "        vertical-align: middle;\n",
       "    }\n",
       "\n",
       "    .dataframe tbody tr th {\n",
       "        vertical-align: top;\n",
       "    }\n",
       "\n",
       "    .dataframe thead th {\n",
       "        text-align: right;\n",
       "    }\n",
       "</style>\n",
       "<table border=\"1\" class=\"dataframe\">\n",
       "  <thead>\n",
       "    <tr style=\"text-align: right;\">\n",
       "      <th></th>\n",
       "      <th>listing_id</th>\n",
       "      <th>price_avg</th>\n",
       "      <th>number_of_reviews</th>\n",
       "      <th>reviews_per_month</th>\n",
       "      <th>count_NA_description</th>\n",
       "      <th>count_NA_images</th>\n",
       "      <th>count_NA_hostinfo</th>\n",
       "      <th>count_NA_reviewinfo</th>\n",
       "      <th>count_NA_locationinfo</th>\n",
       "      <th>count_NA_propertyinfo</th>\n",
       "    </tr>\n",
       "  </thead>\n",
       "  <tbody>\n",
       "  </tbody>\n",
       "</table>\n",
       "</div>"
      ],
      "text/plain": [
       "Empty DataFrame\n",
       "Columns: [listing_id, price_avg, number_of_reviews, reviews_per_month, count_NA_description, count_NA_images, count_NA_hostinfo, count_NA_reviewinfo, count_NA_locationinfo, count_NA_propertyinfo]\n",
       "Index: []"
      ]
     },
     "execution_count": 48,
     "metadata": {},
     "output_type": "execute_result"
    },
    {
     "name": "stdout",
     "output_type": "stream",
     "text": [
      "time: 0 ns (started: 2025-04-21 10:53:13 +01:00)\n"
     ]
    }
   ],
   "source": [
    "#impute where 'reviews_per_month' is null with 0's, since the number of reviews is 0\n",
    "listings_NA_grp_price.fillna(0, inplace=True)  # Fill NaN values with 0 (or another value)\n",
    "listings_NA_grp_price[listings_NA_grp_price['reviews_per_month'].isnull()]"
   ]
  },
  {
   "cell_type": "code",
   "execution_count": 52,
   "id": "c7182b73",
   "metadata": {},
   "outputs": [
    {
     "data": {
      "text/plain": [
       "0       4.07\n",
       "1       1.48\n",
       "2       1.15\n",
       "3       0.00\n",
       "4       0.89\n",
       "        ... \n",
       "3813    0.30\n",
       "3814    2.00\n",
       "3815    0.00\n",
       "3816    0.00\n",
       "3817    0.00\n",
       "Name: reviews_per_month, Length: 3818, dtype: float64"
      ]
     },
     "execution_count": 52,
     "metadata": {},
     "output_type": "execute_result"
    },
    {
     "name": "stdout",
     "output_type": "stream",
     "text": [
      "time: 0 ns (started: 2025-04-21 10:56:04 +01:00)\n"
     ]
    }
   ],
   "source": [
    "listings_NA_grp_price['reviews_per_month']"
   ]
  },
  {
   "cell_type": "code",
   "execution_count": 50,
   "id": "b492ecb5",
   "metadata": {},
   "outputs": [
    {
     "name": "stdout",
     "output_type": "stream",
     "text": [
      "Month 13: 0 values\n",
      "Month 14: 0 values\n",
      "Month 15: 0 values\n",
      "Month 16: 0 values\n",
      "Month 17: 0 values\n",
      "Month 18: 0 values\n",
      "time: 0 ns (started: 2025-04-21 10:55:16 +01:00)\n"
     ]
    }
   ],
   "source": [
    "for month in range(13, 19):\n",
    "    count_values = listings_NA_grp_price[listings_NA_grp_price.reviews_per_month == month][\"count_NA_hostinfo\"].values\n",
    "    print(f\"Month {month}: {len(count_values)} values\")\n"
   ]
  },
  {
   "cell_type": "code",
   "execution_count": 53,
   "id": "470b349d",
   "metadata": {},
   "outputs": [
    {
     "data": {
      "text/plain": [
       "<AxesSubplot:xlabel='count_NA_reviewinfo', ylabel='number_of_reviews'>"
      ]
     },
     "execution_count": 53,
     "metadata": {},
     "output_type": "execute_result"
    },
    {
     "data": {
      "image/png": "[encoded data removed]",
      "text/plain": [
       "<Figure size 432x288 with 1 Axes>"
      ]
     },
     "metadata": {
      "needs_background": "light"
     },
     "output_type": "display_data"
    },
    {
     "name": "stdout",
     "output_type": "stream",
     "text": [
      "time: 172 ms (started: 2025-04-14 18:27:12 +01:00)\n"
     ]
    }
   ],
   "source": [
    "sns.scatterplot(data=listings_NA_grp_price, x=\"count_NA_reviewinfo\", y=\"number_of_reviews\")"
   ]
  },
  {
   "cell_type": "code",
   "execution_count": 54,
   "id": "3dab2375",
   "metadata": {},
   "outputs": [
    {
     "data": {
      "text/plain": [
       "<AxesSubplot:xlabel='count_NA_locationinfo', ylabel='number_of_reviews'>"
      ]
     },
     "execution_count": 54,
     "metadata": {},
     "output_type": "execute_result"
    },
    {
     "data": {
      "image/png": "[encoded data removed]",
      "text/plain": [
       "<Figure size 432x288 with 1 Axes>"
      ]
     },
     "metadata": {
      "needs_background": "light"
     },
     "output_type": "display_data"
    },
    {
     "name": "stdout",
     "output_type": "stream",
     "text": [
      "time: 172 ms (started: 2025-04-14 18:27:14 +01:00)\n"
     ]
    }
   ],
   "source": [
    "sns.scatterplot(data=listings_NA_grp_price, x=\"count_NA_locationinfo\", y=\"number_of_reviews\")"
   ]
  },
  {
   "cell_type": "code",
   "execution_count": 55,
   "id": "f7bfced3",
   "metadata": {
    "scrolled": true
   },
   "outputs": [
    {
     "data": {
      "text/plain": [
       "<AxesSubplot:xlabel='count_NA_propertyinfo', ylabel='number_of_reviews'>"
      ]
     },
     "execution_count": 55,
     "metadata": {},
     "output_type": "execute_result"
    },
    {
     "data": {
      "image/png": "[encoded data removed]",
      "text/plain": [
       "<Figure size 432x288 with 1 Axes>"
      ]
     },
     "metadata": {
      "needs_background": "light"
     },
     "output_type": "display_data"
    },
    {
     "name": "stdout",
     "output_type": "stream",
     "text": [
      "time: 188 ms (started: 2025-04-14 18:27:16 +01:00)\n"
     ]
    }
   ],
   "source": [
    "sns.scatterplot(data=listings_NA_grp_price, x=\"count_NA_propertyinfo\", y=\"number_of_reviews\")"
   ]
  },
  {
   "cell_type": "code",
   "execution_count": 36,
   "id": "082aea67",
   "metadata": {},
   "outputs": [
    {
     "data": {
      "text/html": [
       "<div>\n",
       "<style scoped>\n",
       "    .dataframe tbody tr th:only-of-type {\n",
       "        vertical-align: middle;\n",
       "    }\n",
       "\n",
       "    .dataframe tbody tr th {\n",
       "        vertical-align: top;\n",
       "    }\n",
       "\n",
       "    .dataframe thead th {\n",
       "        text-align: right;\n",
       "    }\n",
       "</style>\n",
       "<table border=\"1\" class=\"dataframe\">\n",
       "  <thead>\n",
       "    <tr style=\"text-align: right;\">\n",
       "      <th></th>\n",
       "      <th>listing_id</th>\n",
       "      <th>price_avg</th>\n",
       "      <th>number_of_reviews</th>\n",
       "      <th>count_NA_description</th>\n",
       "      <th>count_NA_images</th>\n",
       "      <th>count_NA_hostinfo</th>\n",
       "      <th>count_NA_reviewinfo</th>\n",
       "      <th>count_NA_locationinfo</th>\n",
       "      <th>count_NA_propertyinfo</th>\n",
       "    </tr>\n",
       "  </thead>\n",
       "  <tbody>\n",
       "    <tr>\n",
       "      <th>0</th>\n",
       "      <td>241032</td>\n",
       "      <td>85.000000</td>\n",
       "      <td>207</td>\n",
       "      <td>1</td>\n",
       "      <td>1</td>\n",
       "      <td>18</td>\n",
       "      <td>9</td>\n",
       "      <td>8</td>\n",
       "      <td>8</td>\n",
       "    </tr>\n",
       "    <tr>\n",
       "      <th>1</th>\n",
       "      <td>953595</td>\n",
       "      <td>170.931271</td>\n",
       "      <td>43</td>\n",
       "      <td>5</td>\n",
       "      <td>3</td>\n",
       "      <td>18</td>\n",
       "      <td>9</td>\n",
       "      <td>8</td>\n",
       "      <td>8</td>\n",
       "    </tr>\n",
       "    <tr>\n",
       "      <th>2</th>\n",
       "      <td>3308979</td>\n",
       "      <td>894.186047</td>\n",
       "      <td>20</td>\n",
       "      <td>5</td>\n",
       "      <td>1</td>\n",
       "      <td>18</td>\n",
       "      <td>9</td>\n",
       "      <td>8</td>\n",
       "      <td>8</td>\n",
       "    </tr>\n",
       "    <tr>\n",
       "      <th>3</th>\n",
       "      <td>7421966</td>\n",
       "      <td>100.000000</td>\n",
       "      <td>0</td>\n",
       "      <td>1</td>\n",
       "      <td>1</td>\n",
       "      <td>14</td>\n",
       "      <td>0</td>\n",
       "      <td>8</td>\n",
       "      <td>8</td>\n",
       "    </tr>\n",
       "    <tr>\n",
       "      <th>4</th>\n",
       "      <td>278830</td>\n",
       "      <td>462.739726</td>\n",
       "      <td>38</td>\n",
       "      <td>5</td>\n",
       "      <td>1</td>\n",
       "      <td>17</td>\n",
       "      <td>9</td>\n",
       "      <td>8</td>\n",
       "      <td>8</td>\n",
       "    </tr>\n",
       "  </tbody>\n",
       "</table>\n",
       "</div>"
      ],
      "text/plain": [
       "   listing_id   price_avg  number_of_reviews  count_NA_description  \\\n",
       "0      241032   85.000000                207                     1   \n",
       "1      953595  170.931271                 43                     5   \n",
       "2     3308979  894.186047                 20                     5   \n",
       "3     7421966  100.000000                  0                     1   \n",
       "4      278830  462.739726                 38                     5   \n",
       "\n",
       "   count_NA_images  count_NA_hostinfo  count_NA_reviewinfo  \\\n",
       "0                1                 18                    9   \n",
       "1                3                 18                    9   \n",
       "2                1                 18                    9   \n",
       "3                1                 14                    0   \n",
       "4                1                 17                    9   \n",
       "\n",
       "   count_NA_locationinfo  count_NA_propertyinfo  \n",
       "0                      8                      8  \n",
       "1                      8                      8  \n",
       "2                      8                      8  \n",
       "3                      8                      8  \n",
       "4                      8                      8  "
      ]
     },
     "execution_count": 36,
     "metadata": {},
     "output_type": "execute_result"
    },
    {
     "name": "stdout",
     "output_type": "stream",
     "text": [
      "time: 0 ns (started: 2025-04-18 09:38:23 +01:00)\n"
     ]
    }
   ],
   "source": [
    "listings_NA_grp_price.head()"
   ]
  },
  {
   "cell_type": "code",
   "execution_count": 118,
   "id": "9019fabf",
   "metadata": {},
   "outputs": [
    {
     "data": {
      "text/html": [
       "<div>\n",
       "<style scoped>\n",
       "    .dataframe tbody tr th:only-of-type {\n",
       "        vertical-align: middle;\n",
       "    }\n",
       "\n",
       "    .dataframe tbody tr th {\n",
       "        vertical-align: top;\n",
       "    }\n",
       "\n",
       "    .dataframe thead th {\n",
       "        text-align: right;\n",
       "    }\n",
       "</style>\n",
       "<table border=\"1\" class=\"dataframe\">\n",
       "  <thead>\n",
       "    <tr style=\"text-align: right;\">\n",
       "      <th></th>\n",
       "      <th>listing_id</th>\n",
       "      <th>price_avg</th>\n",
       "      <th>price</th>\n",
       "      <th>number_of_reviews</th>\n",
       "      <th>reviews_per_month</th>\n",
       "      <th>count_NA_description</th>\n",
       "      <th>count_NA_images</th>\n",
       "      <th>count_NA_hostinfo</th>\n",
       "      <th>count_NA_reviewinfo</th>\n",
       "      <th>count_NA_locationinfo</th>\n",
       "      <th>count_NA_propertyinfo</th>\n",
       "    </tr>\n",
       "  </thead>\n",
       "  <tbody>\n",
       "    <tr>\n",
       "      <th>0</th>\n",
       "      <td>241032</td>\n",
       "      <td>85.000000</td>\n",
       "      <td>85.0</td>\n",
       "      <td>207</td>\n",
       "      <td>4.07</td>\n",
       "      <td>1</td>\n",
       "      <td>1</td>\n",
       "      <td>18</td>\n",
       "      <td>9</td>\n",
       "      <td>8</td>\n",
       "      <td>8</td>\n",
       "    </tr>\n",
       "    <tr>\n",
       "      <th>1</th>\n",
       "      <td>953595</td>\n",
       "      <td>170.931271</td>\n",
       "      <td>150.0</td>\n",
       "      <td>43</td>\n",
       "      <td>1.48</td>\n",
       "      <td>5</td>\n",
       "      <td>3</td>\n",
       "      <td>18</td>\n",
       "      <td>9</td>\n",
       "      <td>8</td>\n",
       "      <td>8</td>\n",
       "    </tr>\n",
       "    <tr>\n",
       "      <th>2</th>\n",
       "      <td>3308979</td>\n",
       "      <td>894.186047</td>\n",
       "      <td>975.0</td>\n",
       "      <td>20</td>\n",
       "      <td>1.15</td>\n",
       "      <td>5</td>\n",
       "      <td>1</td>\n",
       "      <td>18</td>\n",
       "      <td>9</td>\n",
       "      <td>8</td>\n",
       "      <td>8</td>\n",
       "    </tr>\n",
       "    <tr>\n",
       "      <th>3</th>\n",
       "      <td>7421966</td>\n",
       "      <td>100.000000</td>\n",
       "      <td>100.0</td>\n",
       "      <td>0</td>\n",
       "      <td>0.00</td>\n",
       "      <td>1</td>\n",
       "      <td>1</td>\n",
       "      <td>14</td>\n",
       "      <td>0</td>\n",
       "      <td>8</td>\n",
       "      <td>8</td>\n",
       "    </tr>\n",
       "    <tr>\n",
       "      <th>4</th>\n",
       "      <td>278830</td>\n",
       "      <td>462.739726</td>\n",
       "      <td>450.0</td>\n",
       "      <td>38</td>\n",
       "      <td>0.89</td>\n",
       "      <td>5</td>\n",
       "      <td>1</td>\n",
       "      <td>17</td>\n",
       "      <td>9</td>\n",
       "      <td>8</td>\n",
       "      <td>8</td>\n",
       "    </tr>\n",
       "  </tbody>\n",
       "</table>\n",
       "</div>"
      ],
      "text/plain": [
       "   listing_id   price_avg  price  number_of_reviews  reviews_per_month  \\\n",
       "0      241032   85.000000   85.0                207               4.07   \n",
       "1      953595  170.931271  150.0                 43               1.48   \n",
       "2     3308979  894.186047  975.0                 20               1.15   \n",
       "3     7421966  100.000000  100.0                  0               0.00   \n",
       "4      278830  462.739726  450.0                 38               0.89   \n",
       "\n",
       "   count_NA_description  count_NA_images  count_NA_hostinfo  \\\n",
       "0                     1                1                 18   \n",
       "1                     5                3                 18   \n",
       "2                     5                1                 18   \n",
       "3                     1                1                 14   \n",
       "4                     5                1                 17   \n",
       "\n",
       "   count_NA_reviewinfo  count_NA_locationinfo  count_NA_propertyinfo  \n",
       "0                    9                      8                      8  \n",
       "1                    9                      8                      8  \n",
       "2                    9                      8                      8  \n",
       "3                    0                      8                      8  \n",
       "4                    9                      8                      8  "
      ]
     },
     "execution_count": 118,
     "metadata": {},
     "output_type": "execute_result"
    },
    {
     "name": "stdout",
     "output_type": "stream",
     "text": [
      "time: 15 ms (started: 2025-04-21 15:57:14 +01:00)\n"
     ]
    }
   ],
   "source": [
    "listings_NA_grp_price.head()"
   ]
  },
  {
   "cell_type": "code",
   "execution_count": 114,
   "id": "f924889a",
   "metadata": {},
   "outputs": [
    {
     "data": {
      "text/html": [
       "<div>\n",
       "<style scoped>\n",
       "    .dataframe tbody tr th:only-of-type {\n",
       "        vertical-align: middle;\n",
       "    }\n",
       "\n",
       "    .dataframe tbody tr th {\n",
       "        vertical-align: top;\n",
       "    }\n",
       "\n",
       "    .dataframe thead th {\n",
       "        text-align: right;\n",
       "    }\n",
       "</style>\n",
       "<table border=\"1\" class=\"dataframe\">\n",
       "  <thead>\n",
       "    <tr style=\"text-align: right;\">\n",
       "      <th></th>\n",
       "      <th>listing_id</th>\n",
       "      <th>review_scores_rating</th>\n",
       "      <th>property_type</th>\n",
       "      <th>room_type</th>\n",
       "      <th>accommodates</th>\n",
       "      <th>cancellation_policy</th>\n",
       "      <th>neighbourhood_group_cleansed</th>\n",
       "      <th>price_avg</th>\n",
       "      <th>price</th>\n",
       "      <th>number_of_reviews</th>\n",
       "      <th>reviews_per_month</th>\n",
       "      <th>count_NA_description</th>\n",
       "      <th>count_NA_images</th>\n",
       "      <th>count_NA_hostinfo</th>\n",
       "      <th>count_NA_reviewinfo</th>\n",
       "      <th>count_NA_locationinfo</th>\n",
       "      <th>count_NA_propertyinfo</th>\n",
       "    </tr>\n",
       "  </thead>\n",
       "  <tbody>\n",
       "    <tr>\n",
       "      <th>0</th>\n",
       "      <td>241032</td>\n",
       "      <td>95.0</td>\n",
       "      <td>Apartment</td>\n",
       "      <td>Entire home/apt</td>\n",
       "      <td>4</td>\n",
       "      <td>moderate</td>\n",
       "      <td>Queen Anne</td>\n",
       "      <td>85.000000</td>\n",
       "      <td>85.0</td>\n",
       "      <td>207.0</td>\n",
       "      <td>4.07</td>\n",
       "      <td>1.0</td>\n",
       "      <td>1.0</td>\n",
       "      <td>18.0</td>\n",
       "      <td>9.0</td>\n",
       "      <td>8.0</td>\n",
       "      <td>8.0</td>\n",
       "    </tr>\n",
       "    <tr>\n",
       "      <th>1</th>\n",
       "      <td>953595</td>\n",
       "      <td>96.0</td>\n",
       "      <td>Apartment</td>\n",
       "      <td>Entire home/apt</td>\n",
       "      <td>4</td>\n",
       "      <td>strict</td>\n",
       "      <td>Queen Anne</td>\n",
       "      <td>170.931271</td>\n",
       "      <td>150.0</td>\n",
       "      <td>43.0</td>\n",
       "      <td>1.48</td>\n",
       "      <td>5.0</td>\n",
       "      <td>3.0</td>\n",
       "      <td>18.0</td>\n",
       "      <td>9.0</td>\n",
       "      <td>8.0</td>\n",
       "      <td>8.0</td>\n",
       "    </tr>\n",
       "    <tr>\n",
       "      <th>2</th>\n",
       "      <td>3308979</td>\n",
       "      <td>97.0</td>\n",
       "      <td>House</td>\n",
       "      <td>Entire home/apt</td>\n",
       "      <td>11</td>\n",
       "      <td>strict</td>\n",
       "      <td>Queen Anne</td>\n",
       "      <td>894.186047</td>\n",
       "      <td>975.0</td>\n",
       "      <td>20.0</td>\n",
       "      <td>1.15</td>\n",
       "      <td>5.0</td>\n",
       "      <td>1.0</td>\n",
       "      <td>18.0</td>\n",
       "      <td>9.0</td>\n",
       "      <td>8.0</td>\n",
       "      <td>8.0</td>\n",
       "    </tr>\n",
       "    <tr>\n",
       "      <th>3</th>\n",
       "      <td>7421966</td>\n",
       "      <td>NaN</td>\n",
       "      <td>Apartment</td>\n",
       "      <td>Entire home/apt</td>\n",
       "      <td>3</td>\n",
       "      <td>flexible</td>\n",
       "      <td>Queen Anne</td>\n",
       "      <td>100.000000</td>\n",
       "      <td>100.0</td>\n",
       "      <td>0.0</td>\n",
       "      <td>0.00</td>\n",
       "      <td>1.0</td>\n",
       "      <td>1.0</td>\n",
       "      <td>14.0</td>\n",
       "      <td>0.0</td>\n",
       "      <td>8.0</td>\n",
       "      <td>8.0</td>\n",
       "    </tr>\n",
       "    <tr>\n",
       "      <th>4</th>\n",
       "      <td>278830</td>\n",
       "      <td>92.0</td>\n",
       "      <td>House</td>\n",
       "      <td>Entire home/apt</td>\n",
       "      <td>6</td>\n",
       "      <td>strict</td>\n",
       "      <td>Queen Anne</td>\n",
       "      <td>462.739726</td>\n",
       "      <td>450.0</td>\n",
       "      <td>38.0</td>\n",
       "      <td>0.89</td>\n",
       "      <td>5.0</td>\n",
       "      <td>1.0</td>\n",
       "      <td>17.0</td>\n",
       "      <td>9.0</td>\n",
       "      <td>8.0</td>\n",
       "      <td>8.0</td>\n",
       "    </tr>\n",
       "  </tbody>\n",
       "</table>\n",
       "</div>"
      ],
      "text/plain": [
       "   listing_id  review_scores_rating property_type        room_type  \\\n",
       "0      241032                  95.0     Apartment  Entire home/apt   \n",
       "1      953595                  96.0     Apartment  Entire home/apt   \n",
       "2     3308979                  97.0         House  Entire home/apt   \n",
       "3     7421966                   NaN     Apartment  Entire home/apt   \n",
       "4      278830                  92.0         House  Entire home/apt   \n",
       "\n",
       "   accommodates cancellation_policy neighbourhood_group_cleansed   price_avg  \\\n",
       "0             4            moderate                   Queen Anne   85.000000   \n",
       "1             4              strict                   Queen Anne  170.931271   \n",
       "2            11              strict                   Queen Anne  894.186047   \n",
       "3             3            flexible                   Queen Anne  100.000000   \n",
       "4             6              strict                   Queen Anne  462.739726   \n",
       "\n",
       "   price  number_of_reviews  reviews_per_month  count_NA_description  \\\n",
       "0   85.0              207.0               4.07                   1.0   \n",
       "1  150.0               43.0               1.48                   5.0   \n",
       "2  975.0               20.0               1.15                   5.0   \n",
       "3  100.0                0.0               0.00                   1.0   \n",
       "4  450.0               38.0               0.89                   5.0   \n",
       "\n",
       "   count_NA_images  count_NA_hostinfo  count_NA_reviewinfo  \\\n",
       "0              1.0               18.0                  9.0   \n",
       "1              3.0               18.0                  9.0   \n",
       "2              1.0               18.0                  9.0   \n",
       "3              1.0               14.0                  0.0   \n",
       "4              1.0               17.0                  9.0   \n",
       "\n",
       "   count_NA_locationinfo  count_NA_propertyinfo  \n",
       "0                    8.0                    8.0  \n",
       "1                    8.0                    8.0  \n",
       "2                    8.0                    8.0  \n",
       "3                    8.0                    8.0  \n",
       "4                    8.0                    8.0  "
      ]
     },
     "execution_count": 114,
     "metadata": {},
     "output_type": "execute_result"
    },
    {
     "name": "stdout",
     "output_type": "stream",
     "text": [
      "time: 46 ms (started: 2025-04-21 15:56:10 +01:00)\n"
     ]
    }
   ],
   "source": [
    "# merge NA_grp data with main listings table\n",
    "listings_main = pd.merge(listings2[['listing_id', \n",
    "#                                     'price_avg', 'number_of_reviews', 'reviews_per_month',\n",
    "                                    'review_scores_rating','property_type',\n",
    "                                    'room_type','accommodates','cancellation_policy',\n",
    "                                    'neighbourhood_group_cleansed']], \n",
    "                         listings_NA_grp_price, on='listing_id', how='left')\n",
    "listings_main.head()"
   ]
  },
  {
   "cell_type": "code",
   "execution_count": 119,
   "id": "873d6f34",
   "metadata": {},
   "outputs": [
    {
     "name": "stdout",
     "output_type": "stream",
     "text": [
      "time: 31 ms (started: 2025-04-21 15:57:25 +01:00)\n"
     ]
    }
   ],
   "source": [
    "# Dummy the categorical variables\n",
    "cat_vars = listings_main.select_dtypes(include=['object']).copy().columns\n",
    "\n",
    "# cat_vars\n",
    "for var in cat_vars:\n",
    "    # for each cat add dummy var, drop original column\n",
    "    listings_main = pd.concat([listings_main.drop(var, axis=1), pd.get_dummies(listings_main[var], prefix=var, prefix_sep='_', drop_first=True)], axis=1)"
   ]
  },
  {
   "cell_type": "code",
   "execution_count": 120,
   "id": "41853ce7",
   "metadata": {
    "scrolled": true
   },
   "outputs": [
    {
     "data": {
      "text/html": [
       "<div>\n",
       "<style scoped>\n",
       "    .dataframe tbody tr th:only-of-type {\n",
       "        vertical-align: middle;\n",
       "    }\n",
       "\n",
       "    .dataframe tbody tr th {\n",
       "        vertical-align: top;\n",
       "    }\n",
       "\n",
       "    .dataframe thead th {\n",
       "        text-align: right;\n",
       "    }\n",
       "</style>\n",
       "<table border=\"1\" class=\"dataframe\">\n",
       "  <thead>\n",
       "    <tr style=\"text-align: right;\">\n",
       "      <th></th>\n",
       "      <th>listing_id</th>\n",
       "      <th>review_scores_rating</th>\n",
       "      <th>accommodates</th>\n",
       "      <th>price_avg</th>\n",
       "      <th>price</th>\n",
       "      <th>number_of_reviews</th>\n",
       "      <th>reviews_per_month</th>\n",
       "      <th>count_NA_description</th>\n",
       "      <th>count_NA_images</th>\n",
       "      <th>count_NA_hostinfo</th>\n",
       "      <th>...</th>\n",
       "      <th>neighbourhood_group_cleansed_Interbay</th>\n",
       "      <th>neighbourhood_group_cleansed_Lake City</th>\n",
       "      <th>neighbourhood_group_cleansed_Magnolia</th>\n",
       "      <th>neighbourhood_group_cleansed_Northgate</th>\n",
       "      <th>neighbourhood_group_cleansed_Other neighborhoods</th>\n",
       "      <th>neighbourhood_group_cleansed_Queen Anne</th>\n",
       "      <th>neighbourhood_group_cleansed_Rainier Valley</th>\n",
       "      <th>neighbourhood_group_cleansed_Seward Park</th>\n",
       "      <th>neighbourhood_group_cleansed_University District</th>\n",
       "      <th>neighbourhood_group_cleansed_West Seattle</th>\n",
       "    </tr>\n",
       "  </thead>\n",
       "  <tbody>\n",
       "    <tr>\n",
       "      <th>0</th>\n",
       "      <td>241032</td>\n",
       "      <td>95.0</td>\n",
       "      <td>4</td>\n",
       "      <td>85.000000</td>\n",
       "      <td>85.0</td>\n",
       "      <td>207.0</td>\n",
       "      <td>4.07</td>\n",
       "      <td>1.0</td>\n",
       "      <td>1.0</td>\n",
       "      <td>18.0</td>\n",
       "      <td>...</td>\n",
       "      <td>0</td>\n",
       "      <td>0</td>\n",
       "      <td>0</td>\n",
       "      <td>0</td>\n",
       "      <td>0</td>\n",
       "      <td>1</td>\n",
       "      <td>0</td>\n",
       "      <td>0</td>\n",
       "      <td>0</td>\n",
       "      <td>0</td>\n",
       "    </tr>\n",
       "    <tr>\n",
       "      <th>1</th>\n",
       "      <td>953595</td>\n",
       "      <td>96.0</td>\n",
       "      <td>4</td>\n",
       "      <td>170.931271</td>\n",
       "      <td>150.0</td>\n",
       "      <td>43.0</td>\n",
       "      <td>1.48</td>\n",
       "      <td>5.0</td>\n",
       "      <td>3.0</td>\n",
       "      <td>18.0</td>\n",
       "      <td>...</td>\n",
       "      <td>0</td>\n",
       "      <td>0</td>\n",
       "      <td>0</td>\n",
       "      <td>0</td>\n",
       "      <td>0</td>\n",
       "      <td>1</td>\n",
       "      <td>0</td>\n",
       "      <td>0</td>\n",
       "      <td>0</td>\n",
       "      <td>0</td>\n",
       "    </tr>\n",
       "    <tr>\n",
       "      <th>2</th>\n",
       "      <td>3308979</td>\n",
       "      <td>97.0</td>\n",
       "      <td>11</td>\n",
       "      <td>894.186047</td>\n",
       "      <td>975.0</td>\n",
       "      <td>20.0</td>\n",
       "      <td>1.15</td>\n",
       "      <td>5.0</td>\n",
       "      <td>1.0</td>\n",
       "      <td>18.0</td>\n",
       "      <td>...</td>\n",
       "      <td>0</td>\n",
       "      <td>0</td>\n",
       "      <td>0</td>\n",
       "      <td>0</td>\n",
       "      <td>0</td>\n",
       "      <td>1</td>\n",
       "      <td>0</td>\n",
       "      <td>0</td>\n",
       "      <td>0</td>\n",
       "      <td>0</td>\n",
       "    </tr>\n",
       "    <tr>\n",
       "      <th>3</th>\n",
       "      <td>7421966</td>\n",
       "      <td>NaN</td>\n",
       "      <td>3</td>\n",
       "      <td>100.000000</td>\n",
       "      <td>100.0</td>\n",
       "      <td>0.0</td>\n",
       "      <td>0.00</td>\n",
       "      <td>1.0</td>\n",
       "      <td>1.0</td>\n",
       "      <td>14.0</td>\n",
       "      <td>...</td>\n",
       "      <td>0</td>\n",
       "      <td>0</td>\n",
       "      <td>0</td>\n",
       "      <td>0</td>\n",
       "      <td>0</td>\n",
       "      <td>1</td>\n",
       "      <td>0</td>\n",
       "      <td>0</td>\n",
       "      <td>0</td>\n",
       "      <td>0</td>\n",
       "    </tr>\n",
       "    <tr>\n",
       "      <th>4</th>\n",
       "      <td>278830</td>\n",
       "      <td>92.0</td>\n",
       "      <td>6</td>\n",
       "      <td>462.739726</td>\n",
       "      <td>450.0</td>\n",
       "      <td>38.0</td>\n",
       "      <td>0.89</td>\n",
       "      <td>5.0</td>\n",
       "      <td>1.0</td>\n",
       "      <td>17.0</td>\n",
       "      <td>...</td>\n",
       "      <td>0</td>\n",
       "      <td>0</td>\n",
       "      <td>0</td>\n",
       "      <td>0</td>\n",
       "      <td>0</td>\n",
       "      <td>1</td>\n",
       "      <td>0</td>\n",
       "      <td>0</td>\n",
       "      <td>0</td>\n",
       "      <td>0</td>\n",
       "    </tr>\n",
       "  </tbody>\n",
       "</table>\n",
       "<p>5 rows × 48 columns</p>\n",
       "</div>"
      ],
      "text/plain": [
       "   listing_id  review_scores_rating  accommodates   price_avg  price  \\\n",
       "0      241032                  95.0             4   85.000000   85.0   \n",
       "1      953595                  96.0             4  170.931271  150.0   \n",
       "2     3308979                  97.0            11  894.186047  975.0   \n",
       "3     7421966                   NaN             3  100.000000  100.0   \n",
       "4      278830                  92.0             6  462.739726  450.0   \n",
       "\n",
       "   number_of_reviews  reviews_per_month  count_NA_description  \\\n",
       "0              207.0               4.07                   1.0   \n",
       "1               43.0               1.48                   5.0   \n",
       "2               20.0               1.15                   5.0   \n",
       "3                0.0               0.00                   1.0   \n",
       "4               38.0               0.89                   5.0   \n",
       "\n",
       "   count_NA_images  count_NA_hostinfo  ...  \\\n",
       "0              1.0               18.0  ...   \n",
       "1              3.0               18.0  ...   \n",
       "2              1.0               18.0  ...   \n",
       "3              1.0               14.0  ...   \n",
       "4              1.0               17.0  ...   \n",
       "\n",
       "   neighbourhood_group_cleansed_Interbay  \\\n",
       "0                                      0   \n",
       "1                                      0   \n",
       "2                                      0   \n",
       "3                                      0   \n",
       "4                                      0   \n",
       "\n",
       "   neighbourhood_group_cleansed_Lake City  \\\n",
       "0                                       0   \n",
       "1                                       0   \n",
       "2                                       0   \n",
       "3                                       0   \n",
       "4                                       0   \n",
       "\n",
       "   neighbourhood_group_cleansed_Magnolia  \\\n",
       "0                                      0   \n",
       "1                                      0   \n",
       "2                                      0   \n",
       "3                                      0   \n",
       "4                                      0   \n",
       "\n",
       "   neighbourhood_group_cleansed_Northgate  \\\n",
       "0                                       0   \n",
       "1                                       0   \n",
       "2                                       0   \n",
       "3                                       0   \n",
       "4                                       0   \n",
       "\n",
       "   neighbourhood_group_cleansed_Other neighborhoods  \\\n",
       "0                                                 0   \n",
       "1                                                 0   \n",
       "2                                                 0   \n",
       "3                                                 0   \n",
       "4                                                 0   \n",
       "\n",
       "   neighbourhood_group_cleansed_Queen Anne  \\\n",
       "0                                        1   \n",
       "1                                        1   \n",
       "2                                        1   \n",
       "3                                        1   \n",
       "4                                        1   \n",
       "\n",
       "   neighbourhood_group_cleansed_Rainier Valley  \\\n",
       "0                                            0   \n",
       "1                                            0   \n",
       "2                                            0   \n",
       "3                                            0   \n",
       "4                                            0   \n",
       "\n",
       "   neighbourhood_group_cleansed_Seward Park  \\\n",
       "0                                         0   \n",
       "1                                         0   \n",
       "2                                         0   \n",
       "3                                         0   \n",
       "4                                         0   \n",
       "\n",
       "   neighbourhood_group_cleansed_University District  \\\n",
       "0                                                 0   \n",
       "1                                                 0   \n",
       "2                                                 0   \n",
       "3                                                 0   \n",
       "4                                                 0   \n",
       "\n",
       "   neighbourhood_group_cleansed_West Seattle  \n",
       "0                                          0  \n",
       "1                                          0  \n",
       "2                                          0  \n",
       "3                                          0  \n",
       "4                                          0  \n",
       "\n",
       "[5 rows x 48 columns]"
      ]
     },
     "execution_count": 120,
     "metadata": {},
     "output_type": "execute_result"
    },
    {
     "name": "stdout",
     "output_type": "stream",
     "text": [
      "time: 15 ms (started: 2025-04-21 15:57:27 +01:00)\n"
     ]
    }
   ],
   "source": [
    "listings_main.head()"
   ]
  },
  {
   "cell_type": "code",
   "execution_count": 173,
   "id": "bc6fd620",
   "metadata": {
    "scrolled": true
   },
   "outputs": [
    {
     "data": {
      "text/plain": [
       "['listing_id',\n",
       " 'price_avg',\n",
       " 'number_of_reviews',\n",
       " 'reviews_per_month',\n",
       " 'review_scores_rating',\n",
       " 'accommodates',\n",
       " 'count_NA_description',\n",
       " 'count_NA_images',\n",
       " 'count_NA_hostinfo',\n",
       " 'count_NA_reviewinfo',\n",
       " 'count_NA_locationinfo',\n",
       " 'count_NA_propertyinfo',\n",
       " 'property_type_Bed & Breakfast',\n",
       " 'property_type_Boat',\n",
       " 'property_type_Bungalow',\n",
       " 'property_type_Cabin',\n",
       " 'property_type_Camper/RV',\n",
       " 'property_type_Chalet',\n",
       " 'property_type_Condominium',\n",
       " 'property_type_Dorm',\n",
       " 'property_type_House',\n",
       " 'property_type_Loft',\n",
       " 'property_type_Other',\n",
       " 'property_type_Tent',\n",
       " 'property_type_Townhouse',\n",
       " 'property_type_Treehouse',\n",
       " 'property_type_Yurt',\n",
       " 'room_type_Private room',\n",
       " 'room_type_Shared room',\n",
       " 'cancellation_policy_moderate',\n",
       " 'cancellation_policy_strict',\n",
       " 'neighbourhood_group_cleansed_Beacon Hill',\n",
       " 'neighbourhood_group_cleansed_Capitol Hill',\n",
       " 'neighbourhood_group_cleansed_Cascade',\n",
       " 'neighbourhood_group_cleansed_Central Area',\n",
       " 'neighbourhood_group_cleansed_Delridge',\n",
       " 'neighbourhood_group_cleansed_Downtown',\n",
       " 'neighbourhood_group_cleansed_Interbay',\n",
       " 'neighbourhood_group_cleansed_Lake City',\n",
       " 'neighbourhood_group_cleansed_Magnolia',\n",
       " 'neighbourhood_group_cleansed_Northgate',\n",
       " 'neighbourhood_group_cleansed_Other neighborhoods',\n",
       " 'neighbourhood_group_cleansed_Queen Anne',\n",
       " 'neighbourhood_group_cleansed_Rainier Valley',\n",
       " 'neighbourhood_group_cleansed_Seward Park',\n",
       " 'neighbourhood_group_cleansed_University District',\n",
       " 'neighbourhood_group_cleansed_West Seattle']"
      ]
     },
     "execution_count": 173,
     "metadata": {},
     "output_type": "execute_result"
    },
    {
     "name": "stdout",
     "output_type": "stream",
     "text": [
      "time: 141 ms (started: 2025-04-18 14:26:57 +01:00)\n"
     ]
    }
   ],
   "source": [
    "list(listings_main)"
   ]
  },
  {
   "cell_type": "code",
   "execution_count": 174,
   "id": "c0c9ed0c",
   "metadata": {
    "scrolled": false
   },
   "outputs": [
    {
     "name": "stdout",
     "output_type": "stream",
     "text": [
      "                            OLS Regression Results                            \n",
      "==============================================================================\n",
      "Dep. Variable:      number_of_reviews   R-squared:                       0.158\n",
      "Model:                            OLS   Adj. R-squared:                  0.144\n",
      "Method:                 Least Squares   F-statistic:                     11.16\n",
      "Date:                Fri, 18 Apr 2025   Prob (F-statistic):           6.71e-68\n",
      "Time:                        14:27:00   Log-Likelihood:                -12986.\n",
      "No. Observations:                2603   AIC:                         2.606e+04\n",
      "Df Residuals:                    2559   BIC:                         2.632e+04\n",
      "Df Model:                          43                                         \n",
      "Covariance Type:            nonrobust                                         \n",
      "====================================================================================================================\n",
      "                                                       coef    std err          t      P>|t|      [0.025      0.975]\n",
      "--------------------------------------------------------------------------------------------------------------------\n",
      "const                                              -92.8038    155.733     -0.596      0.551    -398.179     212.572\n",
      "price_avg                                           -0.0348      0.012     -2.884      0.004      -0.058      -0.011\n",
      "count_NA_description                                -0.3692      0.524     -0.705      0.481      -1.397       0.658\n",
      "count_NA_images                                      2.7767      1.339      2.074      0.038       0.152       5.401\n",
      "count_NA_hostinfo                                    4.8750      0.638      7.645      0.000       3.625       6.125\n",
      "count_NA_reviewinfo                                  1.8873      0.233      8.099      0.000       1.430       2.344\n",
      "count_NA_locationinfo                               -9.0730     18.963     -0.478      0.632     -46.258      28.112\n",
      "count_NA_propertyinfo                               11.0372      4.044      2.729      0.006       3.107      18.968\n",
      "accommodates                                        -0.7158      0.577     -1.241      0.215      -1.847       0.415\n",
      "property_type_Bed & Breakfast                       -1.6115      7.074     -0.228      0.820     -15.483      12.260\n",
      "property_type_Boat                                 -14.4796     22.274     -0.650      0.516     -58.156      29.197\n",
      "property_type_Bungalow                             -13.0632     12.055     -1.084      0.279     -36.702      10.575\n",
      "property_type_Cabin                                 58.2532     10.498      5.549      0.000      37.667      78.839\n",
      "property_type_Camper/RV                             18.6590     12.811      1.456      0.145      -6.462      43.780\n",
      "property_type_Chalet                               -15.6428     36.159     -0.433      0.665     -86.547      55.262\n",
      "property_type_Condominium                          -12.0413      4.828     -2.494      0.013     -21.509      -2.574\n",
      "property_type_Dorm                                   2.2359     36.371      0.061      0.951     -69.084      73.556\n",
      "property_type_House                                  3.6048      1.910      1.887      0.059      -0.140       7.350\n",
      "property_type_Loft                                  27.9061      6.564      4.251      0.000      15.034      40.778\n",
      "property_type_Other                                  9.8285      9.343      1.052      0.293      -8.493      28.150\n",
      "property_type_Tent                                   0.5228     18.318      0.029      0.977     -35.397      36.443\n",
      "property_type_Townhouse                             -7.7882      4.264     -1.827      0.068     -16.149       0.573\n",
      "property_type_Treehouse                              1.1619     20.841      0.056      0.956     -39.704      42.028\n",
      "property_type_Yurt                                  -2.5271     35.987     -0.070      0.944     -73.093      68.039\n",
      "room_type_Private room                               3.2032      2.022      1.584      0.113      -0.761       7.168\n",
      "room_type_Shared room                              -14.0388      4.335     -3.239      0.001     -22.538      -5.539\n",
      "cancellation_policy_moderate                        10.4647      1.881      5.564      0.000       6.777      14.153\n",
      "cancellation_policy_strict                           6.7264      1.922      3.500      0.000       2.958      10.495\n",
      "neighbourhood_group_cleansed_Beacon Hill            -7.2791      4.863     -1.497      0.135     -16.814       2.256\n",
      "neighbourhood_group_cleansed_Capitol Hill           -4.2475      3.480     -1.220      0.222     -11.072       2.577\n",
      "neighbourhood_group_cleansed_Cascade               -13.9583      5.748     -2.429      0.015     -25.229      -2.688\n",
      "neighbourhood_group_cleansed_Central Area           -6.9384      3.702     -1.874      0.061     -14.197       0.320\n",
      "neighbourhood_group_cleansed_Delridge               -2.3556      5.902     -0.399      0.690     -13.928       9.217\n",
      "neighbourhood_group_cleansed_Downtown               -1.8486      3.766     -0.491      0.624      -9.233       5.536\n",
      "neighbourhood_group_cleansed_Interbay              -21.0372     14.325     -1.469      0.142     -49.127       7.052\n",
      "neighbourhood_group_cleansed_Lake City             -16.0878      5.928     -2.714      0.007     -27.711      -4.464\n",
      "neighbourhood_group_cleansed_Magnolia               -9.7759      6.216     -1.573      0.116     -21.965       2.414\n",
      "neighbourhood_group_cleansed_Northgate             -14.6883      5.991     -2.452      0.014     -26.435      -2.942\n",
      "neighbourhood_group_cleansed_Other neighborhoods    -7.8881      3.246     -2.430      0.015     -14.254      -1.522\n",
      "neighbourhood_group_cleansed_Queen Anne             -4.1996      3.924     -1.070      0.285     -11.894       3.495\n",
      "neighbourhood_group_cleansed_Rainier Valley        -10.8681      4.497     -2.417      0.016     -19.686      -2.051\n",
      "neighbourhood_group_cleansed_Seward Park            -1.4429      7.075     -0.204      0.838     -15.316      12.430\n",
      "neighbourhood_group_cleansed_University District   -19.8564      4.905     -4.048      0.000     -29.474     -10.239\n",
      "neighbourhood_group_cleansed_West Seattle          -11.2530      4.193     -2.684      0.007     -19.474      -3.032\n",
      "==============================================================================\n",
      "Omnibus:                     2433.881   Durbin-Watson:                   1.951\n",
      "Prob(Omnibus):                  0.000   Jarque-Bera (JB):           117161.346\n",
      "Skew:                           4.396   Prob(JB):                         0.00\n",
      "Kurtosis:                      34.669   Cond. No.                     3.65e+04\n",
      "==============================================================================\n",
      "\n",
      "Notes:\n",
      "[1] Standard Errors assume that the covariance matrix of the errors is correctly specified.\n",
      "[2] The condition number is large, 3.65e+04. This might indicate that there are\n",
      "strong multicollinearity or other numerical problems.\n",
      "time: 157 ms (started: 2025-04-18 14:27:00 +01:00)\n"
     ]
    }
   ],
   "source": [
    "### Linear Regression #1: number_of_reviews\n",
    "\n",
    "\n",
    "# Assuming you have your X and y defined as before\n",
    "X = listings_main[[\n",
    "                    'price_avg', \n",
    "                   'count_NA_description', 'count_NA_images', 'count_NA_hostinfo', \n",
    "                   'count_NA_reviewinfo', 'count_NA_locationinfo', 'count_NA_propertyinfo', \n",
    "                    'accommodates',\n",
    "                    'property_type_Bed & Breakfast',\n",
    "                     'property_type_Boat',\n",
    "                     'property_type_Bungalow',\n",
    "                     'property_type_Cabin',\n",
    "                     'property_type_Camper/RV',\n",
    "                     'property_type_Chalet',\n",
    "                     'property_type_Condominium',\n",
    "                     'property_type_Dorm',\n",
    "                     'property_type_House',\n",
    "                     'property_type_Loft',\n",
    "                     'property_type_Other',\n",
    "                     'property_type_Tent',\n",
    "                     'property_type_Townhouse',\n",
    "                     'property_type_Treehouse',\n",
    "                     'property_type_Yurt',\n",
    "                     'room_type_Private room',\n",
    "                     'room_type_Shared room',\n",
    "                     'cancellation_policy_moderate',\n",
    "                     'cancellation_policy_strict',\n",
    "                     'neighbourhood_group_cleansed_Beacon Hill',\n",
    "                     'neighbourhood_group_cleansed_Capitol Hill',\n",
    "                     'neighbourhood_group_cleansed_Cascade',\n",
    "                     'neighbourhood_group_cleansed_Central Area',\n",
    "                     'neighbourhood_group_cleansed_Delridge',\n",
    "                     'neighbourhood_group_cleansed_Downtown',\n",
    "                     'neighbourhood_group_cleansed_Interbay',\n",
    "                     'neighbourhood_group_cleansed_Lake City',\n",
    "                     'neighbourhood_group_cleansed_Magnolia',\n",
    "                     'neighbourhood_group_cleansed_Northgate',\n",
    "                     'neighbourhood_group_cleansed_Other neighborhoods',\n",
    "                     'neighbourhood_group_cleansed_Queen Anne',\n",
    "                     'neighbourhood_group_cleansed_Rainier Valley',\n",
    "                     'neighbourhood_group_cleansed_Seward Park',\n",
    "                     'neighbourhood_group_cleansed_University District',\n",
    "                     'neighbourhood_group_cleansed_West Seattle']]\n",
    "y = listings_main['number_of_reviews']\n",
    "\n",
    "# Split into train and test\n",
    "X_train, X_test, y_train, y_test = train_test_split(X, y, test_size=0.30, random_state=42)\n",
    "\n",
    "# Add a constant to the model (intercept)\n",
    "X_train_sm = sm.add_constant(X_train)\n",
    "\n",
    "# Fit the model using statsmodels\n",
    "model=sm.OLS(y_train, X_train_sm, missing= 'drop').fit()\n",
    "\n",
    "# Get the summary which includes p-values\n",
    "summary = model.summary()\n",
    "print(summary)\n",
    "\n",
    "# To extract coefficients and p-values\n",
    "coefficients = model.params\n",
    "p_values = model.pvalues\n",
    "\n",
    "# Create a DataFrame with coefficients and p-values\n",
    "results_df = pd.DataFrame({'Coefficient': coefficients, 'P-Value': p_values})"
   ]
  },
  {
   "cell_type": "code",
   "execution_count": 128,
   "id": "b7c91957",
   "metadata": {},
   "outputs": [
    {
     "data": {
      "text/plain": [
       "96"
      ]
     },
     "execution_count": 128,
     "metadata": {},
     "output_type": "execute_result"
    },
    {
     "name": "stdout",
     "output_type": "stream",
     "text": [
      "time: 109 ms (started: 2025-04-18 13:38:07 +01:00)\n"
     ]
    }
   ],
   "source": [
    "listings_main['price_avg'].isna().sum()"
   ]
  },
  {
   "cell_type": "code",
   "execution_count": 109,
   "id": "57cdfe78",
   "metadata": {},
   "outputs": [
    {
     "data": {
      "text/html": [
       "<div>\n",
       "<style scoped>\n",
       "    .dataframe tbody tr th:only-of-type {\n",
       "        vertical-align: middle;\n",
       "    }\n",
       "\n",
       "    .dataframe tbody tr th {\n",
       "        vertical-align: top;\n",
       "    }\n",
       "\n",
       "    .dataframe thead th {\n",
       "        text-align: right;\n",
       "    }\n",
       "</style>\n",
       "<table border=\"1\" class=\"dataframe\">\n",
       "  <thead>\n",
       "    <tr style=\"text-align: right;\">\n",
       "      <th></th>\n",
       "      <th>listing_id</th>\n",
       "      <th>price_avg</th>\n",
       "      <th>number_of_reviews</th>\n",
       "      <th>reviews_per_month</th>\n",
       "      <th>review_scores_rating</th>\n",
       "      <th>accommodates</th>\n",
       "      <th>count_NA_description</th>\n",
       "      <th>count_NA_images</th>\n",
       "      <th>count_NA_hostinfo</th>\n",
       "      <th>count_NA_reviewinfo</th>\n",
       "      <th>...</th>\n",
       "      <th>neighbourhood_group_cleansed_Interbay</th>\n",
       "      <th>neighbourhood_group_cleansed_Lake City</th>\n",
       "      <th>neighbourhood_group_cleansed_Magnolia</th>\n",
       "      <th>neighbourhood_group_cleansed_Northgate</th>\n",
       "      <th>neighbourhood_group_cleansed_Other neighborhoods</th>\n",
       "      <th>neighbourhood_group_cleansed_Queen Anne</th>\n",
       "      <th>neighbourhood_group_cleansed_Rainier Valley</th>\n",
       "      <th>neighbourhood_group_cleansed_Seward Park</th>\n",
       "      <th>neighbourhood_group_cleansed_University District</th>\n",
       "      <th>neighbourhood_group_cleansed_West Seattle</th>\n",
       "    </tr>\n",
       "  </thead>\n",
       "  <tbody>\n",
       "    <tr>\n",
       "      <th>0</th>\n",
       "      <td>241032</td>\n",
       "      <td>85.000000</td>\n",
       "      <td>207</td>\n",
       "      <td>4.07</td>\n",
       "      <td>95.0</td>\n",
       "      <td>4</td>\n",
       "      <td>1</td>\n",
       "      <td>1</td>\n",
       "      <td>18</td>\n",
       "      <td>9</td>\n",
       "      <td>...</td>\n",
       "      <td>0</td>\n",
       "      <td>0</td>\n",
       "      <td>0</td>\n",
       "      <td>0</td>\n",
       "      <td>0</td>\n",
       "      <td>1</td>\n",
       "      <td>0</td>\n",
       "      <td>0</td>\n",
       "      <td>0</td>\n",
       "      <td>0</td>\n",
       "    </tr>\n",
       "    <tr>\n",
       "      <th>1</th>\n",
       "      <td>953595</td>\n",
       "      <td>170.931271</td>\n",
       "      <td>43</td>\n",
       "      <td>1.48</td>\n",
       "      <td>96.0</td>\n",
       "      <td>4</td>\n",
       "      <td>5</td>\n",
       "      <td>3</td>\n",
       "      <td>18</td>\n",
       "      <td>9</td>\n",
       "      <td>...</td>\n",
       "      <td>0</td>\n",
       "      <td>0</td>\n",
       "      <td>0</td>\n",
       "      <td>0</td>\n",
       "      <td>0</td>\n",
       "      <td>1</td>\n",
       "      <td>0</td>\n",
       "      <td>0</td>\n",
       "      <td>0</td>\n",
       "      <td>0</td>\n",
       "    </tr>\n",
       "    <tr>\n",
       "      <th>2</th>\n",
       "      <td>3308979</td>\n",
       "      <td>894.186047</td>\n",
       "      <td>20</td>\n",
       "      <td>1.15</td>\n",
       "      <td>97.0</td>\n",
       "      <td>11</td>\n",
       "      <td>5</td>\n",
       "      <td>1</td>\n",
       "      <td>18</td>\n",
       "      <td>9</td>\n",
       "      <td>...</td>\n",
       "      <td>0</td>\n",
       "      <td>0</td>\n",
       "      <td>0</td>\n",
       "      <td>0</td>\n",
       "      <td>0</td>\n",
       "      <td>1</td>\n",
       "      <td>0</td>\n",
       "      <td>0</td>\n",
       "      <td>0</td>\n",
       "      <td>0</td>\n",
       "    </tr>\n",
       "    <tr>\n",
       "      <th>3</th>\n",
       "      <td>7421966</td>\n",
       "      <td>100.000000</td>\n",
       "      <td>0</td>\n",
       "      <td>NaN</td>\n",
       "      <td>NaN</td>\n",
       "      <td>3</td>\n",
       "      <td>1</td>\n",
       "      <td>1</td>\n",
       "      <td>14</td>\n",
       "      <td>0</td>\n",
       "      <td>...</td>\n",
       "      <td>0</td>\n",
       "      <td>0</td>\n",
       "      <td>0</td>\n",
       "      <td>0</td>\n",
       "      <td>0</td>\n",
       "      <td>1</td>\n",
       "      <td>0</td>\n",
       "      <td>0</td>\n",
       "      <td>0</td>\n",
       "      <td>0</td>\n",
       "    </tr>\n",
       "    <tr>\n",
       "      <th>4</th>\n",
       "      <td>278830</td>\n",
       "      <td>462.739726</td>\n",
       "      <td>38</td>\n",
       "      <td>0.89</td>\n",
       "      <td>92.0</td>\n",
       "      <td>6</td>\n",
       "      <td>5</td>\n",
       "      <td>1</td>\n",
       "      <td>17</td>\n",
       "      <td>9</td>\n",
       "      <td>...</td>\n",
       "      <td>0</td>\n",
       "      <td>0</td>\n",
       "      <td>0</td>\n",
       "      <td>0</td>\n",
       "      <td>0</td>\n",
       "      <td>1</td>\n",
       "      <td>0</td>\n",
       "      <td>0</td>\n",
       "      <td>0</td>\n",
       "      <td>0</td>\n",
       "    </tr>\n",
       "  </tbody>\n",
       "</table>\n",
       "<p>5 rows × 47 columns</p>\n",
       "</div>"
      ],
      "text/plain": [
       "   listing_id   price_avg  number_of_reviews  reviews_per_month  \\\n",
       "0      241032   85.000000                207               4.07   \n",
       "1      953595  170.931271                 43               1.48   \n",
       "2     3308979  894.186047                 20               1.15   \n",
       "3     7421966  100.000000                  0                NaN   \n",
       "4      278830  462.739726                 38               0.89   \n",
       "\n",
       "   review_scores_rating  accommodates  count_NA_description  count_NA_images  \\\n",
       "0                  95.0             4                     1                1   \n",
       "1                  96.0             4                     5                3   \n",
       "2                  97.0            11                     5                1   \n",
       "3                   NaN             3                     1                1   \n",
       "4                  92.0             6                     5                1   \n",
       "\n",
       "   count_NA_hostinfo  count_NA_reviewinfo  ...  \\\n",
       "0                 18                    9  ...   \n",
       "1                 18                    9  ...   \n",
       "2                 18                    9  ...   \n",
       "3                 14                    0  ...   \n",
       "4                 17                    9  ...   \n",
       "\n",
       "   neighbourhood_group_cleansed_Interbay  \\\n",
       "0                                      0   \n",
       "1                                      0   \n",
       "2                                      0   \n",
       "3                                      0   \n",
       "4                                      0   \n",
       "\n",
       "   neighbourhood_group_cleansed_Lake City  \\\n",
       "0                                       0   \n",
       "1                                       0   \n",
       "2                                       0   \n",
       "3                                       0   \n",
       "4                                       0   \n",
       "\n",
       "   neighbourhood_group_cleansed_Magnolia  \\\n",
       "0                                      0   \n",
       "1                                      0   \n",
       "2                                      0   \n",
       "3                                      0   \n",
       "4                                      0   \n",
       "\n",
       "   neighbourhood_group_cleansed_Northgate  \\\n",
       "0                                       0   \n",
       "1                                       0   \n",
       "2                                       0   \n",
       "3                                       0   \n",
       "4                                       0   \n",
       "\n",
       "   neighbourhood_group_cleansed_Other neighborhoods  \\\n",
       "0                                                 0   \n",
       "1                                                 0   \n",
       "2                                                 0   \n",
       "3                                                 0   \n",
       "4                                                 0   \n",
       "\n",
       "   neighbourhood_group_cleansed_Queen Anne  \\\n",
       "0                                        1   \n",
       "1                                        1   \n",
       "2                                        1   \n",
       "3                                        1   \n",
       "4                                        1   \n",
       "\n",
       "   neighbourhood_group_cleansed_Rainier Valley  \\\n",
       "0                                            0   \n",
       "1                                            0   \n",
       "2                                            0   \n",
       "3                                            0   \n",
       "4                                            0   \n",
       "\n",
       "   neighbourhood_group_cleansed_Seward Park  \\\n",
       "0                                         0   \n",
       "1                                         0   \n",
       "2                                         0   \n",
       "3                                         0   \n",
       "4                                         0   \n",
       "\n",
       "   neighbourhood_group_cleansed_University District  \\\n",
       "0                                                 0   \n",
       "1                                                 0   \n",
       "2                                                 0   \n",
       "3                                                 0   \n",
       "4                                                 0   \n",
       "\n",
       "   neighbourhood_group_cleansed_West Seattle  \n",
       "0                                          0  \n",
       "1                                          0  \n",
       "2                                          0  \n",
       "3                                          0  \n",
       "4                                          0  \n",
       "\n",
       "[5 rows x 47 columns]"
      ]
     },
     "execution_count": 109,
     "metadata": {},
     "output_type": "execute_result"
    },
    {
     "name": "stdout",
     "output_type": "stream",
     "text": [
      "time: 31 ms (started: 2025-04-21 15:52:33 +01:00)\n"
     ]
    }
   ],
   "source": [
    "listings_main.head()"
   ]
  },
  {
   "cell_type": "code",
   "execution_count": 126,
   "id": "63aab54c",
   "metadata": {},
   "outputs": [
    {
     "name": "stdout",
     "output_type": "stream",
     "text": [
      "                            OLS Regression Results                            \n",
      "==============================================================================\n",
      "Dep. Variable:      reviews_per_month   R-squared:                       0.304\n",
      "Model:                            OLS   Adj. R-squared:                  0.292\n",
      "Method:                 Least Squares   F-statistic:                     25.98\n",
      "Date:                Mon, 21 Apr 2025   Prob (F-statistic):          7.20e-168\n",
      "Time:                        16:21:01   Log-Likelihood:                -4803.1\n",
      "No. Observations:                2603   AIC:                             9694.\n",
      "Df Residuals:                    2559   BIC:                             9952.\n",
      "Df Model:                          43                                         \n",
      "Covariance Type:            nonrobust                                         \n",
      "====================================================================================================================\n",
      "                                                       coef    std err          t      P>|t|      [0.025      0.975]\n",
      "--------------------------------------------------------------------------------------------------------------------\n",
      "const                                                0.4496      6.717      0.067      0.947     -12.722      13.621\n",
      "price_avg                                           -0.0035      0.001     -6.786      0.000      -0.005      -0.003\n",
      "count_NA_description                                 0.1274      0.023      5.636      0.000       0.083       0.172\n",
      "count_NA_images                                      0.1974      0.058      3.419      0.001       0.084       0.311\n",
      "count_NA_hostinfo                                    0.2663      0.028      9.684      0.000       0.212       0.320\n",
      "count_NA_reviewinfo                                  0.1757      0.010     17.484      0.000       0.156       0.195\n",
      "count_NA_locationinfo                               -0.3006      0.818     -0.367      0.713      -1.904       1.303\n",
      "count_NA_propertyinfo                               -0.3227      0.174     -1.850      0.064      -0.665       0.019\n",
      "accommodates                                         0.0045      0.025      0.180      0.857      -0.044       0.053\n",
      "property_type_Bed & Breakfast                       -0.3708      0.305     -1.215      0.224      -0.969       0.227\n",
      "property_type_Boat                                  -0.4791      0.961     -0.499      0.618      -2.363       1.405\n",
      "property_type_Bungalow                              -0.2818      0.520     -0.542      0.588      -1.301       0.738\n",
      "property_type_Cabin                                  1.8784      0.453      4.148      0.000       0.991       2.766\n",
      "property_type_Camper/RV                              1.0099      0.553      1.828      0.068      -0.074       2.093\n",
      "property_type_Chalet                                -2.2712      1.560     -1.456      0.145      -5.330       0.787\n",
      "property_type_Condominium                           -0.4432      0.208     -2.128      0.033      -0.852      -0.035\n",
      "property_type_Dorm                                   0.1610      1.569      0.103      0.918      -2.915       3.237\n",
      "property_type_House                                  0.1139      0.082      1.383      0.167      -0.048       0.275\n",
      "property_type_Loft                                   0.6246      0.283      2.206      0.027       0.069       1.180\n",
      "property_type_Other                                  0.3856      0.403      0.957      0.339      -0.405       1.176\n",
      "property_type_Tent                                  -0.3271      0.790     -0.414      0.679      -1.876       1.222\n",
      "property_type_Townhouse                              0.0390      0.184      0.212      0.832      -0.322       0.400\n",
      "property_type_Treehouse                              0.0980      0.899      0.109      0.913      -1.665       1.861\n",
      "property_type_Yurt                                   2.3224      1.552      1.496      0.135      -0.721       5.366\n",
      "room_type_Private room                               0.0474      0.087      0.544      0.587      -0.124       0.218\n",
      "room_type_Shared room                               -0.7900      0.187     -4.225      0.000      -1.157      -0.423\n",
      "cancellation_policy_moderate                         0.1539      0.081      1.897      0.058      -0.005       0.313\n",
      "cancellation_policy_strict                          -0.1480      0.083     -1.786      0.074      -0.311       0.015\n",
      "neighbourhood_group_cleansed_Beacon Hill            -0.2365      0.210     -1.128      0.260      -0.648       0.175\n",
      "neighbourhood_group_cleansed_Capitol Hill           -0.2407      0.150     -1.604      0.109      -0.535       0.054\n",
      "neighbourhood_group_cleansed_Cascade                -0.3094      0.248     -1.248      0.212      -0.796       0.177\n",
      "neighbourhood_group_cleansed_Central Area           -0.1763      0.160     -1.104      0.270      -0.489       0.137\n",
      "neighbourhood_group_cleansed_Delridge               -0.3413      0.255     -1.341      0.180      -0.840       0.158\n",
      "neighbourhood_group_cleansed_Downtown                0.2437      0.162      1.501      0.134      -0.075       0.562\n",
      "neighbourhood_group_cleansed_Interbay               -0.5535      0.618     -0.896      0.370      -1.765       0.658\n",
      "neighbourhood_group_cleansed_Lake City              -0.8709      0.256     -3.406      0.001      -1.372      -0.370\n",
      "neighbourhood_group_cleansed_Magnolia               -0.5729      0.268     -2.137      0.033      -1.099      -0.047\n",
      "neighbourhood_group_cleansed_Northgate              -1.0527      0.258     -4.074      0.000      -1.559      -0.546\n",
      "neighbourhood_group_cleansed_Other neighborhoods    -0.5405      0.140     -3.860      0.000      -0.815      -0.266\n",
      "neighbourhood_group_cleansed_Queen Anne              0.0987      0.169      0.583      0.560      -0.233       0.431\n",
      "neighbourhood_group_cleansed_Rainier Valley         -0.2161      0.194     -1.114      0.265      -0.596       0.164\n",
      "neighbourhood_group_cleansed_Seward Park             0.1618      0.305      0.530      0.596      -0.437       0.760\n",
      "neighbourhood_group_cleansed_University District    -0.8079      0.212     -3.819      0.000      -1.223      -0.393\n",
      "neighbourhood_group_cleansed_West Seattle           -0.4357      0.181     -2.409      0.016      -0.790      -0.081\n",
      "==============================================================================\n",
      "Omnibus:                      669.146   Durbin-Watson:                   1.965\n",
      "Prob(Omnibus):                  0.000   Jarque-Bera (JB):             1706.437\n",
      "Skew:                           1.380   Prob(JB):                         0.00\n",
      "Kurtosis:                       5.848   Cond. No.                     3.65e+04\n",
      "==============================================================================\n",
      "\n",
      "Notes:\n",
      "[1] Standard Errors assume that the covariance matrix of the errors is correctly specified.\n",
      "[2] The condition number is large, 3.65e+04. This might indicate that there are\n",
      "strong multicollinearity or other numerical problems.\n",
      "time: 63 ms (started: 2025-04-21 16:21:01 +01:00)\n"
     ]
    }
   ],
   "source": [
    "\n",
    "### Linear Regression #2: use 'review_per_month' as the dependent variable instead\n",
    "\n",
    "\n",
    "# Assuming you have your X and y defined as before\n",
    "X = listings_main[[\n",
    "                    'price_avg',  #results in errors\n",
    "                   'count_NA_description', 'count_NA_images', 'count_NA_hostinfo', \n",
    "                   'count_NA_reviewinfo', 'count_NA_locationinfo', 'count_NA_propertyinfo', \n",
    "                    'accommodates',\n",
    "                    'property_type_Bed & Breakfast',\n",
    "                     'property_type_Boat',\n",
    "                     'property_type_Bungalow',\n",
    "                     'property_type_Cabin',\n",
    "                     'property_type_Camper/RV',\n",
    "                     'property_type_Chalet',\n",
    "                     'property_type_Condominium',\n",
    "                     'property_type_Dorm',\n",
    "                     'property_type_House',\n",
    "                     'property_type_Loft',\n",
    "                     'property_type_Other',\n",
    "                     'property_type_Tent',\n",
    "                     'property_type_Townhouse',\n",
    "                     'property_type_Treehouse',\n",
    "                     'property_type_Yurt',\n",
    "                     'room_type_Private room',\n",
    "                     'room_type_Shared room',\n",
    "                     'cancellation_policy_moderate',\n",
    "                     'cancellation_policy_strict',\n",
    "                     'neighbourhood_group_cleansed_Beacon Hill',\n",
    "                     'neighbourhood_group_cleansed_Capitol Hill',\n",
    "                     'neighbourhood_group_cleansed_Cascade',\n",
    "                     'neighbourhood_group_cleansed_Central Area',\n",
    "                     'neighbourhood_group_cleansed_Delridge',\n",
    "                     'neighbourhood_group_cleansed_Downtown',\n",
    "                     'neighbourhood_group_cleansed_Interbay',\n",
    "                     'neighbourhood_group_cleansed_Lake City',\n",
    "                     'neighbourhood_group_cleansed_Magnolia',\n",
    "                     'neighbourhood_group_cleansed_Northgate',\n",
    "                     'neighbourhood_group_cleansed_Other neighborhoods',\n",
    "                     'neighbourhood_group_cleansed_Queen Anne',\n",
    "                     'neighbourhood_group_cleansed_Rainier Valley',\n",
    "                     'neighbourhood_group_cleansed_Seward Park',\n",
    "                     'neighbourhood_group_cleansed_University District',\n",
    "                     'neighbourhood_group_cleansed_West Seattle']]\n",
    "y = listings_main['reviews_per_month']\n",
    "\n",
    "# Split into train and test\n",
    "X_train, X_test, y_train, y_test = train_test_split(X, y, test_size=0.30, random_state=42)\n",
    "\n",
    "# Add a constant to the model (intercept)\n",
    "X_train_sm = sm.add_constant(X_train)\n",
    "\n",
    "# Fit the model using statsmodels\n",
    "model=sm.OLS(y_train, X_train_sm, missing= 'drop').fit()\n",
    "\n",
    "# Get the summary which includes p-values\n",
    "summary = model.summary()\n",
    "print(summary)\n",
    "\n",
    "# To extract coefficients and p-values\n",
    "coefficients = model.params\n",
    "p_values = model.pvalues\n",
    "\n",
    "# Create a DataFrame with coefficients and p-values\n",
    "results_df = pd.DataFrame({'Coefficient': coefficients, 'P-Value': p_values})"
   ]
  },
  {
   "cell_type": "code",
   "execution_count": 159,
   "id": "9deb7010",
   "metadata": {
    "scrolled": false
   },
   "outputs": [
    {
     "name": "stdout",
     "output_type": "stream",
     "text": [
      "                            OLS Regression Results                            \n",
      "==============================================================================\n",
      "Dep. Variable:      reviews_per_month   R-squared:                       0.125\n",
      "Model:                            OLS   Adj. R-squared:                  0.122\n",
      "Method:                 Least Squares   F-statistic:                     44.00\n",
      "Date:                Fri, 18 Apr 2025   Prob (F-statistic):           1.91e-58\n",
      "Time:                        14:16:54   Log-Likelihood:                -4236.2\n",
      "No. Observations:                2171   AIC:                             8488.\n",
      "Df Residuals:                    2163   BIC:                             8534.\n",
      "Df Model:                           7                                         \n",
      "Covariance Type:            nonrobust                                         \n",
      "=========================================================================================\n",
      "                            coef    std err          t      P>|t|      [0.025      0.975]\n",
      "-----------------------------------------------------------------------------------------\n",
      "const                    -5.7226      8.223     -0.696      0.487     -21.849      10.404\n",
      "price_avg                -0.0035      0.000     -8.390      0.000      -0.004      -0.003\n",
      "count_NA_description      0.1529      0.028      5.546      0.000       0.099       0.207\n",
      "count_NA_images           0.2321      0.067      3.452      0.001       0.100       0.364\n",
      "count_NA_hostinfo         0.3907      0.036     10.825      0.000       0.320       0.462\n",
      "count_NA_reviewinfo       0.1484      0.060      2.467      0.014       0.030       0.266\n",
      "count_NA_locationinfo     0.2418      0.988      0.245      0.807      -1.696       2.180\n",
      "count_NA_propertyinfo    -0.3820      0.203     -1.879      0.060      -0.781       0.017\n",
      "==============================================================================\n",
      "Omnibus:                      496.002   Durbin-Watson:                   1.992\n",
      "Prob(Omnibus):                  0.000   Jarque-Bera (JB):             1057.672\n",
      "Skew:                           1.307   Prob(JB):                    2.13e-230\n",
      "Kurtosis:                       5.203   Cond. No.                     3.67e+04\n",
      "==============================================================================\n",
      "\n",
      "Notes:\n",
      "[1] Standard Errors assume that the covariance matrix of the errors is correctly specified.\n",
      "[2] The condition number is large, 3.67e+04. This might indicate that there are\n",
      "strong multicollinearity or other numerical problems.\n",
      "time: 125 ms (started: 2025-04-18 14:16:53 +01:00)\n"
     ]
    }
   ],
   "source": [
    "\n",
    "### Linear Regression #3: reviews_per_month, but take out all categorical variables that don't seem to have an impact\n",
    "\n",
    "\n",
    "# Assuming you have your X and y defined as before\n",
    "X = listings_main[[\n",
    "                    'price_avg',  #results in errors\n",
    "                   'count_NA_description', 'count_NA_images', 'count_NA_hostinfo', \n",
    "                   'count_NA_reviewinfo', 'count_NA_locationinfo', 'count_NA_propertyinfo', \n",
    "                ]]\n",
    "y = listings_main['reviews_per_month']\n",
    "\n",
    "# Split into train and test\n",
    "X_train, X_test, y_train, y_test = train_test_split(X, y, test_size=0.30, random_state=42)\n",
    "\n",
    "# Add a constant to the model (intercept)\n",
    "X_train_sm = sm.add_constant(X_train)\n",
    "\n",
    "# Fit the model using statsmodels\n",
    "model=sm.OLS(y_train, X_train_sm, missing= 'drop').fit()\n",
    "\n",
    "# Get the summary which includes p-values\n",
    "summary = model.summary()\n",
    "print(summary)\n",
    "\n",
    "# To extract coefficients and p-values\n",
    "coefficients = model.params\n",
    "p_values = model.pvalues\n",
    "\n",
    "# Create a DataFrame with coefficients and p-values\n",
    "results_df = pd.DataFrame({'Coefficient': coefficients, 'P-Value': p_values})"
   ]
  },
  {
   "cell_type": "code",
   "execution_count": 122,
   "id": "1e203882",
   "metadata": {
    "scrolled": false
   },
   "outputs": [
    {
     "name": "stdout",
     "output_type": "stream",
     "text": [
      "                            OLS Regression Results                            \n",
      "==============================================================================\n",
      "Dep. Variable:                  price   R-squared:                       0.535\n",
      "Model:                            OLS   Adj. R-squared:                  0.528\n",
      "Method:                 Least Squares   F-statistic:                     70.37\n",
      "Date:                Mon, 21 Apr 2025   Prob (F-statistic):               0.00\n",
      "Time:                        16:02:08   Log-Likelihood:                -14714.\n",
      "No. Observations:                2671   AIC:                         2.952e+04\n",
      "Df Residuals:                    2627   BIC:                         2.978e+04\n",
      "Df Model:                          43                                         \n",
      "Covariance Type:            nonrobust                                         \n",
      "====================================================================================================================\n",
      "                                                       coef    std err          t      P>|t|      [0.025      0.975]\n",
      "--------------------------------------------------------------------------------------------------------------------\n",
      "const                                              -33.1967    261.742     -0.127      0.899    -546.439     480.045\n",
      "count_NA_description                                -0.3013      0.875     -0.344      0.731      -2.018       1.415\n",
      "count_NA_images                                     -4.0354      2.232     -1.808      0.071      -8.412       0.342\n",
      "count_NA_hostinfo                                   -8.2900      1.048     -7.912      0.000     -10.345      -6.236\n",
      "count_NA_reviewinfo                                  0.5770      0.407      1.417      0.157      -0.221       1.375\n",
      "count_NA_locationinfo                               32.9385     31.882      1.033      0.302     -29.578      95.455\n",
      "count_NA_propertyinfo                               -5.0083      6.725     -0.745      0.456     -18.195       8.178\n",
      "accommodates                                        25.0593      0.765     32.769      0.000      23.560      26.559\n",
      "reviews_per_month                                   -5.1440      0.757     -6.792      0.000      -6.629      -3.659\n",
      "property_type_Bed & Breakfast                       43.4533     11.670      3.723      0.000      20.569      66.337\n",
      "property_type_Boat                                 187.8478     37.261      5.041      0.000     114.785     260.911\n",
      "property_type_Bungalow                               5.4999     20.274      0.271      0.786     -34.255      45.255\n",
      "property_type_Cabin                                 15.7187     17.016      0.924      0.356     -17.648      49.085\n",
      "property_type_Camper/RV                             48.8358     21.536      2.268      0.023       6.606      91.065\n",
      "property_type_Chalet                                29.2159     60.830      0.480      0.631     -90.064     148.496\n",
      "property_type_Condominium                           14.9273      7.921      1.884      0.060      -0.606      30.460\n",
      "property_type_Dorm                                -180.3580     61.012     -2.956      0.003    -299.994     -60.722\n",
      "property_type_House                                 20.5635      3.165      6.497      0.000      14.358      26.769\n",
      "property_type_Loft                                  29.3547     11.040      2.659      0.008       7.707      51.002\n",
      "property_type_Other                                  5.2308     15.715      0.333      0.739     -25.585      36.046\n",
      "property_type_Tent                                 -34.5780     30.785     -1.123      0.261     -94.943      25.787\n",
      "property_type_Townhouse                             25.8576      7.112      3.636      0.000      11.913      39.802\n",
      "property_type_Treehouse                             21.2144     35.041      0.605      0.545     -47.496      89.924\n",
      "property_type_Yurt                                  15.5943     60.546      0.258      0.797    -103.128     134.317\n",
      "room_type_Private room                             -24.9126      3.328     -7.485      0.000     -31.439     -18.386\n",
      "room_type_Shared room                              -48.4440      7.226     -6.704      0.000     -62.614     -34.274\n",
      "cancellation_policy_moderate                         0.0568      3.123      0.018      0.986      -6.068       6.182\n",
      "cancellation_policy_strict                           7.2771      3.176      2.291      0.022       1.050      13.505\n",
      "neighbourhood_group_cleansed_Beacon Hill           -13.8585      8.097     -1.712      0.087     -29.735       2.018\n",
      "neighbourhood_group_cleansed_Capitol Hill           24.5040      5.780      4.240      0.000      13.171      35.837\n",
      "neighbourhood_group_cleansed_Cascade                23.1919      9.522      2.436      0.015       4.521      41.863\n",
      "neighbourhood_group_cleansed_Central Area            3.4728      6.155      0.564      0.573      -8.596      15.542\n",
      "neighbourhood_group_cleansed_Delridge              -23.2679      9.757     -2.385      0.017     -42.400      -4.135\n",
      "neighbourhood_group_cleansed_Downtown               38.0823      6.181      6.161      0.000      25.962      50.203\n",
      "neighbourhood_group_cleansed_Interbay               -9.6363     24.089     -0.400      0.689     -56.873      37.600\n",
      "neighbourhood_group_cleansed_Lake City             -15.4854      9.904     -1.564      0.118     -34.906       3.936\n",
      "neighbourhood_group_cleansed_Magnolia               27.9704     10.432      2.681      0.007       7.515      48.426\n",
      "neighbourhood_group_cleansed_Northgate             -35.1759      9.913     -3.548      0.000     -54.614     -15.738\n",
      "neighbourhood_group_cleansed_Other neighborhoods    -5.7251      5.435     -1.053      0.292     -16.382       4.932\n",
      "neighbourhood_group_cleansed_Queen Anne             29.8168      6.520      4.573      0.000      17.032      42.601\n",
      "neighbourhood_group_cleansed_Rainier Valley        -18.2785      7.495     -2.439      0.015     -32.975      -3.582\n",
      "neighbourhood_group_cleansed_Seward Park           -14.8402     11.880     -1.249      0.212     -38.135       8.454\n",
      "neighbourhood_group_cleansed_University District   -11.0881      8.224     -1.348      0.178     -27.214       5.038\n",
      "neighbourhood_group_cleansed_West Seattle            1.0008      6.969      0.144      0.886     -12.664      14.666\n",
      "==============================================================================\n",
      "Omnibus:                     2190.905   Durbin-Watson:                   1.996\n",
      "Prob(Omnibus):                  0.000   Jarque-Bera (JB):           127257.291\n",
      "Skew:                           3.466   Prob(JB):                         0.00\n",
      "Kurtosis:                      36.097   Cond. No.                     5.17e+03\n",
      "==============================================================================\n",
      "\n",
      "Notes:\n",
      "[1] Standard Errors assume that the covariance matrix of the errors is correctly specified.\n",
      "[2] The condition number is large, 5.17e+03. This might indicate that there are\n",
      "strong multicollinearity or other numerical problems.\n",
      "time: 78 ms (started: 2025-04-21 16:02:08 +01:00)\n"
     ]
    }
   ],
   "source": [
    "\n",
    "### Linear Regression #4: use price as dependent var instead\n",
    "\n",
    "\n",
    "# Assuming you have your X and y defined as before\n",
    "X = listings_main[[\n",
    "                   'count_NA_description', 'count_NA_images', 'count_NA_hostinfo', \n",
    "                   'count_NA_reviewinfo', 'count_NA_locationinfo', 'count_NA_propertyinfo', \n",
    "                    'accommodates',\n",
    "                    'reviews_per_month',\n",
    "                    'property_type_Bed & Breakfast',\n",
    "                     'property_type_Boat',\n",
    "                     'property_type_Bungalow',\n",
    "                     'property_type_Cabin',\n",
    "                     'property_type_Camper/RV',\n",
    "                     'property_type_Chalet',\n",
    "                     'property_type_Condominium',\n",
    "                     'property_type_Dorm',\n",
    "                     'property_type_House',\n",
    "                     'property_type_Loft',\n",
    "                     'property_type_Other',\n",
    "                     'property_type_Tent',\n",
    "                     'property_type_Townhouse',\n",
    "                     'property_type_Treehouse',\n",
    "                     'property_type_Yurt',\n",
    "                     'room_type_Private room',\n",
    "                     'room_type_Shared room',\n",
    "                     'cancellation_policy_moderate',\n",
    "                     'cancellation_policy_strict',\n",
    "                     'neighbourhood_group_cleansed_Beacon Hill',\n",
    "                     'neighbourhood_group_cleansed_Capitol Hill',\n",
    "                     'neighbourhood_group_cleansed_Cascade',\n",
    "                     'neighbourhood_group_cleansed_Central Area',\n",
    "                     'neighbourhood_group_cleansed_Delridge',\n",
    "                     'neighbourhood_group_cleansed_Downtown',\n",
    "                     'neighbourhood_group_cleansed_Interbay',\n",
    "                     'neighbourhood_group_cleansed_Lake City',\n",
    "                     'neighbourhood_group_cleansed_Magnolia',\n",
    "                     'neighbourhood_group_cleansed_Northgate',\n",
    "                     'neighbourhood_group_cleansed_Other neighborhoods',\n",
    "                     'neighbourhood_group_cleansed_Queen Anne',\n",
    "                     'neighbourhood_group_cleansed_Rainier Valley',\n",
    "                     'neighbourhood_group_cleansed_Seward Park',\n",
    "                     'neighbourhood_group_cleansed_University District',\n",
    "                     'neighbourhood_group_cleansed_West Seattle']]\n",
    "y = listings_main['price']\n",
    "\n",
    "# Split into train and test\n",
    "X_train, X_test, y_train, y_test = train_test_split(X, y, test_size=0.30, random_state=42)\n",
    "\n",
    "# Add a constant to the model (intercept)\n",
    "X_train_sm = sm.add_constant(X_train)\n",
    "\n",
    "# Fit the model using statsmodels\n",
    "model=sm.OLS(y_train, X_train_sm, missing= 'drop').fit()\n",
    "\n",
    "# Get the summary which includes p-values\n",
    "summary = model.summary()\n",
    "print(summary)\n",
    "\n",
    "# To extract coefficients and p-values\n",
    "coefficients = model.params\n",
    "p_values = model.pvalues\n",
    "\n",
    "# Create a DataFrame with coefficients and p-values\n",
    "results_df = pd.DataFrame({'Coefficient': coefficients, 'P-Value': p_values})"
   ]
  }
 ],
 "metadata": {
  "kernelspec": {
   "display_name": "Python 3",
   "language": "python",
   "name": "python3"
  },
  "language_info": {
   "codemirror_mode": {
    "name": "ipython",
    "version": 3
   },
   "file_extension": ".py",
   "mimetype": "text/x-python",
   "name": "python",
   "nbconvert_exporter": "python",
   "pygments_lexer": "ipython3",
   "version": "3.8.8"
  }
 },
 "nbformat": 4,
 "nbformat_minor": 5
}
