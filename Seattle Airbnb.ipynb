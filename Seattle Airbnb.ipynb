{
 "cells": [
  {
   "cell_type": "markdown",
   "id": "f2783eff",
   "metadata": {},
   "source": [
    "# Seattle Airbnb Data\n",
    "\n",
    "The aim is to examine the Seattle Airbnb data and derive insights on what factors impact Airbnb listing prices. We explore 3 main questions:\n",
    "- Do missing descriptions impact prices?\n",
    "- How does ease of booking impact prices? ( cancellation policy, instant bookability, requiremrents for booking, etc.)\n",
    "- How do reviews immpact prices? (number of reviews, scores, etc.)\n"
   ]
  },
  {
   "cell_type": "markdown",
   "id": "4bee1f5b",
   "metadata": {},
   "source": [
    "### Install libraries"
   ]
  },
  {
   "cell_type": "code",
   "execution_count": 5,
   "id": "c014496c",
   "metadata": {
    "collapsed": true
   },
   "outputs": [
    {
     "name": "stdout",
     "output_type": "stream",
     "text": [
      "Requirement already satisfied: scikit-learn in c:\\users\\user\\anaconda3\\lib\\site-packages (0.24.1)\n",
      "Collecting scikit-learn\n",
      "  Downloading scikit_learn-1.3.0-cp38-cp38-win_amd64.whl (9.2 MB)\n",
      "Requirement already satisfied: threadpoolctl>=2.0.0 in c:\\users\\user\\anaconda3\\lib\\site-packages (from scikit-learn) (2.1.0)\n",
      "Collecting joblib>=1.1.1\n",
      "  Downloading joblib-1.3.2-py3-none-any.whl (302 kB)\n",
      "Requirement already satisfied: scipy>=1.5.0 in c:\\users\\user\\anaconda3\\lib\\site-packages (from scikit-learn) (1.6.2)\n",
      "Requirement already satisfied: numpy>=1.17.3 in c:\\users\\user\\anaconda3\\lib\\site-packages (from scikit-learn) (1.20.1)\n",
      "Installing collected packages: joblib, scikit-learn\n",
      "  Attempting uninstall: joblib\n",
      "    Found existing installation: joblib 1.0.1\n",
      "    Uninstalling joblib-1.0.1:\n",
      "      Successfully uninstalled joblib-1.0.1\n",
      "  Attempting uninstall: scikit-learn\n",
      "    Found existing installation: scikit-learn 0.24.1\n",
      "    Uninstalling scikit-learn-0.24.1:\n",
      "      Successfully uninstalled scikit-learn-0.24.1\n",
      "Successfully installed joblib-1.3.2 scikit-learn-1.3.0\n",
      "Note: you may need to restart the kernel to use updated packages.\n"
     ]
    }
   ],
   "source": [
    "pip install -U scikit-learn"
   ]
  },
  {
   "cell_type": "code",
   "execution_count": 1,
   "id": "5a7aa469",
   "metadata": {},
   "outputs": [
    {
     "name": "stdout",
     "output_type": "stream",
     "text": [
      "time: 0 ns (started: 2025-04-18 09:04:35 +01:00)\n"
     ]
    }
   ],
   "source": [
    "import pandas as pd\n",
    "import sklearn as sk\n",
    "import numpy as np\n",
    "import matplotlib.pyplot as plt\n",
    "import seaborn as sns\n",
    "\n",
    "try:\n",
    "    %load_ext autotime\n",
    "except:\n",
    "    !pip install ipython-autotime\n",
    "    %load_ext autotime"
   ]
  },
  {
   "cell_type": "markdown",
   "id": "44ebe86c",
   "metadata": {},
   "source": [
    "### Read in data (3 csvs)"
   ]
  },
  {
   "cell_type": "code",
   "execution_count": 2,
   "id": "ba41a3ff",
   "metadata": {},
   "outputs": [
    {
     "data": {
      "text/html": [
       "<div>\n",
       "<style scoped>\n",
       "    .dataframe tbody tr th:only-of-type {\n",
       "        vertical-align: middle;\n",
       "    }\n",
       "\n",
       "    .dataframe tbody tr th {\n",
       "        vertical-align: top;\n",
       "    }\n",
       "\n",
       "    .dataframe thead th {\n",
       "        text-align: right;\n",
       "    }\n",
       "</style>\n",
       "<table border=\"1\" class=\"dataframe\">\n",
       "  <thead>\n",
       "    <tr style=\"text-align: right;\">\n",
       "      <th></th>\n",
       "      <th>listing_id</th>\n",
       "      <th>date</th>\n",
       "      <th>available</th>\n",
       "      <th>price</th>\n",
       "    </tr>\n",
       "  </thead>\n",
       "  <tbody>\n",
       "    <tr>\n",
       "      <th>0</th>\n",
       "      <td>241032</td>\n",
       "      <td>2016-01-04</td>\n",
       "      <td>t</td>\n",
       "      <td>$85.00</td>\n",
       "    </tr>\n",
       "    <tr>\n",
       "      <th>1</th>\n",
       "      <td>241032</td>\n",
       "      <td>2016-01-05</td>\n",
       "      <td>t</td>\n",
       "      <td>$85.00</td>\n",
       "    </tr>\n",
       "    <tr>\n",
       "      <th>2</th>\n",
       "      <td>241032</td>\n",
       "      <td>2016-01-06</td>\n",
       "      <td>f</td>\n",
       "      <td>NaN</td>\n",
       "    </tr>\n",
       "    <tr>\n",
       "      <th>3</th>\n",
       "      <td>241032</td>\n",
       "      <td>2016-01-07</td>\n",
       "      <td>f</td>\n",
       "      <td>NaN</td>\n",
       "    </tr>\n",
       "    <tr>\n",
       "      <th>4</th>\n",
       "      <td>241032</td>\n",
       "      <td>2016-01-08</td>\n",
       "      <td>f</td>\n",
       "      <td>NaN</td>\n",
       "    </tr>\n",
       "  </tbody>\n",
       "</table>\n",
       "</div>"
      ],
      "text/plain": [
       "   listing_id        date available   price\n",
       "0      241032  2016-01-04         t  $85.00\n",
       "1      241032  2016-01-05         t  $85.00\n",
       "2      241032  2016-01-06         f     NaN\n",
       "3      241032  2016-01-07         f     NaN\n",
       "4      241032  2016-01-08         f     NaN"
      ]
     },
     "execution_count": 2,
     "metadata": {},
     "output_type": "execute_result"
    },
    {
     "name": "stdout",
     "output_type": "stream",
     "text": [
      "time: 1.64 s (started: 2025-04-18 09:04:35 +01:00)\n"
     ]
    }
   ],
   "source": [
    "#Read in calendar csv\n",
    "\n",
    "calendar = pd.read_csv('calendar.csv')\n",
    "calendar.head()"
   ]
  },
  {
   "cell_type": "code",
   "execution_count": 3,
   "id": "a0ab1a7a",
   "metadata": {},
   "outputs": [
    {
     "data": {
      "text/html": [
       "<div>\n",
       "<style scoped>\n",
       "    .dataframe tbody tr th:only-of-type {\n",
       "        vertical-align: middle;\n",
       "    }\n",
       "\n",
       "    .dataframe tbody tr th {\n",
       "        vertical-align: top;\n",
       "    }\n",
       "\n",
       "    .dataframe thead th {\n",
       "        text-align: right;\n",
       "    }\n",
       "</style>\n",
       "<table border=\"1\" class=\"dataframe\">\n",
       "  <thead>\n",
       "    <tr style=\"text-align: right;\">\n",
       "      <th></th>\n",
       "      <th>id</th>\n",
       "      <th>listing_url</th>\n",
       "      <th>scrape_id</th>\n",
       "      <th>last_scraped</th>\n",
       "      <th>name</th>\n",
       "      <th>summary</th>\n",
       "      <th>space</th>\n",
       "      <th>description</th>\n",
       "      <th>experiences_offered</th>\n",
       "      <th>neighborhood_overview</th>\n",
       "      <th>...</th>\n",
       "      <th>review_scores_value</th>\n",
       "      <th>requires_license</th>\n",
       "      <th>license</th>\n",
       "      <th>jurisdiction_names</th>\n",
       "      <th>instant_bookable</th>\n",
       "      <th>cancellation_policy</th>\n",
       "      <th>require_guest_profile_picture</th>\n",
       "      <th>require_guest_phone_verification</th>\n",
       "      <th>calculated_host_listings_count</th>\n",
       "      <th>reviews_per_month</th>\n",
       "    </tr>\n",
       "  </thead>\n",
       "  <tbody>\n",
       "    <tr>\n",
       "      <th>0</th>\n",
       "      <td>241032</td>\n",
       "      <td>https://www.airbnb.com/rooms/241032</td>\n",
       "      <td>20160104002432</td>\n",
       "      <td>2016-01-04</td>\n",
       "      <td>Stylish Queen Anne Apartment</td>\n",
       "      <td>NaN</td>\n",
       "      <td>Make your self at home in this charming one-be...</td>\n",
       "      <td>Make your self at home in this charming one-be...</td>\n",
       "      <td>none</td>\n",
       "      <td>NaN</td>\n",
       "      <td>...</td>\n",
       "      <td>10.0</td>\n",
       "      <td>f</td>\n",
       "      <td>NaN</td>\n",
       "      <td>WASHINGTON</td>\n",
       "      <td>f</td>\n",
       "      <td>moderate</td>\n",
       "      <td>f</td>\n",
       "      <td>f</td>\n",
       "      <td>2</td>\n",
       "      <td>4.07</td>\n",
       "    </tr>\n",
       "    <tr>\n",
       "      <th>1</th>\n",
       "      <td>953595</td>\n",
       "      <td>https://www.airbnb.com/rooms/953595</td>\n",
       "      <td>20160104002432</td>\n",
       "      <td>2016-01-04</td>\n",
       "      <td>Bright &amp; Airy Queen Anne Apartment</td>\n",
       "      <td>Chemically sensitive? We've removed the irrita...</td>\n",
       "      <td>Beautiful, hypoallergenic apartment in an extr...</td>\n",
       "      <td>Chemically sensitive? We've removed the irrita...</td>\n",
       "      <td>none</td>\n",
       "      <td>Queen Anne is a wonderful, truly functional vi...</td>\n",
       "      <td>...</td>\n",
       "      <td>10.0</td>\n",
       "      <td>f</td>\n",
       "      <td>NaN</td>\n",
       "      <td>WASHINGTON</td>\n",
       "      <td>f</td>\n",
       "      <td>strict</td>\n",
       "      <td>t</td>\n",
       "      <td>t</td>\n",
       "      <td>6</td>\n",
       "      <td>1.48</td>\n",
       "    </tr>\n",
       "    <tr>\n",
       "      <th>2</th>\n",
       "      <td>3308979</td>\n",
       "      <td>https://www.airbnb.com/rooms/3308979</td>\n",
       "      <td>20160104002432</td>\n",
       "      <td>2016-01-04</td>\n",
       "      <td>New Modern House-Amazing water view</td>\n",
       "      <td>New modern house built in 2013.  Spectacular s...</td>\n",
       "      <td>Our house is modern, light and fresh with a wa...</td>\n",
       "      <td>New modern house built in 2013.  Spectacular s...</td>\n",
       "      <td>none</td>\n",
       "      <td>Upper Queen Anne is a charming neighborhood fu...</td>\n",
       "      <td>...</td>\n",
       "      <td>10.0</td>\n",
       "      <td>f</td>\n",
       "      <td>NaN</td>\n",
       "      <td>WASHINGTON</td>\n",
       "      <td>f</td>\n",
       "      <td>strict</td>\n",
       "      <td>f</td>\n",
       "      <td>f</td>\n",
       "      <td>2</td>\n",
       "      <td>1.15</td>\n",
       "    </tr>\n",
       "    <tr>\n",
       "      <th>3</th>\n",
       "      <td>7421966</td>\n",
       "      <td>https://www.airbnb.com/rooms/7421966</td>\n",
       "      <td>20160104002432</td>\n",
       "      <td>2016-01-04</td>\n",
       "      <td>Queen Anne Chateau</td>\n",
       "      <td>A charming apartment that sits atop Queen Anne...</td>\n",
       "      <td>NaN</td>\n",
       "      <td>A charming apartment that sits atop Queen Anne...</td>\n",
       "      <td>none</td>\n",
       "      <td>NaN</td>\n",
       "      <td>...</td>\n",
       "      <td>NaN</td>\n",
       "      <td>f</td>\n",
       "      <td>NaN</td>\n",
       "      <td>WASHINGTON</td>\n",
       "      <td>f</td>\n",
       "      <td>flexible</td>\n",
       "      <td>f</td>\n",
       "      <td>f</td>\n",
       "      <td>1</td>\n",
       "      <td>NaN</td>\n",
       "    </tr>\n",
       "    <tr>\n",
       "      <th>4</th>\n",
       "      <td>278830</td>\n",
       "      <td>https://www.airbnb.com/rooms/278830</td>\n",
       "      <td>20160104002432</td>\n",
       "      <td>2016-01-04</td>\n",
       "      <td>Charming craftsman 3 bdm house</td>\n",
       "      <td>Cozy family craftman house in beautiful neighb...</td>\n",
       "      <td>Cozy family craftman house in beautiful neighb...</td>\n",
       "      <td>Cozy family craftman house in beautiful neighb...</td>\n",
       "      <td>none</td>\n",
       "      <td>We are in the beautiful neighborhood of Queen ...</td>\n",
       "      <td>...</td>\n",
       "      <td>9.0</td>\n",
       "      <td>f</td>\n",
       "      <td>NaN</td>\n",
       "      <td>WASHINGTON</td>\n",
       "      <td>f</td>\n",
       "      <td>strict</td>\n",
       "      <td>f</td>\n",
       "      <td>f</td>\n",
       "      <td>1</td>\n",
       "      <td>0.89</td>\n",
       "    </tr>\n",
       "  </tbody>\n",
       "</table>\n",
       "<p>5 rows × 92 columns</p>\n",
       "</div>"
      ],
      "text/plain": [
       "        id                           listing_url       scrape_id last_scraped  \\\n",
       "0   241032   https://www.airbnb.com/rooms/241032  20160104002432   2016-01-04   \n",
       "1   953595   https://www.airbnb.com/rooms/953595  20160104002432   2016-01-04   \n",
       "2  3308979  https://www.airbnb.com/rooms/3308979  20160104002432   2016-01-04   \n",
       "3  7421966  https://www.airbnb.com/rooms/7421966  20160104002432   2016-01-04   \n",
       "4   278830   https://www.airbnb.com/rooms/278830  20160104002432   2016-01-04   \n",
       "\n",
       "                                  name  \\\n",
       "0         Stylish Queen Anne Apartment   \n",
       "1   Bright & Airy Queen Anne Apartment   \n",
       "2  New Modern House-Amazing water view   \n",
       "3                   Queen Anne Chateau   \n",
       "4       Charming craftsman 3 bdm house   \n",
       "\n",
       "                                             summary  \\\n",
       "0                                                NaN   \n",
       "1  Chemically sensitive? We've removed the irrita...   \n",
       "2  New modern house built in 2013.  Spectacular s...   \n",
       "3  A charming apartment that sits atop Queen Anne...   \n",
       "4  Cozy family craftman house in beautiful neighb...   \n",
       "\n",
       "                                               space  \\\n",
       "0  Make your self at home in this charming one-be...   \n",
       "1  Beautiful, hypoallergenic apartment in an extr...   \n",
       "2  Our house is modern, light and fresh with a wa...   \n",
       "3                                                NaN   \n",
       "4  Cozy family craftman house in beautiful neighb...   \n",
       "\n",
       "                                         description experiences_offered  \\\n",
       "0  Make your self at home in this charming one-be...                none   \n",
       "1  Chemically sensitive? We've removed the irrita...                none   \n",
       "2  New modern house built in 2013.  Spectacular s...                none   \n",
       "3  A charming apartment that sits atop Queen Anne...                none   \n",
       "4  Cozy family craftman house in beautiful neighb...                none   \n",
       "\n",
       "                               neighborhood_overview  ... review_scores_value  \\\n",
       "0                                                NaN  ...                10.0   \n",
       "1  Queen Anne is a wonderful, truly functional vi...  ...                10.0   \n",
       "2  Upper Queen Anne is a charming neighborhood fu...  ...                10.0   \n",
       "3                                                NaN  ...                 NaN   \n",
       "4  We are in the beautiful neighborhood of Queen ...  ...                 9.0   \n",
       "\n",
       "  requires_license license jurisdiction_names instant_bookable  \\\n",
       "0                f     NaN         WASHINGTON                f   \n",
       "1                f     NaN         WASHINGTON                f   \n",
       "2                f     NaN         WASHINGTON                f   \n",
       "3                f     NaN         WASHINGTON                f   \n",
       "4                f     NaN         WASHINGTON                f   \n",
       "\n",
       "  cancellation_policy  require_guest_profile_picture  \\\n",
       "0            moderate                              f   \n",
       "1              strict                              t   \n",
       "2              strict                              f   \n",
       "3            flexible                              f   \n",
       "4              strict                              f   \n",
       "\n",
       "  require_guest_phone_verification calculated_host_listings_count  \\\n",
       "0                                f                              2   \n",
       "1                                t                              6   \n",
       "2                                f                              2   \n",
       "3                                f                              1   \n",
       "4                                f                              1   \n",
       "\n",
       "  reviews_per_month  \n",
       "0              4.07  \n",
       "1              1.48  \n",
       "2              1.15  \n",
       "3               NaN  \n",
       "4              0.89  \n",
       "\n",
       "[5 rows x 92 columns]"
      ]
     },
     "execution_count": 3,
     "metadata": {},
     "output_type": "execute_result"
    },
    {
     "name": "stdout",
     "output_type": "stream",
     "text": [
      "time: 563 ms (started: 2025-04-18 09:04:36 +01:00)\n"
     ]
    }
   ],
   "source": [
    "#Read in listings csv\n",
    "\n",
    "listings = pd.read_csv('listings.csv')\n",
    "listings.head()"
   ]
  },
  {
   "cell_type": "code",
   "execution_count": 4,
   "id": "5e952e22",
   "metadata": {},
   "outputs": [
    {
     "data": {
      "text/html": [
       "<div>\n",
       "<style scoped>\n",
       "    .dataframe tbody tr th:only-of-type {\n",
       "        vertical-align: middle;\n",
       "    }\n",
       "\n",
       "    .dataframe tbody tr th {\n",
       "        vertical-align: top;\n",
       "    }\n",
       "\n",
       "    .dataframe thead th {\n",
       "        text-align: right;\n",
       "    }\n",
       "</style>\n",
       "<table border=\"1\" class=\"dataframe\">\n",
       "  <thead>\n",
       "    <tr style=\"text-align: right;\">\n",
       "      <th></th>\n",
       "      <th>listing_id</th>\n",
       "      <th>id</th>\n",
       "      <th>date</th>\n",
       "      <th>reviewer_id</th>\n",
       "      <th>reviewer_name</th>\n",
       "      <th>comments</th>\n",
       "    </tr>\n",
       "  </thead>\n",
       "  <tbody>\n",
       "    <tr>\n",
       "      <th>0</th>\n",
       "      <td>7202016</td>\n",
       "      <td>38917982</td>\n",
       "      <td>2015-07-19</td>\n",
       "      <td>28943674</td>\n",
       "      <td>Bianca</td>\n",
       "      <td>Cute and cozy place. Perfect location to every...</td>\n",
       "    </tr>\n",
       "    <tr>\n",
       "      <th>1</th>\n",
       "      <td>7202016</td>\n",
       "      <td>39087409</td>\n",
       "      <td>2015-07-20</td>\n",
       "      <td>32440555</td>\n",
       "      <td>Frank</td>\n",
       "      <td>Kelly has a great room in a very central locat...</td>\n",
       "    </tr>\n",
       "    <tr>\n",
       "      <th>2</th>\n",
       "      <td>7202016</td>\n",
       "      <td>39820030</td>\n",
       "      <td>2015-07-26</td>\n",
       "      <td>37722850</td>\n",
       "      <td>Ian</td>\n",
       "      <td>Very spacious apartment, and in a great neighb...</td>\n",
       "    </tr>\n",
       "    <tr>\n",
       "      <th>3</th>\n",
       "      <td>7202016</td>\n",
       "      <td>40813543</td>\n",
       "      <td>2015-08-02</td>\n",
       "      <td>33671805</td>\n",
       "      <td>George</td>\n",
       "      <td>Close to Seattle Center and all it has to offe...</td>\n",
       "    </tr>\n",
       "    <tr>\n",
       "      <th>4</th>\n",
       "      <td>7202016</td>\n",
       "      <td>41986501</td>\n",
       "      <td>2015-08-10</td>\n",
       "      <td>34959538</td>\n",
       "      <td>Ming</td>\n",
       "      <td>Kelly was a great host and very accommodating ...</td>\n",
       "    </tr>\n",
       "  </tbody>\n",
       "</table>\n",
       "</div>"
      ],
      "text/plain": [
       "   listing_id        id        date  reviewer_id reviewer_name  \\\n",
       "0     7202016  38917982  2015-07-19     28943674        Bianca   \n",
       "1     7202016  39087409  2015-07-20     32440555         Frank   \n",
       "2     7202016  39820030  2015-07-26     37722850           Ian   \n",
       "3     7202016  40813543  2015-08-02     33671805        George   \n",
       "4     7202016  41986501  2015-08-10     34959538          Ming   \n",
       "\n",
       "                                            comments  \n",
       "0  Cute and cozy place. Perfect location to every...  \n",
       "1  Kelly has a great room in a very central locat...  \n",
       "2  Very spacious apartment, and in a great neighb...  \n",
       "3  Close to Seattle Center and all it has to offe...  \n",
       "4  Kelly was a great host and very accommodating ...  "
      ]
     },
     "execution_count": 4,
     "metadata": {},
     "output_type": "execute_result"
    },
    {
     "name": "stdout",
     "output_type": "stream",
     "text": [
      "time: 796 ms (started: 2025-04-18 09:04:37 +01:00)\n"
     ]
    }
   ],
   "source": [
    "#Read in reviews csv\n",
    "\n",
    "reviews = pd.read_csv('reviews.csv')\n",
    "reviews.head()"
   ]
  },
  {
   "cell_type": "markdown",
   "id": "aed47ccd",
   "metadata": {},
   "source": [
    "### Exploratory analysis "
   ]
  },
  {
   "cell_type": "code",
   "execution_count": 7,
   "id": "86a674a0",
   "metadata": {},
   "outputs": [
    {
     "data": {
      "text/plain": [
       "1393570"
      ]
     },
     "execution_count": 7,
     "metadata": {},
     "output_type": "execute_result"
    },
    {
     "name": "stdout",
     "output_type": "stream",
     "text": [
      "time: 15 ms (started: 2025-04-11 11:24:13 +01:00)\n"
     ]
    }
   ],
   "source": [
    "# Get number of rows of data (calendar)\n",
    "calendar.shape[0]"
   ]
  },
  {
   "cell_type": "code",
   "execution_count": 8,
   "id": "0c541cb6",
   "metadata": {},
   "outputs": [
    {
     "data": {
      "text/plain": [
       "3818"
      ]
     },
     "execution_count": 8,
     "metadata": {},
     "output_type": "execute_result"
    },
    {
     "name": "stdout",
     "output_type": "stream",
     "text": [
      "time: 0 ns (started: 2025-04-11 11:24:14 +01:00)\n"
     ]
    }
   ],
   "source": [
    "# Get number of rows of data (listings)\n",
    "listings.shape[0]"
   ]
  },
  {
   "cell_type": "code",
   "execution_count": 6,
   "id": "c61f762e",
   "metadata": {},
   "outputs": [
    {
     "data": {
      "text/plain": [
       "84849"
      ]
     },
     "execution_count": 6,
     "metadata": {},
     "output_type": "execute_result"
    },
    {
     "name": "stdout",
     "output_type": "stream",
     "text": [
      "time: 0 ns (started: 2025-04-11 11:23:49 +01:00)\n"
     ]
    }
   ],
   "source": [
    "# Get number of rows of data (reviews)\n",
    "reviews.shape[0]"
   ]
  },
  {
   "cell_type": "code",
   "execution_count": 88,
   "id": "659bb707",
   "metadata": {
    "scrolled": true
   },
   "outputs": [
    {
     "data": {
      "text/plain": [
       "['listing_id',\n",
       " 'listing_url',\n",
       " 'scrape_id',\n",
       " 'last_scraped',\n",
       " 'name',\n",
       " 'summary',\n",
       " 'space',\n",
       " 'description',\n",
       " 'experiences_offered',\n",
       " 'neighborhood_overview',\n",
       " 'notes',\n",
       " 'transit',\n",
       " 'thumbnail_url',\n",
       " 'medium_url',\n",
       " 'picture_url',\n",
       " 'xl_picture_url',\n",
       " 'host_id',\n",
       " 'host_url',\n",
       " 'host_name',\n",
       " 'host_since',\n",
       " 'host_location',\n",
       " 'host_about',\n",
       " 'host_response_time',\n",
       " 'host_response_rate',\n",
       " 'host_acceptance_rate',\n",
       " 'host_is_superhost',\n",
       " 'host_thumbnail_url',\n",
       " 'host_picture_url',\n",
       " 'host_neighbourhood',\n",
       " 'host_listings_count',\n",
       " 'host_total_listings_count',\n",
       " 'host_verifications',\n",
       " 'host_has_profile_pic',\n",
       " 'host_identity_verified',\n",
       " 'street',\n",
       " 'neighbourhood',\n",
       " 'neighbourhood_cleansed',\n",
       " 'neighbourhood_group_cleansed',\n",
       " 'city',\n",
       " 'state',\n",
       " 'zipcode',\n",
       " 'market',\n",
       " 'smart_location',\n",
       " 'country_code',\n",
       " 'country',\n",
       " 'latitude',\n",
       " 'longitude',\n",
       " 'is_location_exact',\n",
       " 'property_type',\n",
       " 'room_type',\n",
       " 'accommodates',\n",
       " 'bathrooms',\n",
       " 'bedrooms',\n",
       " 'beds',\n",
       " 'bed_type',\n",
       " 'amenities',\n",
       " 'square_feet',\n",
       " 'price',\n",
       " 'weekly_price',\n",
       " 'monthly_price',\n",
       " 'security_deposit',\n",
       " 'cleaning_fee',\n",
       " 'guests_included',\n",
       " 'extra_people',\n",
       " 'minimum_nights',\n",
       " 'maximum_nights',\n",
       " 'calendar_updated',\n",
       " 'has_availability',\n",
       " 'availability_30',\n",
       " 'availability_60',\n",
       " 'availability_90',\n",
       " 'availability_365',\n",
       " 'calendar_last_scraped',\n",
       " 'number_of_reviews',\n",
       " 'first_review',\n",
       " 'last_review',\n",
       " 'review_scores_rating',\n",
       " 'review_scores_accuracy',\n",
       " 'review_scores_cleanliness',\n",
       " 'review_scores_checkin',\n",
       " 'review_scores_communication',\n",
       " 'review_scores_location',\n",
       " 'review_scores_value',\n",
       " 'requires_license',\n",
       " 'license',\n",
       " 'jurisdiction_names',\n",
       " 'instant_bookable',\n",
       " 'cancellation_policy',\n",
       " 'require_guest_profile_picture',\n",
       " 'require_guest_phone_verification',\n",
       " 'calculated_host_listings_count',\n",
       " 'reviews_per_month']"
      ]
     },
     "execution_count": 88,
     "metadata": {},
     "output_type": "execute_result"
    },
    {
     "name": "stdout",
     "output_type": "stream",
     "text": [
      "time: 15 ms (started: 2025-04-11 13:21:40 +01:00)\n"
     ]
    }
   ],
   "source": [
    "# What are the columns in listings\n",
    "list(listings)"
   ]
  },
  {
   "cell_type": "code",
   "execution_count": 93,
   "id": "af723d10",
   "metadata": {},
   "outputs": [
    {
     "data": {
      "text/plain": [
       "0        Queen Anne\n",
       "1        Queen Anne\n",
       "2        Queen Anne\n",
       "3        Queen Anne\n",
       "4        Queen Anne\n",
       "           ...     \n",
       "3813        Fremont\n",
       "3814    Portage Bay\n",
       "3815            NaN\n",
       "3816            NaN\n",
       "3817     Queen Anne\n",
       "Name: neighbourhood, Length: 3818, dtype: object"
      ]
     },
     "execution_count": 93,
     "metadata": {},
     "output_type": "execute_result"
    },
    {
     "name": "stdout",
     "output_type": "stream",
     "text": [
      "time: 16 ms (started: 2025-04-11 13:23:41 +01:00)\n"
     ]
    }
   ],
   "source": [
    "# Explore some of these fields\n",
    "listings['neighbourhood']"
   ]
  },
  {
   "cell_type": "code",
   "execution_count": 9,
   "id": "b002a614",
   "metadata": {},
   "outputs": [
    {
     "name": "stdout",
     "output_type": "stream",
     "text": [
      "2017-01-02\n",
      "2016-01-04\n",
      "time: 188 ms (started: 2025-04-11 11:24:31 +01:00)\n"
     ]
    }
   ],
   "source": [
    "# What is the timeframe for this data (max/min dates in calendar)\n",
    "\n",
    "print(calendar['date'].max())\n",
    "print(calendar['date'].min())\n",
    "\n",
    "# Jan 2016 - Jan 2017"
   ]
  },
  {
   "cell_type": "code",
   "execution_count": 10,
   "id": "81412411",
   "metadata": {},
   "outputs": [
    {
     "name": "stdout",
     "output_type": "stream",
     "text": [
      "3818 listings in calendar\n",
      "3818 listings in listings\n",
      "3191 listings in reviews\n",
      "time: 63 ms (started: 2025-04-11 11:25:12 +01:00)\n"
     ]
    }
   ],
   "source": [
    "# How many listings are there in total?\n",
    "# calendar['listing_id'].count()\n",
    "print(str(calendar['listing_id'].agg('nunique')) + ' listings in calendar')\n",
    "print(str(listings['id'].agg('nunique')) + ' listings in listings')\n",
    "print(str(reviews['listing_id'].agg('nunique')) + ' listings in reviews')\n",
    "\n",
    "# 3,818 listings"
   ]
  },
  {
   "cell_type": "code",
   "execution_count": 11,
   "id": "f29f9441",
   "metadata": {
    "scrolled": true
   },
   "outputs": [
    {
     "data": {
      "text/html": [
       "<div>\n",
       "<style scoped>\n",
       "    .dataframe tbody tr th:only-of-type {\n",
       "        vertical-align: middle;\n",
       "    }\n",
       "\n",
       "    .dataframe tbody tr th {\n",
       "        vertical-align: top;\n",
       "    }\n",
       "\n",
       "    .dataframe thead th {\n",
       "        text-align: right;\n",
       "    }\n",
       "</style>\n",
       "<table border=\"1\" class=\"dataframe\">\n",
       "  <thead>\n",
       "    <tr style=\"text-align: right;\">\n",
       "      <th></th>\n",
       "      <th>max_date</th>\n",
       "      <th>min_date</th>\n",
       "    </tr>\n",
       "    <tr>\n",
       "      <th>listing_id</th>\n",
       "      <th></th>\n",
       "      <th></th>\n",
       "    </tr>\n",
       "  </thead>\n",
       "  <tbody>\n",
       "    <tr>\n",
       "      <th>3335</th>\n",
       "      <td>2017-01-02</td>\n",
       "      <td>2016-01-04</td>\n",
       "    </tr>\n",
       "    <tr>\n",
       "      <th>4291</th>\n",
       "      <td>2017-01-02</td>\n",
       "      <td>2016-01-04</td>\n",
       "    </tr>\n",
       "    <tr>\n",
       "      <th>5682</th>\n",
       "      <td>2017-01-02</td>\n",
       "      <td>2016-01-04</td>\n",
       "    </tr>\n",
       "    <tr>\n",
       "      <th>6606</th>\n",
       "      <td>2017-01-02</td>\n",
       "      <td>2016-01-04</td>\n",
       "    </tr>\n",
       "    <tr>\n",
       "      <th>7369</th>\n",
       "      <td>2017-01-02</td>\n",
       "      <td>2016-01-04</td>\n",
       "    </tr>\n",
       "  </tbody>\n",
       "</table>\n",
       "</div>"
      ],
      "text/plain": [
       "              max_date    min_date\n",
       "listing_id                        \n",
       "3335        2017-01-02  2016-01-04\n",
       "4291        2017-01-02  2016-01-04\n",
       "5682        2017-01-02  2016-01-04\n",
       "6606        2017-01-02  2016-01-04\n",
       "7369        2017-01-02  2016-01-04"
      ]
     },
     "execution_count": 11,
     "metadata": {},
     "output_type": "execute_result"
    },
    {
     "name": "stdout",
     "output_type": "stream",
     "text": [
      "time: 1.28 s (started: 2025-04-11 11:25:29 +01:00)\n"
     ]
    }
   ],
   "source": [
    "# Is the min/max date the same for all listings? Or does it show the dates for when it came to market?\n",
    "minmaxdate = calendar.groupby('listing_id').agg(max_date = ('date','max'), min_date = ('date','min'))\n",
    "minmaxdate.head()"
   ]
  },
  {
   "cell_type": "code",
   "execution_count": 20,
   "id": "aad30ec5",
   "metadata": {},
   "outputs": [
    {
     "data": {
      "text/plain": [
       "listing_id     int64\n",
       "date          object\n",
       "available     object\n",
       "price         object\n",
       "dtype: object"
      ]
     },
     "execution_count": 20,
     "metadata": {},
     "output_type": "execute_result"
    },
    {
     "name": "stdout",
     "output_type": "stream",
     "text": [
      "time: 0 ns (started: 2025-04-11 11:38:48 +01:00)\n"
     ]
    }
   ],
   "source": [
    "#what is the type of the price column\n",
    "calendar.dtypes"
   ]
  },
  {
   "cell_type": "code",
   "execution_count": 5,
   "id": "9fed0ebe",
   "metadata": {},
   "outputs": [
    {
     "name": "stderr",
     "output_type": "stream",
     "text": [
      "<ipython-input-5-c8cca261781f>:3: FutureWarning: The default value of regex will change from True to False in a future version. In addition, single character regular expressions will*not* be treated as literal strings when regex=True.\n",
      "  calendar['price_avg'] = pd.to_numeric(calendar['price'].str.replace('$', ''), errors='coerce')\n"
     ]
    },
    {
     "data": {
      "text/plain": [
       "listing_id      int64\n",
       "date           object\n",
       "available      object\n",
       "price          object\n",
       "price_avg     float64\n",
       "dtype: object"
      ]
     },
     "execution_count": 5,
     "metadata": {},
     "output_type": "execute_result"
    },
    {
     "name": "stdout",
     "output_type": "stream",
     "text": [
      "time: 1.59 s (started: 2025-04-18 09:04:43 +01:00)\n"
     ]
    }
   ],
   "source": [
    "#convert price to numeric \n",
    "#remove dollar sign first\n",
    "calendar['price_avg'] = pd.to_numeric(calendar['price'].str.replace('$', ''), errors='coerce')\n",
    "calendar.dtypes"
   ]
  },
  {
   "cell_type": "code",
   "execution_count": 6,
   "id": "0b42093c",
   "metadata": {},
   "outputs": [
    {
     "data": {
      "text/plain": [
       "listing_id\n",
       "3335    120.000000\n",
       "4291     82.000000\n",
       "5682     53.944984\n",
       "6606     92.849315\n",
       "7369     85.000000\n",
       "Name: price_avg, dtype: float64"
      ]
     },
     "execution_count": 6,
     "metadata": {},
     "output_type": "execute_result"
    },
    {
     "name": "stdout",
     "output_type": "stream",
     "text": [
      "time: 109 ms (started: 2025-04-18 09:04:45 +01:00)\n"
     ]
    }
   ],
   "source": [
    "# Get average price for each listing\n",
    "listing_price = calendar.groupby('listing_id')['price_avg'].mean()\n",
    "listing_price.head()"
   ]
  },
  {
   "cell_type": "code",
   "execution_count": 7,
   "id": "77dc0f50",
   "metadata": {},
   "outputs": [
    {
     "name": "stdout",
     "output_type": "stream",
     "text": [
      "3818 listings in calendar\n",
      "3818\n",
      "time: 63 ms (started: 2025-04-18 09:04:45 +01:00)\n"
     ]
    }
   ],
   "source": [
    "#check no duplication\n",
    "print(str(calendar['listing_id'].agg('nunique')) + ' listings in calendar')\n",
    "print(listing_price.shape[0])"
   ]
  },
  {
   "cell_type": "code",
   "execution_count": 8,
   "id": "ab6f3fc7",
   "metadata": {},
   "outputs": [
    {
     "data": {
      "text/plain": [
       "3818"
      ]
     },
     "execution_count": 8,
     "metadata": {},
     "output_type": "execute_result"
    },
    {
     "name": "stdout",
     "output_type": "stream",
     "text": [
      "time: 47 ms (started: 2025-04-18 09:04:47 +01:00)\n"
     ]
    }
   ],
   "source": [
    "# Join average listing price to listing df\n",
    "\n",
    "# rename columns to match\n",
    "listings = listings.rename(columns={\"id\": \"listing_id\"})\n",
    "\n",
    "# join with price data\n",
    "listings2 = listings.join(listing_price, on='listing_id', how='left')\n",
    "listings2.shape[0]"
   ]
  },
  {
   "cell_type": "code",
   "execution_count": 9,
   "id": "64ef1bb8",
   "metadata": {},
   "outputs": [
    {
     "data": {
      "text/html": [
       "<div>\n",
       "<style scoped>\n",
       "    .dataframe tbody tr th:only-of-type {\n",
       "        vertical-align: middle;\n",
       "    }\n",
       "\n",
       "    .dataframe tbody tr th {\n",
       "        vertical-align: top;\n",
       "    }\n",
       "\n",
       "    .dataframe thead th {\n",
       "        text-align: right;\n",
       "    }\n",
       "</style>\n",
       "<table border=\"1\" class=\"dataframe\">\n",
       "  <thead>\n",
       "    <tr style=\"text-align: right;\">\n",
       "      <th></th>\n",
       "      <th>listing_id</th>\n",
       "      <th>listing_url</th>\n",
       "      <th>scrape_id</th>\n",
       "      <th>last_scraped</th>\n",
       "      <th>name</th>\n",
       "      <th>summary</th>\n",
       "      <th>space</th>\n",
       "      <th>description</th>\n",
       "      <th>experiences_offered</th>\n",
       "      <th>neighborhood_overview</th>\n",
       "      <th>...</th>\n",
       "      <th>requires_license</th>\n",
       "      <th>license</th>\n",
       "      <th>jurisdiction_names</th>\n",
       "      <th>instant_bookable</th>\n",
       "      <th>cancellation_policy</th>\n",
       "      <th>require_guest_profile_picture</th>\n",
       "      <th>require_guest_phone_verification</th>\n",
       "      <th>calculated_host_listings_count</th>\n",
       "      <th>reviews_per_month</th>\n",
       "      <th>price_avg</th>\n",
       "    </tr>\n",
       "  </thead>\n",
       "  <tbody>\n",
       "    <tr>\n",
       "      <th>0</th>\n",
       "      <td>241032</td>\n",
       "      <td>https://www.airbnb.com/rooms/241032</td>\n",
       "      <td>20160104002432</td>\n",
       "      <td>2016-01-04</td>\n",
       "      <td>Stylish Queen Anne Apartment</td>\n",
       "      <td>NaN</td>\n",
       "      <td>Make your self at home in this charming one-be...</td>\n",
       "      <td>Make your self at home in this charming one-be...</td>\n",
       "      <td>none</td>\n",
       "      <td>NaN</td>\n",
       "      <td>...</td>\n",
       "      <td>f</td>\n",
       "      <td>NaN</td>\n",
       "      <td>WASHINGTON</td>\n",
       "      <td>f</td>\n",
       "      <td>moderate</td>\n",
       "      <td>f</td>\n",
       "      <td>f</td>\n",
       "      <td>2</td>\n",
       "      <td>4.07</td>\n",
       "      <td>85.000000</td>\n",
       "    </tr>\n",
       "    <tr>\n",
       "      <th>1</th>\n",
       "      <td>953595</td>\n",
       "      <td>https://www.airbnb.com/rooms/953595</td>\n",
       "      <td>20160104002432</td>\n",
       "      <td>2016-01-04</td>\n",
       "      <td>Bright &amp; Airy Queen Anne Apartment</td>\n",
       "      <td>Chemically sensitive? We've removed the irrita...</td>\n",
       "      <td>Beautiful, hypoallergenic apartment in an extr...</td>\n",
       "      <td>Chemically sensitive? We've removed the irrita...</td>\n",
       "      <td>none</td>\n",
       "      <td>Queen Anne is a wonderful, truly functional vi...</td>\n",
       "      <td>...</td>\n",
       "      <td>f</td>\n",
       "      <td>NaN</td>\n",
       "      <td>WASHINGTON</td>\n",
       "      <td>f</td>\n",
       "      <td>strict</td>\n",
       "      <td>t</td>\n",
       "      <td>t</td>\n",
       "      <td>6</td>\n",
       "      <td>1.48</td>\n",
       "      <td>170.931271</td>\n",
       "    </tr>\n",
       "    <tr>\n",
       "      <th>2</th>\n",
       "      <td>3308979</td>\n",
       "      <td>https://www.airbnb.com/rooms/3308979</td>\n",
       "      <td>20160104002432</td>\n",
       "      <td>2016-01-04</td>\n",
       "      <td>New Modern House-Amazing water view</td>\n",
       "      <td>New modern house built in 2013.  Spectacular s...</td>\n",
       "      <td>Our house is modern, light and fresh with a wa...</td>\n",
       "      <td>New modern house built in 2013.  Spectacular s...</td>\n",
       "      <td>none</td>\n",
       "      <td>Upper Queen Anne is a charming neighborhood fu...</td>\n",
       "      <td>...</td>\n",
       "      <td>f</td>\n",
       "      <td>NaN</td>\n",
       "      <td>WASHINGTON</td>\n",
       "      <td>f</td>\n",
       "      <td>strict</td>\n",
       "      <td>f</td>\n",
       "      <td>f</td>\n",
       "      <td>2</td>\n",
       "      <td>1.15</td>\n",
       "      <td>894.186047</td>\n",
       "    </tr>\n",
       "    <tr>\n",
       "      <th>3</th>\n",
       "      <td>7421966</td>\n",
       "      <td>https://www.airbnb.com/rooms/7421966</td>\n",
       "      <td>20160104002432</td>\n",
       "      <td>2016-01-04</td>\n",
       "      <td>Queen Anne Chateau</td>\n",
       "      <td>A charming apartment that sits atop Queen Anne...</td>\n",
       "      <td>NaN</td>\n",
       "      <td>A charming apartment that sits atop Queen Anne...</td>\n",
       "      <td>none</td>\n",
       "      <td>NaN</td>\n",
       "      <td>...</td>\n",
       "      <td>f</td>\n",
       "      <td>NaN</td>\n",
       "      <td>WASHINGTON</td>\n",
       "      <td>f</td>\n",
       "      <td>flexible</td>\n",
       "      <td>f</td>\n",
       "      <td>f</td>\n",
       "      <td>1</td>\n",
       "      <td>NaN</td>\n",
       "      <td>100.000000</td>\n",
       "    </tr>\n",
       "    <tr>\n",
       "      <th>4</th>\n",
       "      <td>278830</td>\n",
       "      <td>https://www.airbnb.com/rooms/278830</td>\n",
       "      <td>20160104002432</td>\n",
       "      <td>2016-01-04</td>\n",
       "      <td>Charming craftsman 3 bdm house</td>\n",
       "      <td>Cozy family craftman house in beautiful neighb...</td>\n",
       "      <td>Cozy family craftman house in beautiful neighb...</td>\n",
       "      <td>Cozy family craftman house in beautiful neighb...</td>\n",
       "      <td>none</td>\n",
       "      <td>We are in the beautiful neighborhood of Queen ...</td>\n",
       "      <td>...</td>\n",
       "      <td>f</td>\n",
       "      <td>NaN</td>\n",
       "      <td>WASHINGTON</td>\n",
       "      <td>f</td>\n",
       "      <td>strict</td>\n",
       "      <td>f</td>\n",
       "      <td>f</td>\n",
       "      <td>1</td>\n",
       "      <td>0.89</td>\n",
       "      <td>462.739726</td>\n",
       "    </tr>\n",
       "  </tbody>\n",
       "</table>\n",
       "<p>5 rows × 93 columns</p>\n",
       "</div>"
      ],
      "text/plain": [
       "   listing_id                           listing_url       scrape_id  \\\n",
       "0      241032   https://www.airbnb.com/rooms/241032  20160104002432   \n",
       "1      953595   https://www.airbnb.com/rooms/953595  20160104002432   \n",
       "2     3308979  https://www.airbnb.com/rooms/3308979  20160104002432   \n",
       "3     7421966  https://www.airbnb.com/rooms/7421966  20160104002432   \n",
       "4      278830   https://www.airbnb.com/rooms/278830  20160104002432   \n",
       "\n",
       "  last_scraped                                 name  \\\n",
       "0   2016-01-04         Stylish Queen Anne Apartment   \n",
       "1   2016-01-04   Bright & Airy Queen Anne Apartment   \n",
       "2   2016-01-04  New Modern House-Amazing water view   \n",
       "3   2016-01-04                   Queen Anne Chateau   \n",
       "4   2016-01-04       Charming craftsman 3 bdm house   \n",
       "\n",
       "                                             summary  \\\n",
       "0                                                NaN   \n",
       "1  Chemically sensitive? We've removed the irrita...   \n",
       "2  New modern house built in 2013.  Spectacular s...   \n",
       "3  A charming apartment that sits atop Queen Anne...   \n",
       "4  Cozy family craftman house in beautiful neighb...   \n",
       "\n",
       "                                               space  \\\n",
       "0  Make your self at home in this charming one-be...   \n",
       "1  Beautiful, hypoallergenic apartment in an extr...   \n",
       "2  Our house is modern, light and fresh with a wa...   \n",
       "3                                                NaN   \n",
       "4  Cozy family craftman house in beautiful neighb...   \n",
       "\n",
       "                                         description experiences_offered  \\\n",
       "0  Make your self at home in this charming one-be...                none   \n",
       "1  Chemically sensitive? We've removed the irrita...                none   \n",
       "2  New modern house built in 2013.  Spectacular s...                none   \n",
       "3  A charming apartment that sits atop Queen Anne...                none   \n",
       "4  Cozy family craftman house in beautiful neighb...                none   \n",
       "\n",
       "                               neighborhood_overview  ... requires_license  \\\n",
       "0                                                NaN  ...                f   \n",
       "1  Queen Anne is a wonderful, truly functional vi...  ...                f   \n",
       "2  Upper Queen Anne is a charming neighborhood fu...  ...                f   \n",
       "3                                                NaN  ...                f   \n",
       "4  We are in the beautiful neighborhood of Queen ...  ...                f   \n",
       "\n",
       "  license jurisdiction_names instant_bookable cancellation_policy  \\\n",
       "0     NaN         WASHINGTON                f            moderate   \n",
       "1     NaN         WASHINGTON                f              strict   \n",
       "2     NaN         WASHINGTON                f              strict   \n",
       "3     NaN         WASHINGTON                f            flexible   \n",
       "4     NaN         WASHINGTON                f              strict   \n",
       "\n",
       "  require_guest_profile_picture  require_guest_phone_verification  \\\n",
       "0                             f                                 f   \n",
       "1                             t                                 t   \n",
       "2                             f                                 f   \n",
       "3                             f                                 f   \n",
       "4                             f                                 f   \n",
       "\n",
       "  calculated_host_listings_count reviews_per_month   price_avg  \n",
       "0                              2              4.07   85.000000  \n",
       "1                              6              1.48  170.931271  \n",
       "2                              2              1.15  894.186047  \n",
       "3                              1               NaN  100.000000  \n",
       "4                              1              0.89  462.739726  \n",
       "\n",
       "[5 rows x 93 columns]"
      ]
     },
     "execution_count": 9,
     "metadata": {},
     "output_type": "execute_result"
    },
    {
     "name": "stdout",
     "output_type": "stream",
     "text": [
      "time: 47 ms (started: 2025-04-18 09:04:48 +01:00)\n"
     ]
    }
   ],
   "source": [
    "listings2.head()"
   ]
  },
  {
   "cell_type": "markdown",
   "id": "7c4843f3",
   "metadata": {},
   "source": [
    "### 1) Do missing descriptions impact prices?"
   ]
  },
  {
   "cell_type": "code",
   "execution_count": 80,
   "id": "bad7caf1",
   "metadata": {},
   "outputs": [
    {
     "name": "stdout",
     "output_type": "stream",
     "text": [
      "time: 0 ns (started: 2025-04-11 13:10:43 +01:00)\n"
     ]
    }
   ],
   "source": [
    "# create function for creating NA flags\n",
    "\n",
    "def na_flag(df, col):\n",
    "    df[(col + '_NA')] = np.where(df[col].isna(), 0, 1)\n",
    "    print(df.groupby((col + '_NA'))['price_avg'].mean())\n",
    "    print(df.groupby((col + '_NA'))['listing_id'].count())"
   ]
  },
  {
   "cell_type": "code",
   "execution_count": 81,
   "id": "896823ae",
   "metadata": {
    "scrolled": true
   },
   "outputs": [
    {
     "name": "stdout",
     "output_type": "stream",
     "text": [
      "summary_NA\n",
      "0    136.156921\n",
      "1    135.341474\n",
      "Name: price_avg, dtype: float64\n",
      "summary_NA\n",
      "0     177\n",
      "1    3641\n",
      "Name: listing_id, dtype: int64\n",
      "time: 0 ns (started: 2025-04-11 13:10:45 +01:00)\n"
     ]
    }
   ],
   "source": [
    "na_flag(listings2, 'summary')"
   ]
  },
  {
   "cell_type": "code",
   "execution_count": 82,
   "id": "58af19d9",
   "metadata": {},
   "outputs": [
    {
     "name": "stdout",
     "output_type": "stream",
     "text": [
      "neighborhood_overview_NA\n",
      "0    138.747845\n",
      "1    134.136001\n",
      "Name: price_avg, dtype: float64\n",
      "neighborhood_overview_NA\n",
      "0    1032\n",
      "1    2786\n",
      "Name: listing_id, dtype: int64\n",
      "time: 16 ms (started: 2025-04-11 13:11:04 +01:00)\n"
     ]
    }
   ],
   "source": [
    "na_flag(listings2, 'neighborhood_overview')"
   ]
  },
  {
   "cell_type": "code",
   "execution_count": 83,
   "id": "43cd074c",
   "metadata": {},
   "outputs": [
    {
     "name": "stdout",
     "output_type": "stream",
     "text": [
      "space_NA\n",
      "0    129.993938\n",
      "1    136.321921\n",
      "Name: price_avg, dtype: float64\n",
      "space_NA\n",
      "0     569\n",
      "1    3249\n",
      "Name: listing_id, dtype: int64\n",
      "time: 0 ns (started: 2025-04-11 13:11:12 +01:00)\n"
     ]
    }
   ],
   "source": [
    "na_flag(listings2, 'space')"
   ]
  },
  {
   "cell_type": "code",
   "execution_count": 84,
   "id": "f683dfa5",
   "metadata": {},
   "outputs": [
    {
     "name": "stdout",
     "output_type": "stream",
     "text": [
      "description_NA\n",
      "1    135.380034\n",
      "Name: price_avg, dtype: float64\n",
      "description_NA\n",
      "1    3818\n",
      "Name: listing_id, dtype: int64\n",
      "time: 0 ns (started: 2025-04-11 13:11:29 +01:00)\n"
     ]
    }
   ],
   "source": [
    "na_flag(listings2, 'description')"
   ]
  },
  {
   "cell_type": "markdown",
   "id": "3e2495e2",
   "metadata": {},
   "source": [
    "Having more information listed (eg. description, summary, etc.) does not necessarily lead to higher prices. The only field that may have an impace is 'space'."
   ]
  },
  {
   "cell_type": "code",
   "execution_count": 75,
   "id": "15fe3796",
   "metadata": {},
   "outputs": [
    {
     "data": {
      "text/plain": [
       "count_NA\n",
       "1    132.952066\n",
       "2    141.334069\n",
       "3    134.621072\n",
       "Name: price_avg, dtype: float64"
      ]
     },
     "execution_count": 75,
     "metadata": {},
     "output_type": "execute_result"
    },
    {
     "name": "stdout",
     "output_type": "stream",
     "text": [
      "time: 16 ms (started: 2025-04-11 13:08:15 +01:00)\n"
     ]
    }
   ],
   "source": [
    "# Does the amount of missing info relate to lower prices? Eg. if a listing has no description on 1 vs 2 vs 3 fields\n",
    "\n",
    "listings2['count_NA'] = listings2['summary_NA'] + listings2['neighborhood_overview_NA'] + listings2['space_NA'] \n",
    "listings2.groupby(['count_NA'])['price_avg'].mean()"
   ]
  },
  {
   "cell_type": "code",
   "execution_count": 77,
   "id": "d1b8b615",
   "metadata": {
    "scrolled": true
   },
   "outputs": [
    {
     "data": {
      "text/plain": [
       "count_NA\n",
       "1     597\n",
       "2     584\n",
       "3    2637\n",
       "Name: listing_id, dtype: int64"
      ]
     },
     "execution_count": 77,
     "metadata": {},
     "output_type": "execute_result"
    },
    {
     "name": "stdout",
     "output_type": "stream",
     "text": [
      "time: 0 ns (started: 2025-04-11 13:09:17 +01:00)\n"
     ]
    }
   ],
   "source": [
    "listings2.groupby(['count_NA'])['listing_id'].count()"
   ]
  },
  {
   "cell_type": "markdown",
   "id": "929189b4",
   "metadata": {},
   "source": [
    "Doesn't seem to be a pattern with the number of missing/non-missing info"
   ]
  },
  {
   "cell_type": "code",
   "execution_count": 86,
   "id": "c781c3d0",
   "metadata": {},
   "outputs": [
    {
     "data": {
      "text/plain": [
       "count_NA  space_NA\n",
       "1         0           131.020785\n",
       "          1           139.565242\n",
       "2         0           125.443594\n",
       "          1           144.827233\n",
       "3         1           134.621072\n",
       "Name: price_avg, dtype: float64"
      ]
     },
     "execution_count": 86,
     "metadata": {},
     "output_type": "execute_result"
    },
    {
     "name": "stdout",
     "output_type": "stream",
     "text": [
      "time: 16 ms (started: 2025-04-11 13:14:11 +01:00)\n"
     ]
    }
   ],
   "source": [
    "listings2.groupby(['count_NA', 'space_NA'])['price_avg'].mean()"
   ]
  },
  {
   "cell_type": "code",
   "execution_count": 85,
   "id": "9bf165f1",
   "metadata": {},
   "outputs": [
    {
     "data": {
      "text/plain": [
       "count_NA  space_NA\n",
       "1         0            464\n",
       "          1            133\n",
       "2         0            105\n",
       "          1            479\n",
       "3         1           2637\n",
       "Name: listing_id, dtype: int64"
      ]
     },
     "execution_count": 85,
     "metadata": {},
     "output_type": "execute_result"
    },
    {
     "name": "stdout",
     "output_type": "stream",
     "text": [
      "time: 15 ms (started: 2025-04-11 13:13:46 +01:00)\n"
     ]
    }
   ],
   "source": [
    "listings2.groupby(['count_NA', 'space_NA'])['listing_id'].count()"
   ]
  },
  {
   "cell_type": "markdown",
   "id": "0316ffe2",
   "metadata": {},
   "source": [
    "'Space' description seems to have an impact"
   ]
  },
  {
   "cell_type": "code",
   "execution_count": 10,
   "id": "0bb15b38",
   "metadata": {},
   "outputs": [
    {
     "name": "stdout",
     "output_type": "stream",
     "text": [
      "time: 141 ms (started: 2025-04-18 09:04:58 +01:00)\n"
     ]
    }
   ],
   "source": [
    "# what about listing completeness as a whole?\n",
    "\n",
    "# create NA flags then counting how many missings there are in total\n",
    "# loop through all the columns in the listings df\n",
    "\n",
    "col_list = list(listings)\n",
    "listings_NA = pd.DataFrame(data = listings['listing_id'])\n",
    "\n",
    "for col in col_list:\n",
    "    listings_NA[col+'_NA'] = np.where(listings[col].isna(), 0, 1)\n",
    "\n"
   ]
  },
  {
   "cell_type": "code",
   "execution_count": 11,
   "id": "bb99cfbb",
   "metadata": {},
   "outputs": [
    {
     "data": {
      "text/html": [
       "<div>\n",
       "<style scoped>\n",
       "    .dataframe tbody tr th:only-of-type {\n",
       "        vertical-align: middle;\n",
       "    }\n",
       "\n",
       "    .dataframe tbody tr th {\n",
       "        vertical-align: top;\n",
       "    }\n",
       "\n",
       "    .dataframe thead th {\n",
       "        text-align: right;\n",
       "    }\n",
       "</style>\n",
       "<table border=\"1\" class=\"dataframe\">\n",
       "  <thead>\n",
       "    <tr style=\"text-align: right;\">\n",
       "      <th></th>\n",
       "      <th>listing_id</th>\n",
       "      <th>listing_id_NA</th>\n",
       "      <th>listing_url_NA</th>\n",
       "      <th>scrape_id_NA</th>\n",
       "      <th>last_scraped_NA</th>\n",
       "      <th>name_NA</th>\n",
       "      <th>summary_NA</th>\n",
       "      <th>space_NA</th>\n",
       "      <th>description_NA</th>\n",
       "      <th>experiences_offered_NA</th>\n",
       "      <th>...</th>\n",
       "      <th>requires_license_NA</th>\n",
       "      <th>license_NA</th>\n",
       "      <th>jurisdiction_names_NA</th>\n",
       "      <th>instant_bookable_NA</th>\n",
       "      <th>cancellation_policy_NA</th>\n",
       "      <th>require_guest_profile_picture_NA</th>\n",
       "      <th>require_guest_phone_verification_NA</th>\n",
       "      <th>calculated_host_listings_count_NA</th>\n",
       "      <th>reviews_per_month_NA</th>\n",
       "      <th>count_NA</th>\n",
       "    </tr>\n",
       "  </thead>\n",
       "  <tbody>\n",
       "    <tr>\n",
       "      <th>0</th>\n",
       "      <td>241032</td>\n",
       "      <td>1</td>\n",
       "      <td>1</td>\n",
       "      <td>1</td>\n",
       "      <td>1</td>\n",
       "      <td>1</td>\n",
       "      <td>0</td>\n",
       "      <td>1</td>\n",
       "      <td>1</td>\n",
       "      <td>1</td>\n",
       "      <td>...</td>\n",
       "      <td>1</td>\n",
       "      <td>0</td>\n",
       "      <td>1</td>\n",
       "      <td>1</td>\n",
       "      <td>1</td>\n",
       "      <td>1</td>\n",
       "      <td>1</td>\n",
       "      <td>1</td>\n",
       "      <td>1</td>\n",
       "      <td>79</td>\n",
       "    </tr>\n",
       "    <tr>\n",
       "      <th>1</th>\n",
       "      <td>953595</td>\n",
       "      <td>1</td>\n",
       "      <td>1</td>\n",
       "      <td>1</td>\n",
       "      <td>1</td>\n",
       "      <td>1</td>\n",
       "      <td>1</td>\n",
       "      <td>1</td>\n",
       "      <td>1</td>\n",
       "      <td>1</td>\n",
       "      <td>...</td>\n",
       "      <td>1</td>\n",
       "      <td>0</td>\n",
       "      <td>1</td>\n",
       "      <td>1</td>\n",
       "      <td>1</td>\n",
       "      <td>1</td>\n",
       "      <td>1</td>\n",
       "      <td>1</td>\n",
       "      <td>1</td>\n",
       "      <td>90</td>\n",
       "    </tr>\n",
       "    <tr>\n",
       "      <th>2</th>\n",
       "      <td>3308979</td>\n",
       "      <td>1</td>\n",
       "      <td>1</td>\n",
       "      <td>1</td>\n",
       "      <td>1</td>\n",
       "      <td>1</td>\n",
       "      <td>1</td>\n",
       "      <td>1</td>\n",
       "      <td>1</td>\n",
       "      <td>1</td>\n",
       "      <td>...</td>\n",
       "      <td>1</td>\n",
       "      <td>0</td>\n",
       "      <td>1</td>\n",
       "      <td>1</td>\n",
       "      <td>1</td>\n",
       "      <td>1</td>\n",
       "      <td>1</td>\n",
       "      <td>1</td>\n",
       "      <td>1</td>\n",
       "      <td>85</td>\n",
       "    </tr>\n",
       "    <tr>\n",
       "      <th>3</th>\n",
       "      <td>7421966</td>\n",
       "      <td>1</td>\n",
       "      <td>1</td>\n",
       "      <td>1</td>\n",
       "      <td>1</td>\n",
       "      <td>1</td>\n",
       "      <td>1</td>\n",
       "      <td>0</td>\n",
       "      <td>1</td>\n",
       "      <td>1</td>\n",
       "      <td>...</td>\n",
       "      <td>1</td>\n",
       "      <td>0</td>\n",
       "      <td>1</td>\n",
       "      <td>1</td>\n",
       "      <td>1</td>\n",
       "      <td>1</td>\n",
       "      <td>1</td>\n",
       "      <td>1</td>\n",
       "      <td>0</td>\n",
       "      <td>67</td>\n",
       "    </tr>\n",
       "    <tr>\n",
       "      <th>4</th>\n",
       "      <td>278830</td>\n",
       "      <td>1</td>\n",
       "      <td>1</td>\n",
       "      <td>1</td>\n",
       "      <td>1</td>\n",
       "      <td>1</td>\n",
       "      <td>1</td>\n",
       "      <td>1</td>\n",
       "      <td>1</td>\n",
       "      <td>1</td>\n",
       "      <td>...</td>\n",
       "      <td>1</td>\n",
       "      <td>0</td>\n",
       "      <td>1</td>\n",
       "      <td>1</td>\n",
       "      <td>1</td>\n",
       "      <td>1</td>\n",
       "      <td>1</td>\n",
       "      <td>1</td>\n",
       "      <td>1</td>\n",
       "      <td>84</td>\n",
       "    </tr>\n",
       "  </tbody>\n",
       "</table>\n",
       "<p>5 rows × 94 columns</p>\n",
       "</div>"
      ],
      "text/plain": [
       "   listing_id  listing_id_NA  listing_url_NA  scrape_id_NA  last_scraped_NA  \\\n",
       "0      241032              1               1             1                1   \n",
       "1      953595              1               1             1                1   \n",
       "2     3308979              1               1             1                1   \n",
       "3     7421966              1               1             1                1   \n",
       "4      278830              1               1             1                1   \n",
       "\n",
       "   name_NA  summary_NA  space_NA  description_NA  experiences_offered_NA  ...  \\\n",
       "0        1           0         1               1                       1  ...   \n",
       "1        1           1         1               1                       1  ...   \n",
       "2        1           1         1               1                       1  ...   \n",
       "3        1           1         0               1                       1  ...   \n",
       "4        1           1         1               1                       1  ...   \n",
       "\n",
       "   requires_license_NA  license_NA  jurisdiction_names_NA  \\\n",
       "0                    1           0                      1   \n",
       "1                    1           0                      1   \n",
       "2                    1           0                      1   \n",
       "3                    1           0                      1   \n",
       "4                    1           0                      1   \n",
       "\n",
       "   instant_bookable_NA  cancellation_policy_NA  \\\n",
       "0                    1                       1   \n",
       "1                    1                       1   \n",
       "2                    1                       1   \n",
       "3                    1                       1   \n",
       "4                    1                       1   \n",
       "\n",
       "   require_guest_profile_picture_NA  require_guest_phone_verification_NA  \\\n",
       "0                                 1                                    1   \n",
       "1                                 1                                    1   \n",
       "2                                 1                                    1   \n",
       "3                                 1                                    1   \n",
       "4                                 1                                    1   \n",
       "\n",
       "   calculated_host_listings_count_NA  reviews_per_month_NA  count_NA  \n",
       "0                                  1                     1        79  \n",
       "1                                  1                     1        90  \n",
       "2                                  1                     1        85  \n",
       "3                                  1                     0        67  \n",
       "4                                  1                     1        84  \n",
       "\n",
       "[5 rows x 94 columns]"
      ]
     },
     "execution_count": 11,
     "metadata": {},
     "output_type": "execute_result"
    },
    {
     "name": "stdout",
     "output_type": "stream",
     "text": [
      "time: 578 ms (started: 2025-04-18 09:04:59 +01:00)\n"
     ]
    }
   ],
   "source": [
    "# count how many are NA\n",
    "col_list_NA = list(listings_NA)\n",
    "col_list_NA.remove('listing_id')\n",
    "\n",
    "listings_NA['count_NA'] = listings_NA[col_list_NA].sum(axis=1)\n",
    "listings_NA.head()"
   ]
  },
  {
   "cell_type": "code",
   "execution_count": 12,
   "id": "c4c98165",
   "metadata": {
    "scrolled": true
   },
   "outputs": [
    {
     "data": {
      "text/html": [
       "<div>\n",
       "<style scoped>\n",
       "    .dataframe tbody tr th:only-of-type {\n",
       "        vertical-align: middle;\n",
       "    }\n",
       "\n",
       "    .dataframe tbody tr th {\n",
       "        vertical-align: top;\n",
       "    }\n",
       "\n",
       "    .dataframe thead th {\n",
       "        text-align: right;\n",
       "    }\n",
       "</style>\n",
       "<table border=\"1\" class=\"dataframe\">\n",
       "  <thead>\n",
       "    <tr style=\"text-align: right;\">\n",
       "      <th></th>\n",
       "      <th>listing_id</th>\n",
       "      <th>listing_url</th>\n",
       "      <th>scrape_id</th>\n",
       "      <th>last_scraped</th>\n",
       "      <th>name</th>\n",
       "      <th>summary</th>\n",
       "      <th>space</th>\n",
       "      <th>description</th>\n",
       "      <th>experiences_offered</th>\n",
       "      <th>neighborhood_overview</th>\n",
       "      <th>...</th>\n",
       "      <th>requires_license</th>\n",
       "      <th>license</th>\n",
       "      <th>jurisdiction_names</th>\n",
       "      <th>instant_bookable</th>\n",
       "      <th>cancellation_policy</th>\n",
       "      <th>require_guest_profile_picture</th>\n",
       "      <th>require_guest_phone_verification</th>\n",
       "      <th>calculated_host_listings_count</th>\n",
       "      <th>reviews_per_month</th>\n",
       "      <th>price_avg</th>\n",
       "    </tr>\n",
       "  </thead>\n",
       "  <tbody>\n",
       "    <tr>\n",
       "      <th>0</th>\n",
       "      <td>241032</td>\n",
       "      <td>https://www.airbnb.com/rooms/241032</td>\n",
       "      <td>20160104002432</td>\n",
       "      <td>2016-01-04</td>\n",
       "      <td>Stylish Queen Anne Apartment</td>\n",
       "      <td>NaN</td>\n",
       "      <td>Make your self at home in this charming one-be...</td>\n",
       "      <td>Make your self at home in this charming one-be...</td>\n",
       "      <td>none</td>\n",
       "      <td>NaN</td>\n",
       "      <td>...</td>\n",
       "      <td>f</td>\n",
       "      <td>NaN</td>\n",
       "      <td>WASHINGTON</td>\n",
       "      <td>f</td>\n",
       "      <td>moderate</td>\n",
       "      <td>f</td>\n",
       "      <td>f</td>\n",
       "      <td>2</td>\n",
       "      <td>4.07</td>\n",
       "      <td>85.000000</td>\n",
       "    </tr>\n",
       "    <tr>\n",
       "      <th>1</th>\n",
       "      <td>953595</td>\n",
       "      <td>https://www.airbnb.com/rooms/953595</td>\n",
       "      <td>20160104002432</td>\n",
       "      <td>2016-01-04</td>\n",
       "      <td>Bright &amp; Airy Queen Anne Apartment</td>\n",
       "      <td>Chemically sensitive? We've removed the irrita...</td>\n",
       "      <td>Beautiful, hypoallergenic apartment in an extr...</td>\n",
       "      <td>Chemically sensitive? We've removed the irrita...</td>\n",
       "      <td>none</td>\n",
       "      <td>Queen Anne is a wonderful, truly functional vi...</td>\n",
       "      <td>...</td>\n",
       "      <td>f</td>\n",
       "      <td>NaN</td>\n",
       "      <td>WASHINGTON</td>\n",
       "      <td>f</td>\n",
       "      <td>strict</td>\n",
       "      <td>t</td>\n",
       "      <td>t</td>\n",
       "      <td>6</td>\n",
       "      <td>1.48</td>\n",
       "      <td>170.931271</td>\n",
       "    </tr>\n",
       "    <tr>\n",
       "      <th>2</th>\n",
       "      <td>3308979</td>\n",
       "      <td>https://www.airbnb.com/rooms/3308979</td>\n",
       "      <td>20160104002432</td>\n",
       "      <td>2016-01-04</td>\n",
       "      <td>New Modern House-Amazing water view</td>\n",
       "      <td>New modern house built in 2013.  Spectacular s...</td>\n",
       "      <td>Our house is modern, light and fresh with a wa...</td>\n",
       "      <td>New modern house built in 2013.  Spectacular s...</td>\n",
       "      <td>none</td>\n",
       "      <td>Upper Queen Anne is a charming neighborhood fu...</td>\n",
       "      <td>...</td>\n",
       "      <td>f</td>\n",
       "      <td>NaN</td>\n",
       "      <td>WASHINGTON</td>\n",
       "      <td>f</td>\n",
       "      <td>strict</td>\n",
       "      <td>f</td>\n",
       "      <td>f</td>\n",
       "      <td>2</td>\n",
       "      <td>1.15</td>\n",
       "      <td>894.186047</td>\n",
       "    </tr>\n",
       "    <tr>\n",
       "      <th>3</th>\n",
       "      <td>7421966</td>\n",
       "      <td>https://www.airbnb.com/rooms/7421966</td>\n",
       "      <td>20160104002432</td>\n",
       "      <td>2016-01-04</td>\n",
       "      <td>Queen Anne Chateau</td>\n",
       "      <td>A charming apartment that sits atop Queen Anne...</td>\n",
       "      <td>NaN</td>\n",
       "      <td>A charming apartment that sits atop Queen Anne...</td>\n",
       "      <td>none</td>\n",
       "      <td>NaN</td>\n",
       "      <td>...</td>\n",
       "      <td>f</td>\n",
       "      <td>NaN</td>\n",
       "      <td>WASHINGTON</td>\n",
       "      <td>f</td>\n",
       "      <td>flexible</td>\n",
       "      <td>f</td>\n",
       "      <td>f</td>\n",
       "      <td>1</td>\n",
       "      <td>NaN</td>\n",
       "      <td>100.000000</td>\n",
       "    </tr>\n",
       "    <tr>\n",
       "      <th>4</th>\n",
       "      <td>278830</td>\n",
       "      <td>https://www.airbnb.com/rooms/278830</td>\n",
       "      <td>20160104002432</td>\n",
       "      <td>2016-01-04</td>\n",
       "      <td>Charming craftsman 3 bdm house</td>\n",
       "      <td>Cozy family craftman house in beautiful neighb...</td>\n",
       "      <td>Cozy family craftman house in beautiful neighb...</td>\n",
       "      <td>Cozy family craftman house in beautiful neighb...</td>\n",
       "      <td>none</td>\n",
       "      <td>We are in the beautiful neighborhood of Queen ...</td>\n",
       "      <td>...</td>\n",
       "      <td>f</td>\n",
       "      <td>NaN</td>\n",
       "      <td>WASHINGTON</td>\n",
       "      <td>f</td>\n",
       "      <td>strict</td>\n",
       "      <td>f</td>\n",
       "      <td>f</td>\n",
       "      <td>1</td>\n",
       "      <td>0.89</td>\n",
       "      <td>462.739726</td>\n",
       "    </tr>\n",
       "  </tbody>\n",
       "</table>\n",
       "<p>5 rows × 93 columns</p>\n",
       "</div>"
      ],
      "text/plain": [
       "   listing_id                           listing_url       scrape_id  \\\n",
       "0      241032   https://www.airbnb.com/rooms/241032  20160104002432   \n",
       "1      953595   https://www.airbnb.com/rooms/953595  20160104002432   \n",
       "2     3308979  https://www.airbnb.com/rooms/3308979  20160104002432   \n",
       "3     7421966  https://www.airbnb.com/rooms/7421966  20160104002432   \n",
       "4      278830   https://www.airbnb.com/rooms/278830  20160104002432   \n",
       "\n",
       "  last_scraped                                 name  \\\n",
       "0   2016-01-04         Stylish Queen Anne Apartment   \n",
       "1   2016-01-04   Bright & Airy Queen Anne Apartment   \n",
       "2   2016-01-04  New Modern House-Amazing water view   \n",
       "3   2016-01-04                   Queen Anne Chateau   \n",
       "4   2016-01-04       Charming craftsman 3 bdm house   \n",
       "\n",
       "                                             summary  \\\n",
       "0                                                NaN   \n",
       "1  Chemically sensitive? We've removed the irrita...   \n",
       "2  New modern house built in 2013.  Spectacular s...   \n",
       "3  A charming apartment that sits atop Queen Anne...   \n",
       "4  Cozy family craftman house in beautiful neighb...   \n",
       "\n",
       "                                               space  \\\n",
       "0  Make your self at home in this charming one-be...   \n",
       "1  Beautiful, hypoallergenic apartment in an extr...   \n",
       "2  Our house is modern, light and fresh with a wa...   \n",
       "3                                                NaN   \n",
       "4  Cozy family craftman house in beautiful neighb...   \n",
       "\n",
       "                                         description experiences_offered  \\\n",
       "0  Make your self at home in this charming one-be...                none   \n",
       "1  Chemically sensitive? We've removed the irrita...                none   \n",
       "2  New modern house built in 2013.  Spectacular s...                none   \n",
       "3  A charming apartment that sits atop Queen Anne...                none   \n",
       "4  Cozy family craftman house in beautiful neighb...                none   \n",
       "\n",
       "                               neighborhood_overview  ... requires_license  \\\n",
       "0                                                NaN  ...                f   \n",
       "1  Queen Anne is a wonderful, truly functional vi...  ...                f   \n",
       "2  Upper Queen Anne is a charming neighborhood fu...  ...                f   \n",
       "3                                                NaN  ...                f   \n",
       "4  We are in the beautiful neighborhood of Queen ...  ...                f   \n",
       "\n",
       "  license jurisdiction_names instant_bookable cancellation_policy  \\\n",
       "0     NaN         WASHINGTON                f            moderate   \n",
       "1     NaN         WASHINGTON                f              strict   \n",
       "2     NaN         WASHINGTON                f              strict   \n",
       "3     NaN         WASHINGTON                f            flexible   \n",
       "4     NaN         WASHINGTON                f              strict   \n",
       "\n",
       "  require_guest_profile_picture  require_guest_phone_verification  \\\n",
       "0                             f                                 f   \n",
       "1                             t                                 t   \n",
       "2                             f                                 f   \n",
       "3                             f                                 f   \n",
       "4                             f                                 f   \n",
       "\n",
       "  calculated_host_listings_count reviews_per_month   price_avg  \n",
       "0                              2              4.07   85.000000  \n",
       "1                              6              1.48  170.931271  \n",
       "2                              2              1.15  894.186047  \n",
       "3                              1               NaN  100.000000  \n",
       "4                              1              0.89  462.739726  \n",
       "\n",
       "[5 rows x 93 columns]"
      ]
     },
     "execution_count": 12,
     "metadata": {},
     "output_type": "execute_result"
    },
    {
     "name": "stdout",
     "output_type": "stream",
     "text": [
      "time: 62 ms (started: 2025-04-13 09:51:46 +01:00)\n"
     ]
    }
   ],
   "source": [
    "listings2.head()"
   ]
  },
  {
   "cell_type": "code",
   "execution_count": 131,
   "id": "bbc4d50d",
   "metadata": {
    "scrolled": true
   },
   "outputs": [
    {
     "data": {
      "text/plain": [
       "3818"
      ]
     },
     "execution_count": 131,
     "metadata": {},
     "output_type": "execute_result"
    },
    {
     "name": "stdout",
     "output_type": "stream",
     "text": [
      "time: 0 ns (started: 2025-04-11 14:02:13 +01:00)\n"
     ]
    }
   ],
   "source": [
    "listings2.shape[0]"
   ]
  },
  {
   "cell_type": "code",
   "execution_count": 134,
   "id": "a88f19a7",
   "metadata": {},
   "outputs": [
    {
     "data": {
      "text/plain": [
       "0       False\n",
       "1       False\n",
       "2       False\n",
       "3       False\n",
       "4       False\n",
       "        ...  \n",
       "3813    False\n",
       "3814    False\n",
       "3815    False\n",
       "3816    False\n",
       "3817    False\n",
       "Name: price_avg, Length: 3818, dtype: bool"
      ]
     },
     "execution_count": 134,
     "metadata": {},
     "output_type": "execute_result"
    },
    {
     "name": "stdout",
     "output_type": "stream",
     "text": [
      "time: 16 ms (started: 2025-04-11 14:03:14 +01:00)\n"
     ]
    }
   ],
   "source": [
    "# are any of these missing price_avg?\n",
    "listings2['price_avg'].isna()"
   ]
  },
  {
   "cell_type": "code",
   "execution_count": 12,
   "id": "adcfcb38",
   "metadata": {},
   "outputs": [
    {
     "data": {
      "text/plain": [
       "3818"
      ]
     },
     "execution_count": 12,
     "metadata": {},
     "output_type": "execute_result"
    },
    {
     "name": "stdout",
     "output_type": "stream",
     "text": [
      "time: 0 ns (started: 2025-04-13 10:26:18 +01:00)\n"
     ]
    }
   ],
   "source": [
    "listings_NA.shape[0]"
   ]
  },
  {
   "cell_type": "code",
   "execution_count": 14,
   "id": "b235c7a2",
   "metadata": {},
   "outputs": [
    {
     "data": {
      "text/html": [
       "<div>\n",
       "<style scoped>\n",
       "    .dataframe tbody tr th:only-of-type {\n",
       "        vertical-align: middle;\n",
       "    }\n",
       "\n",
       "    .dataframe tbody tr th {\n",
       "        vertical-align: top;\n",
       "    }\n",
       "\n",
       "    .dataframe thead th {\n",
       "        text-align: right;\n",
       "    }\n",
       "</style>\n",
       "<table border=\"1\" class=\"dataframe\">\n",
       "  <thead>\n",
       "    <tr style=\"text-align: right;\">\n",
       "      <th></th>\n",
       "      <th>listing_id</th>\n",
       "      <th>listing_url</th>\n",
       "      <th>scrape_id</th>\n",
       "      <th>last_scraped</th>\n",
       "      <th>name</th>\n",
       "      <th>summary</th>\n",
       "      <th>space</th>\n",
       "      <th>description</th>\n",
       "      <th>experiences_offered</th>\n",
       "      <th>neighborhood_overview</th>\n",
       "      <th>...</th>\n",
       "      <th>requires_license_NA</th>\n",
       "      <th>license_NA</th>\n",
       "      <th>jurisdiction_names_NA</th>\n",
       "      <th>instant_bookable_NA</th>\n",
       "      <th>cancellation_policy_NA</th>\n",
       "      <th>require_guest_profile_picture_NA</th>\n",
       "      <th>require_guest_phone_verification_NA</th>\n",
       "      <th>calculated_host_listings_count_NA</th>\n",
       "      <th>reviews_per_month_NA</th>\n",
       "      <th>count_NA</th>\n",
       "    </tr>\n",
       "  </thead>\n",
       "  <tbody>\n",
       "    <tr>\n",
       "      <th>0</th>\n",
       "      <td>241032</td>\n",
       "      <td>https://www.airbnb.com/rooms/241032</td>\n",
       "      <td>20160104002432</td>\n",
       "      <td>2016-01-04</td>\n",
       "      <td>Stylish Queen Anne Apartment</td>\n",
       "      <td>NaN</td>\n",
       "      <td>Make your self at home in this charming one-be...</td>\n",
       "      <td>Make your self at home in this charming one-be...</td>\n",
       "      <td>none</td>\n",
       "      <td>NaN</td>\n",
       "      <td>...</td>\n",
       "      <td>1</td>\n",
       "      <td>0</td>\n",
       "      <td>1</td>\n",
       "      <td>1</td>\n",
       "      <td>1</td>\n",
       "      <td>1</td>\n",
       "      <td>1</td>\n",
       "      <td>1</td>\n",
       "      <td>1</td>\n",
       "      <td>79</td>\n",
       "    </tr>\n",
       "    <tr>\n",
       "      <th>1</th>\n",
       "      <td>953595</td>\n",
       "      <td>https://www.airbnb.com/rooms/953595</td>\n",
       "      <td>20160104002432</td>\n",
       "      <td>2016-01-04</td>\n",
       "      <td>Bright &amp; Airy Queen Anne Apartment</td>\n",
       "      <td>Chemically sensitive? We've removed the irrita...</td>\n",
       "      <td>Beautiful, hypoallergenic apartment in an extr...</td>\n",
       "      <td>Chemically sensitive? We've removed the irrita...</td>\n",
       "      <td>none</td>\n",
       "      <td>Queen Anne is a wonderful, truly functional vi...</td>\n",
       "      <td>...</td>\n",
       "      <td>1</td>\n",
       "      <td>0</td>\n",
       "      <td>1</td>\n",
       "      <td>1</td>\n",
       "      <td>1</td>\n",
       "      <td>1</td>\n",
       "      <td>1</td>\n",
       "      <td>1</td>\n",
       "      <td>1</td>\n",
       "      <td>90</td>\n",
       "    </tr>\n",
       "    <tr>\n",
       "      <th>2</th>\n",
       "      <td>3308979</td>\n",
       "      <td>https://www.airbnb.com/rooms/3308979</td>\n",
       "      <td>20160104002432</td>\n",
       "      <td>2016-01-04</td>\n",
       "      <td>New Modern House-Amazing water view</td>\n",
       "      <td>New modern house built in 2013.  Spectacular s...</td>\n",
       "      <td>Our house is modern, light and fresh with a wa...</td>\n",
       "      <td>New modern house built in 2013.  Spectacular s...</td>\n",
       "      <td>none</td>\n",
       "      <td>Upper Queen Anne is a charming neighborhood fu...</td>\n",
       "      <td>...</td>\n",
       "      <td>1</td>\n",
       "      <td>0</td>\n",
       "      <td>1</td>\n",
       "      <td>1</td>\n",
       "      <td>1</td>\n",
       "      <td>1</td>\n",
       "      <td>1</td>\n",
       "      <td>1</td>\n",
       "      <td>1</td>\n",
       "      <td>85</td>\n",
       "    </tr>\n",
       "    <tr>\n",
       "      <th>3</th>\n",
       "      <td>7421966</td>\n",
       "      <td>https://www.airbnb.com/rooms/7421966</td>\n",
       "      <td>20160104002432</td>\n",
       "      <td>2016-01-04</td>\n",
       "      <td>Queen Anne Chateau</td>\n",
       "      <td>A charming apartment that sits atop Queen Anne...</td>\n",
       "      <td>NaN</td>\n",
       "      <td>A charming apartment that sits atop Queen Anne...</td>\n",
       "      <td>none</td>\n",
       "      <td>NaN</td>\n",
       "      <td>...</td>\n",
       "      <td>1</td>\n",
       "      <td>0</td>\n",
       "      <td>1</td>\n",
       "      <td>1</td>\n",
       "      <td>1</td>\n",
       "      <td>1</td>\n",
       "      <td>1</td>\n",
       "      <td>1</td>\n",
       "      <td>0</td>\n",
       "      <td>67</td>\n",
       "    </tr>\n",
       "    <tr>\n",
       "      <th>4</th>\n",
       "      <td>278830</td>\n",
       "      <td>https://www.airbnb.com/rooms/278830</td>\n",
       "      <td>20160104002432</td>\n",
       "      <td>2016-01-04</td>\n",
       "      <td>Charming craftsman 3 bdm house</td>\n",
       "      <td>Cozy family craftman house in beautiful neighb...</td>\n",
       "      <td>Cozy family craftman house in beautiful neighb...</td>\n",
       "      <td>Cozy family craftman house in beautiful neighb...</td>\n",
       "      <td>none</td>\n",
       "      <td>We are in the beautiful neighborhood of Queen ...</td>\n",
       "      <td>...</td>\n",
       "      <td>1</td>\n",
       "      <td>0</td>\n",
       "      <td>1</td>\n",
       "      <td>1</td>\n",
       "      <td>1</td>\n",
       "      <td>1</td>\n",
       "      <td>1</td>\n",
       "      <td>1</td>\n",
       "      <td>1</td>\n",
       "      <td>84</td>\n",
       "    </tr>\n",
       "  </tbody>\n",
       "</table>\n",
       "<p>5 rows × 186 columns</p>\n",
       "</div>"
      ],
      "text/plain": [
       "   listing_id                           listing_url       scrape_id  \\\n",
       "0      241032   https://www.airbnb.com/rooms/241032  20160104002432   \n",
       "1      953595   https://www.airbnb.com/rooms/953595  20160104002432   \n",
       "2     3308979  https://www.airbnb.com/rooms/3308979  20160104002432   \n",
       "3     7421966  https://www.airbnb.com/rooms/7421966  20160104002432   \n",
       "4      278830   https://www.airbnb.com/rooms/278830  20160104002432   \n",
       "\n",
       "  last_scraped                                 name  \\\n",
       "0   2016-01-04         Stylish Queen Anne Apartment   \n",
       "1   2016-01-04   Bright & Airy Queen Anne Apartment   \n",
       "2   2016-01-04  New Modern House-Amazing water view   \n",
       "3   2016-01-04                   Queen Anne Chateau   \n",
       "4   2016-01-04       Charming craftsman 3 bdm house   \n",
       "\n",
       "                                             summary  \\\n",
       "0                                                NaN   \n",
       "1  Chemically sensitive? We've removed the irrita...   \n",
       "2  New modern house built in 2013.  Spectacular s...   \n",
       "3  A charming apartment that sits atop Queen Anne...   \n",
       "4  Cozy family craftman house in beautiful neighb...   \n",
       "\n",
       "                                               space  \\\n",
       "0  Make your self at home in this charming one-be...   \n",
       "1  Beautiful, hypoallergenic apartment in an extr...   \n",
       "2  Our house is modern, light and fresh with a wa...   \n",
       "3                                                NaN   \n",
       "4  Cozy family craftman house in beautiful neighb...   \n",
       "\n",
       "                                         description experiences_offered  \\\n",
       "0  Make your self at home in this charming one-be...                none   \n",
       "1  Chemically sensitive? We've removed the irrita...                none   \n",
       "2  New modern house built in 2013.  Spectacular s...                none   \n",
       "3  A charming apartment that sits atop Queen Anne...                none   \n",
       "4  Cozy family craftman house in beautiful neighb...                none   \n",
       "\n",
       "                               neighborhood_overview  ... requires_license_NA  \\\n",
       "0                                                NaN  ...                   1   \n",
       "1  Queen Anne is a wonderful, truly functional vi...  ...                   1   \n",
       "2  Upper Queen Anne is a charming neighborhood fu...  ...                   1   \n",
       "3                                                NaN  ...                   1   \n",
       "4  We are in the beautiful neighborhood of Queen ...  ...                   1   \n",
       "\n",
       "  license_NA jurisdiction_names_NA instant_bookable_NA cancellation_policy_NA  \\\n",
       "0          0                     1                   1                      1   \n",
       "1          0                     1                   1                      1   \n",
       "2          0                     1                   1                      1   \n",
       "3          0                     1                   1                      1   \n",
       "4          0                     1                   1                      1   \n",
       "\n",
       "  require_guest_profile_picture_NA  require_guest_phone_verification_NA  \\\n",
       "0                                1                                    1   \n",
       "1                                1                                    1   \n",
       "2                                1                                    1   \n",
       "3                                1                                    1   \n",
       "4                                1                                    1   \n",
       "\n",
       "  calculated_host_listings_count_NA reviews_per_month_NA count_NA  \n",
       "0                                 1                    1       79  \n",
       "1                                 1                    1       90  \n",
       "2                                 1                    1       85  \n",
       "3                                 1                    0       67  \n",
       "4                                 1                    1       84  \n",
       "\n",
       "[5 rows x 186 columns]"
      ]
     },
     "execution_count": 14,
     "metadata": {},
     "output_type": "execute_result"
    },
    {
     "name": "stdout",
     "output_type": "stream",
     "text": [
      "time: 62 ms (started: 2025-04-18 09:05:30 +01:00)\n"
     ]
    }
   ],
   "source": [
    "# how does this relate to prices?\n",
    "\n",
    "# join prices data onto listings_NA\n",
    "listings3 = pd.merge(listings2, listings_NA, on='listing_id', how='left')\n",
    "listings3.head()\n"
   ]
  },
  {
   "cell_type": "code",
   "execution_count": 15,
   "id": "28fe02bf",
   "metadata": {},
   "outputs": [
    {
     "data": {
      "text/plain": [
       "['listing_id',\n",
       " 'listing_url',\n",
       " 'scrape_id',\n",
       " 'last_scraped',\n",
       " 'name',\n",
       " 'summary',\n",
       " 'space',\n",
       " 'description',\n",
       " 'experiences_offered',\n",
       " 'neighborhood_overview',\n",
       " 'notes',\n",
       " 'transit',\n",
       " 'thumbnail_url',\n",
       " 'medium_url',\n",
       " 'picture_url',\n",
       " 'xl_picture_url',\n",
       " 'host_id',\n",
       " 'host_url',\n",
       " 'host_name',\n",
       " 'host_since',\n",
       " 'host_location',\n",
       " 'host_about',\n",
       " 'host_response_time',\n",
       " 'host_response_rate',\n",
       " 'host_acceptance_rate',\n",
       " 'host_is_superhost',\n",
       " 'host_thumbnail_url',\n",
       " 'host_picture_url',\n",
       " 'host_neighbourhood',\n",
       " 'host_listings_count',\n",
       " 'host_total_listings_count',\n",
       " 'host_verifications',\n",
       " 'host_has_profile_pic',\n",
       " 'host_identity_verified',\n",
       " 'street',\n",
       " 'neighbourhood',\n",
       " 'neighbourhood_cleansed',\n",
       " 'neighbourhood_group_cleansed',\n",
       " 'city',\n",
       " 'state',\n",
       " 'zipcode',\n",
       " 'market',\n",
       " 'smart_location',\n",
       " 'country_code',\n",
       " 'country',\n",
       " 'latitude',\n",
       " 'longitude',\n",
       " 'is_location_exact',\n",
       " 'property_type',\n",
       " 'room_type',\n",
       " 'accommodates',\n",
       " 'bathrooms',\n",
       " 'bedrooms',\n",
       " 'beds',\n",
       " 'bed_type',\n",
       " 'amenities',\n",
       " 'square_feet',\n",
       " 'price',\n",
       " 'weekly_price',\n",
       " 'monthly_price',\n",
       " 'security_deposit',\n",
       " 'cleaning_fee',\n",
       " 'guests_included',\n",
       " 'extra_people',\n",
       " 'minimum_nights',\n",
       " 'maximum_nights',\n",
       " 'calendar_updated',\n",
       " 'has_availability',\n",
       " 'availability_30',\n",
       " 'availability_60',\n",
       " 'availability_90',\n",
       " 'availability_365',\n",
       " 'calendar_last_scraped',\n",
       " 'number_of_reviews',\n",
       " 'first_review',\n",
       " 'last_review',\n",
       " 'review_scores_rating',\n",
       " 'review_scores_accuracy',\n",
       " 'review_scores_cleanliness',\n",
       " 'review_scores_checkin',\n",
       " 'review_scores_communication',\n",
       " 'review_scores_location',\n",
       " 'review_scores_value',\n",
       " 'requires_license',\n",
       " 'license',\n",
       " 'jurisdiction_names',\n",
       " 'instant_bookable',\n",
       " 'cancellation_policy',\n",
       " 'require_guest_profile_picture',\n",
       " 'require_guest_phone_verification',\n",
       " 'calculated_host_listings_count',\n",
       " 'reviews_per_month',\n",
       " 'price_avg',\n",
       " 'listing_id_NA',\n",
       " 'listing_url_NA',\n",
       " 'scrape_id_NA',\n",
       " 'last_scraped_NA',\n",
       " 'name_NA',\n",
       " 'summary_NA',\n",
       " 'space_NA',\n",
       " 'description_NA',\n",
       " 'experiences_offered_NA',\n",
       " 'neighborhood_overview_NA',\n",
       " 'notes_NA',\n",
       " 'transit_NA',\n",
       " 'thumbnail_url_NA',\n",
       " 'medium_url_NA',\n",
       " 'picture_url_NA',\n",
       " 'xl_picture_url_NA',\n",
       " 'host_id_NA',\n",
       " 'host_url_NA',\n",
       " 'host_name_NA',\n",
       " 'host_since_NA',\n",
       " 'host_location_NA',\n",
       " 'host_about_NA',\n",
       " 'host_response_time_NA',\n",
       " 'host_response_rate_NA',\n",
       " 'host_acceptance_rate_NA',\n",
       " 'host_is_superhost_NA',\n",
       " 'host_thumbnail_url_NA',\n",
       " 'host_picture_url_NA',\n",
       " 'host_neighbourhood_NA',\n",
       " 'host_listings_count_NA',\n",
       " 'host_total_listings_count_NA',\n",
       " 'host_verifications_NA',\n",
       " 'host_has_profile_pic_NA',\n",
       " 'host_identity_verified_NA',\n",
       " 'street_NA',\n",
       " 'neighbourhood_NA',\n",
       " 'neighbourhood_cleansed_NA',\n",
       " 'neighbourhood_group_cleansed_NA',\n",
       " 'city_NA',\n",
       " 'state_NA',\n",
       " 'zipcode_NA',\n",
       " 'market_NA',\n",
       " 'smart_location_NA',\n",
       " 'country_code_NA',\n",
       " 'country_NA',\n",
       " 'latitude_NA',\n",
       " 'longitude_NA',\n",
       " 'is_location_exact_NA',\n",
       " 'property_type_NA',\n",
       " 'room_type_NA',\n",
       " 'accommodates_NA',\n",
       " 'bathrooms_NA',\n",
       " 'bedrooms_NA',\n",
       " 'beds_NA',\n",
       " 'bed_type_NA',\n",
       " 'amenities_NA',\n",
       " 'square_feet_NA',\n",
       " 'price_NA',\n",
       " 'weekly_price_NA',\n",
       " 'monthly_price_NA',\n",
       " 'security_deposit_NA',\n",
       " 'cleaning_fee_NA',\n",
       " 'guests_included_NA',\n",
       " 'extra_people_NA',\n",
       " 'minimum_nights_NA',\n",
       " 'maximum_nights_NA',\n",
       " 'calendar_updated_NA',\n",
       " 'has_availability_NA',\n",
       " 'availability_30_NA',\n",
       " 'availability_60_NA',\n",
       " 'availability_90_NA',\n",
       " 'availability_365_NA',\n",
       " 'calendar_last_scraped_NA',\n",
       " 'number_of_reviews_NA',\n",
       " 'first_review_NA',\n",
       " 'last_review_NA',\n",
       " 'review_scores_rating_NA',\n",
       " 'review_scores_accuracy_NA',\n",
       " 'review_scores_cleanliness_NA',\n",
       " 'review_scores_checkin_NA',\n",
       " 'review_scores_communication_NA',\n",
       " 'review_scores_location_NA',\n",
       " 'review_scores_value_NA',\n",
       " 'requires_license_NA',\n",
       " 'license_NA',\n",
       " 'jurisdiction_names_NA',\n",
       " 'instant_bookable_NA',\n",
       " 'cancellation_policy_NA',\n",
       " 'require_guest_profile_picture_NA',\n",
       " 'require_guest_phone_verification_NA',\n",
       " 'calculated_host_listings_count_NA',\n",
       " 'reviews_per_month_NA',\n",
       " 'count_NA']"
      ]
     },
     "execution_count": 15,
     "metadata": {},
     "output_type": "execute_result"
    },
    {
     "name": "stdout",
     "output_type": "stream",
     "text": [
      "time: 16 ms (started: 2025-04-18 09:05:32 +01:00)\n"
     ]
    }
   ],
   "source": [
    "list(listings3)"
   ]
  },
  {
   "cell_type": "code",
   "execution_count": 18,
   "id": "12b75246",
   "metadata": {},
   "outputs": [
    {
     "data": {
      "text/html": [
       "<div>\n",
       "<style scoped>\n",
       "    .dataframe tbody tr th:only-of-type {\n",
       "        vertical-align: middle;\n",
       "    }\n",
       "\n",
       "    .dataframe tbody tr th {\n",
       "        vertical-align: top;\n",
       "    }\n",
       "\n",
       "    .dataframe thead th {\n",
       "        text-align: right;\n",
       "    }\n",
       "</style>\n",
       "<table border=\"1\" class=\"dataframe\">\n",
       "  <thead>\n",
       "    <tr style=\"text-align: right;\">\n",
       "      <th></th>\n",
       "      <th>count_NA</th>\n",
       "      <th>number_of_reviews</th>\n",
       "    </tr>\n",
       "  </thead>\n",
       "  <tbody>\n",
       "    <tr>\n",
       "      <th>0</th>\n",
       "      <td>59</td>\n",
       "      <td>0.000000</td>\n",
       "    </tr>\n",
       "    <tr>\n",
       "      <th>1</th>\n",
       "      <td>63</td>\n",
       "      <td>0.000000</td>\n",
       "    </tr>\n",
       "    <tr>\n",
       "      <th>2</th>\n",
       "      <td>65</td>\n",
       "      <td>0.000000</td>\n",
       "    </tr>\n",
       "    <tr>\n",
       "      <th>3</th>\n",
       "      <td>66</td>\n",
       "      <td>0.000000</td>\n",
       "    </tr>\n",
       "    <tr>\n",
       "      <th>4</th>\n",
       "      <td>67</td>\n",
       "      <td>0.000000</td>\n",
       "    </tr>\n",
       "    <tr>\n",
       "      <th>5</th>\n",
       "      <td>68</td>\n",
       "      <td>0.026316</td>\n",
       "    </tr>\n",
       "    <tr>\n",
       "      <th>6</th>\n",
       "      <td>69</td>\n",
       "      <td>0.000000</td>\n",
       "    </tr>\n",
       "    <tr>\n",
       "      <th>7</th>\n",
       "      <td>70</td>\n",
       "      <td>0.026316</td>\n",
       "    </tr>\n",
       "    <tr>\n",
       "      <th>8</th>\n",
       "      <td>71</td>\n",
       "      <td>0.000000</td>\n",
       "    </tr>\n",
       "    <tr>\n",
       "      <th>9</th>\n",
       "      <td>72</td>\n",
       "      <td>0.018868</td>\n",
       "    </tr>\n",
       "    <tr>\n",
       "      <th>10</th>\n",
       "      <td>73</td>\n",
       "      <td>0.051724</td>\n",
       "    </tr>\n",
       "    <tr>\n",
       "      <th>11</th>\n",
       "      <td>74</td>\n",
       "      <td>0.025974</td>\n",
       "    </tr>\n",
       "    <tr>\n",
       "      <th>12</th>\n",
       "      <td>75</td>\n",
       "      <td>0.067797</td>\n",
       "    </tr>\n",
       "    <tr>\n",
       "      <th>13</th>\n",
       "      <td>76</td>\n",
       "      <td>0.105263</td>\n",
       "    </tr>\n",
       "    <tr>\n",
       "      <th>14</th>\n",
       "      <td>77</td>\n",
       "      <td>0.152542</td>\n",
       "    </tr>\n",
       "    <tr>\n",
       "      <th>15</th>\n",
       "      <td>78</td>\n",
       "      <td>0.634146</td>\n",
       "    </tr>\n",
       "    <tr>\n",
       "      <th>16</th>\n",
       "      <td>79</td>\n",
       "      <td>5.214286</td>\n",
       "    </tr>\n",
       "    <tr>\n",
       "      <th>17</th>\n",
       "      <td>80</td>\n",
       "      <td>6.840000</td>\n",
       "    </tr>\n",
       "    <tr>\n",
       "      <th>18</th>\n",
       "      <td>81</td>\n",
       "      <td>7.818182</td>\n",
       "    </tr>\n",
       "    <tr>\n",
       "      <th>19</th>\n",
       "      <td>82</td>\n",
       "      <td>14.369231</td>\n",
       "    </tr>\n",
       "    <tr>\n",
       "      <th>20</th>\n",
       "      <td>83</td>\n",
       "      <td>20.345238</td>\n",
       "    </tr>\n",
       "    <tr>\n",
       "      <th>21</th>\n",
       "      <td>84</td>\n",
       "      <td>19.988806</td>\n",
       "    </tr>\n",
       "    <tr>\n",
       "      <th>22</th>\n",
       "      <td>85</td>\n",
       "      <td>27.092949</td>\n",
       "    </tr>\n",
       "    <tr>\n",
       "      <th>23</th>\n",
       "      <td>86</td>\n",
       "      <td>26.340000</td>\n",
       "    </tr>\n",
       "    <tr>\n",
       "      <th>24</th>\n",
       "      <td>87</td>\n",
       "      <td>32.936170</td>\n",
       "    </tr>\n",
       "    <tr>\n",
       "      <th>25</th>\n",
       "      <td>88</td>\n",
       "      <td>32.146552</td>\n",
       "    </tr>\n",
       "    <tr>\n",
       "      <th>26</th>\n",
       "      <td>89</td>\n",
       "      <td>30.943069</td>\n",
       "    </tr>\n",
       "    <tr>\n",
       "      <th>27</th>\n",
       "      <td>90</td>\n",
       "      <td>25.056291</td>\n",
       "    </tr>\n",
       "    <tr>\n",
       "      <th>28</th>\n",
       "      <td>91</td>\n",
       "      <td>45.750000</td>\n",
       "    </tr>\n",
       "  </tbody>\n",
       "</table>\n",
       "</div>"
      ],
      "text/plain": [
       "    count_NA  number_of_reviews\n",
       "0         59           0.000000\n",
       "1         63           0.000000\n",
       "2         65           0.000000\n",
       "3         66           0.000000\n",
       "4         67           0.000000\n",
       "5         68           0.026316\n",
       "6         69           0.000000\n",
       "7         70           0.026316\n",
       "8         71           0.000000\n",
       "9         72           0.018868\n",
       "10        73           0.051724\n",
       "11        74           0.025974\n",
       "12        75           0.067797\n",
       "13        76           0.105263\n",
       "14        77           0.152542\n",
       "15        78           0.634146\n",
       "16        79           5.214286\n",
       "17        80           6.840000\n",
       "18        81           7.818182\n",
       "19        82          14.369231\n",
       "20        83          20.345238\n",
       "21        84          19.988806\n",
       "22        85          27.092949\n",
       "23        86          26.340000\n",
       "24        87          32.936170\n",
       "25        88          32.146552\n",
       "26        89          30.943069\n",
       "27        90          25.056291\n",
       "28        91          45.750000"
      ]
     },
     "execution_count": 18,
     "metadata": {},
     "output_type": "execute_result"
    },
    {
     "name": "stdout",
     "output_type": "stream",
     "text": [
      "time: 0 ns (started: 2025-04-18 09:06:30 +01:00)\n"
     ]
    }
   ],
   "source": [
    "pd.DataFrame(listings3.groupby('count_NA', as_index = False)['number_of_reviews'].mean())"
   ]
  },
  {
   "cell_type": "code",
   "execution_count": 21,
   "id": "379aad4c",
   "metadata": {
    "scrolled": true
   },
   "outputs": [
    {
     "data": {
      "text/html": [
       "<div>\n",
       "<style scoped>\n",
       "    .dataframe tbody tr th:only-of-type {\n",
       "        vertical-align: middle;\n",
       "    }\n",
       "\n",
       "    .dataframe tbody tr th {\n",
       "        vertical-align: top;\n",
       "    }\n",
       "\n",
       "    .dataframe thead th {\n",
       "        text-align: right;\n",
       "    }\n",
       "</style>\n",
       "<table border=\"1\" class=\"dataframe\">\n",
       "  <thead>\n",
       "    <tr style=\"text-align: right;\">\n",
       "      <th></th>\n",
       "      <th>count_NA</th>\n",
       "      <th>price_avg</th>\n",
       "      <th>number_of_reviews</th>\n",
       "      <th>n</th>\n",
       "    </tr>\n",
       "  </thead>\n",
       "  <tbody>\n",
       "    <tr>\n",
       "      <th>0</th>\n",
       "      <td>59</td>\n",
       "      <td>250.000000</td>\n",
       "      <td>0.0</td>\n",
       "      <td>1</td>\n",
       "    </tr>\n",
       "    <tr>\n",
       "      <th>1</th>\n",
       "      <td>63</td>\n",
       "      <td>100.264045</td>\n",
       "      <td>0.0</td>\n",
       "      <td>2</td>\n",
       "    </tr>\n",
       "    <tr>\n",
       "      <th>2</th>\n",
       "      <td>65</td>\n",
       "      <td>131.666667</td>\n",
       "      <td>0.0</td>\n",
       "      <td>3</td>\n",
       "    </tr>\n",
       "    <tr>\n",
       "      <th>3</th>\n",
       "      <td>66</td>\n",
       "      <td>138.625000</td>\n",
       "      <td>0.0</td>\n",
       "      <td>8</td>\n",
       "    </tr>\n",
       "    <tr>\n",
       "      <th>4</th>\n",
       "      <td>67</td>\n",
       "      <td>106.100000</td>\n",
       "      <td>0.0</td>\n",
       "      <td>10</td>\n",
       "    </tr>\n",
       "  </tbody>\n",
       "</table>\n",
       "</div>"
      ],
      "text/plain": [
       "   count_NA   price_avg  number_of_reviews   n\n",
       "0        59  250.000000                0.0   1\n",
       "1        63  100.264045                0.0   2\n",
       "2        65  131.666667                0.0   3\n",
       "3        66  138.625000                0.0   8\n",
       "4        67  106.100000                0.0  10"
      ]
     },
     "execution_count": 21,
     "metadata": {},
     "output_type": "execute_result"
    },
    {
     "name": "stdout",
     "output_type": "stream",
     "text": [
      "time: 31 ms (started: 2025-04-18 09:24:59 +01:00)\n"
     ]
    }
   ],
   "source": [
    "# Get dataframe grouped by count_NA and the average price and number of reviews for each group\n",
    "# higher values of count_NA = more completeness of data\n",
    "\n",
    "NA_price = pd.merge(\n",
    "    pd.DataFrame(listings3.groupby('count_NA', as_index = False)['price_avg'].mean()),\n",
    "    pd.DataFrame(listings3.groupby('count_NA', as_index = False)['number_of_reviews'].mean()),\n",
    "    on='count_NA',\n",
    "    how='left'\n",
    "    )\n",
    "\n",
    "\n",
    "NA_price = pd.merge(\n",
    "    NA_price,\n",
    "    pd.DataFrame(listings3.groupby('count_NA', as_index = False)['listing_id'].count()),\n",
    "    on='count_NA',\n",
    "    how='left'\n",
    "    )\n",
    "\n",
    "# rename\n",
    "NA_price = NA_price.rename(columns = {'listing_id': 'n'})\n",
    "\n",
    "NA_price.head()"
   ]
  },
  {
   "cell_type": "code",
   "execution_count": 39,
   "id": "fa25832a",
   "metadata": {},
   "outputs": [
    {
     "data": {
      "text/plain": [
       "count_NA       int64\n",
       "price_avg    float64\n",
       "n              int64\n",
       "dtype: object"
      ]
     },
     "execution_count": 39,
     "metadata": {},
     "output_type": "execute_result"
    },
    {
     "name": "stdout",
     "output_type": "stream",
     "text": [
      "time: 0 ns (started: 2025-04-11 14:36:00 +01:00)\n"
     ]
    }
   ],
   "source": [
    "NA_price.dtypes"
   ]
  },
  {
   "cell_type": "code",
   "execution_count": 22,
   "id": "4f12acc6",
   "metadata": {},
   "outputs": [
    {
     "data": {
      "text/html": [
       "<div>\n",
       "<style scoped>\n",
       "    .dataframe tbody tr th:only-of-type {\n",
       "        vertical-align: middle;\n",
       "    }\n",
       "\n",
       "    .dataframe tbody tr th {\n",
       "        vertical-align: top;\n",
       "    }\n",
       "\n",
       "    .dataframe thead th {\n",
       "        text-align: right;\n",
       "    }\n",
       "</style>\n",
       "<table border=\"1\" class=\"dataframe\">\n",
       "  <thead>\n",
       "    <tr style=\"text-align: right;\">\n",
       "      <th></th>\n",
       "      <th>count_NA</th>\n",
       "      <th>price_avg</th>\n",
       "      <th>number_of_reviews</th>\n",
       "      <th>n</th>\n",
       "    </tr>\n",
       "  </thead>\n",
       "  <tbody>\n",
       "    <tr>\n",
       "      <th>count_NA</th>\n",
       "      <td>1.000000</td>\n",
       "      <td>-0.239983</td>\n",
       "      <td>0.853737</td>\n",
       "      <td>0.716241</td>\n",
       "    </tr>\n",
       "    <tr>\n",
       "      <th>price_avg</th>\n",
       "      <td>-0.239983</td>\n",
       "      <td>1.000000</td>\n",
       "      <td>-0.197426</td>\n",
       "      <td>-0.093783</td>\n",
       "    </tr>\n",
       "    <tr>\n",
       "      <th>number_of_reviews</th>\n",
       "      <td>0.853737</td>\n",
       "      <td>-0.197426</td>\n",
       "      <td>1.000000</td>\n",
       "      <td>0.746378</td>\n",
       "    </tr>\n",
       "    <tr>\n",
       "      <th>n</th>\n",
       "      <td>0.716241</td>\n",
       "      <td>-0.093783</td>\n",
       "      <td>0.746378</td>\n",
       "      <td>1.000000</td>\n",
       "    </tr>\n",
       "  </tbody>\n",
       "</table>\n",
       "</div>"
      ],
      "text/plain": [
       "                   count_NA  price_avg  number_of_reviews         n\n",
       "count_NA           1.000000  -0.239983           0.853737  0.716241\n",
       "price_avg         -0.239983   1.000000          -0.197426 -0.093783\n",
       "number_of_reviews  0.853737  -0.197426           1.000000  0.746378\n",
       "n                  0.716241  -0.093783           0.746378  1.000000"
      ]
     },
     "execution_count": 22,
     "metadata": {},
     "output_type": "execute_result"
    },
    {
     "name": "stdout",
     "output_type": "stream",
     "text": [
      "time: 32 ms (started: 2025-04-18 09:25:11 +01:00)\n"
     ]
    }
   ],
   "source": [
    "# whats the correlation? (Pearson)\n",
    "NA_price.corr()"
   ]
  },
  {
   "cell_type": "code",
   "execution_count": 23,
   "id": "3d895cff",
   "metadata": {},
   "outputs": [
    {
     "data": {
      "text/html": [
       "<div>\n",
       "<style scoped>\n",
       "    .dataframe tbody tr th:only-of-type {\n",
       "        vertical-align: middle;\n",
       "    }\n",
       "\n",
       "    .dataframe tbody tr th {\n",
       "        vertical-align: top;\n",
       "    }\n",
       "\n",
       "    .dataframe thead th {\n",
       "        text-align: right;\n",
       "    }\n",
       "</style>\n",
       "<table border=\"1\" class=\"dataframe\">\n",
       "  <thead>\n",
       "    <tr style=\"text-align: right;\">\n",
       "      <th></th>\n",
       "      <th>count_NA</th>\n",
       "      <th>price_avg</th>\n",
       "      <th>number_of_reviews</th>\n",
       "    </tr>\n",
       "  </thead>\n",
       "  <tbody>\n",
       "    <tr>\n",
       "      <th>count_NA</th>\n",
       "      <td>1.000000</td>\n",
       "      <td>-0.028936</td>\n",
       "      <td>0.283238</td>\n",
       "    </tr>\n",
       "    <tr>\n",
       "      <th>price_avg</th>\n",
       "      <td>-0.028936</td>\n",
       "      <td>1.000000</td>\n",
       "      <td>-0.110144</td>\n",
       "    </tr>\n",
       "    <tr>\n",
       "      <th>number_of_reviews</th>\n",
       "      <td>0.283238</td>\n",
       "      <td>-0.110144</td>\n",
       "      <td>1.000000</td>\n",
       "    </tr>\n",
       "  </tbody>\n",
       "</table>\n",
       "</div>"
      ],
      "text/plain": [
       "                   count_NA  price_avg  number_of_reviews\n",
       "count_NA           1.000000  -0.028936           0.283238\n",
       "price_avg         -0.028936   1.000000          -0.110144\n",
       "number_of_reviews  0.283238  -0.110144           1.000000"
      ]
     },
     "execution_count": 23,
     "metadata": {},
     "output_type": "execute_result"
    },
    {
     "name": "stdout",
     "output_type": "stream",
     "text": [
      "time: 15 ms (started: 2025-04-18 09:25:46 +01:00)\n"
     ]
    }
   ],
   "source": [
    "listings3[['count_NA', 'price_avg', 'number_of_reviews']].corr()"
   ]
  },
  {
   "cell_type": "code",
   "execution_count": 45,
   "id": "4410951f",
   "metadata": {},
   "outputs": [
    {
     "data": {
      "image/png": "[encoded data removed]",
      "text/plain": [
       "<Figure size 432x288 with 1 Axes>"
      ]
     },
     "metadata": {
      "needs_background": "light"
     },
     "output_type": "display_data"
    },
    {
     "name": "stdout",
     "output_type": "stream",
     "text": [
      "time: 203 ms (started: 2025-04-11 14:37:26 +01:00)\n"
     ]
    }
   ],
   "source": [
    "# graph price\n",
    "plt.scatter(NA_price['count_NA'], NA_price['price_avg'])\n",
    "plt.title(\"Completeness of listing vs Price\")\n",
    "plt.show()"
   ]
  },
  {
   "cell_type": "code",
   "execution_count": 24,
   "id": "a8400e23",
   "metadata": {},
   "outputs": [
    {
     "data": {
      "image/png": "[encoded data removed]",
      "text/plain": [
       "<Figure size 432x288 with 1 Axes>"
      ]
     },
     "metadata": {
      "needs_background": "light"
     },
     "output_type": "display_data"
    },
    {
     "name": "stdout",
     "output_type": "stream",
     "text": [
      "time: 484 ms (started: 2025-04-18 09:26:14 +01:00)\n"
     ]
    }
   ],
   "source": [
    "# graph number of reviews\n",
    "plt.scatter(listings3['count_NA'], listings3['price_avg'], s=5)\n",
    "plt.title(\"Completeness of listing vs Price\")\n",
    "plt.show()"
   ]
  },
  {
   "cell_type": "code",
   "execution_count": 25,
   "id": "c7acab88",
   "metadata": {},
   "outputs": [
    {
     "data": {
      "image/png": "[encoded data removed]",
      "text/plain": [
       "<Figure size 432x288 with 1 Axes>"
      ]
     },
     "metadata": {
      "needs_background": "light"
     },
     "output_type": "display_data"
    },
    {
     "name": "stdout",
     "output_type": "stream",
     "text": [
      "time: 156 ms (started: 2025-04-18 09:26:18 +01:00)\n"
     ]
    }
   ],
   "source": [
    "# graph number of reviews\n",
    "plt.scatter(listings3['count_NA'], listings3['number_of_reviews'], s=5)\n",
    "plt.title(\"Completeness of listing vs N Reviews\")\n",
    "plt.show()"
   ]
  },
  {
   "cell_type": "markdown",
   "id": "f08a3bfd",
   "metadata": {},
   "source": [
    "There seems to be no correlation between completeness of listing vs price. \n",
    "\n",
    "But what if we removed cases where n is low? "
   ]
  },
  {
   "cell_type": "code",
   "execution_count": 52,
   "id": "e13481c0",
   "metadata": {},
   "outputs": [
    {
     "name": "stdout",
     "output_type": "stream",
     "text": [
      "1\n",
      "38.0\n",
      "131.6551724137931\n",
      "168.0\n",
      "564\n",
      "time: 0 ns (started: 2025-04-11 14:42:06 +01:00)\n"
     ]
    }
   ],
   "source": [
    "# what is the range of n like?\n",
    "print(NA_price['n'].min())\n",
    "print(NA_price['n'].quantile(q=0.25))\n",
    "print(NA_price['n'].mean())\n",
    "print(NA_price['n'].quantile(q=0.75))\n",
    "print(NA_price['n'].max())"
   ]
  },
  {
   "cell_type": "code",
   "execution_count": 58,
   "id": "e4edbb4f",
   "metadata": {},
   "outputs": [
    {
     "data": {
      "image/png": "[encoded data removed]",
      "text/plain": [
       "<Figure size 432x288 with 1 Axes>"
      ]
     },
     "metadata": {
      "needs_background": "light"
     },
     "output_type": "display_data"
    },
    {
     "name": "stdout",
     "output_type": "stream",
     "text": [
      "time: 250 ms (started: 2025-04-11 15:03:25 +01:00)\n"
     ]
    }
   ],
   "source": [
    "# graph this to determine our cutoff points\n",
    "plt.hist(NA_price['n'], bins=40)\n",
    "plt.show()"
   ]
  },
  {
   "cell_type": "code",
   "execution_count": 60,
   "id": "17b8a6bf",
   "metadata": {},
   "outputs": [
    {
     "data": {
      "text/html": [
       "<div>\n",
       "<style scoped>\n",
       "    .dataframe tbody tr th:only-of-type {\n",
       "        vertical-align: middle;\n",
       "    }\n",
       "\n",
       "    .dataframe tbody tr th {\n",
       "        vertical-align: top;\n",
       "    }\n",
       "\n",
       "    .dataframe thead th {\n",
       "        text-align: right;\n",
       "    }\n",
       "</style>\n",
       "<table border=\"1\" class=\"dataframe\">\n",
       "  <thead>\n",
       "    <tr style=\"text-align: right;\">\n",
       "      <th></th>\n",
       "      <th>count_NA</th>\n",
       "      <th>price_avg</th>\n",
       "      <th>n</th>\n",
       "    </tr>\n",
       "  </thead>\n",
       "  <tbody>\n",
       "    <tr>\n",
       "      <th>0</th>\n",
       "      <td>59</td>\n",
       "      <td>250.000000</td>\n",
       "      <td>1</td>\n",
       "    </tr>\n",
       "    <tr>\n",
       "      <th>1</th>\n",
       "      <td>63</td>\n",
       "      <td>100.264045</td>\n",
       "      <td>2</td>\n",
       "    </tr>\n",
       "    <tr>\n",
       "      <th>2</th>\n",
       "      <td>65</td>\n",
       "      <td>131.666667</td>\n",
       "      <td>3</td>\n",
       "    </tr>\n",
       "    <tr>\n",
       "      <th>3</th>\n",
       "      <td>66</td>\n",
       "      <td>138.625000</td>\n",
       "      <td>8</td>\n",
       "    </tr>\n",
       "    <tr>\n",
       "      <th>4</th>\n",
       "      <td>67</td>\n",
       "      <td>106.100000</td>\n",
       "      <td>10</td>\n",
       "    </tr>\n",
       "    <tr>\n",
       "      <th>5</th>\n",
       "      <td>68</td>\n",
       "      <td>105.445109</td>\n",
       "      <td>38</td>\n",
       "    </tr>\n",
       "    <tr>\n",
       "      <th>6</th>\n",
       "      <td>69</td>\n",
       "      <td>152.670695</td>\n",
       "      <td>34</td>\n",
       "    </tr>\n",
       "    <tr>\n",
       "      <th>7</th>\n",
       "      <td>70</td>\n",
       "      <td>145.984048</td>\n",
       "      <td>38</td>\n",
       "    </tr>\n",
       "    <tr>\n",
       "      <th>15</th>\n",
       "      <td>78</td>\n",
       "      <td>175.364147</td>\n",
       "      <td>41</td>\n",
       "    </tr>\n",
       "    <tr>\n",
       "      <th>28</th>\n",
       "      <td>91</td>\n",
       "      <td>113.022749</td>\n",
       "      <td>8</td>\n",
       "    </tr>\n",
       "  </tbody>\n",
       "</table>\n",
       "</div>"
      ],
      "text/plain": [
       "    count_NA   price_avg   n\n",
       "0         59  250.000000   1\n",
       "1         63  100.264045   2\n",
       "2         65  131.666667   3\n",
       "3         66  138.625000   8\n",
       "4         67  106.100000  10\n",
       "5         68  105.445109  38\n",
       "6         69  152.670695  34\n",
       "7         70  145.984048  38\n",
       "15        78  175.364147  41\n",
       "28        91  113.022749   8"
      ]
     },
     "execution_count": 60,
     "metadata": {},
     "output_type": "execute_result"
    },
    {
     "name": "stdout",
     "output_type": "stream",
     "text": [
      "time: 31 ms (started: 2025-04-11 15:05:31 +01:00)\n"
     ]
    }
   ],
   "source": [
    "NA_price.loc[NA_price['n']<50]"
   ]
  },
  {
   "cell_type": "code",
   "execution_count": 68,
   "id": "bdf5c738",
   "metadata": {},
   "outputs": [
    {
     "data": {
      "image/png": "[encoded data removed]",
      "text/plain": [
       "<Figure size 432x288 with 1 Axes>"
      ]
     },
     "metadata": {
      "needs_background": "light"
     },
     "output_type": "display_data"
    },
    {
     "name": "stdout",
     "output_type": "stream",
     "text": [
      "time: 188 ms (started: 2025-04-11 15:08:36 +01:00)\n"
     ]
    }
   ],
   "source": [
    "# subset to n>30 and replot\n",
    "NA_price_50plus = NA_price.loc[NA_price['n']>30]\n",
    "\n",
    "plt.scatter(NA_price_50plus['count_NA'], NA_price_50plus['price_avg'])\n",
    "plt.title(\"Completeness of listing vs Price\")\n",
    "plt.show()"
   ]
  },
  {
   "cell_type": "code",
   "execution_count": 69,
   "id": "69266fae",
   "metadata": {},
   "outputs": [
    {
     "data": {
      "text/html": [
       "<div>\n",
       "<style scoped>\n",
       "    .dataframe tbody tr th:only-of-type {\n",
       "        vertical-align: middle;\n",
       "    }\n",
       "\n",
       "    .dataframe tbody tr th {\n",
       "        vertical-align: top;\n",
       "    }\n",
       "\n",
       "    .dataframe thead th {\n",
       "        text-align: right;\n",
       "    }\n",
       "</style>\n",
       "<table border=\"1\" class=\"dataframe\">\n",
       "  <thead>\n",
       "    <tr style=\"text-align: right;\">\n",
       "      <th></th>\n",
       "      <th>count_NA</th>\n",
       "      <th>price_avg</th>\n",
       "      <th>n</th>\n",
       "    </tr>\n",
       "  </thead>\n",
       "  <tbody>\n",
       "    <tr>\n",
       "      <th>count_NA</th>\n",
       "      <td>1.000000</td>\n",
       "      <td>-0.071919</td>\n",
       "      <td>0.823932</td>\n",
       "    </tr>\n",
       "    <tr>\n",
       "      <th>price_avg</th>\n",
       "      <td>-0.071919</td>\n",
       "      <td>1.000000</td>\n",
       "      <td>-0.173676</td>\n",
       "    </tr>\n",
       "    <tr>\n",
       "      <th>n</th>\n",
       "      <td>0.823932</td>\n",
       "      <td>-0.173676</td>\n",
       "      <td>1.000000</td>\n",
       "    </tr>\n",
       "  </tbody>\n",
       "</table>\n",
       "</div>"
      ],
      "text/plain": [
       "           count_NA  price_avg         n\n",
       "count_NA   1.000000  -0.071919  0.823932\n",
       "price_avg -0.071919   1.000000 -0.173676\n",
       "n          0.823932  -0.173676  1.000000"
      ]
     },
     "execution_count": 69,
     "metadata": {},
     "output_type": "execute_result"
    },
    {
     "name": "stdout",
     "output_type": "stream",
     "text": [
      "time: 0 ns (started: 2025-04-11 15:08:59 +01:00)\n"
     ]
    }
   ],
   "source": [
    "NA_price_50plus.corr()"
   ]
  },
  {
   "cell_type": "markdown",
   "id": "c12515c4",
   "metadata": {},
   "source": [
    "Still very weak correlation despite removing lower cases of n"
   ]
  },
  {
   "cell_type": "markdown",
   "id": "faf3c47f",
   "metadata": {},
   "source": [
    "Repeat but try using only some columns which customers may care about if information is missing - classify these subsets"
   ]
  },
  {
   "cell_type": "code",
   "execution_count": 26,
   "id": "f03cc4fa",
   "metadata": {
    "scrolled": true
   },
   "outputs": [
    {
     "name": "stdout",
     "output_type": "stream",
     "text": [
      "time: 0 ns (started: 2025-04-18 09:26:36 +01:00)\n"
     ]
    }
   ],
   "source": [
    "# create groupings of diff vars which reflect aspects customers may care about\n",
    "# 6 groups in total: description, images, hostinfo, reviewinfo, locationinfo, propertyinfo\n",
    "\n",
    "col_list_description = ['summary_NA', 'space_NA', 'neighborhood_overview_NA', 'notes_NA', 'transit_NA']\n",
    "col_list_images = ['thumbnail_url_NA', 'picture_url_NA', 'xl_picture_url_NA']\n",
    "col_list_hostinfo = ['host_id_NA',\n",
    " 'host_url_NA',\n",
    " 'host_name_NA',\n",
    " 'host_since_NA',\n",
    " 'host_location_NA',\n",
    " 'host_about_NA',\n",
    " 'host_response_time_NA',\n",
    " 'host_response_rate_NA',\n",
    " 'host_acceptance_rate_NA',\n",
    " 'host_is_superhost_NA',\n",
    " 'host_thumbnail_url_NA',\n",
    " 'host_picture_url_NA',\n",
    " 'host_neighbourhood_NA',\n",
    " 'host_listings_count_NA',\n",
    " 'host_total_listings_count_NA',\n",
    " 'host_verifications_NA',\n",
    " 'host_has_profile_pic_NA',\n",
    " 'host_identity_verified_NA']\n",
    "col_list_reviewinfo = [ 'first_review_NA',\n",
    " 'last_review_NA',\n",
    " 'review_scores_rating_NA',\n",
    " 'review_scores_accuracy_NA',\n",
    " 'review_scores_cleanliness_NA',\n",
    " 'review_scores_checkin_NA',\n",
    " 'review_scores_communication_NA',\n",
    " 'review_scores_location_NA',\n",
    " 'review_scores_value_NA']\n",
    "col_list_locationinfo = ['neighbourhood_group_cleansed_NA',\n",
    " 'city_NA',\n",
    " 'state_NA',\n",
    " 'zipcode_NA',\n",
    " 'latitude_NA',\n",
    " 'longitude_NA',\n",
    " 'is_location_exact_NA',\n",
    " 'street_NA']\n",
    "col_list_propertyinfo = ['property_type_NA',\n",
    " 'room_type_NA',\n",
    " 'accommodates_NA',\n",
    " 'bathrooms_NA',\n",
    " 'bedrooms_NA',\n",
    " 'beds_NA',\n",
    " 'bed_type_NA',\n",
    " 'amenities_NA',\n",
    " 'square_feet_NA']\n"
   ]
  },
  {
   "cell_type": "code",
   "execution_count": 27,
   "id": "28097030",
   "metadata": {},
   "outputs": [
    {
     "data": {
      "text/html": [
       "<div>\n",
       "<style scoped>\n",
       "    .dataframe tbody tr th:only-of-type {\n",
       "        vertical-align: middle;\n",
       "    }\n",
       "\n",
       "    .dataframe tbody tr th {\n",
       "        vertical-align: top;\n",
       "    }\n",
       "\n",
       "    .dataframe thead th {\n",
       "        text-align: right;\n",
       "    }\n",
       "</style>\n",
       "<table border=\"1\" class=\"dataframe\">\n",
       "  <thead>\n",
       "    <tr style=\"text-align: right;\">\n",
       "      <th></th>\n",
       "      <th>listing_id</th>\n",
       "    </tr>\n",
       "  </thead>\n",
       "  <tbody>\n",
       "    <tr>\n",
       "      <th>0</th>\n",
       "      <td>241032</td>\n",
       "    </tr>\n",
       "    <tr>\n",
       "      <th>1</th>\n",
       "      <td>953595</td>\n",
       "    </tr>\n",
       "    <tr>\n",
       "      <th>2</th>\n",
       "      <td>3308979</td>\n",
       "    </tr>\n",
       "    <tr>\n",
       "      <th>3</th>\n",
       "      <td>7421966</td>\n",
       "    </tr>\n",
       "    <tr>\n",
       "      <th>4</th>\n",
       "      <td>278830</td>\n",
       "    </tr>\n",
       "  </tbody>\n",
       "</table>\n",
       "</div>"
      ],
      "text/plain": [
       "   listing_id\n",
       "0      241032\n",
       "1      953595\n",
       "2     3308979\n",
       "3     7421966\n",
       "4      278830"
      ]
     },
     "execution_count": 27,
     "metadata": {},
     "output_type": "execute_result"
    },
    {
     "name": "stdout",
     "output_type": "stream",
     "text": [
      "time: 0 ns (started: 2025-04-18 09:26:41 +01:00)\n"
     ]
    }
   ],
   "source": [
    "listings_NA_grp = pd.DataFrame(listings_NA['listing_id'])\n",
    "listings_NA_grp.head()"
   ]
  },
  {
   "cell_type": "code",
   "execution_count": 28,
   "id": "4cb06607",
   "metadata": {},
   "outputs": [
    {
     "name": "stdout",
     "output_type": "stream",
     "text": [
      "time: 0 ns (started: 2025-04-18 09:26:48 +01:00)\n"
     ]
    }
   ],
   "source": [
    "col_list_category = [col_list_description, col_list_images, col_list_hostinfo, col_list_reviewinfo, col_list_locationinfo, col_list_propertyinfo]\n",
    "category_names = ['description', 'images', 'hostinfo', 'reviewinfo', 'locationinfo', 'propertyinfo']"
   ]
  },
  {
   "cell_type": "code",
   "execution_count": 29,
   "id": "b832c106",
   "metadata": {},
   "outputs": [
    {
     "name": "stdout",
     "output_type": "stream",
     "text": [
      "time: 0 ns (started: 2025-04-18 09:26:49 +01:00)\n"
     ]
    }
   ],
   "source": [
    "## try again but hardcode the names\n",
    "def create_NA_group(list_category_NA, category_NA_name):\n",
    "    col_list_NA = listings_NA[list_category_NA]\n",
    "    listings_NA_grp['count_NA_'+ category_NA_name] = col_list_NA.sum(axis=1)\n",
    "    \n",
    "    return listings_NA_grp"
   ]
  },
  {
   "cell_type": "code",
   "execution_count": 30,
   "id": "e3fe8696",
   "metadata": {},
   "outputs": [
    {
     "name": "stdout",
     "output_type": "stream",
     "text": [
      "time: 15 ms (started: 2025-04-18 09:26:52 +01:00)\n"
     ]
    }
   ],
   "source": [
    "for x in range(len(col_list_category)):\n",
    "#     print(x)\n",
    "    create_NA_group(col_list_category[x], category_names[x])"
   ]
  },
  {
   "cell_type": "code",
   "execution_count": 31,
   "id": "807c6f4e",
   "metadata": {},
   "outputs": [
    {
     "data": {
      "text/html": [
       "<div>\n",
       "<style scoped>\n",
       "    .dataframe tbody tr th:only-of-type {\n",
       "        vertical-align: middle;\n",
       "    }\n",
       "\n",
       "    .dataframe tbody tr th {\n",
       "        vertical-align: top;\n",
       "    }\n",
       "\n",
       "    .dataframe thead th {\n",
       "        text-align: right;\n",
       "    }\n",
       "</style>\n",
       "<table border=\"1\" class=\"dataframe\">\n",
       "  <thead>\n",
       "    <tr style=\"text-align: right;\">\n",
       "      <th></th>\n",
       "      <th>listing_id</th>\n",
       "      <th>count_NA_description</th>\n",
       "      <th>count_NA_images</th>\n",
       "      <th>count_NA_hostinfo</th>\n",
       "      <th>count_NA_reviewinfo</th>\n",
       "      <th>count_NA_locationinfo</th>\n",
       "      <th>count_NA_propertyinfo</th>\n",
       "    </tr>\n",
       "  </thead>\n",
       "  <tbody>\n",
       "    <tr>\n",
       "      <th>0</th>\n",
       "      <td>241032</td>\n",
       "      <td>1</td>\n",
       "      <td>1</td>\n",
       "      <td>18</td>\n",
       "      <td>9</td>\n",
       "      <td>8</td>\n",
       "      <td>8</td>\n",
       "    </tr>\n",
       "    <tr>\n",
       "      <th>1</th>\n",
       "      <td>953595</td>\n",
       "      <td>5</td>\n",
       "      <td>3</td>\n",
       "      <td>18</td>\n",
       "      <td>9</td>\n",
       "      <td>8</td>\n",
       "      <td>8</td>\n",
       "    </tr>\n",
       "    <tr>\n",
       "      <th>2</th>\n",
       "      <td>3308979</td>\n",
       "      <td>5</td>\n",
       "      <td>1</td>\n",
       "      <td>18</td>\n",
       "      <td>9</td>\n",
       "      <td>8</td>\n",
       "      <td>8</td>\n",
       "    </tr>\n",
       "    <tr>\n",
       "      <th>3</th>\n",
       "      <td>7421966</td>\n",
       "      <td>1</td>\n",
       "      <td>1</td>\n",
       "      <td>14</td>\n",
       "      <td>0</td>\n",
       "      <td>8</td>\n",
       "      <td>8</td>\n",
       "    </tr>\n",
       "    <tr>\n",
       "      <th>4</th>\n",
       "      <td>278830</td>\n",
       "      <td>5</td>\n",
       "      <td>1</td>\n",
       "      <td>17</td>\n",
       "      <td>9</td>\n",
       "      <td>8</td>\n",
       "      <td>8</td>\n",
       "    </tr>\n",
       "  </tbody>\n",
       "</table>\n",
       "</div>"
      ],
      "text/plain": [
       "   listing_id  count_NA_description  count_NA_images  count_NA_hostinfo  \\\n",
       "0      241032                     1                1                 18   \n",
       "1      953595                     5                3                 18   \n",
       "2     3308979                     5                1                 18   \n",
       "3     7421966                     1                1                 14   \n",
       "4      278830                     5                1                 17   \n",
       "\n",
       "   count_NA_reviewinfo  count_NA_locationinfo  count_NA_propertyinfo  \n",
       "0                    9                      8                      8  \n",
       "1                    9                      8                      8  \n",
       "2                    9                      8                      8  \n",
       "3                    0                      8                      8  \n",
       "4                    9                      8                      8  "
      ]
     },
     "execution_count": 31,
     "metadata": {},
     "output_type": "execute_result"
    },
    {
     "name": "stdout",
     "output_type": "stream",
     "text": [
      "time: 0 ns (started: 2025-04-18 09:26:53 +01:00)\n"
     ]
    }
   ],
   "source": [
    "listings_NA_grp.head()"
   ]
  },
  {
   "cell_type": "code",
   "execution_count": 32,
   "id": "41156900",
   "metadata": {},
   "outputs": [
    {
     "data": {
      "text/html": [
       "<div>\n",
       "<style scoped>\n",
       "    .dataframe tbody tr th:only-of-type {\n",
       "        vertical-align: middle;\n",
       "    }\n",
       "\n",
       "    .dataframe tbody tr th {\n",
       "        vertical-align: top;\n",
       "    }\n",
       "\n",
       "    .dataframe thead th {\n",
       "        text-align: right;\n",
       "    }\n",
       "</style>\n",
       "<table border=\"1\" class=\"dataframe\">\n",
       "  <thead>\n",
       "    <tr style=\"text-align: right;\">\n",
       "      <th></th>\n",
       "      <th>listing_id</th>\n",
       "      <th>price_avg</th>\n",
       "      <th>number_of_reviews</th>\n",
       "      <th>count_NA_description</th>\n",
       "      <th>count_NA_images</th>\n",
       "      <th>count_NA_hostinfo</th>\n",
       "      <th>count_NA_reviewinfo</th>\n",
       "      <th>count_NA_locationinfo</th>\n",
       "      <th>count_NA_propertyinfo</th>\n",
       "    </tr>\n",
       "  </thead>\n",
       "  <tbody>\n",
       "    <tr>\n",
       "      <th>0</th>\n",
       "      <td>241032</td>\n",
       "      <td>85.000000</td>\n",
       "      <td>207</td>\n",
       "      <td>1</td>\n",
       "      <td>1</td>\n",
       "      <td>18</td>\n",
       "      <td>9</td>\n",
       "      <td>8</td>\n",
       "      <td>8</td>\n",
       "    </tr>\n",
       "    <tr>\n",
       "      <th>1</th>\n",
       "      <td>953595</td>\n",
       "      <td>170.931271</td>\n",
       "      <td>43</td>\n",
       "      <td>5</td>\n",
       "      <td>3</td>\n",
       "      <td>18</td>\n",
       "      <td>9</td>\n",
       "      <td>8</td>\n",
       "      <td>8</td>\n",
       "    </tr>\n",
       "    <tr>\n",
       "      <th>2</th>\n",
       "      <td>3308979</td>\n",
       "      <td>894.186047</td>\n",
       "      <td>20</td>\n",
       "      <td>5</td>\n",
       "      <td>1</td>\n",
       "      <td>18</td>\n",
       "      <td>9</td>\n",
       "      <td>8</td>\n",
       "      <td>8</td>\n",
       "    </tr>\n",
       "    <tr>\n",
       "      <th>3</th>\n",
       "      <td>7421966</td>\n",
       "      <td>100.000000</td>\n",
       "      <td>0</td>\n",
       "      <td>1</td>\n",
       "      <td>1</td>\n",
       "      <td>14</td>\n",
       "      <td>0</td>\n",
       "      <td>8</td>\n",
       "      <td>8</td>\n",
       "    </tr>\n",
       "    <tr>\n",
       "      <th>4</th>\n",
       "      <td>278830</td>\n",
       "      <td>462.739726</td>\n",
       "      <td>38</td>\n",
       "      <td>5</td>\n",
       "      <td>1</td>\n",
       "      <td>17</td>\n",
       "      <td>9</td>\n",
       "      <td>8</td>\n",
       "      <td>8</td>\n",
       "    </tr>\n",
       "  </tbody>\n",
       "</table>\n",
       "</div>"
      ],
      "text/plain": [
       "   listing_id   price_avg  number_of_reviews  count_NA_description  \\\n",
       "0      241032   85.000000                207                     1   \n",
       "1      953595  170.931271                 43                     5   \n",
       "2     3308979  894.186047                 20                     5   \n",
       "3     7421966  100.000000                  0                     1   \n",
       "4      278830  462.739726                 38                     5   \n",
       "\n",
       "   count_NA_images  count_NA_hostinfo  count_NA_reviewinfo  \\\n",
       "0                1                 18                    9   \n",
       "1                3                 18                    9   \n",
       "2                1                 18                    9   \n",
       "3                1                 14                    0   \n",
       "4                1                 17                    9   \n",
       "\n",
       "   count_NA_locationinfo  count_NA_propertyinfo  \n",
       "0                      8                      8  \n",
       "1                      8                      8  \n",
       "2                      8                      8  \n",
       "3                      8                      8  \n",
       "4                      8                      8  "
      ]
     },
     "execution_count": 32,
     "metadata": {},
     "output_type": "execute_result"
    },
    {
     "name": "stdout",
     "output_type": "stream",
     "text": [
      "time: 31 ms (started: 2025-04-18 09:26:59 +01:00)\n"
     ]
    }
   ],
   "source": [
    "# merge back onto price to get mean prices\n",
    "listings_NA_grp_price = pd.merge(listings2[['listing_id', 'price_avg', 'number_of_reviews']], listings_NA_grp, on='listing_id', how='left')\n",
    "listings_NA_grp_price.head()\n",
    "\n",
    "# NA_grp_price = pd.merge(\n",
    "#     pd.DataFrame(listings3.groupby('count_NA', as_index = False)['price_avg'].mean()),\n",
    "#     pd.DataFrame(listings3.groupby('count_NA', as_index = False)['listing_id'].count()),\n",
    "#     on='count_NA',\n",
    "#     how='left'\n",
    "#     )\n",
    "\n",
    "# # rename\n",
    "# NA_price = NA_price.rename(columns = {'listing_id': 'n'})\n",
    "\n",
    "# # higher values of count_NA = more completeness of data\n",
    "\n",
    "# NA_price.head()"
   ]
  },
  {
   "cell_type": "code",
   "execution_count": 33,
   "id": "2747da87",
   "metadata": {},
   "outputs": [
    {
     "data": {
      "text/html": [
       "<div>\n",
       "<style scoped>\n",
       "    .dataframe tbody tr th:only-of-type {\n",
       "        vertical-align: middle;\n",
       "    }\n",
       "\n",
       "    .dataframe tbody tr th {\n",
       "        vertical-align: top;\n",
       "    }\n",
       "\n",
       "    .dataframe thead th {\n",
       "        text-align: right;\n",
       "    }\n",
       "</style>\n",
       "<table border=\"1\" class=\"dataframe\">\n",
       "  <thead>\n",
       "    <tr style=\"text-align: right;\">\n",
       "      <th></th>\n",
       "      <th>listing_id</th>\n",
       "      <th>price_avg</th>\n",
       "      <th>number_of_reviews</th>\n",
       "      <th>count_NA_description</th>\n",
       "      <th>count_NA_images</th>\n",
       "      <th>count_NA_hostinfo</th>\n",
       "      <th>count_NA_reviewinfo</th>\n",
       "      <th>count_NA_locationinfo</th>\n",
       "      <th>count_NA_propertyinfo</th>\n",
       "    </tr>\n",
       "  </thead>\n",
       "  <tbody>\n",
       "    <tr>\n",
       "      <th>listing_id</th>\n",
       "      <td>1.000000</td>\n",
       "      <td>-0.058661</td>\n",
       "      <td>-0.506105</td>\n",
       "      <td>-0.084761</td>\n",
       "      <td>0.007482</td>\n",
       "      <td>-0.195049</td>\n",
       "      <td>-0.402526</td>\n",
       "      <td>0.019492</td>\n",
       "      <td>-0.167868</td>\n",
       "    </tr>\n",
       "    <tr>\n",
       "      <th>price_avg</th>\n",
       "      <td>-0.058661</td>\n",
       "      <td>1.000000</td>\n",
       "      <td>-0.110144</td>\n",
       "      <td>-0.031625</td>\n",
       "      <td>-0.169208</td>\n",
       "      <td>-0.044693</td>\n",
       "      <td>-0.008493</td>\n",
       "      <td>-0.014371</td>\n",
       "      <td>0.036156</td>\n",
       "    </tr>\n",
       "    <tr>\n",
       "      <th>number_of_reviews</th>\n",
       "      <td>-0.506105</td>\n",
       "      <td>-0.110144</td>\n",
       "      <td>1.000000</td>\n",
       "      <td>0.108718</td>\n",
       "      <td>0.051698</td>\n",
       "      <td>0.244004</td>\n",
       "      <td>0.267432</td>\n",
       "      <td>-0.009159</td>\n",
       "      <td>0.069052</td>\n",
       "    </tr>\n",
       "    <tr>\n",
       "      <th>count_NA_description</th>\n",
       "      <td>-0.084761</td>\n",
       "      <td>-0.031625</td>\n",
       "      <td>0.108718</td>\n",
       "      <td>1.000000</td>\n",
       "      <td>0.041119</td>\n",
       "      <td>0.202413</td>\n",
       "      <td>0.253918</td>\n",
       "      <td>0.004573</td>\n",
       "      <td>0.029641</td>\n",
       "    </tr>\n",
       "    <tr>\n",
       "      <th>count_NA_images</th>\n",
       "      <td>0.007482</td>\n",
       "      <td>-0.169208</td>\n",
       "      <td>0.051698</td>\n",
       "      <td>0.041119</td>\n",
       "      <td>1.000000</td>\n",
       "      <td>0.027798</td>\n",
       "      <td>0.019751</td>\n",
       "      <td>0.031226</td>\n",
       "      <td>-0.004789</td>\n",
       "    </tr>\n",
       "    <tr>\n",
       "      <th>count_NA_hostinfo</th>\n",
       "      <td>-0.195049</td>\n",
       "      <td>-0.044693</td>\n",
       "      <td>0.244004</td>\n",
       "      <td>0.202413</td>\n",
       "      <td>0.027798</td>\n",
       "      <td>1.000000</td>\n",
       "      <td>0.342083</td>\n",
       "      <td>0.026568</td>\n",
       "      <td>0.019546</td>\n",
       "    </tr>\n",
       "    <tr>\n",
       "      <th>count_NA_reviewinfo</th>\n",
       "      <td>-0.402526</td>\n",
       "      <td>-0.008493</td>\n",
       "      <td>0.267432</td>\n",
       "      <td>0.253918</td>\n",
       "      <td>0.019751</td>\n",
       "      <td>0.342083</td>\n",
       "      <td>1.000000</td>\n",
       "      <td>-0.003085</td>\n",
       "      <td>0.050410</td>\n",
       "    </tr>\n",
       "    <tr>\n",
       "      <th>count_NA_locationinfo</th>\n",
       "      <td>0.019492</td>\n",
       "      <td>-0.014371</td>\n",
       "      <td>-0.009159</td>\n",
       "      <td>0.004573</td>\n",
       "      <td>0.031226</td>\n",
       "      <td>0.026568</td>\n",
       "      <td>-0.003085</td>\n",
       "      <td>1.000000</td>\n",
       "      <td>-0.030476</td>\n",
       "    </tr>\n",
       "    <tr>\n",
       "      <th>count_NA_propertyinfo</th>\n",
       "      <td>-0.167868</td>\n",
       "      <td>0.036156</td>\n",
       "      <td>0.069052</td>\n",
       "      <td>0.029641</td>\n",
       "      <td>-0.004789</td>\n",
       "      <td>0.019546</td>\n",
       "      <td>0.050410</td>\n",
       "      <td>-0.030476</td>\n",
       "      <td>1.000000</td>\n",
       "    </tr>\n",
       "  </tbody>\n",
       "</table>\n",
       "</div>"
      ],
      "text/plain": [
       "                       listing_id  price_avg  number_of_reviews  \\\n",
       "listing_id               1.000000  -0.058661          -0.506105   \n",
       "price_avg               -0.058661   1.000000          -0.110144   \n",
       "number_of_reviews       -0.506105  -0.110144           1.000000   \n",
       "count_NA_description    -0.084761  -0.031625           0.108718   \n",
       "count_NA_images          0.007482  -0.169208           0.051698   \n",
       "count_NA_hostinfo       -0.195049  -0.044693           0.244004   \n",
       "count_NA_reviewinfo     -0.402526  -0.008493           0.267432   \n",
       "count_NA_locationinfo    0.019492  -0.014371          -0.009159   \n",
       "count_NA_propertyinfo   -0.167868   0.036156           0.069052   \n",
       "\n",
       "                       count_NA_description  count_NA_images  \\\n",
       "listing_id                        -0.084761         0.007482   \n",
       "price_avg                         -0.031625        -0.169208   \n",
       "number_of_reviews                  0.108718         0.051698   \n",
       "count_NA_description               1.000000         0.041119   \n",
       "count_NA_images                    0.041119         1.000000   \n",
       "count_NA_hostinfo                  0.202413         0.027798   \n",
       "count_NA_reviewinfo                0.253918         0.019751   \n",
       "count_NA_locationinfo              0.004573         0.031226   \n",
       "count_NA_propertyinfo              0.029641        -0.004789   \n",
       "\n",
       "                       count_NA_hostinfo  count_NA_reviewinfo  \\\n",
       "listing_id                     -0.195049            -0.402526   \n",
       "price_avg                      -0.044693            -0.008493   \n",
       "number_of_reviews               0.244004             0.267432   \n",
       "count_NA_description            0.202413             0.253918   \n",
       "count_NA_images                 0.027798             0.019751   \n",
       "count_NA_hostinfo               1.000000             0.342083   \n",
       "count_NA_reviewinfo             0.342083             1.000000   \n",
       "count_NA_locationinfo           0.026568            -0.003085   \n",
       "count_NA_propertyinfo           0.019546             0.050410   \n",
       "\n",
       "                       count_NA_locationinfo  count_NA_propertyinfo  \n",
       "listing_id                          0.019492              -0.167868  \n",
       "price_avg                          -0.014371               0.036156  \n",
       "number_of_reviews                  -0.009159               0.069052  \n",
       "count_NA_description                0.004573               0.029641  \n",
       "count_NA_images                     0.031226              -0.004789  \n",
       "count_NA_hostinfo                   0.026568               0.019546  \n",
       "count_NA_reviewinfo                -0.003085               0.050410  \n",
       "count_NA_locationinfo               1.000000              -0.030476  \n",
       "count_NA_propertyinfo              -0.030476               1.000000  "
      ]
     },
     "execution_count": 33,
     "metadata": {},
     "output_type": "execute_result"
    },
    {
     "name": "stdout",
     "output_type": "stream",
     "text": [
      "time: 31 ms (started: 2025-04-18 09:27:05 +01:00)\n"
     ]
    }
   ],
   "source": [
    "# whats the correlation? (Pearson)\n",
    "listings_NA_grp_price.corr()"
   ]
  },
  {
   "cell_type": "code",
   "execution_count": 46,
   "id": "cf2b9a37",
   "metadata": {},
   "outputs": [
    {
     "data": {
      "text/plain": [
       "<AxesSubplot:xlabel='price_avg', ylabel='number_of_reviews'>"
      ]
     },
     "execution_count": 46,
     "metadata": {},
     "output_type": "execute_result"
    },
    {
     "data": {
      "image/png": "[encoded data removed]",
      "text/plain": [
       "<Figure size 432x288 with 1 Axes>"
      ]
     },
     "metadata": {
      "needs_background": "light"
     },
     "output_type": "display_data"
    },
    {
     "name": "stdout",
     "output_type": "stream",
     "text": [
      "time: 407 ms (started: 2025-04-14 18:11:35 +01:00)\n"
     ]
    }
   ],
   "source": [
    "sns.scatterplot(data=listings_NA_grp_price, x=\"price_avg\", y=\"number_of_reviews\", hue=\"count_NA_images\")"
   ]
  },
  {
   "cell_type": "code",
   "execution_count": 47,
   "id": "404fd7cf",
   "metadata": {
    "scrolled": true
   },
   "outputs": [
    {
     "data": {
      "text/plain": [
       "<AxesSubplot:xlabel='price_avg', ylabel='number_of_reviews'>"
      ]
     },
     "execution_count": 47,
     "metadata": {},
     "output_type": "execute_result"
    },
    {
     "data": {
      "image/png": "[encoded data removed]",
      "text/plain": [
       "<Figure size 432x288 with 1 Axes>"
      ]
     },
     "metadata": {
      "needs_background": "light"
     },
     "output_type": "display_data"
    },
    {
     "name": "stdout",
     "output_type": "stream",
     "text": [
      "time: 672 ms (started: 2025-04-14 18:12:35 +01:00)\n"
     ]
    }
   ],
   "source": [
    "sns.scatterplot(data=listings_NA_grp_price, x=\"price_avg\", y=\"number_of_reviews\", hue=\"count_NA_hostinfo\")"
   ]
  },
  {
   "cell_type": "code",
   "execution_count": 52,
   "id": "734b5906",
   "metadata": {},
   "outputs": [
    {
     "data": {
      "text/plain": [
       "<AxesSubplot:xlabel='count_NA_description', ylabel='number_of_reviews'>"
      ]
     },
     "execution_count": 52,
     "metadata": {},
     "output_type": "execute_result"
    },
    {
     "data": {
      "image/png": "[encoded data removed]",
      "text/plain": [
       "<Figure size 432x288 with 1 Axes>"
      ]
     },
     "metadata": {
      "needs_background": "light"
     },
     "output_type": "display_data"
    },
    {
     "name": "stdout",
     "output_type": "stream",
     "text": [
      "time: 219 ms (started: 2025-04-14 18:25:58 +01:00)\n"
     ]
    }
   ],
   "source": [
    "sns.scatterplot(data=listings_NA_grp_price, x=\"count_NA_description\", y=\"number_of_reviews\")"
   ]
  },
  {
   "cell_type": "code",
   "execution_count": 49,
   "id": "0ebdd3bc",
   "metadata": {
    "scrolled": true
   },
   "outputs": [
    {
     "data": {
      "text/plain": [
       "<AxesSubplot:xlabel='count_NA_images', ylabel='number_of_reviews'>"
      ]
     },
     "execution_count": 49,
     "metadata": {},
     "output_type": "execute_result"
    },
    {
     "data": {
      "image/png": "[encoded data removed]",
      "text/plain": [
       "<Figure size 432x288 with 1 Axes>"
      ]
     },
     "metadata": {
      "needs_background": "light"
     },
     "output_type": "display_data"
    },
    {
     "name": "stdout",
     "output_type": "stream",
     "text": [
      "time: 203 ms (started: 2025-04-14 18:23:00 +01:00)\n"
     ]
    }
   ],
   "source": [
    "sns.scatterplot(data=listings_NA_grp_price, x=\"count_NA_images\", y=\"number_of_reviews\")"
   ]
  },
  {
   "cell_type": "code",
   "execution_count": 48,
   "id": "fb3b5af6",
   "metadata": {},
   "outputs": [
    {
     "data": {
      "text/plain": [
       "<AxesSubplot:xlabel='count_NA_hostinfo', ylabel='number_of_reviews'>"
      ]
     },
     "execution_count": 48,
     "metadata": {},
     "output_type": "execute_result"
    },
    {
     "data": {
      "image/png": "[encoded data removed]",
      "text/plain": [
       "<Figure size 432x288 with 1 Axes>"
      ]
     },
     "metadata": {
      "needs_background": "light"
     },
     "output_type": "display_data"
    },
    {
     "name": "stdout",
     "output_type": "stream",
     "text": [
      "time: 204 ms (started: 2025-04-14 18:13:53 +01:00)\n"
     ]
    }
   ],
   "source": [
    "sns.scatterplot(data=listings_NA_grp_price, x=\"count_NA_hostinfo\", y=\"number_of_reviews\")"
   ]
  },
  {
   "cell_type": "code",
   "execution_count": 53,
   "id": "470b349d",
   "metadata": {},
   "outputs": [
    {
     "data": {
      "text/plain": [
       "<AxesSubplot:xlabel='count_NA_reviewinfo', ylabel='number_of_reviews'>"
      ]
     },
     "execution_count": 53,
     "metadata": {},
     "output_type": "execute_result"
    },
    {
     "data": {
      "image/png": "[encoded data removed]",
      "text/plain": [
       "<Figure size 432x288 with 1 Axes>"
      ]
     },
     "metadata": {
      "needs_background": "light"
     },
     "output_type": "display_data"
    },
    {
     "name": "stdout",
     "output_type": "stream",
     "text": [
      "time: 172 ms (started: 2025-04-14 18:27:12 +01:00)\n"
     ]
    }
   ],
   "source": [
    "sns.scatterplot(data=listings_NA_grp_price, x=\"count_NA_reviewinfo\", y=\"number_of_reviews\")"
   ]
  },
  {
   "cell_type": "code",
   "execution_count": 54,
   "id": "3dab2375",
   "metadata": {},
   "outputs": [
    {
     "data": {
      "text/plain": [
       "<AxesSubplot:xlabel='count_NA_locationinfo', ylabel='number_of_reviews'>"
      ]
     },
     "execution_count": 54,
     "metadata": {},
     "output_type": "execute_result"
    },
    {
     "data": {
      "image/png": "[encoded data removed]",
      "text/plain": [
       "<Figure size 432x288 with 1 Axes>"
      ]
     },
     "metadata": {
      "needs_background": "light"
     },
     "output_type": "display_data"
    },
    {
     "name": "stdout",
     "output_type": "stream",
     "text": [
      "time: 172 ms (started: 2025-04-14 18:27:14 +01:00)\n"
     ]
    }
   ],
   "source": [
    "sns.scatterplot(data=listings_NA_grp_price, x=\"count_NA_locationinfo\", y=\"number_of_reviews\")"
   ]
  },
  {
   "cell_type": "code",
   "execution_count": 55,
   "id": "f7bfced3",
   "metadata": {
    "scrolled": true
   },
   "outputs": [
    {
     "data": {
      "text/plain": [
       "<AxesSubplot:xlabel='count_NA_propertyinfo', ylabel='number_of_reviews'>"
      ]
     },
     "execution_count": 55,
     "metadata": {},
     "output_type": "execute_result"
    },
    {
     "data": {
      "image/png": "[encoded data removed]",
      "text/plain": [
       "<Figure size 432x288 with 1 Axes>"
      ]
     },
     "metadata": {
      "needs_background": "light"
     },
     "output_type": "display_data"
    },
    {
     "name": "stdout",
     "output_type": "stream",
     "text": [
      "time: 188 ms (started: 2025-04-14 18:27:16 +01:00)\n"
     ]
    }
   ],
   "source": [
    "sns.scatterplot(data=listings_NA_grp_price, x=\"count_NA_propertyinfo\", y=\"number_of_reviews\")"
   ]
  },
  {
   "cell_type": "code",
   "execution_count": 36,
   "id": "1cf554f4",
   "metadata": {},
   "outputs": [
    {
     "data": {
      "text/html": [
       "<div>\n",
       "<style scoped>\n",
       "    .dataframe tbody tr th:only-of-type {\n",
       "        vertical-align: middle;\n",
       "    }\n",
       "\n",
       "    .dataframe tbody tr th {\n",
       "        vertical-align: top;\n",
       "    }\n",
       "\n",
       "    .dataframe thead th {\n",
       "        text-align: right;\n",
       "    }\n",
       "</style>\n",
       "<table border=\"1\" class=\"dataframe\">\n",
       "  <thead>\n",
       "    <tr style=\"text-align: right;\">\n",
       "      <th></th>\n",
       "      <th>listing_id</th>\n",
       "      <th>price_avg</th>\n",
       "      <th>number_of_reviews</th>\n",
       "      <th>count_NA_description</th>\n",
       "      <th>count_NA_images</th>\n",
       "      <th>count_NA_hostinfo</th>\n",
       "      <th>count_NA_reviewinfo</th>\n",
       "      <th>count_NA_locationinfo</th>\n",
       "      <th>count_NA_propertyinfo</th>\n",
       "    </tr>\n",
       "  </thead>\n",
       "  <tbody>\n",
       "    <tr>\n",
       "      <th>0</th>\n",
       "      <td>241032</td>\n",
       "      <td>85.000000</td>\n",
       "      <td>207</td>\n",
       "      <td>1</td>\n",
       "      <td>1</td>\n",
       "      <td>18</td>\n",
       "      <td>9</td>\n",
       "      <td>8</td>\n",
       "      <td>8</td>\n",
       "    </tr>\n",
       "    <tr>\n",
       "      <th>1</th>\n",
       "      <td>953595</td>\n",
       "      <td>170.931271</td>\n",
       "      <td>43</td>\n",
       "      <td>5</td>\n",
       "      <td>3</td>\n",
       "      <td>18</td>\n",
       "      <td>9</td>\n",
       "      <td>8</td>\n",
       "      <td>8</td>\n",
       "    </tr>\n",
       "    <tr>\n",
       "      <th>2</th>\n",
       "      <td>3308979</td>\n",
       "      <td>894.186047</td>\n",
       "      <td>20</td>\n",
       "      <td>5</td>\n",
       "      <td>1</td>\n",
       "      <td>18</td>\n",
       "      <td>9</td>\n",
       "      <td>8</td>\n",
       "      <td>8</td>\n",
       "    </tr>\n",
       "    <tr>\n",
       "      <th>3</th>\n",
       "      <td>7421966</td>\n",
       "      <td>100.000000</td>\n",
       "      <td>0</td>\n",
       "      <td>1</td>\n",
       "      <td>1</td>\n",
       "      <td>14</td>\n",
       "      <td>0</td>\n",
       "      <td>8</td>\n",
       "      <td>8</td>\n",
       "    </tr>\n",
       "    <tr>\n",
       "      <th>4</th>\n",
       "      <td>278830</td>\n",
       "      <td>462.739726</td>\n",
       "      <td>38</td>\n",
       "      <td>5</td>\n",
       "      <td>1</td>\n",
       "      <td>17</td>\n",
       "      <td>9</td>\n",
       "      <td>8</td>\n",
       "      <td>8</td>\n",
       "    </tr>\n",
       "  </tbody>\n",
       "</table>\n",
       "</div>"
      ],
      "text/plain": [
       "   listing_id   price_avg  number_of_reviews  count_NA_description  \\\n",
       "0      241032   85.000000                207                     1   \n",
       "1      953595  170.931271                 43                     5   \n",
       "2     3308979  894.186047                 20                     5   \n",
       "3     7421966  100.000000                  0                     1   \n",
       "4      278830  462.739726                 38                     5   \n",
       "\n",
       "   count_NA_images  count_NA_hostinfo  count_NA_reviewinfo  \\\n",
       "0                1                 18                    9   \n",
       "1                3                 18                    9   \n",
       "2                1                 18                    9   \n",
       "3                1                 14                    0   \n",
       "4                1                 17                    9   \n",
       "\n",
       "   count_NA_locationinfo  count_NA_propertyinfo  \n",
       "0                      8                      8  \n",
       "1                      8                      8  \n",
       "2                      8                      8  \n",
       "3                      8                      8  \n",
       "4                      8                      8  "
      ]
     },
     "execution_count": 36,
     "metadata": {},
     "output_type": "execute_result"
    },
    {
     "name": "stdout",
     "output_type": "stream",
     "text": [
      "time: 0 ns (started: 2025-04-18 09:38:23 +01:00)\n"
     ]
    }
   ],
   "source": [
    "listings_NA_grp_price.head()"
   ]
  },
  {
   "cell_type": "code",
   "execution_count": 34,
   "id": "413a4a78",
   "metadata": {},
   "outputs": [
    {
     "name": "stdout",
     "output_type": "stream",
     "text": [
      "time: 547 ms (started: 2025-04-18 09:27:50 +01:00)\n"
     ]
    }
   ],
   "source": [
    "from sklearn import linear_model"
   ]
  },
  {
   "cell_type": "code",
   "execution_count": 49,
   "id": "ebcb3361",
   "metadata": {},
   "outputs": [
    {
     "data": {
      "image/png": "[encoded data removed]",
      "text/plain": [
       "<Figure size 432x288 with 1 Axes>"
      ]
     },
     "metadata": {},
     "output_type": "display_data"
    },
    {
     "name": "stdout",
     "output_type": "stream",
     "text": [
      "time: 109 ms (started: 2025-04-18 09:46:56 +01:00)\n"
     ]
    }
   ],
   "source": [
    "listings_NA_grp_price.dropna(inplace = True) \n",
    "\n",
    "# if listings had the same characteristics, how much does completeness of info impact price/number of reviews?\n",
    "X = listings_NA_grp_price[['price_avg']]\n",
    "y = listings_NA_grp_price[['number_of_reviews']]\n",
    "\n",
    "# X = X.reshape(length, 1)\n",
    "# y = y.reshape(length, 1)\n",
    "\n",
    "regr = sk.linear_model.LinearRegression()\n",
    "regr.fit(X, y)\n",
    "\n",
    "# print(regr.score(X,y))\n",
    "\n",
    "plt.scatter(X, y,  color='black')\n",
    "plt.plot(X, regr.predict(X), color='blue', linewidth=3)\n",
    "plt.xticks(())\n",
    "plt.yticks(())\n",
    "plt.xlabel('price')\n",
    "plt.ylabel('number of reviews')\n",
    "plt.show()"
   ]
  },
  {
   "cell_type": "code",
   "execution_count": 52,
   "id": "2a4d099a",
   "metadata": {},
   "outputs": [
    {
     "name": "stdout",
     "output_type": "stream",
     "text": [
      "R-squared value: 0.012131721605845414\n",
      "time: 31 ms (started: 2025-04-18 09:50:23 +01:00)\n"
     ]
    }
   ],
   "source": [
    "# Get r-squared for linear regression price against number of reviews\n",
    "\n",
    "# if listings had the same characteristics, how much does completeness of info impact price/number of reviews?\n",
    "X = listings_NA_grp_price[['price_avg']]\n",
    "y = listings_NA_grp_price['number_of_reviews']\n",
    "\n",
    "\n",
    "model = linear_model.LinearRegression()\n",
    "\n",
    "model.fit(X,y)\n",
    "r2_score = model.score(X,y)\n",
    "print(f\"R-squared value: {r2_score}\")\n",
    "\n"
   ]
  },
  {
   "cell_type": "code",
   "execution_count": 57,
   "id": "0729f3b8",
   "metadata": {},
   "outputs": [
    {
     "name": "stdout",
     "output_type": "stream",
     "text": [
      "R-squared value: 0.10227118233971288\n",
      "time: 16 ms (started: 2025-04-18 09:53:17 +01:00)\n"
     ]
    }
   ],
   "source": [
    "# if listings had the same characteristics, how much does completeness of info impact price/number of reviews?\n",
    "X = listings_NA_grp_price[['count_NA_images', 'count_NA_hostinfo','count_NA_description', 'count_NA_reviewinfo', 'count_NA_locationinfo', 'count_NA_propertyinfo']]\n",
    "y = listings_NA_grp_price['number_of_reviews']\n",
    "\n",
    "\n",
    "model = linear_model.LinearRegression()\n",
    "\n",
    "model.fit(X,y)\n",
    "r2_score = model.score(X,y)\n",
    "print(f\"R-squared value: {r2_score}\")\n",
    "\n"
   ]
  },
  {
   "cell_type": "code",
   "execution_count": 59,
   "id": "c1ddb21c",
   "metadata": {
    "scrolled": true
   },
   "outputs": [
    {
     "data": {
      "text/html": [
       "<div>\n",
       "<style scoped>\n",
       "    .dataframe tbody tr th:only-of-type {\n",
       "        vertical-align: middle;\n",
       "    }\n",
       "\n",
       "    .dataframe tbody tr th {\n",
       "        vertical-align: top;\n",
       "    }\n",
       "\n",
       "    .dataframe thead th {\n",
       "        text-align: right;\n",
       "    }\n",
       "</style>\n",
       "<table border=\"1\" class=\"dataframe\">\n",
       "  <thead>\n",
       "    <tr style=\"text-align: right;\">\n",
       "      <th></th>\n",
       "      <th>0</th>\n",
       "      <th>1</th>\n",
       "    </tr>\n",
       "  </thead>\n",
       "  <tbody>\n",
       "    <tr>\n",
       "      <th>0</th>\n",
       "      <td>count_NA_images</td>\n",
       "      <td>2.876290</td>\n",
       "    </tr>\n",
       "    <tr>\n",
       "      <th>1</th>\n",
       "      <td>count_NA_hostinfo</td>\n",
       "      <td>5.124113</td>\n",
       "    </tr>\n",
       "    <tr>\n",
       "      <th>2</th>\n",
       "      <td>count_NA_description</td>\n",
       "      <td>0.523572</td>\n",
       "    </tr>\n",
       "    <tr>\n",
       "      <th>3</th>\n",
       "      <td>count_NA_reviewinfo</td>\n",
       "      <td>2.270436</td>\n",
       "    </tr>\n",
       "    <tr>\n",
       "      <th>4</th>\n",
       "      <td>count_NA_locationinfo</td>\n",
       "      <td>-11.155630</td>\n",
       "    </tr>\n",
       "    <tr>\n",
       "      <th>5</th>\n",
       "      <td>count_NA_propertyinfo</td>\n",
       "      <td>12.215612</td>\n",
       "    </tr>\n",
       "  </tbody>\n",
       "</table>\n",
       "</div>"
      ],
      "text/plain": [
       "                       0          1\n",
       "0        count_NA_images   2.876290\n",
       "1      count_NA_hostinfo   5.124113\n",
       "2   count_NA_description   0.523572\n",
       "3    count_NA_reviewinfo   2.270436\n",
       "4  count_NA_locationinfo -11.155630\n",
       "5  count_NA_propertyinfo  12.215612"
      ]
     },
     "execution_count": 59,
     "metadata": {},
     "output_type": "execute_result"
    },
    {
     "name": "stdout",
     "output_type": "stream",
     "text": [
      "time: 16 ms (started: 2025-04-18 09:55:43 +01:00)\n"
     ]
    }
   ],
   "source": [
    "pd.DataFrame(zip(X.columns, model.coef_))"
   ]
  },
  {
   "cell_type": "code",
   "execution_count": 168,
   "id": "79202bbe",
   "metadata": {},
   "outputs": [
    {
     "data": {
      "text/html": [
       "<div>\n",
       "<style scoped>\n",
       "    .dataframe tbody tr th:only-of-type {\n",
       "        vertical-align: middle;\n",
       "    }\n",
       "\n",
       "    .dataframe tbody tr th {\n",
       "        vertical-align: top;\n",
       "    }\n",
       "\n",
       "    .dataframe thead th {\n",
       "        text-align: right;\n",
       "    }\n",
       "</style>\n",
       "<table border=\"1\" class=\"dataframe\">\n",
       "  <thead>\n",
       "    <tr style=\"text-align: right;\">\n",
       "      <th></th>\n",
       "      <th>listing_id</th>\n",
       "      <th>price_avg</th>\n",
       "      <th>number_of_reviews</th>\n",
       "      <th>reviews_per_month</th>\n",
       "      <th>review_scores_rating</th>\n",
       "      <th>property_type</th>\n",
       "      <th>room_type</th>\n",
       "      <th>accommodates</th>\n",
       "      <th>cancellation_policy</th>\n",
       "      <th>neighbourhood_group_cleansed</th>\n",
       "      <th>count_NA_description</th>\n",
       "      <th>count_NA_images</th>\n",
       "      <th>count_NA_hostinfo</th>\n",
       "      <th>count_NA_reviewinfo</th>\n",
       "      <th>count_NA_locationinfo</th>\n",
       "      <th>count_NA_propertyinfo</th>\n",
       "    </tr>\n",
       "  </thead>\n",
       "  <tbody>\n",
       "    <tr>\n",
       "      <th>0</th>\n",
       "      <td>241032</td>\n",
       "      <td>85.000000</td>\n",
       "      <td>207</td>\n",
       "      <td>4.07</td>\n",
       "      <td>95.0</td>\n",
       "      <td>Apartment</td>\n",
       "      <td>Entire home/apt</td>\n",
       "      <td>4</td>\n",
       "      <td>moderate</td>\n",
       "      <td>Queen Anne</td>\n",
       "      <td>1</td>\n",
       "      <td>1</td>\n",
       "      <td>18</td>\n",
       "      <td>9</td>\n",
       "      <td>8</td>\n",
       "      <td>8</td>\n",
       "    </tr>\n",
       "    <tr>\n",
       "      <th>1</th>\n",
       "      <td>953595</td>\n",
       "      <td>170.931271</td>\n",
       "      <td>43</td>\n",
       "      <td>1.48</td>\n",
       "      <td>96.0</td>\n",
       "      <td>Apartment</td>\n",
       "      <td>Entire home/apt</td>\n",
       "      <td>4</td>\n",
       "      <td>strict</td>\n",
       "      <td>Queen Anne</td>\n",
       "      <td>5</td>\n",
       "      <td>3</td>\n",
       "      <td>18</td>\n",
       "      <td>9</td>\n",
       "      <td>8</td>\n",
       "      <td>8</td>\n",
       "    </tr>\n",
       "    <tr>\n",
       "      <th>2</th>\n",
       "      <td>3308979</td>\n",
       "      <td>894.186047</td>\n",
       "      <td>20</td>\n",
       "      <td>1.15</td>\n",
       "      <td>97.0</td>\n",
       "      <td>House</td>\n",
       "      <td>Entire home/apt</td>\n",
       "      <td>11</td>\n",
       "      <td>strict</td>\n",
       "      <td>Queen Anne</td>\n",
       "      <td>5</td>\n",
       "      <td>1</td>\n",
       "      <td>18</td>\n",
       "      <td>9</td>\n",
       "      <td>8</td>\n",
       "      <td>8</td>\n",
       "    </tr>\n",
       "    <tr>\n",
       "      <th>3</th>\n",
       "      <td>7421966</td>\n",
       "      <td>100.000000</td>\n",
       "      <td>0</td>\n",
       "      <td>NaN</td>\n",
       "      <td>NaN</td>\n",
       "      <td>Apartment</td>\n",
       "      <td>Entire home/apt</td>\n",
       "      <td>3</td>\n",
       "      <td>flexible</td>\n",
       "      <td>Queen Anne</td>\n",
       "      <td>1</td>\n",
       "      <td>1</td>\n",
       "      <td>14</td>\n",
       "      <td>0</td>\n",
       "      <td>8</td>\n",
       "      <td>8</td>\n",
       "    </tr>\n",
       "    <tr>\n",
       "      <th>4</th>\n",
       "      <td>278830</td>\n",
       "      <td>462.739726</td>\n",
       "      <td>38</td>\n",
       "      <td>0.89</td>\n",
       "      <td>92.0</td>\n",
       "      <td>House</td>\n",
       "      <td>Entire home/apt</td>\n",
       "      <td>6</td>\n",
       "      <td>strict</td>\n",
       "      <td>Queen Anne</td>\n",
       "      <td>5</td>\n",
       "      <td>1</td>\n",
       "      <td>17</td>\n",
       "      <td>9</td>\n",
       "      <td>8</td>\n",
       "      <td>8</td>\n",
       "    </tr>\n",
       "  </tbody>\n",
       "</table>\n",
       "</div>"
      ],
      "text/plain": [
       "   listing_id   price_avg  number_of_reviews  reviews_per_month  \\\n",
       "0      241032   85.000000                207               4.07   \n",
       "1      953595  170.931271                 43               1.48   \n",
       "2     3308979  894.186047                 20               1.15   \n",
       "3     7421966  100.000000                  0                NaN   \n",
       "4      278830  462.739726                 38               0.89   \n",
       "\n",
       "   review_scores_rating property_type        room_type  accommodates  \\\n",
       "0                  95.0     Apartment  Entire home/apt             4   \n",
       "1                  96.0     Apartment  Entire home/apt             4   \n",
       "2                  97.0         House  Entire home/apt            11   \n",
       "3                   NaN     Apartment  Entire home/apt             3   \n",
       "4                  92.0         House  Entire home/apt             6   \n",
       "\n",
       "  cancellation_policy neighbourhood_group_cleansed  count_NA_description  \\\n",
       "0            moderate                   Queen Anne                     1   \n",
       "1              strict                   Queen Anne                     5   \n",
       "2              strict                   Queen Anne                     5   \n",
       "3            flexible                   Queen Anne                     1   \n",
       "4              strict                   Queen Anne                     5   \n",
       "\n",
       "   count_NA_images  count_NA_hostinfo  count_NA_reviewinfo  \\\n",
       "0                1                 18                    9   \n",
       "1                3                 18                    9   \n",
       "2                1                 18                    9   \n",
       "3                1                 14                    0   \n",
       "4                1                 17                    9   \n",
       "\n",
       "   count_NA_locationinfo  count_NA_propertyinfo  \n",
       "0                      8                      8  \n",
       "1                      8                      8  \n",
       "2                      8                      8  \n",
       "3                      8                      8  \n",
       "4                      8                      8  "
      ]
     },
     "execution_count": 168,
     "metadata": {},
     "output_type": "execute_result"
    },
    {
     "name": "stdout",
     "output_type": "stream",
     "text": [
      "time: 141 ms (started: 2025-04-18 14:26:30 +01:00)\n"
     ]
    }
   ],
   "source": [
    "#merge NA_grp data with main listings table\n",
    "listings_main = pd.merge(listings2[['listing_id', 'price_avg', 'number_of_reviews', 'reviews_per_month',\n",
    "                                    'review_scores_rating','property_type',\n",
    "                                    'room_type','accommodates','cancellation_policy',\n",
    "                                    'neighbourhood_group_cleansed']], \n",
    "                         listings_NA_grp, on='listing_id', how='left')\n",
    "listings_main.head()"
   ]
  },
  {
   "cell_type": "code",
   "execution_count": 73,
   "id": "ad79ddf0",
   "metadata": {},
   "outputs": [
    {
     "name": "stdout",
     "output_type": "stream",
     "text": [
      "time: 218 ms (started: 2025-04-18 10:35:21 +01:00)\n"
     ]
    }
   ],
   "source": [
    "import numpy as np\n",
    "import pandas as pd\n",
    "import matplotlib.pyplot as plt\n",
    "from sklearn.linear_model import LinearRegression\n",
    "from sklearn.model_selection import train_test_split\n",
    "from sklearn.metrics import r2_score, mean_squared_error\n",
    "# import test1 as t\n",
    "import seaborn as sns\n",
    "%matplotlib inline\n",
    "%load_ext autoreload\n",
    "%autoreload 2"
   ]
  },
  {
   "cell_type": "code",
   "execution_count": 172,
   "id": "ef665382",
   "metadata": {},
   "outputs": [
    {
     "name": "stdout",
     "output_type": "stream",
     "text": [
      "time: 141 ms (started: 2025-04-18 14:26:53 +01:00)\n"
     ]
    }
   ],
   "source": [
    "# Dummy the categorical variables\n",
    "cat_vars = listings_main.select_dtypes(include=['object']).copy().columns\n",
    "\n",
    "# cat_vars\n",
    "for var in cat_vars:\n",
    "    # for each cat add dummy var, drop original column\n",
    "    listings_main = pd.concat([listings_main.drop(var, axis=1), pd.get_dummies(listings_main[var], prefix=var, prefix_sep='_', drop_first=True)], axis=1)"
   ]
  },
  {
   "cell_type": "code",
   "execution_count": 165,
   "id": "6615e3c7",
   "metadata": {
    "scrolled": true
   },
   "outputs": [
    {
     "data": {
      "text/html": [
       "<div>\n",
       "<style scoped>\n",
       "    .dataframe tbody tr th:only-of-type {\n",
       "        vertical-align: middle;\n",
       "    }\n",
       "\n",
       "    .dataframe tbody tr th {\n",
       "        vertical-align: top;\n",
       "    }\n",
       "\n",
       "    .dataframe thead th {\n",
       "        text-align: right;\n",
       "    }\n",
       "</style>\n",
       "<table border=\"1\" class=\"dataframe\">\n",
       "  <thead>\n",
       "    <tr style=\"text-align: right;\">\n",
       "      <th></th>\n",
       "      <th>listing_id</th>\n",
       "      <th>price_avg</th>\n",
       "      <th>number_of_reviews</th>\n",
       "      <th>reviews_per_month</th>\n",
       "      <th>review_scores_rating</th>\n",
       "      <th>accommodates</th>\n",
       "      <th>accommodates</th>\n",
       "      <th>count_NA_description</th>\n",
       "      <th>count_NA_images</th>\n",
       "      <th>count_NA_hostinfo</th>\n",
       "      <th>...</th>\n",
       "      <th>neighbourhood_group_cleansed_Interbay</th>\n",
       "      <th>neighbourhood_group_cleansed_Lake City</th>\n",
       "      <th>neighbourhood_group_cleansed_Magnolia</th>\n",
       "      <th>neighbourhood_group_cleansed_Northgate</th>\n",
       "      <th>neighbourhood_group_cleansed_Other neighborhoods</th>\n",
       "      <th>neighbourhood_group_cleansed_Queen Anne</th>\n",
       "      <th>neighbourhood_group_cleansed_Rainier Valley</th>\n",
       "      <th>neighbourhood_group_cleansed_Seward Park</th>\n",
       "      <th>neighbourhood_group_cleansed_University District</th>\n",
       "      <th>neighbourhood_group_cleansed_West Seattle</th>\n",
       "    </tr>\n",
       "  </thead>\n",
       "  <tbody>\n",
       "    <tr>\n",
       "      <th>0</th>\n",
       "      <td>241032</td>\n",
       "      <td>85.000000</td>\n",
       "      <td>207</td>\n",
       "      <td>4.07</td>\n",
       "      <td>95.0</td>\n",
       "      <td>4</td>\n",
       "      <td>4</td>\n",
       "      <td>1</td>\n",
       "      <td>1</td>\n",
       "      <td>18</td>\n",
       "      <td>...</td>\n",
       "      <td>0</td>\n",
       "      <td>0</td>\n",
       "      <td>0</td>\n",
       "      <td>0</td>\n",
       "      <td>0</td>\n",
       "      <td>1</td>\n",
       "      <td>0</td>\n",
       "      <td>0</td>\n",
       "      <td>0</td>\n",
       "      <td>0</td>\n",
       "    </tr>\n",
       "    <tr>\n",
       "      <th>1</th>\n",
       "      <td>953595</td>\n",
       "      <td>170.931271</td>\n",
       "      <td>43</td>\n",
       "      <td>1.48</td>\n",
       "      <td>96.0</td>\n",
       "      <td>4</td>\n",
       "      <td>4</td>\n",
       "      <td>5</td>\n",
       "      <td>3</td>\n",
       "      <td>18</td>\n",
       "      <td>...</td>\n",
       "      <td>0</td>\n",
       "      <td>0</td>\n",
       "      <td>0</td>\n",
       "      <td>0</td>\n",
       "      <td>0</td>\n",
       "      <td>1</td>\n",
       "      <td>0</td>\n",
       "      <td>0</td>\n",
       "      <td>0</td>\n",
       "      <td>0</td>\n",
       "    </tr>\n",
       "    <tr>\n",
       "      <th>2</th>\n",
       "      <td>3308979</td>\n",
       "      <td>894.186047</td>\n",
       "      <td>20</td>\n",
       "      <td>1.15</td>\n",
       "      <td>97.0</td>\n",
       "      <td>11</td>\n",
       "      <td>11</td>\n",
       "      <td>5</td>\n",
       "      <td>1</td>\n",
       "      <td>18</td>\n",
       "      <td>...</td>\n",
       "      <td>0</td>\n",
       "      <td>0</td>\n",
       "      <td>0</td>\n",
       "      <td>0</td>\n",
       "      <td>0</td>\n",
       "      <td>1</td>\n",
       "      <td>0</td>\n",
       "      <td>0</td>\n",
       "      <td>0</td>\n",
       "      <td>0</td>\n",
       "    </tr>\n",
       "    <tr>\n",
       "      <th>3</th>\n",
       "      <td>7421966</td>\n",
       "      <td>100.000000</td>\n",
       "      <td>0</td>\n",
       "      <td>NaN</td>\n",
       "      <td>NaN</td>\n",
       "      <td>3</td>\n",
       "      <td>3</td>\n",
       "      <td>1</td>\n",
       "      <td>1</td>\n",
       "      <td>14</td>\n",
       "      <td>...</td>\n",
       "      <td>0</td>\n",
       "      <td>0</td>\n",
       "      <td>0</td>\n",
       "      <td>0</td>\n",
       "      <td>0</td>\n",
       "      <td>1</td>\n",
       "      <td>0</td>\n",
       "      <td>0</td>\n",
       "      <td>0</td>\n",
       "      <td>0</td>\n",
       "    </tr>\n",
       "    <tr>\n",
       "      <th>4</th>\n",
       "      <td>278830</td>\n",
       "      <td>462.739726</td>\n",
       "      <td>38</td>\n",
       "      <td>0.89</td>\n",
       "      <td>92.0</td>\n",
       "      <td>6</td>\n",
       "      <td>6</td>\n",
       "      <td>5</td>\n",
       "      <td>1</td>\n",
       "      <td>17</td>\n",
       "      <td>...</td>\n",
       "      <td>0</td>\n",
       "      <td>0</td>\n",
       "      <td>0</td>\n",
       "      <td>0</td>\n",
       "      <td>0</td>\n",
       "      <td>1</td>\n",
       "      <td>0</td>\n",
       "      <td>0</td>\n",
       "      <td>0</td>\n",
       "      <td>0</td>\n",
       "    </tr>\n",
       "  </tbody>\n",
       "</table>\n",
       "<p>5 rows × 48 columns</p>\n",
       "</div>"
      ],
      "text/plain": [
       "   listing_id   price_avg  number_of_reviews  reviews_per_month  \\\n",
       "0      241032   85.000000                207               4.07   \n",
       "1      953595  170.931271                 43               1.48   \n",
       "2     3308979  894.186047                 20               1.15   \n",
       "3     7421966  100.000000                  0                NaN   \n",
       "4      278830  462.739726                 38               0.89   \n",
       "\n",
       "   review_scores_rating  accommodates  accommodates  count_NA_description  \\\n",
       "0                  95.0             4             4                     1   \n",
       "1                  96.0             4             4                     5   \n",
       "2                  97.0            11            11                     5   \n",
       "3                   NaN             3             3                     1   \n",
       "4                  92.0             6             6                     5   \n",
       "\n",
       "   count_NA_images  count_NA_hostinfo  ...  \\\n",
       "0                1                 18  ...   \n",
       "1                3                 18  ...   \n",
       "2                1                 18  ...   \n",
       "3                1                 14  ...   \n",
       "4                1                 17  ...   \n",
       "\n",
       "   neighbourhood_group_cleansed_Interbay  \\\n",
       "0                                      0   \n",
       "1                                      0   \n",
       "2                                      0   \n",
       "3                                      0   \n",
       "4                                      0   \n",
       "\n",
       "   neighbourhood_group_cleansed_Lake City  \\\n",
       "0                                       0   \n",
       "1                                       0   \n",
       "2                                       0   \n",
       "3                                       0   \n",
       "4                                       0   \n",
       "\n",
       "   neighbourhood_group_cleansed_Magnolia  \\\n",
       "0                                      0   \n",
       "1                                      0   \n",
       "2                                      0   \n",
       "3                                      0   \n",
       "4                                      0   \n",
       "\n",
       "   neighbourhood_group_cleansed_Northgate  \\\n",
       "0                                       0   \n",
       "1                                       0   \n",
       "2                                       0   \n",
       "3                                       0   \n",
       "4                                       0   \n",
       "\n",
       "   neighbourhood_group_cleansed_Other neighborhoods  \\\n",
       "0                                                 0   \n",
       "1                                                 0   \n",
       "2                                                 0   \n",
       "3                                                 0   \n",
       "4                                                 0   \n",
       "\n",
       "   neighbourhood_group_cleansed_Queen Anne  \\\n",
       "0                                        1   \n",
       "1                                        1   \n",
       "2                                        1   \n",
       "3                                        1   \n",
       "4                                        1   \n",
       "\n",
       "   neighbourhood_group_cleansed_Rainier Valley  \\\n",
       "0                                            0   \n",
       "1                                            0   \n",
       "2                                            0   \n",
       "3                                            0   \n",
       "4                                            0   \n",
       "\n",
       "   neighbourhood_group_cleansed_Seward Park  \\\n",
       "0                                         0   \n",
       "1                                         0   \n",
       "2                                         0   \n",
       "3                                         0   \n",
       "4                                         0   \n",
       "\n",
       "   neighbourhood_group_cleansed_University District  \\\n",
       "0                                                 0   \n",
       "1                                                 0   \n",
       "2                                                 0   \n",
       "3                                                 0   \n",
       "4                                                 0   \n",
       "\n",
       "   neighbourhood_group_cleansed_West Seattle  \n",
       "0                                          0  \n",
       "1                                          0  \n",
       "2                                          0  \n",
       "3                                          0  \n",
       "4                                          0  \n",
       "\n",
       "[5 rows x 48 columns]"
      ]
     },
     "execution_count": 165,
     "metadata": {},
     "output_type": "execute_result"
    },
    {
     "name": "stdout",
     "output_type": "stream",
     "text": [
      "time: 125 ms (started: 2025-04-18 14:25:14 +01:00)\n"
     ]
    }
   ],
   "source": [
    "listings_main.head()"
   ]
  },
  {
   "cell_type": "code",
   "execution_count": 173,
   "id": "e9db2cc4",
   "metadata": {
    "scrolled": true
   },
   "outputs": [
    {
     "data": {
      "text/plain": [
       "['listing_id',\n",
       " 'price_avg',\n",
       " 'number_of_reviews',\n",
       " 'reviews_per_month',\n",
       " 'review_scores_rating',\n",
       " 'accommodates',\n",
       " 'count_NA_description',\n",
       " 'count_NA_images',\n",
       " 'count_NA_hostinfo',\n",
       " 'count_NA_reviewinfo',\n",
       " 'count_NA_locationinfo',\n",
       " 'count_NA_propertyinfo',\n",
       " 'property_type_Bed & Breakfast',\n",
       " 'property_type_Boat',\n",
       " 'property_type_Bungalow',\n",
       " 'property_type_Cabin',\n",
       " 'property_type_Camper/RV',\n",
       " 'property_type_Chalet',\n",
       " 'property_type_Condominium',\n",
       " 'property_type_Dorm',\n",
       " 'property_type_House',\n",
       " 'property_type_Loft',\n",
       " 'property_type_Other',\n",
       " 'property_type_Tent',\n",
       " 'property_type_Townhouse',\n",
       " 'property_type_Treehouse',\n",
       " 'property_type_Yurt',\n",
       " 'room_type_Private room',\n",
       " 'room_type_Shared room',\n",
       " 'cancellation_policy_moderate',\n",
       " 'cancellation_policy_strict',\n",
       " 'neighbourhood_group_cleansed_Beacon Hill',\n",
       " 'neighbourhood_group_cleansed_Capitol Hill',\n",
       " 'neighbourhood_group_cleansed_Cascade',\n",
       " 'neighbourhood_group_cleansed_Central Area',\n",
       " 'neighbourhood_group_cleansed_Delridge',\n",
       " 'neighbourhood_group_cleansed_Downtown',\n",
       " 'neighbourhood_group_cleansed_Interbay',\n",
       " 'neighbourhood_group_cleansed_Lake City',\n",
       " 'neighbourhood_group_cleansed_Magnolia',\n",
       " 'neighbourhood_group_cleansed_Northgate',\n",
       " 'neighbourhood_group_cleansed_Other neighborhoods',\n",
       " 'neighbourhood_group_cleansed_Queen Anne',\n",
       " 'neighbourhood_group_cleansed_Rainier Valley',\n",
       " 'neighbourhood_group_cleansed_Seward Park',\n",
       " 'neighbourhood_group_cleansed_University District',\n",
       " 'neighbourhood_group_cleansed_West Seattle']"
      ]
     },
     "execution_count": 173,
     "metadata": {},
     "output_type": "execute_result"
    },
    {
     "name": "stdout",
     "output_type": "stream",
     "text": [
      "time: 141 ms (started: 2025-04-18 14:26:57 +01:00)\n"
     ]
    }
   ],
   "source": [
    "list(listings_main)"
   ]
  },
  {
   "cell_type": "code",
   "execution_count": 107,
   "id": "2d0ceb42",
   "metadata": {},
   "outputs": [
    {
     "data": {
      "text/plain": [
       "'The r-squared score for the model  was 0.1560791459568407 on 1146 values.'"
      ]
     },
     "execution_count": 107,
     "metadata": {},
     "output_type": "execute_result"
    },
    {
     "name": "stdout",
     "output_type": "stream",
     "text": [
      "time: 125 ms (started: 2025-04-18 11:25:17 +01:00)\n"
     ]
    }
   ],
   "source": [
    "\n",
    "# Mean function\n",
    "# fill_mean = lambda col: col.fillna(col.mean())\n",
    "# # Fill the mean\n",
    "# fill_df = drop_sal_df.apply(fill_mean, axis=0)\n",
    "\n",
    "#Split into explanatory and response variables\n",
    "X = listings_main[['count_NA_description',\n",
    " 'count_NA_images',\n",
    " 'count_NA_hostinfo',\n",
    " 'count_NA_reviewinfo',\n",
    " 'count_NA_locationinfo',\n",
    " 'count_NA_propertyinfo',\n",
    " 'property_type_Bed & Breakfast',\n",
    " 'property_type_Boat',\n",
    " 'property_type_Bungalow',\n",
    " 'property_type_Cabin',\n",
    " 'property_type_Camper/RV',\n",
    " 'property_type_Chalet',\n",
    " 'property_type_Condominium',\n",
    " 'property_type_Dorm',\n",
    " 'property_type_House',\n",
    " 'property_type_Loft',\n",
    " 'property_type_Other',\n",
    " 'property_type_Tent',\n",
    " 'property_type_Townhouse',\n",
    " 'property_type_Treehouse',\n",
    " 'property_type_Yurt',\n",
    " 'neighbourhood_group_cleansed_Beacon Hill',\n",
    " 'neighbourhood_group_cleansed_Capitol Hill',\n",
    " 'neighbourhood_group_cleansed_Cascade',\n",
    " 'neighbourhood_group_cleansed_Central Area',\n",
    " 'neighbourhood_group_cleansed_Delridge',\n",
    " 'neighbourhood_group_cleansed_Downtown',\n",
    " 'neighbourhood_group_cleansed_Interbay',\n",
    " 'neighbourhood_group_cleansed_Lake City',\n",
    " 'neighbourhood_group_cleansed_Magnolia',\n",
    " 'neighbourhood_group_cleansed_Northgate',\n",
    " 'neighbourhood_group_cleansed_Other neighborhoods',\n",
    " 'neighbourhood_group_cleansed_Queen Anne',\n",
    " 'neighbourhood_group_cleansed_Rainier Valley',\n",
    " 'neighbourhood_group_cleansed_Seward Park',\n",
    " 'neighbourhood_group_cleansed_University District',\n",
    " 'neighbourhood_group_cleansed_West Seattle']]\n",
    "y = listings_main['number_of_reviews']\n",
    "\n",
    "#Split into train and test\n",
    "X_train, X_test, y_train, y_test = train_test_split(X, y, test_size = .30, random_state=42) \n",
    "\n",
    "lm_model = LinearRegression() # Instantiate\n",
    "lm_model.fit(X_train, y_train) #Fit\n",
    "\n",
    "#Predict using your model\n",
    "y_test_preds = lm_model.predict(X_test)\n",
    "y_train_preds = lm_model.predict(X_train)\n",
    "\n",
    "#Score using your model\n",
    "test_score = r2_score(y_test, y_test_preds)\n",
    "train_score = r2_score(y_train, y_train_preds)\n",
    "\n",
    "# return test_score, train_score, lm_model, X_train, X_test, y_train, y_test\n",
    "        \n",
    "#Predict and score the model\n",
    "y_test_preds = lm_model.predict(X_test) \n",
    "\"The r-squared score for the model  was {} on {} values.\".format(r2_score(y_test, y_test_preds), len(y_test))"
   ]
  },
  {
   "cell_type": "code",
   "execution_count": 108,
   "id": "a5d5e4be",
   "metadata": {
    "scrolled": true
   },
   "outputs": [
    {
     "data": {
      "text/html": [
       "<div>\n",
       "<style scoped>\n",
       "    .dataframe tbody tr th:only-of-type {\n",
       "        vertical-align: middle;\n",
       "    }\n",
       "\n",
       "    .dataframe tbody tr th {\n",
       "        vertical-align: top;\n",
       "    }\n",
       "\n",
       "    .dataframe thead th {\n",
       "        text-align: right;\n",
       "    }\n",
       "</style>\n",
       "<table border=\"1\" class=\"dataframe\">\n",
       "  <thead>\n",
       "    <tr style=\"text-align: right;\">\n",
       "      <th></th>\n",
       "      <th>0</th>\n",
       "      <th>1</th>\n",
       "    </tr>\n",
       "  </thead>\n",
       "  <tbody>\n",
       "    <tr>\n",
       "      <th>0</th>\n",
       "      <td>count_NA_description</td>\n",
       "      <td>0.071115</td>\n",
       "    </tr>\n",
       "    <tr>\n",
       "      <th>1</th>\n",
       "      <td>count_NA_images</td>\n",
       "      <td>4.189956</td>\n",
       "    </tr>\n",
       "    <tr>\n",
       "      <th>2</th>\n",
       "      <td>count_NA_hostinfo</td>\n",
       "      <td>5.125601</td>\n",
       "    </tr>\n",
       "    <tr>\n",
       "      <th>3</th>\n",
       "      <td>count_NA_reviewinfo</td>\n",
       "      <td>2.145895</td>\n",
       "    </tr>\n",
       "    <tr>\n",
       "      <th>4</th>\n",
       "      <td>count_NA_locationinfo</td>\n",
       "      <td>-8.310093</td>\n",
       "    </tr>\n",
       "    <tr>\n",
       "      <th>5</th>\n",
       "      <td>count_NA_propertyinfo</td>\n",
       "      <td>10.222458</td>\n",
       "    </tr>\n",
       "    <tr>\n",
       "      <th>6</th>\n",
       "      <td>property_type_Bed &amp; Breakfast</td>\n",
       "      <td>-0.035621</td>\n",
       "    </tr>\n",
       "    <tr>\n",
       "      <th>7</th>\n",
       "      <td>property_type_Boat</td>\n",
       "      <td>-19.717678</td>\n",
       "    </tr>\n",
       "    <tr>\n",
       "      <th>8</th>\n",
       "      <td>property_type_Bungalow</td>\n",
       "      <td>-15.432817</td>\n",
       "    </tr>\n",
       "    <tr>\n",
       "      <th>9</th>\n",
       "      <td>property_type_Cabin</td>\n",
       "      <td>53.628982</td>\n",
       "    </tr>\n",
       "    <tr>\n",
       "      <th>10</th>\n",
       "      <td>property_type_Camper/RV</td>\n",
       "      <td>17.480151</td>\n",
       "    </tr>\n",
       "    <tr>\n",
       "      <th>11</th>\n",
       "      <td>property_type_Chalet</td>\n",
       "      <td>-16.261404</td>\n",
       "    </tr>\n",
       "    <tr>\n",
       "      <th>12</th>\n",
       "      <td>property_type_Condominium</td>\n",
       "      <td>-12.723613</td>\n",
       "    </tr>\n",
       "    <tr>\n",
       "      <th>13</th>\n",
       "      <td>property_type_Dorm</td>\n",
       "      <td>-6.420362</td>\n",
       "    </tr>\n",
       "    <tr>\n",
       "      <th>14</th>\n",
       "      <td>property_type_House</td>\n",
       "      <td>2.883512</td>\n",
       "    </tr>\n",
       "    <tr>\n",
       "      <th>15</th>\n",
       "      <td>property_type_Loft</td>\n",
       "      <td>26.795085</td>\n",
       "    </tr>\n",
       "    <tr>\n",
       "      <th>16</th>\n",
       "      <td>property_type_Other</td>\n",
       "      <td>10.459264</td>\n",
       "    </tr>\n",
       "    <tr>\n",
       "      <th>17</th>\n",
       "      <td>property_type_Tent</td>\n",
       "      <td>-6.562049</td>\n",
       "    </tr>\n",
       "    <tr>\n",
       "      <th>18</th>\n",
       "      <td>property_type_Townhouse</td>\n",
       "      <td>-7.998569</td>\n",
       "    </tr>\n",
       "    <tr>\n",
       "      <th>19</th>\n",
       "      <td>property_type_Treehouse</td>\n",
       "      <td>3.445356</td>\n",
       "    </tr>\n",
       "    <tr>\n",
       "      <th>20</th>\n",
       "      <td>property_type_Yurt</td>\n",
       "      <td>1.398539</td>\n",
       "    </tr>\n",
       "    <tr>\n",
       "      <th>21</th>\n",
       "      <td>neighbourhood_group_cleansed_Beacon Hill</td>\n",
       "      <td>-6.409177</td>\n",
       "    </tr>\n",
       "    <tr>\n",
       "      <th>22</th>\n",
       "      <td>neighbourhood_group_cleansed_Capitol Hill</td>\n",
       "      <td>-7.171603</td>\n",
       "    </tr>\n",
       "    <tr>\n",
       "      <th>23</th>\n",
       "      <td>neighbourhood_group_cleansed_Cascade</td>\n",
       "      <td>-16.207394</td>\n",
       "    </tr>\n",
       "    <tr>\n",
       "      <th>24</th>\n",
       "      <td>neighbourhood_group_cleansed_Central Area</td>\n",
       "      <td>-9.275140</td>\n",
       "    </tr>\n",
       "    <tr>\n",
       "      <th>25</th>\n",
       "      <td>neighbourhood_group_cleansed_Delridge</td>\n",
       "      <td>-1.698583</td>\n",
       "    </tr>\n",
       "    <tr>\n",
       "      <th>26</th>\n",
       "      <td>neighbourhood_group_cleansed_Downtown</td>\n",
       "      <td>-6.549283</td>\n",
       "    </tr>\n",
       "    <tr>\n",
       "      <th>27</th>\n",
       "      <td>neighbourhood_group_cleansed_Interbay</td>\n",
       "      <td>-19.757128</td>\n",
       "    </tr>\n",
       "    <tr>\n",
       "      <th>28</th>\n",
       "      <td>neighbourhood_group_cleansed_Lake City</td>\n",
       "      <td>-17.032628</td>\n",
       "    </tr>\n",
       "    <tr>\n",
       "      <th>29</th>\n",
       "      <td>neighbourhood_group_cleansed_Magnolia</td>\n",
       "      <td>-13.468980</td>\n",
       "    </tr>\n",
       "    <tr>\n",
       "      <th>30</th>\n",
       "      <td>neighbourhood_group_cleansed_Northgate</td>\n",
       "      <td>-14.792213</td>\n",
       "    </tr>\n",
       "    <tr>\n",
       "      <th>31</th>\n",
       "      <td>neighbourhood_group_cleansed_Other neighborhoods</td>\n",
       "      <td>-9.398038</td>\n",
       "    </tr>\n",
       "    <tr>\n",
       "      <th>32</th>\n",
       "      <td>neighbourhood_group_cleansed_Queen Anne</td>\n",
       "      <td>-6.548583</td>\n",
       "    </tr>\n",
       "    <tr>\n",
       "      <th>33</th>\n",
       "      <td>neighbourhood_group_cleansed_Rainier Valley</td>\n",
       "      <td>-10.496322</td>\n",
       "    </tr>\n",
       "    <tr>\n",
       "      <th>34</th>\n",
       "      <td>neighbourhood_group_cleansed_Seward Park</td>\n",
       "      <td>-1.381261</td>\n",
       "    </tr>\n",
       "    <tr>\n",
       "      <th>35</th>\n",
       "      <td>neighbourhood_group_cleansed_University District</td>\n",
       "      <td>-20.589079</td>\n",
       "    </tr>\n",
       "    <tr>\n",
       "      <th>36</th>\n",
       "      <td>neighbourhood_group_cleansed_West Seattle</td>\n",
       "      <td>-13.493785</td>\n",
       "    </tr>\n",
       "  </tbody>\n",
       "</table>\n",
       "</div>"
      ],
      "text/plain": [
       "                                                   0          1\n",
       "0                               count_NA_description   0.071115\n",
       "1                                    count_NA_images   4.189956\n",
       "2                                  count_NA_hostinfo   5.125601\n",
       "3                                count_NA_reviewinfo   2.145895\n",
       "4                              count_NA_locationinfo  -8.310093\n",
       "5                              count_NA_propertyinfo  10.222458\n",
       "6                      property_type_Bed & Breakfast  -0.035621\n",
       "7                                 property_type_Boat -19.717678\n",
       "8                             property_type_Bungalow -15.432817\n",
       "9                                property_type_Cabin  53.628982\n",
       "10                           property_type_Camper/RV  17.480151\n",
       "11                              property_type_Chalet -16.261404\n",
       "12                         property_type_Condominium -12.723613\n",
       "13                                property_type_Dorm  -6.420362\n",
       "14                               property_type_House   2.883512\n",
       "15                                property_type_Loft  26.795085\n",
       "16                               property_type_Other  10.459264\n",
       "17                                property_type_Tent  -6.562049\n",
       "18                           property_type_Townhouse  -7.998569\n",
       "19                           property_type_Treehouse   3.445356\n",
       "20                                property_type_Yurt   1.398539\n",
       "21          neighbourhood_group_cleansed_Beacon Hill  -6.409177\n",
       "22         neighbourhood_group_cleansed_Capitol Hill  -7.171603\n",
       "23              neighbourhood_group_cleansed_Cascade -16.207394\n",
       "24         neighbourhood_group_cleansed_Central Area  -9.275140\n",
       "25             neighbourhood_group_cleansed_Delridge  -1.698583\n",
       "26             neighbourhood_group_cleansed_Downtown  -6.549283\n",
       "27             neighbourhood_group_cleansed_Interbay -19.757128\n",
       "28            neighbourhood_group_cleansed_Lake City -17.032628\n",
       "29             neighbourhood_group_cleansed_Magnolia -13.468980\n",
       "30            neighbourhood_group_cleansed_Northgate -14.792213\n",
       "31  neighbourhood_group_cleansed_Other neighborhoods  -9.398038\n",
       "32           neighbourhood_group_cleansed_Queen Anne  -6.548583\n",
       "33       neighbourhood_group_cleansed_Rainier Valley -10.496322\n",
       "34          neighbourhood_group_cleansed_Seward Park  -1.381261\n",
       "35  neighbourhood_group_cleansed_University District -20.589079\n",
       "36         neighbourhood_group_cleansed_West Seattle -13.493785"
      ]
     },
     "execution_count": 108,
     "metadata": {},
     "output_type": "execute_result"
    },
    {
     "name": "stdout",
     "output_type": "stream",
     "text": [
      "time: 94 ms (started: 2025-04-18 11:25:23 +01:00)\n"
     ]
    }
   ],
   "source": [
    "pd.DataFrame(zip(X.columns, lm_model.coef_))"
   ]
  },
  {
   "cell_type": "code",
   "execution_count": 174,
   "id": "ae5ff83e",
   "metadata": {
    "scrolled": false
   },
   "outputs": [
    {
     "name": "stdout",
     "output_type": "stream",
     "text": [
      "                            OLS Regression Results                            \n",
      "==============================================================================\n",
      "Dep. Variable:      number_of_reviews   R-squared:                       0.158\n",
      "Model:                            OLS   Adj. R-squared:                  0.144\n",
      "Method:                 Least Squares   F-statistic:                     11.16\n",
      "Date:                Fri, 18 Apr 2025   Prob (F-statistic):           6.71e-68\n",
      "Time:                        14:27:00   Log-Likelihood:                -12986.\n",
      "No. Observations:                2603   AIC:                         2.606e+04\n",
      "Df Residuals:                    2559   BIC:                         2.632e+04\n",
      "Df Model:                          43                                         \n",
      "Covariance Type:            nonrobust                                         \n",
      "====================================================================================================================\n",
      "                                                       coef    std err          t      P>|t|      [0.025      0.975]\n",
      "--------------------------------------------------------------------------------------------------------------------\n",
      "const                                              -92.8038    155.733     -0.596      0.551    -398.179     212.572\n",
      "price_avg                                           -0.0348      0.012     -2.884      0.004      -0.058      -0.011\n",
      "count_NA_description                                -0.3692      0.524     -0.705      0.481      -1.397       0.658\n",
      "count_NA_images                                      2.7767      1.339      2.074      0.038       0.152       5.401\n",
      "count_NA_hostinfo                                    4.8750      0.638      7.645      0.000       3.625       6.125\n",
      "count_NA_reviewinfo                                  1.8873      0.233      8.099      0.000       1.430       2.344\n",
      "count_NA_locationinfo                               -9.0730     18.963     -0.478      0.632     -46.258      28.112\n",
      "count_NA_propertyinfo                               11.0372      4.044      2.729      0.006       3.107      18.968\n",
      "accommodates                                        -0.7158      0.577     -1.241      0.215      -1.847       0.415\n",
      "property_type_Bed & Breakfast                       -1.6115      7.074     -0.228      0.820     -15.483      12.260\n",
      "property_type_Boat                                 -14.4796     22.274     -0.650      0.516     -58.156      29.197\n",
      "property_type_Bungalow                             -13.0632     12.055     -1.084      0.279     -36.702      10.575\n",
      "property_type_Cabin                                 58.2532     10.498      5.549      0.000      37.667      78.839\n",
      "property_type_Camper/RV                             18.6590     12.811      1.456      0.145      -6.462      43.780\n",
      "property_type_Chalet                               -15.6428     36.159     -0.433      0.665     -86.547      55.262\n",
      "property_type_Condominium                          -12.0413      4.828     -2.494      0.013     -21.509      -2.574\n",
      "property_type_Dorm                                   2.2359     36.371      0.061      0.951     -69.084      73.556\n",
      "property_type_House                                  3.6048      1.910      1.887      0.059      -0.140       7.350\n",
      "property_type_Loft                                  27.9061      6.564      4.251      0.000      15.034      40.778\n",
      "property_type_Other                                  9.8285      9.343      1.052      0.293      -8.493      28.150\n",
      "property_type_Tent                                   0.5228     18.318      0.029      0.977     -35.397      36.443\n",
      "property_type_Townhouse                             -7.7882      4.264     -1.827      0.068     -16.149       0.573\n",
      "property_type_Treehouse                              1.1619     20.841      0.056      0.956     -39.704      42.028\n",
      "property_type_Yurt                                  -2.5271     35.987     -0.070      0.944     -73.093      68.039\n",
      "room_type_Private room                               3.2032      2.022      1.584      0.113      -0.761       7.168\n",
      "room_type_Shared room                              -14.0388      4.335     -3.239      0.001     -22.538      -5.539\n",
      "cancellation_policy_moderate                        10.4647      1.881      5.564      0.000       6.777      14.153\n",
      "cancellation_policy_strict                           6.7264      1.922      3.500      0.000       2.958      10.495\n",
      "neighbourhood_group_cleansed_Beacon Hill            -7.2791      4.863     -1.497      0.135     -16.814       2.256\n",
      "neighbourhood_group_cleansed_Capitol Hill           -4.2475      3.480     -1.220      0.222     -11.072       2.577\n",
      "neighbourhood_group_cleansed_Cascade               -13.9583      5.748     -2.429      0.015     -25.229      -2.688\n",
      "neighbourhood_group_cleansed_Central Area           -6.9384      3.702     -1.874      0.061     -14.197       0.320\n",
      "neighbourhood_group_cleansed_Delridge               -2.3556      5.902     -0.399      0.690     -13.928       9.217\n",
      "neighbourhood_group_cleansed_Downtown               -1.8486      3.766     -0.491      0.624      -9.233       5.536\n",
      "neighbourhood_group_cleansed_Interbay              -21.0372     14.325     -1.469      0.142     -49.127       7.052\n",
      "neighbourhood_group_cleansed_Lake City             -16.0878      5.928     -2.714      0.007     -27.711      -4.464\n",
      "neighbourhood_group_cleansed_Magnolia               -9.7759      6.216     -1.573      0.116     -21.965       2.414\n",
      "neighbourhood_group_cleansed_Northgate             -14.6883      5.991     -2.452      0.014     -26.435      -2.942\n",
      "neighbourhood_group_cleansed_Other neighborhoods    -7.8881      3.246     -2.430      0.015     -14.254      -1.522\n",
      "neighbourhood_group_cleansed_Queen Anne             -4.1996      3.924     -1.070      0.285     -11.894       3.495\n",
      "neighbourhood_group_cleansed_Rainier Valley        -10.8681      4.497     -2.417      0.016     -19.686      -2.051\n",
      "neighbourhood_group_cleansed_Seward Park            -1.4429      7.075     -0.204      0.838     -15.316      12.430\n",
      "neighbourhood_group_cleansed_University District   -19.8564      4.905     -4.048      0.000     -29.474     -10.239\n",
      "neighbourhood_group_cleansed_West Seattle          -11.2530      4.193     -2.684      0.007     -19.474      -3.032\n",
      "==============================================================================\n",
      "Omnibus:                     2433.881   Durbin-Watson:                   1.951\n",
      "Prob(Omnibus):                  0.000   Jarque-Bera (JB):           117161.346\n",
      "Skew:                           4.396   Prob(JB):                         0.00\n",
      "Kurtosis:                      34.669   Cond. No.                     3.65e+04\n",
      "==============================================================================\n",
      "\n",
      "Notes:\n",
      "[1] Standard Errors assume that the covariance matrix of the errors is correctly specified.\n",
      "[2] The condition number is large, 3.65e+04. This might indicate that there are\n",
      "strong multicollinearity or other numerical problems.\n",
      "time: 157 ms (started: 2025-04-18 14:27:00 +01:00)\n"
     ]
    }
   ],
   "source": [
    "### Linear Regression\n",
    "\n",
    "import pandas as pd\n",
    "import statsmodels.api as sm\n",
    "from sklearn.model_selection import train_test_split\n",
    "\n",
    "# Assuming you have your X and y defined as before\n",
    "X = listings_main[[\n",
    "                    'price_avg',  #results in errors\n",
    "                   'count_NA_description', 'count_NA_images', 'count_NA_hostinfo', \n",
    "                   'count_NA_reviewinfo', 'count_NA_locationinfo', 'count_NA_propertyinfo', \n",
    "                    'accommodates',\n",
    "                    'property_type_Bed & Breakfast',\n",
    "                     'property_type_Boat',\n",
    "                     'property_type_Bungalow',\n",
    "                     'property_type_Cabin',\n",
    "                     'property_type_Camper/RV',\n",
    "                     'property_type_Chalet',\n",
    "                     'property_type_Condominium',\n",
    "                     'property_type_Dorm',\n",
    "                     'property_type_House',\n",
    "                     'property_type_Loft',\n",
    "                     'property_type_Other',\n",
    "                     'property_type_Tent',\n",
    "                     'property_type_Townhouse',\n",
    "                     'property_type_Treehouse',\n",
    "                     'property_type_Yurt',\n",
    "                     'room_type_Private room',\n",
    "                     'room_type_Shared room',\n",
    "                     'cancellation_policy_moderate',\n",
    "                     'cancellation_policy_strict',\n",
    "                     'neighbourhood_group_cleansed_Beacon Hill',\n",
    "                     'neighbourhood_group_cleansed_Capitol Hill',\n",
    "                     'neighbourhood_group_cleansed_Cascade',\n",
    "                     'neighbourhood_group_cleansed_Central Area',\n",
    "                     'neighbourhood_group_cleansed_Delridge',\n",
    "                     'neighbourhood_group_cleansed_Downtown',\n",
    "                     'neighbourhood_group_cleansed_Interbay',\n",
    "                     'neighbourhood_group_cleansed_Lake City',\n",
    "                     'neighbourhood_group_cleansed_Magnolia',\n",
    "                     'neighbourhood_group_cleansed_Northgate',\n",
    "                     'neighbourhood_group_cleansed_Other neighborhoods',\n",
    "                     'neighbourhood_group_cleansed_Queen Anne',\n",
    "                     'neighbourhood_group_cleansed_Rainier Valley',\n",
    "                     'neighbourhood_group_cleansed_Seward Park',\n",
    "                     'neighbourhood_group_cleansed_University District',\n",
    "                     'neighbourhood_group_cleansed_West Seattle']]\n",
    "y = listings_main['number_of_reviews']\n",
    "\n",
    "# Split into train and test\n",
    "X_train, X_test, y_train, y_test = train_test_split(X, y, test_size=0.30, random_state=42)\n",
    "\n",
    "# Add a constant to the model (intercept)\n",
    "X_train_sm = sm.add_constant(X_train)\n",
    "\n",
    "# Fit the model using statsmodels\n",
    "model=sm.OLS(y_train, X_train_sm, missing= 'drop').fit()\n",
    "\n",
    "# Get the summary which includes p-values\n",
    "summary = model.summary()\n",
    "print(summary)\n",
    "\n",
    "# To extract coefficients and p-values\n",
    "coefficients = model.params\n",
    "p_values = model.pvalues\n",
    "\n",
    "# Create a DataFrame with coefficients and p-values\n",
    "results_df = pd.DataFrame({'Coefficient': coefficients, 'P-Value': p_values})"
   ]
  },
  {
   "cell_type": "code",
   "execution_count": 128,
   "id": "07905308",
   "metadata": {},
   "outputs": [
    {
     "data": {
      "text/plain": [
       "96"
      ]
     },
     "execution_count": 128,
     "metadata": {},
     "output_type": "execute_result"
    },
    {
     "name": "stdout",
     "output_type": "stream",
     "text": [
      "time: 109 ms (started: 2025-04-18 13:38:07 +01:00)\n"
     ]
    }
   ],
   "source": [
    "listings_main['price_avg'].isna().sum()"
   ]
  },
  {
   "cell_type": "code",
   "execution_count": 135,
   "id": "548b69c5",
   "metadata": {},
   "outputs": [
    {
     "data": {
      "text/plain": [
       "627"
      ]
     },
     "execution_count": 135,
     "metadata": {},
     "output_type": "execute_result"
    },
    {
     "name": "stdout",
     "output_type": "stream",
     "text": [
      "time: 110 ms (started: 2025-04-18 13:49:40 +01:00)\n"
     ]
    }
   ],
   "source": [
    "## note: should the metric be: ratio of number of reviews to number of days on market? \n",
    "# this would help us reduce bias us towards older listings\n",
    "# we don't seme to have data on the number of days on market - only what the oldest calendar listing is\n",
    "# maybe we can use the date of first review >> this wouldn't be too different from the date of the first booking and acts as a proxy for it\n",
    "\n",
    "listings['first_review'].isna().sum()\n",
    "#627 missing first_review\n",
    "#imput with 0s to assume that the date is blank because they have no reviews?\n",
    "#check this theory"
   ]
  },
  {
   "cell_type": "code",
   "execution_count": 142,
   "id": "d7aac9c9",
   "metadata": {
    "scrolled": true
   },
   "outputs": [
    {
     "data": {
      "text/plain": [
       "627"
      ]
     },
     "execution_count": 142,
     "metadata": {},
     "output_type": "execute_result"
    },
    {
     "name": "stdout",
     "output_type": "stream",
     "text": [
      "time: 109 ms (started: 2025-04-18 13:52:04 +01:00)\n"
     ]
    }
   ],
   "source": [
    "first_review_na = listings[listings['first_review'].isna()]\n",
    "first_review_na.shape[0]"
   ]
  },
  {
   "cell_type": "code",
   "execution_count": 146,
   "id": "e4449dd6",
   "metadata": {},
   "outputs": [
    {
     "data": {
      "text/html": [
       "<div>\n",
       "<style scoped>\n",
       "    .dataframe tbody tr th:only-of-type {\n",
       "        vertical-align: middle;\n",
       "    }\n",
       "\n",
       "    .dataframe tbody tr th {\n",
       "        vertical-align: top;\n",
       "    }\n",
       "\n",
       "    .dataframe thead th {\n",
       "        text-align: right;\n",
       "    }\n",
       "</style>\n",
       "<table border=\"1\" class=\"dataframe\">\n",
       "  <thead>\n",
       "    <tr style=\"text-align: right;\">\n",
       "      <th></th>\n",
       "      <th>listing_id</th>\n",
       "      <th>listing_url</th>\n",
       "      <th>scrape_id</th>\n",
       "      <th>last_scraped</th>\n",
       "      <th>name</th>\n",
       "      <th>summary</th>\n",
       "      <th>space</th>\n",
       "      <th>description</th>\n",
       "      <th>experiences_offered</th>\n",
       "      <th>neighborhood_overview</th>\n",
       "      <th>...</th>\n",
       "      <th>review_scores_value</th>\n",
       "      <th>requires_license</th>\n",
       "      <th>license</th>\n",
       "      <th>jurisdiction_names</th>\n",
       "      <th>instant_bookable</th>\n",
       "      <th>cancellation_policy</th>\n",
       "      <th>require_guest_profile_picture</th>\n",
       "      <th>require_guest_phone_verification</th>\n",
       "      <th>calculated_host_listings_count</th>\n",
       "      <th>reviews_per_month</th>\n",
       "    </tr>\n",
       "    <tr>\n",
       "      <th>number_of_reviews</th>\n",
       "      <th></th>\n",
       "      <th></th>\n",
       "      <th></th>\n",
       "      <th></th>\n",
       "      <th></th>\n",
       "      <th></th>\n",
       "      <th></th>\n",
       "      <th></th>\n",
       "      <th></th>\n",
       "      <th></th>\n",
       "      <th></th>\n",
       "      <th></th>\n",
       "      <th></th>\n",
       "      <th></th>\n",
       "      <th></th>\n",
       "      <th></th>\n",
       "      <th></th>\n",
       "      <th></th>\n",
       "      <th></th>\n",
       "      <th></th>\n",
       "      <th></th>\n",
       "    </tr>\n",
       "  </thead>\n",
       "  <tbody>\n",
       "    <tr>\n",
       "      <th>0</th>\n",
       "      <td>627</td>\n",
       "      <td>627</td>\n",
       "      <td>627</td>\n",
       "      <td>627</td>\n",
       "      <td>627</td>\n",
       "      <td>618</td>\n",
       "      <td>391</td>\n",
       "      <td>627</td>\n",
       "      <td>627</td>\n",
       "      <td>341</td>\n",
       "      <td>...</td>\n",
       "      <td>0</td>\n",
       "      <td>627</td>\n",
       "      <td>0</td>\n",
       "      <td>627</td>\n",
       "      <td>627</td>\n",
       "      <td>627</td>\n",
       "      <td>627</td>\n",
       "      <td>627</td>\n",
       "      <td>627</td>\n",
       "      <td>0</td>\n",
       "    </tr>\n",
       "  </tbody>\n",
       "</table>\n",
       "<p>1 rows × 91 columns</p>\n",
       "</div>"
      ],
      "text/plain": [
       "                   listing_id  listing_url  scrape_id  last_scraped  name  \\\n",
       "number_of_reviews                                                           \n",
       "0                         627          627        627           627   627   \n",
       "\n",
       "                   summary  space  description  experiences_offered  \\\n",
       "number_of_reviews                                                     \n",
       "0                      618    391          627                  627   \n",
       "\n",
       "                   neighborhood_overview  ...  review_scores_value  \\\n",
       "number_of_reviews                         ...                        \n",
       "0                                    341  ...                    0   \n",
       "\n",
       "                   requires_license  license  jurisdiction_names  \\\n",
       "number_of_reviews                                                  \n",
       "0                               627        0                 627   \n",
       "\n",
       "                   instant_bookable  cancellation_policy  \\\n",
       "number_of_reviews                                          \n",
       "0                               627                  627   \n",
       "\n",
       "                   require_guest_profile_picture  \\\n",
       "number_of_reviews                                  \n",
       "0                                            627   \n",
       "\n",
       "                   require_guest_phone_verification  \\\n",
       "number_of_reviews                                     \n",
       "0                                               627   \n",
       "\n",
       "                   calculated_host_listings_count  reviews_per_month  \n",
       "number_of_reviews                                                     \n",
       "0                                             627                  0  \n",
       "\n",
       "[1 rows x 91 columns]"
      ]
     },
     "execution_count": 146,
     "metadata": {},
     "output_type": "execute_result"
    },
    {
     "name": "stdout",
     "output_type": "stream",
     "text": [
      "time: 125 ms (started: 2025-04-18 13:53:43 +01:00)\n"
     ]
    }
   ],
   "source": [
    "first_review_na.groupby(first_review_na['number_of_reviews']).count()"
   ]
  },
  {
   "cell_type": "code",
   "execution_count": 147,
   "id": "1688e319",
   "metadata": {},
   "outputs": [
    {
     "data": {
      "text/plain": [
       "627"
      ]
     },
     "execution_count": 147,
     "metadata": {},
     "output_type": "execute_result"
    },
    {
     "name": "stdout",
     "output_type": "stream",
     "text": [
      "time: 109 ms (started: 2025-04-18 13:56:22 +01:00)\n"
     ]
    }
   ],
   "source": [
    "#assumptions are correct so impute with 0s for these cases?\n",
    "\n",
    "#or reviews per month might be a better metric?\n",
    "reviews_per_month_na = listings[listings['reviews_per_month'].isna()]\n",
    "reviews_per_month_na.shape[0]\n"
   ]
  },
  {
   "cell_type": "code",
   "execution_count": 154,
   "id": "fc9c1fb5",
   "metadata": {},
   "outputs": [
    {
     "data": {
      "text/html": [
       "<div>\n",
       "<style scoped>\n",
       "    .dataframe tbody tr th:only-of-type {\n",
       "        vertical-align: middle;\n",
       "    }\n",
       "\n",
       "    .dataframe tbody tr th {\n",
       "        vertical-align: top;\n",
       "    }\n",
       "\n",
       "    .dataframe thead th {\n",
       "        text-align: right;\n",
       "    }\n",
       "</style>\n",
       "<table border=\"1\" class=\"dataframe\">\n",
       "  <thead>\n",
       "    <tr style=\"text-align: right;\">\n",
       "      <th></th>\n",
       "      <th>listing_id</th>\n",
       "      <th>price_avg</th>\n",
       "      <th>number_of_reviews</th>\n",
       "      <th>reviews_per_month</th>\n",
       "      <th>review_scores_rating</th>\n",
       "      <th>property_type</th>\n",
       "      <th>room_type</th>\n",
       "      <th>accommodates</th>\n",
       "      <th>cancellation_policy</th>\n",
       "      <th>neighbourhood_group_cleansed</th>\n",
       "      <th>count_NA_description</th>\n",
       "      <th>count_NA_images</th>\n",
       "      <th>count_NA_hostinfo</th>\n",
       "      <th>count_NA_reviewinfo</th>\n",
       "      <th>count_NA_locationinfo</th>\n",
       "      <th>count_NA_propertyinfo</th>\n",
       "    </tr>\n",
       "  </thead>\n",
       "  <tbody>\n",
       "    <tr>\n",
       "      <th>0</th>\n",
       "      <td>241032</td>\n",
       "      <td>85.000000</td>\n",
       "      <td>207</td>\n",
       "      <td>4.07</td>\n",
       "      <td>95.0</td>\n",
       "      <td>Apartment</td>\n",
       "      <td>Entire home/apt</td>\n",
       "      <td>4</td>\n",
       "      <td>moderate</td>\n",
       "      <td>Queen Anne</td>\n",
       "      <td>1</td>\n",
       "      <td>1</td>\n",
       "      <td>18</td>\n",
       "      <td>9</td>\n",
       "      <td>8</td>\n",
       "      <td>8</td>\n",
       "    </tr>\n",
       "    <tr>\n",
       "      <th>1</th>\n",
       "      <td>953595</td>\n",
       "      <td>170.931271</td>\n",
       "      <td>43</td>\n",
       "      <td>1.48</td>\n",
       "      <td>96.0</td>\n",
       "      <td>Apartment</td>\n",
       "      <td>Entire home/apt</td>\n",
       "      <td>4</td>\n",
       "      <td>strict</td>\n",
       "      <td>Queen Anne</td>\n",
       "      <td>5</td>\n",
       "      <td>3</td>\n",
       "      <td>18</td>\n",
       "      <td>9</td>\n",
       "      <td>8</td>\n",
       "      <td>8</td>\n",
       "    </tr>\n",
       "    <tr>\n",
       "      <th>2</th>\n",
       "      <td>3308979</td>\n",
       "      <td>894.186047</td>\n",
       "      <td>20</td>\n",
       "      <td>1.15</td>\n",
       "      <td>97.0</td>\n",
       "      <td>House</td>\n",
       "      <td>Entire home/apt</td>\n",
       "      <td>11</td>\n",
       "      <td>strict</td>\n",
       "      <td>Queen Anne</td>\n",
       "      <td>5</td>\n",
       "      <td>1</td>\n",
       "      <td>18</td>\n",
       "      <td>9</td>\n",
       "      <td>8</td>\n",
       "      <td>8</td>\n",
       "    </tr>\n",
       "    <tr>\n",
       "      <th>3</th>\n",
       "      <td>7421966</td>\n",
       "      <td>100.000000</td>\n",
       "      <td>0</td>\n",
       "      <td>NaN</td>\n",
       "      <td>NaN</td>\n",
       "      <td>Apartment</td>\n",
       "      <td>Entire home/apt</td>\n",
       "      <td>3</td>\n",
       "      <td>flexible</td>\n",
       "      <td>Queen Anne</td>\n",
       "      <td>1</td>\n",
       "      <td>1</td>\n",
       "      <td>14</td>\n",
       "      <td>0</td>\n",
       "      <td>8</td>\n",
       "      <td>8</td>\n",
       "    </tr>\n",
       "    <tr>\n",
       "      <th>4</th>\n",
       "      <td>278830</td>\n",
       "      <td>462.739726</td>\n",
       "      <td>38</td>\n",
       "      <td>0.89</td>\n",
       "      <td>92.0</td>\n",
       "      <td>House</td>\n",
       "      <td>Entire home/apt</td>\n",
       "      <td>6</td>\n",
       "      <td>strict</td>\n",
       "      <td>Queen Anne</td>\n",
       "      <td>5</td>\n",
       "      <td>1</td>\n",
       "      <td>17</td>\n",
       "      <td>9</td>\n",
       "      <td>8</td>\n",
       "      <td>8</td>\n",
       "    </tr>\n",
       "  </tbody>\n",
       "</table>\n",
       "</div>"
      ],
      "text/plain": [
       "   listing_id   price_avg  number_of_reviews  reviews_per_month  \\\n",
       "0      241032   85.000000                207               4.07   \n",
       "1      953595  170.931271                 43               1.48   \n",
       "2     3308979  894.186047                 20               1.15   \n",
       "3     7421966  100.000000                  0                NaN   \n",
       "4      278830  462.739726                 38               0.89   \n",
       "\n",
       "   review_scores_rating property_type        room_type  accommodates  \\\n",
       "0                  95.0     Apartment  Entire home/apt             4   \n",
       "1                  96.0     Apartment  Entire home/apt             4   \n",
       "2                  97.0         House  Entire home/apt            11   \n",
       "3                   NaN     Apartment  Entire home/apt             3   \n",
       "4                  92.0         House  Entire home/apt             6   \n",
       "\n",
       "  cancellation_policy neighbourhood_group_cleansed  count_NA_description  \\\n",
       "0            moderate                   Queen Anne                     1   \n",
       "1              strict                   Queen Anne                     5   \n",
       "2              strict                   Queen Anne                     5   \n",
       "3            flexible                   Queen Anne                     1   \n",
       "4              strict                   Queen Anne                     5   \n",
       "\n",
       "   count_NA_images  count_NA_hostinfo  count_NA_reviewinfo  \\\n",
       "0                1                 18                    9   \n",
       "1                3                 18                    9   \n",
       "2                1                 18                    9   \n",
       "3                1                 14                    0   \n",
       "4                1                 17                    9   \n",
       "\n",
       "   count_NA_locationinfo  count_NA_propertyinfo  \n",
       "0                      8                      8  \n",
       "1                      8                      8  \n",
       "2                      8                      8  \n",
       "3                      8                      8  \n",
       "4                      8                      8  "
      ]
     },
     "execution_count": 154,
     "metadata": {},
     "output_type": "execute_result"
    },
    {
     "name": "stdout",
     "output_type": "stream",
     "text": [
      "time: 125 ms (started: 2025-04-18 14:12:21 +01:00)\n"
     ]
    }
   ],
   "source": [
    "listings_main.head()"
   ]
  },
  {
   "cell_type": "code",
   "execution_count": 175,
   "id": "84e98967",
   "metadata": {},
   "outputs": [
    {
     "name": "stdout",
     "output_type": "stream",
     "text": [
      "                            OLS Regression Results                            \n",
      "==============================================================================\n",
      "Dep. Variable:      reviews_per_month   R-squared:                       0.189\n",
      "Model:                            OLS   Adj. R-squared:                  0.172\n",
      "Method:                 Least Squares   F-statistic:                     11.49\n",
      "Date:                Fri, 18 Apr 2025   Prob (F-statistic):           6.24e-69\n",
      "Time:                        14:27:17   Log-Likelihood:                -4154.0\n",
      "No. Observations:                2171   AIC:                             8396.\n",
      "Df Residuals:                    2127   BIC:                             8646.\n",
      "Df Model:                          43                                         \n",
      "Covariance Type:            nonrobust                                         \n",
      "====================================================================================================================\n",
      "                                                       coef    std err          t      P>|t|      [0.025      0.975]\n",
      "--------------------------------------------------------------------------------------------------------------------\n",
      "const                                               -4.4251      8.501     -0.521      0.603     -21.096      12.246\n",
      "price_avg                                           -0.0041      0.001     -6.681      0.000      -0.005      -0.003\n",
      "count_NA_description                                 0.1628      0.028      5.907      0.000       0.109       0.217\n",
      "count_NA_images                                      0.2453      0.068      3.617      0.000       0.112       0.378\n",
      "count_NA_hostinfo                                    0.4081      0.037     11.132      0.000       0.336       0.480\n",
      "count_NA_reviewinfo                                  0.0992      0.059      1.683      0.092      -0.016       0.215\n",
      "count_NA_locationinfo                                0.1096      1.032      0.106      0.915      -1.914       2.133\n",
      "count_NA_propertyinfo                               -0.3650      0.202     -1.808      0.071      -0.761       0.031\n",
      "accommodates                                         0.0057      0.029      0.199      0.842      -0.051       0.062\n",
      "property_type_Bed & Breakfast                       -0.5657      0.393     -1.438      0.150      -1.337       0.206\n",
      "property_type_Boat                                  -0.0352      1.046     -0.034      0.973      -2.087       2.017\n",
      "property_type_Bungalow                              -0.4129      0.682     -0.606      0.545      -1.750       0.924\n",
      "property_type_Cabin                                  1.8687      0.487      3.839      0.000       0.914       2.823\n",
      "property_type_Camper/RV                              0.8130      0.748      1.087      0.277      -0.653       2.279\n",
      "property_type_Chalet                                -2.3042      1.676     -1.375      0.169      -5.590       0.982\n",
      "property_type_Condominium                           -0.5232      0.256     -2.046      0.041      -1.025      -0.022\n",
      "property_type_Dorm                                   0.3647      1.689      0.216      0.829      -2.947       3.677\n",
      "property_type_House                                  0.1324      0.096      1.373      0.170      -0.057       0.321\n",
      "property_type_Loft                                   0.6898      0.332      2.080      0.038       0.039       1.340\n",
      "property_type_Other                                  0.5331      0.465      1.147      0.251      -0.378       1.444\n",
      "property_type_Tent                                   0.0180      0.852      0.021      0.983      -1.653       1.689\n",
      "property_type_Townhouse                              0.1343      0.230      0.583      0.560      -0.317       0.586\n",
      "property_type_Treehouse                             -0.0219      1.179     -0.019      0.985      -2.334       2.291\n",
      "property_type_Yurt                                   2.2306      1.666      1.339      0.181      -1.037       5.499\n",
      "room_type_Private room                               0.0357      0.102      0.352      0.725      -0.163       0.235\n",
      "room_type_Shared room                               -1.1093      0.229     -4.846      0.000      -1.558      -0.660\n",
      "cancellation_policy_moderate                         0.1477      0.095      1.553      0.121      -0.039       0.334\n",
      "cancellation_policy_strict                          -0.1568      0.099     -1.588      0.113      -0.350       0.037\n",
      "neighbourhood_group_cleansed_Beacon Hill            -0.2803      0.244     -1.149      0.251      -0.759       0.198\n",
      "neighbourhood_group_cleansed_Capitol Hill           -0.2594      0.176     -1.476      0.140      -0.604       0.085\n",
      "neighbourhood_group_cleansed_Cascade                -0.4184      0.307     -1.361      0.174      -1.021       0.184\n",
      "neighbourhood_group_cleansed_Central Area           -0.1912      0.185     -1.036      0.300      -0.553       0.171\n",
      "neighbourhood_group_cleansed_Delridge               -0.3995      0.310     -1.289      0.197      -1.007       0.208\n",
      "neighbourhood_group_cleansed_Downtown                0.2694      0.188      1.430      0.153      -0.100       0.639\n",
      "neighbourhood_group_cleansed_Interbay               -0.6459      0.667     -0.968      0.333      -1.954       0.662\n",
      "neighbourhood_group_cleansed_Lake City              -1.0057      0.300     -3.356      0.001      -1.593      -0.418\n",
      "neighbourhood_group_cleansed_Magnolia               -0.6516      0.324     -2.009      0.045      -1.288      -0.015\n",
      "neighbourhood_group_cleansed_Northgate              -1.2705      0.306     -4.151      0.000      -1.871      -0.670\n",
      "neighbourhood_group_cleansed_Other neighborhoods    -0.6466      0.163     -3.964      0.000      -0.967      -0.327\n",
      "neighbourhood_group_cleansed_Queen Anne              0.1645      0.197      0.837      0.403      -0.221       0.550\n",
      "neighbourhood_group_cleansed_Rainier Valley         -0.2768      0.225     -1.229      0.219      -0.719       0.165\n",
      "neighbourhood_group_cleansed_Seward Park             0.1586      0.346      0.459      0.647      -0.520       0.837\n",
      "neighbourhood_group_cleansed_University District    -0.9434      0.246     -3.832      0.000      -1.426      -0.461\n",
      "neighbourhood_group_cleansed_West Seattle           -0.5285      0.214     -2.468      0.014      -0.949      -0.109\n",
      "==============================================================================\n",
      "Omnibus:                      448.507   Durbin-Watson:                   1.995\n",
      "Prob(Omnibus):                  0.000   Jarque-Bera (JB):              905.858\n",
      "Skew:                           1.212   Prob(JB):                    1.97e-197\n",
      "Kurtosis:                       5.034   Cond. No.                     3.91e+04\n",
      "==============================================================================\n",
      "\n",
      "Notes:\n",
      "[1] Standard Errors assume that the covariance matrix of the errors is correctly specified.\n",
      "[2] The condition number is large, 3.91e+04. This might indicate that there are\n",
      "strong multicollinearity or other numerical problems.\n",
      "time: 157 ms (started: 2025-04-18 14:27:17 +01:00)\n"
     ]
    }
   ],
   "source": [
    "## repeat but use 'review_per_month' as the dependent variable instead\n",
    "\n",
    "### Linear Regression\n",
    "\n",
    "import pandas as pd\n",
    "import statsmodels.api as sm\n",
    "from sklearn.model_selection import train_test_split\n",
    "\n",
    "# Assuming you have your X and y defined as before\n",
    "X = listings_main[[\n",
    "                    'price_avg',  #results in errors\n",
    "                   'count_NA_description', 'count_NA_images', 'count_NA_hostinfo', \n",
    "                   'count_NA_reviewinfo', 'count_NA_locationinfo', 'count_NA_propertyinfo', \n",
    "                    'accommodates',\n",
    "                    'property_type_Bed & Breakfast',\n",
    "                     'property_type_Boat',\n",
    "                     'property_type_Bungalow',\n",
    "                     'property_type_Cabin',\n",
    "                     'property_type_Camper/RV',\n",
    "                     'property_type_Chalet',\n",
    "                     'property_type_Condominium',\n",
    "                     'property_type_Dorm',\n",
    "                     'property_type_House',\n",
    "                     'property_type_Loft',\n",
    "                     'property_type_Other',\n",
    "                     'property_type_Tent',\n",
    "                     'property_type_Townhouse',\n",
    "                     'property_type_Treehouse',\n",
    "                     'property_type_Yurt',\n",
    "                     'room_type_Private room',\n",
    "                     'room_type_Shared room',\n",
    "                     'cancellation_policy_moderate',\n",
    "                     'cancellation_policy_strict',\n",
    "                     'neighbourhood_group_cleansed_Beacon Hill',\n",
    "                     'neighbourhood_group_cleansed_Capitol Hill',\n",
    "                     'neighbourhood_group_cleansed_Cascade',\n",
    "                     'neighbourhood_group_cleansed_Central Area',\n",
    "                     'neighbourhood_group_cleansed_Delridge',\n",
    "                     'neighbourhood_group_cleansed_Downtown',\n",
    "                     'neighbourhood_group_cleansed_Interbay',\n",
    "                     'neighbourhood_group_cleansed_Lake City',\n",
    "                     'neighbourhood_group_cleansed_Magnolia',\n",
    "                     'neighbourhood_group_cleansed_Northgate',\n",
    "                     'neighbourhood_group_cleansed_Other neighborhoods',\n",
    "                     'neighbourhood_group_cleansed_Queen Anne',\n",
    "                     'neighbourhood_group_cleansed_Rainier Valley',\n",
    "                     'neighbourhood_group_cleansed_Seward Park',\n",
    "                     'neighbourhood_group_cleansed_University District',\n",
    "                     'neighbourhood_group_cleansed_West Seattle']]\n",
    "y = listings_main['reviews_per_month']\n",
    "\n",
    "# Split into train and test\n",
    "X_train, X_test, y_train, y_test = train_test_split(X, y, test_size=0.30, random_state=42)\n",
    "\n",
    "# Add a constant to the model (intercept)\n",
    "X_train_sm = sm.add_constant(X_train)\n",
    "\n",
    "# Fit the model using statsmodels\n",
    "model=sm.OLS(y_train, X_train_sm, missing= 'drop').fit()\n",
    "\n",
    "# Get the summary which includes p-values\n",
    "summary = model.summary()\n",
    "print(summary)\n",
    "\n",
    "# To extract coefficients and p-values\n",
    "coefficients = model.params\n",
    "p_values = model.pvalues\n",
    "\n",
    "# Create a DataFrame with coefficients and p-values\n",
    "results_df = pd.DataFrame({'Coefficient': coefficients, 'P-Value': p_values})"
   ]
  },
  {
   "cell_type": "code",
   "execution_count": 159,
   "id": "cf017cc0",
   "metadata": {
    "scrolled": false
   },
   "outputs": [
    {
     "name": "stdout",
     "output_type": "stream",
     "text": [
      "                            OLS Regression Results                            \n",
      "==============================================================================\n",
      "Dep. Variable:      reviews_per_month   R-squared:                       0.125\n",
      "Model:                            OLS   Adj. R-squared:                  0.122\n",
      "Method:                 Least Squares   F-statistic:                     44.00\n",
      "Date:                Fri, 18 Apr 2025   Prob (F-statistic):           1.91e-58\n",
      "Time:                        14:16:54   Log-Likelihood:                -4236.2\n",
      "No. Observations:                2171   AIC:                             8488.\n",
      "Df Residuals:                    2163   BIC:                             8534.\n",
      "Df Model:                           7                                         \n",
      "Covariance Type:            nonrobust                                         \n",
      "=========================================================================================\n",
      "                            coef    std err          t      P>|t|      [0.025      0.975]\n",
      "-----------------------------------------------------------------------------------------\n",
      "const                    -5.7226      8.223     -0.696      0.487     -21.849      10.404\n",
      "price_avg                -0.0035      0.000     -8.390      0.000      -0.004      -0.003\n",
      "count_NA_description      0.1529      0.028      5.546      0.000       0.099       0.207\n",
      "count_NA_images           0.2321      0.067      3.452      0.001       0.100       0.364\n",
      "count_NA_hostinfo         0.3907      0.036     10.825      0.000       0.320       0.462\n",
      "count_NA_reviewinfo       0.1484      0.060      2.467      0.014       0.030       0.266\n",
      "count_NA_locationinfo     0.2418      0.988      0.245      0.807      -1.696       2.180\n",
      "count_NA_propertyinfo    -0.3820      0.203     -1.879      0.060      -0.781       0.017\n",
      "==============================================================================\n",
      "Omnibus:                      496.002   Durbin-Watson:                   1.992\n",
      "Prob(Omnibus):                  0.000   Jarque-Bera (JB):             1057.672\n",
      "Skew:                           1.307   Prob(JB):                    2.13e-230\n",
      "Kurtosis:                       5.203   Cond. No.                     3.67e+04\n",
      "==============================================================================\n",
      "\n",
      "Notes:\n",
      "[1] Standard Errors assume that the covariance matrix of the errors is correctly specified.\n",
      "[2] The condition number is large, 3.67e+04. This might indicate that there are\n",
      "strong multicollinearity or other numerical problems.\n",
      "time: 125 ms (started: 2025-04-18 14:16:53 +01:00)\n"
     ]
    }
   ],
   "source": [
    "## try again but take out all categorical variables that don't seem to have an impact\n",
    "\n",
    "### Linear Regression\n",
    "\n",
    "import pandas as pd\n",
    "import statsmodels.api as sm\n",
    "from sklearn.model_selection import train_test_split\n",
    "\n",
    "# Assuming you have your X and y defined as before\n",
    "X = listings_main[[\n",
    "                    'price_avg',  #results in errors\n",
    "                   'count_NA_description', 'count_NA_images', 'count_NA_hostinfo', \n",
    "                   'count_NA_reviewinfo', 'count_NA_locationinfo', 'count_NA_propertyinfo', \n",
    "                ]]\n",
    "y = listings_main['reviews_per_month']\n",
    "\n",
    "# Split into train and test\n",
    "X_train, X_test, y_train, y_test = train_test_split(X, y, test_size=0.30, random_state=42)\n",
    "\n",
    "# Add a constant to the model (intercept)\n",
    "X_train_sm = sm.add_constant(X_train)\n",
    "\n",
    "# Fit the model using statsmodels\n",
    "model=sm.OLS(y_train, X_train_sm, missing= 'drop').fit()\n",
    "\n",
    "# Get the summary which includes p-values\n",
    "summary = model.summary()\n",
    "print(summary)\n",
    "\n",
    "# To extract coefficients and p-values\n",
    "coefficients = model.params\n",
    "p_values = model.pvalues\n",
    "\n",
    "# Create a DataFrame with coefficients and p-values\n",
    "results_df = pd.DataFrame({'Coefficient': coefficients, 'P-Value': p_values})"
   ]
  },
  {
   "cell_type": "code",
   "execution_count": 176,
   "id": "bbe2947c",
   "metadata": {
    "scrolled": false
   },
   "outputs": [
    {
     "name": "stdout",
     "output_type": "stream",
     "text": [
      "                            OLS Regression Results                            \n",
      "==============================================================================\n",
      "Dep. Variable:              price_avg   R-squared:                       0.593\n",
      "Model:                            OLS   Adj. R-squared:                  0.586\n",
      "Method:                 Least Squares   F-statistic:                     88.87\n",
      "Date:                Fri, 18 Apr 2025   Prob (F-statistic):               0.00\n",
      "Time:                        14:27:40   Log-Likelihood:                -14272.\n",
      "No. Observations:                2603   AIC:                         2.863e+04\n",
      "Df Residuals:                    2560   BIC:                         2.888e+04\n",
      "Df Model:                          42                                         \n",
      "Covariance Type:            nonrobust                                         \n",
      "====================================================================================================================\n",
      "                                                       coef    std err          t      P>|t|      [0.025      0.975]\n",
      "--------------------------------------------------------------------------------------------------------------------\n",
      "const                                             -116.0488    255.240     -0.455      0.649    -616.546     384.449\n",
      "count_NA_description                                -1.0125      0.859     -1.179      0.238      -2.696       0.671\n",
      "count_NA_images                                     -4.6156      2.192     -2.106      0.035      -8.914      -0.317\n",
      "count_NA_hostinfo                                   -8.5546      1.031     -8.294      0.000     -10.577      -6.532\n",
      "count_NA_reviewinfo                                 -0.1425      0.382     -0.373      0.709      -0.891       0.606\n",
      "count_NA_locationinfo                               43.0344     31.070      1.385      0.166     -17.890     103.959\n",
      "count_NA_propertyinfo                               -5.5233      6.628     -0.833      0.405     -18.520       7.473\n",
      "accommodates                                        28.8402      0.754     38.245      0.000      27.362      30.319\n",
      "property_type_Bed & Breakfast                       44.0101     11.562      3.807      0.000      21.339      66.681\n",
      "property_type_Boat                                 192.5828     36.308      5.304      0.000     121.386     263.779\n",
      "property_type_Bungalow                              -2.2778     19.758     -0.115      0.908     -41.022      36.466\n",
      "property_type_Cabin                                  4.1191     17.207      0.239      0.811     -29.621      37.859\n",
      "property_type_Camper/RV                             38.9122     20.983      1.854      0.064      -2.234      80.058\n",
      "property_type_Chalet                                37.0470     59.262      0.625      0.532     -79.158     153.252\n",
      "property_type_Condominium                           12.3346      7.910      1.559      0.119      -3.176      27.845\n",
      "property_type_Dorm                                -214.3193     59.463     -3.604      0.000    -330.919     -97.719\n",
      "property_type_House                                 17.3079      3.112      5.562      0.000      11.207      23.409\n",
      "property_type_Loft                                  18.6036     10.753      1.730      0.084      -2.482      39.689\n",
      "property_type_Other                                  4.9123     15.314      0.321      0.748     -25.116      34.941\n",
      "property_type_Tent                                 -33.0540     30.017     -1.101      0.271     -91.914      25.806\n",
      "property_type_Townhouse                             22.5737      6.974      3.237      0.001       8.898      36.250\n",
      "property_type_Treehouse                             18.5020     34.156      0.542      0.588     -48.475      85.479\n",
      "property_type_Yurt                                   4.6420     58.983      0.079      0.937    -111.017     120.301\n",
      "room_type_Private room                             -23.3503      3.281     -7.116      0.000     -29.785     -16.916\n",
      "room_type_Shared room                              -47.5407      7.042     -6.751      0.000     -61.350     -33.732\n",
      "cancellation_policy_moderate                        -0.9278      3.082     -0.301      0.763      -6.972       5.117\n",
      "cancellation_policy_strict                          14.9140      3.136      4.755      0.000       8.764      21.064\n",
      "neighbourhood_group_cleansed_Beacon Hill           -10.2902      7.967     -1.292      0.197     -25.913       5.333\n",
      "neighbourhood_group_cleansed_Capitol Hill           29.4276      5.675      5.186      0.000      18.300      40.555\n",
      "neighbourhood_group_cleansed_Cascade                29.1140      9.403      3.096      0.002      10.676      47.552\n",
      "neighbourhood_group_cleansed_Central Area            4.3606      6.066      0.719      0.472      -7.535      16.256\n",
      "neighbourhood_group_cleansed_Delridge              -19.6720      9.665     -2.035      0.042     -38.624      -0.720\n",
      "neighbourhood_group_cleansed_Downtown               52.2137      6.086      8.580      0.000      40.280      64.147\n",
      "neighbourhood_group_cleansed_Interbay               -3.7321     23.479     -0.159      0.874     -49.771      42.307\n",
      "neighbourhood_group_cleansed_Lake City              -8.9754      9.714     -0.924      0.356     -28.024      10.073\n",
      "neighbourhood_group_cleansed_Magnolia               30.7130     10.171      3.020      0.003      10.770      50.656\n",
      "neighbourhood_group_cleansed_Northgate             -27.1738      9.804     -2.772      0.006     -46.398      -7.949\n",
      "neighbourhood_group_cleansed_Other neighborhoods     1.0373      5.321      0.195      0.845      -9.397      11.471\n",
      "neighbourhood_group_cleansed_Queen Anne             34.5489      6.395      5.402      0.000      22.009      47.089\n",
      "neighbourhood_group_cleansed_Rainier Valley        -15.9257      7.363     -2.163      0.031     -30.365      -1.487\n",
      "neighbourhood_group_cleansed_Seward Park           -18.8610     11.590     -1.627      0.104     -41.587       3.865\n",
      "neighbourhood_group_cleansed_University District    -2.8292      8.039     -0.352      0.725     -18.593      12.934\n",
      "neighbourhood_group_cleansed_West Seattle            5.3238      6.871      0.775      0.439      -8.150      18.797\n",
      "==============================================================================\n",
      "Omnibus:                     1548.615   Durbin-Watson:                   1.995\n",
      "Prob(Omnibus):                  0.000   Jarque-Bera (JB):            37587.712\n",
      "Skew:                           2.356   Prob(JB):                         0.00\n",
      "Kurtosis:                      21.010   Cond. No.                     5.10e+03\n",
      "==============================================================================\n",
      "\n",
      "Notes:\n",
      "[1] Standard Errors assume that the covariance matrix of the errors is correctly specified.\n",
      "[2] The condition number is large, 5.1e+03. This might indicate that there are\n",
      "strong multicollinearity or other numerical problems.\n",
      "time: 172 ms (started: 2025-04-18 14:27:40 +01:00)\n"
     ]
    }
   ],
   "source": [
    "# try using price as the dependent variable instead\n",
    "\n",
    "## repeat but use 'review_per_month' as the dependent variable instead\n",
    "\n",
    "### Linear Regression\n",
    "\n",
    "import pandas as pd\n",
    "import statsmodels.api as sm\n",
    "from sklearn.model_selection import train_test_split\n",
    "\n",
    "# Assuming you have your X and y defined as before\n",
    "X = listings_main[[\n",
    "                   'count_NA_description', 'count_NA_images', 'count_NA_hostinfo', \n",
    "                   'count_NA_reviewinfo', 'count_NA_locationinfo', 'count_NA_propertyinfo', \n",
    "                    'accommodates',\n",
    "                    'property_type_Bed & Breakfast',\n",
    "                     'property_type_Boat',\n",
    "                     'property_type_Bungalow',\n",
    "                     'property_type_Cabin',\n",
    "                     'property_type_Camper/RV',\n",
    "                     'property_type_Chalet',\n",
    "                     'property_type_Condominium',\n",
    "                     'property_type_Dorm',\n",
    "                     'property_type_House',\n",
    "                     'property_type_Loft',\n",
    "                     'property_type_Other',\n",
    "                     'property_type_Tent',\n",
    "                     'property_type_Townhouse',\n",
    "                     'property_type_Treehouse',\n",
    "                     'property_type_Yurt',\n",
    "                     'room_type_Private room',\n",
    "                     'room_type_Shared room',\n",
    "                     'cancellation_policy_moderate',\n",
    "                     'cancellation_policy_strict',\n",
    "                     'neighbourhood_group_cleansed_Beacon Hill',\n",
    "                     'neighbourhood_group_cleansed_Capitol Hill',\n",
    "                     'neighbourhood_group_cleansed_Cascade',\n",
    "                     'neighbourhood_group_cleansed_Central Area',\n",
    "                     'neighbourhood_group_cleansed_Delridge',\n",
    "                     'neighbourhood_group_cleansed_Downtown',\n",
    "                     'neighbourhood_group_cleansed_Interbay',\n",
    "                     'neighbourhood_group_cleansed_Lake City',\n",
    "                     'neighbourhood_group_cleansed_Magnolia',\n",
    "                     'neighbourhood_group_cleansed_Northgate',\n",
    "                     'neighbourhood_group_cleansed_Other neighborhoods',\n",
    "                     'neighbourhood_group_cleansed_Queen Anne',\n",
    "                     'neighbourhood_group_cleansed_Rainier Valley',\n",
    "                     'neighbourhood_group_cleansed_Seward Park',\n",
    "                     'neighbourhood_group_cleansed_University District',\n",
    "                     'neighbourhood_group_cleansed_West Seattle']]\n",
    "y = listings_main['price_avg']\n",
    "\n",
    "# Split into train and test\n",
    "X_train, X_test, y_train, y_test = train_test_split(X, y, test_size=0.30, random_state=42)\n",
    "\n",
    "# Add a constant to the model (intercept)\n",
    "X_train_sm = sm.add_constant(X_train)\n",
    "\n",
    "# Fit the model using statsmodels\n",
    "model=sm.OLS(y_train, X_train_sm, missing= 'drop').fit()\n",
    "\n",
    "# Get the summary which includes p-values\n",
    "summary = model.summary()\n",
    "print(summary)\n",
    "\n",
    "# To extract coefficients and p-values\n",
    "coefficients = model.params\n",
    "p_values = model.pvalues\n",
    "\n",
    "# Create a DataFrame with coefficients and p-values\n",
    "results_df = pd.DataFrame({'Coefficient': coefficients, 'P-Value': p_values})"
   ]
  },
  {
   "cell_type": "code",
   "execution_count": 161,
   "id": "653b672b",
   "metadata": {},
   "outputs": [
    {
     "data": {
      "text/plain": [
       "['listing_id',\n",
       " 'listing_url',\n",
       " 'scrape_id',\n",
       " 'last_scraped',\n",
       " 'name',\n",
       " 'summary',\n",
       " 'space',\n",
       " 'description',\n",
       " 'experiences_offered',\n",
       " 'neighborhood_overview',\n",
       " 'notes',\n",
       " 'transit',\n",
       " 'thumbnail_url',\n",
       " 'medium_url',\n",
       " 'picture_url',\n",
       " 'xl_picture_url',\n",
       " 'host_id',\n",
       " 'host_url',\n",
       " 'host_name',\n",
       " 'host_since',\n",
       " 'host_location',\n",
       " 'host_about',\n",
       " 'host_response_time',\n",
       " 'host_response_rate',\n",
       " 'host_acceptance_rate',\n",
       " 'host_is_superhost',\n",
       " 'host_thumbnail_url',\n",
       " 'host_picture_url',\n",
       " 'host_neighbourhood',\n",
       " 'host_listings_count',\n",
       " 'host_total_listings_count',\n",
       " 'host_verifications',\n",
       " 'host_has_profile_pic',\n",
       " 'host_identity_verified',\n",
       " 'street',\n",
       " 'neighbourhood',\n",
       " 'neighbourhood_cleansed',\n",
       " 'neighbourhood_group_cleansed',\n",
       " 'city',\n",
       " 'state',\n",
       " 'zipcode',\n",
       " 'market',\n",
       " 'smart_location',\n",
       " 'country_code',\n",
       " 'country',\n",
       " 'latitude',\n",
       " 'longitude',\n",
       " 'is_location_exact',\n",
       " 'property_type',\n",
       " 'room_type',\n",
       " 'accommodates',\n",
       " 'bathrooms',\n",
       " 'bedrooms',\n",
       " 'beds',\n",
       " 'bed_type',\n",
       " 'amenities',\n",
       " 'square_feet',\n",
       " 'price',\n",
       " 'weekly_price',\n",
       " 'monthly_price',\n",
       " 'security_deposit',\n",
       " 'cleaning_fee',\n",
       " 'guests_included',\n",
       " 'extra_people',\n",
       " 'minimum_nights',\n",
       " 'maximum_nights',\n",
       " 'calendar_updated',\n",
       " 'has_availability',\n",
       " 'availability_30',\n",
       " 'availability_60',\n",
       " 'availability_90',\n",
       " 'availability_365',\n",
       " 'calendar_last_scraped',\n",
       " 'number_of_reviews',\n",
       " 'first_review',\n",
       " 'last_review',\n",
       " 'review_scores_rating',\n",
       " 'review_scores_accuracy',\n",
       " 'review_scores_cleanliness',\n",
       " 'review_scores_checkin',\n",
       " 'review_scores_communication',\n",
       " 'review_scores_location',\n",
       " 'review_scores_value',\n",
       " 'requires_license',\n",
       " 'license',\n",
       " 'jurisdiction_names',\n",
       " 'instant_bookable',\n",
       " 'cancellation_policy',\n",
       " 'require_guest_profile_picture',\n",
       " 'require_guest_phone_verification',\n",
       " 'calculated_host_listings_count',\n",
       " 'reviews_per_month']"
      ]
     },
     "execution_count": 161,
     "metadata": {},
     "output_type": "execute_result"
    },
    {
     "name": "stdout",
     "output_type": "stream",
     "text": [
      "time: 109 ms (started: 2025-04-18 14:24:13 +01:00)\n"
     ]
    }
   ],
   "source": [
    "list(listings)"
   ]
  }
 ],
 "metadata": {
  "kernelspec": {
   "display_name": "Python 3",
   "language": "python",
   "name": "python3"
  },
  "language_info": {
   "codemirror_mode": {
    "name": "ipython",
    "version": 3
   },
   "file_extension": ".py",
   "mimetype": "text/x-python",
   "name": "python",
   "nbconvert_exporter": "python",
   "pygments_lexer": "ipython3",
   "version": "3.8.8"
  }
 },
 "nbformat": 4,
 "nbformat_minor": 5
}
